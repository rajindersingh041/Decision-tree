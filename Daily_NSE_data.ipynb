{
  "nbformat": 4,
  "nbformat_minor": 0,
  "metadata": {
    "colab": {
      "name": "Daily NSE data.ipynb",
      "provenance": [],
      "collapsed_sections": [],
      "mount_file_id": "1YOYfJm99bkAz6ohh75LX4MO048YjYBfr",
      "authorship_tag": "ABX9TyNBa1DPMKMbxIdPR34+iEe/",
      "include_colab_link": true
    },
    "kernelspec": {
      "display_name": "Python 3",
      "name": "python3"
    },
    "language_info": {
      "name": "python"
    }
  },
  "cells": [
    {
      "cell_type": "markdown",
      "metadata": {
        "id": "view-in-github",
        "colab_type": "text"
      },
      "source": [
        "<a href=\"https://colab.research.google.com/github/rajindersingh041/Decision-tree/blob/main/Daily_NSE_data.ipynb\" target=\"_parent\"><img src=\"https://colab.research.google.com/assets/colab-badge.svg\" alt=\"Open In Colab\"/></a>"
      ]
    },
    {
      "cell_type": "code",
      "metadata": {
        "id": "jI3o2A53_tjV",
        "colab": {
          "base_uri": "https://localhost:8080/"
        },
        "outputId": "159a44af-f8ca-4151-a407-7c0b8c8ed116"
      },
      "source": [
        "pip install NSEpy;pip install tabula-py;pip install stockstats; pip install ta;pip install yfinance"
      ],
      "execution_count": 1,
      "outputs": [
        {
          "output_type": "stream",
          "name": "stdout",
          "text": [
            "Collecting NSEpy\n",
            "  Downloading nsepy-0.8.tar.gz (33 kB)\n",
            "Requirement already satisfied: beautifulsoup4 in /usr/local/lib/python3.7/dist-packages (from NSEpy) (4.6.3)\n",
            "Requirement already satisfied: requests in /usr/local/lib/python3.7/dist-packages (from NSEpy) (2.23.0)\n",
            "Requirement already satisfied: numpy in /usr/local/lib/python3.7/dist-packages (from NSEpy) (1.19.5)\n",
            "Requirement already satisfied: pandas in /usr/local/lib/python3.7/dist-packages (from NSEpy) (1.1.5)\n",
            "Requirement already satisfied: six in /usr/local/lib/python3.7/dist-packages (from NSEpy) (1.15.0)\n",
            "Requirement already satisfied: click in /usr/local/lib/python3.7/dist-packages (from NSEpy) (7.1.2)\n",
            "Requirement already satisfied: lxml in /usr/local/lib/python3.7/dist-packages (from NSEpy) (4.2.6)\n",
            "Requirement already satisfied: pytz>=2017.2 in /usr/local/lib/python3.7/dist-packages (from pandas->NSEpy) (2018.9)\n",
            "Requirement already satisfied: python-dateutil>=2.7.3 in /usr/local/lib/python3.7/dist-packages (from pandas->NSEpy) (2.8.2)\n",
            "Requirement already satisfied: chardet<4,>=3.0.2 in /usr/local/lib/python3.7/dist-packages (from requests->NSEpy) (3.0.4)\n",
            "Requirement already satisfied: certifi>=2017.4.17 in /usr/local/lib/python3.7/dist-packages (from requests->NSEpy) (2021.10.8)\n",
            "Requirement already satisfied: urllib3!=1.25.0,!=1.25.1,<1.26,>=1.21.1 in /usr/local/lib/python3.7/dist-packages (from requests->NSEpy) (1.24.3)\n",
            "Requirement already satisfied: idna<3,>=2.5 in /usr/local/lib/python3.7/dist-packages (from requests->NSEpy) (2.10)\n",
            "Building wheels for collected packages: NSEpy\n",
            "  Building wheel for NSEpy (setup.py) ... \u001b[?25l\u001b[?25hdone\n",
            "  Created wheel for NSEpy: filename=nsepy-0.8-py3-none-any.whl size=36085 sha256=678a5c4015100d4beacdf9ad80342bbd932c1ff40e47d99b0d5c39d84920a5f4\n",
            "  Stored in directory: /root/.cache/pip/wheels/32/ab/d9/78ceea14cdf6de83376082b3cb0c2999fd77f823e35c47b9ec\n",
            "Successfully built NSEpy\n",
            "Installing collected packages: NSEpy\n",
            "Successfully installed NSEpy-0.8\n",
            "Collecting tabula-py\n",
            "  Downloading tabula_py-2.3.0-py3-none-any.whl (12.0 MB)\n",
            "\u001b[K     |████████████████████████████████| 12.0 MB 3.7 MB/s \n",
            "\u001b[?25hRequirement already satisfied: numpy in /usr/local/lib/python3.7/dist-packages (from tabula-py) (1.19.5)\n",
            "Requirement already satisfied: pandas>=0.25.3 in /usr/local/lib/python3.7/dist-packages (from tabula-py) (1.1.5)\n",
            "Collecting distro\n",
            "  Downloading distro-1.6.0-py2.py3-none-any.whl (19 kB)\n",
            "Requirement already satisfied: pytz>=2017.2 in /usr/local/lib/python3.7/dist-packages (from pandas>=0.25.3->tabula-py) (2018.9)\n",
            "Requirement already satisfied: python-dateutil>=2.7.3 in /usr/local/lib/python3.7/dist-packages (from pandas>=0.25.3->tabula-py) (2.8.2)\n",
            "Requirement already satisfied: six>=1.5 in /usr/local/lib/python3.7/dist-packages (from python-dateutil>=2.7.3->pandas>=0.25.3->tabula-py) (1.15.0)\n",
            "Installing collected packages: distro, tabula-py\n",
            "Successfully installed distro-1.6.0 tabula-py-2.3.0\n",
            "Collecting stockstats\n",
            "  Downloading stockstats-0.3.2-py2.py3-none-any.whl (13 kB)\n",
            "Collecting int-date>=0.1.7\n",
            "  Downloading int_date-0.1.8-py2.py3-none-any.whl (5.0 kB)\n",
            "Requirement already satisfied: pandas>=0.18.1 in /usr/local/lib/python3.7/dist-packages (from stockstats) (1.1.5)\n",
            "Requirement already satisfied: numpy>=1.9.2 in /usr/local/lib/python3.7/dist-packages (from stockstats) (1.19.5)\n",
            "Requirement already satisfied: six>=1.9.0 in /usr/local/lib/python3.7/dist-packages (from int-date>=0.1.7->stockstats) (1.15.0)\n",
            "Requirement already satisfied: python-dateutil>=2.4.2 in /usr/local/lib/python3.7/dist-packages (from int-date>=0.1.7->stockstats) (2.8.2)\n",
            "Requirement already satisfied: pytz>=2017.2 in /usr/local/lib/python3.7/dist-packages (from pandas>=0.18.1->stockstats) (2018.9)\n",
            "Installing collected packages: int-date, stockstats\n",
            "Successfully installed int-date-0.1.8 stockstats-0.3.2\n",
            "Collecting ta\n",
            "  Downloading ta-0.8.0.tar.gz (24 kB)\n",
            "Requirement already satisfied: numpy in /usr/local/lib/python3.7/dist-packages (from ta) (1.19.5)\n",
            "Requirement already satisfied: pandas in /usr/local/lib/python3.7/dist-packages (from ta) (1.1.5)\n",
            "Requirement already satisfied: python-dateutil>=2.7.3 in /usr/local/lib/python3.7/dist-packages (from pandas->ta) (2.8.2)\n",
            "Requirement already satisfied: pytz>=2017.2 in /usr/local/lib/python3.7/dist-packages (from pandas->ta) (2018.9)\n",
            "Requirement already satisfied: six>=1.5 in /usr/local/lib/python3.7/dist-packages (from python-dateutil>=2.7.3->pandas->ta) (1.15.0)\n",
            "Building wheels for collected packages: ta\n",
            "  Building wheel for ta (setup.py) ... \u001b[?25l\u001b[?25hdone\n",
            "  Created wheel for ta: filename=ta-0.8.0-py3-none-any.whl size=28895 sha256=c533c344175bcd00dca885406ec02039aaac4fc97d05a4f1aa130e5f9c916b26\n",
            "  Stored in directory: /root/.cache/pip/wheels/7e/da/86/65cba22446ae2ef148de2079907264ef27feecfb7f51a45e0d\n",
            "Successfully built ta\n",
            "Installing collected packages: ta\n",
            "Successfully installed ta-0.8.0\n",
            "Collecting yfinance\n",
            "  Downloading yfinance-0.1.67-py2.py3-none-any.whl (25 kB)\n",
            "Requirement already satisfied: multitasking>=0.0.7 in /usr/local/lib/python3.7/dist-packages (from yfinance) (0.0.10)\n",
            "Requirement already satisfied: pandas>=0.24 in /usr/local/lib/python3.7/dist-packages (from yfinance) (1.1.5)\n",
            "Requirement already satisfied: requests>=2.20 in /usr/local/lib/python3.7/dist-packages (from yfinance) (2.23.0)\n",
            "Collecting lxml>=4.5.1\n",
            "  Downloading lxml-4.6.4-cp37-cp37m-manylinux_2_17_x86_64.manylinux2014_x86_64.manylinux_2_24_x86_64.whl (6.3 MB)\n",
            "\u001b[K     |████████████████████████████████| 6.3 MB 6.1 MB/s \n",
            "\u001b[?25hRequirement already satisfied: numpy>=1.15 in /usr/local/lib/python3.7/dist-packages (from yfinance) (1.19.5)\n",
            "Requirement already satisfied: pytz>=2017.2 in /usr/local/lib/python3.7/dist-packages (from pandas>=0.24->yfinance) (2018.9)\n",
            "Requirement already satisfied: python-dateutil>=2.7.3 in /usr/local/lib/python3.7/dist-packages (from pandas>=0.24->yfinance) (2.8.2)\n",
            "Requirement already satisfied: six>=1.5 in /usr/local/lib/python3.7/dist-packages (from python-dateutil>=2.7.3->pandas>=0.24->yfinance) (1.15.0)\n",
            "Requirement already satisfied: certifi>=2017.4.17 in /usr/local/lib/python3.7/dist-packages (from requests>=2.20->yfinance) (2021.10.8)\n",
            "Requirement already satisfied: urllib3!=1.25.0,!=1.25.1,<1.26,>=1.21.1 in /usr/local/lib/python3.7/dist-packages (from requests>=2.20->yfinance) (1.24.3)\n",
            "Requirement already satisfied: idna<3,>=2.5 in /usr/local/lib/python3.7/dist-packages (from requests>=2.20->yfinance) (2.10)\n",
            "Requirement already satisfied: chardet<4,>=3.0.2 in /usr/local/lib/python3.7/dist-packages (from requests>=2.20->yfinance) (3.0.4)\n",
            "Installing collected packages: lxml, yfinance\n",
            "  Attempting uninstall: lxml\n",
            "    Found existing installation: lxml 4.2.6\n",
            "    Uninstalling lxml-4.2.6:\n",
            "      Successfully uninstalled lxml-4.2.6\n",
            "Successfully installed lxml-4.6.4 yfinance-0.1.67\n"
          ]
        }
      ]
    },
    {
      "cell_type": "code",
      "metadata": {
        "id": "hxstNxHT_vOE"
      },
      "source": [
        "from datetime import date, datetime, timedelta\n",
        "from nsepy.history import get_price_list\n",
        "import pandas as pd\n",
        "import tabula\n",
        "import re\n",
        "import numpy as np\n",
        "import copy\n",
        "import os\n",
        "import pickle\n",
        "pd.set_option('display.max_columns', None)\n",
        "import stockstats\n",
        "import ta\n",
        "import yfinance as yf\n"
      ],
      "execution_count": 2,
      "outputs": []
    },
    {
      "cell_type": "code",
      "metadata": {
        "id": "JBYYUPKHUicm"
      },
      "source": [
        "# period_selected = 34\n",
        "# for last day of month\n",
        "# m_all = pd.date_range('2015-01-01', '2021-11-14', freq='BM').sort_values(ascending=False)\n",
        "# m_all = pd.date_range('2020-01-01', periods=period_selected, freq='W-MON').sort_values(ascending=False)"
      ],
      "execution_count": null,
      "outputs": []
    },
    {
      "cell_type": "code",
      "metadata": {
        "id": "mFD-L2ehNtep"
      },
      "source": [
        "# period_selected = len(m_all)"
      ],
      "execution_count": null,
      "outputs": []
    },
    {
      "cell_type": "code",
      "metadata": {
        "id": "A761GxQ8HTmL"
      },
      "source": [
        "# for transforming pdf to pandas df\n",
        "def pdf_to_table(fl_name):\n",
        "  dfs = tabula.read_pdf(fl_name,pages='all',silent=True)\n",
        "  df_c = pd.DataFrame()\n",
        "  for i in dfs:\n",
        "    for c in i.columns:\n",
        "      if i[c].isna().sum()/i.shape[0] > .90:\n",
        "        i = i.drop(c,axis=1)\n",
        "    i_c_len = len(i.columns)\n",
        "    i.columns = [str(x)+'_'+str(y) for x,y in  zip(['col']*i_c_len , range(0,i_c_len))]\n",
        "    # print(i.head(2))\n",
        "    df_c = pd.concat([df_c,i])\n",
        "    df_c = df_c[~df_c['col_0'].isnull()]\n",
        "\n",
        "  df_c.columns = ['Symbol','S_name','Industry','CP','MCap','Weight']\n",
        "  return df_c"
      ],
      "execution_count": null,
      "outputs": []
    },
    {
      "cell_type": "code",
      "metadata": {
        "id": "S1hkXAozHrUI"
      },
      "source": [
        "# for reading zip file from url, opening zip file and extract cnx 200/ nifty 200 file\n",
        "def get_zip_file(mmmyyyy):\n",
        "  import requests, zipfile, io\n",
        "  from re import match, findall\n",
        "\n",
        "  check_file_status = [i for i in os.listdir() if (('NIFTY' in i.upper()) or ('CNX' in i.upper())) & (mmmyyyy in i)]\n",
        "\n",
        "  if len(check_file_status)>0:\n",
        "        print('get_zip_file --> read_file_from_local')\n",
        "        return pdf_to_table(check_file_status[0])\n",
        "  else:\n",
        "    print('get_zip_file --> Not available in local')\n",
        "    zip_file_url = \"https://www1.nseindia.com/content/indices/indices_data{0}.zip\".format(mmmyyyy)\n",
        "    r = requests.get(zip_file_url)\n",
        "    z = zipfile.ZipFile(io.BytesIO(r.content))\n",
        "    # Replace substring in list of strings\n",
        "    # print(z)\n",
        "\n",
        "    filtered_values = list(filter(lambda v: findall('cnx200_{0}|cnx_200_{0}|nifty200_{0}|nifty_200_{0}'.format(mmmyyyy), v,re.IGNORECASE), z.namelist()))\n",
        "    # print(filtered_values)\n",
        "    val = filtered_values[0]\n",
        "    z.extract(member=val)\n",
        "    # z.extractall(members=\"NIFTY_50_May2021.pdf\")\n",
        "    return pdf_to_table(val)\n",
        "  "
      ],
      "execution_count": null,
      "outputs": []
    },
    {
      "cell_type": "code",
      "metadata": {
        "id": "Kg5RoxPmCUop"
      },
      "source": [
        "def m_0_7_13(bussiness_days_rng):\n",
        "\n",
        "  final_df = pd.DataFrame()\n",
        "  daily_close_price = read_daily_closing_all_stock_df()\n",
        "\n",
        "  for i in bussiness_days_rng:\n",
        "\n",
        "    all_stocks = daily_close_price[daily_close_price['TIMESTAMP'] == i]\n",
        "\n",
        "    if (i.month >= 2) & (i.month <= 7):\n",
        "      dt_to_pass = i.strftime('Feb%Y')\n",
        "      check_file_status = [i for i in os.listdir() if (('NIFTY' in i.upper()) or ('CNX' in i.upper())) & (dt_to_pass in i)]\n",
        "      \n",
        "      if len(check_file_status)>0:\n",
        "        print('read_file_from_local')\n",
        "        nifty_50 = pdf_to_table(check_file_status[0])\n",
        "      else:\n",
        "        nifty_50 = get_zip_file(i.strftime('%Feb%Y'))\n",
        "    else:\n",
        "      dt_to_pass = i.strftime('Aug%Y')\n",
        "      check_file_status = [i for i in os.listdir() if (('NIFTY' in i.upper()) or ('CNX' in i.upper())) & (dt_to_pass in i)]\n",
        "      print(check_file_status)\n",
        "      if len(check_file_status)>0:\n",
        "        print('read_file_from_local')\n",
        "        nifty_50 = pdf_to_table(check_file_status[0])\n",
        "      else:\n",
        "        nifty_50 = get_zip_file(i.strftime('%Aug%Y'))\n",
        "\n",
        "      \n",
        "    # try:\n",
        "    #   dt_to_pass = i.strftime('%b%Y')\n",
        "    #   check_file_status = [i for i in os.listdir() if (('NIFTY' in i.upper()) or ('CNX' in i.upper())) & (dt_to_pass in i)]\n",
        "    #   if len(check_file_status)>0:\n",
        "    #     print('read_file_from_local')\n",
        "    #     nifty_50 = pdf_to_table(check_file_status[0])\n",
        "    #   else:\n",
        "    #     nifty_50 = get_zip_file(i.strftime('%b%Y'))\n",
        "    # except:\n",
        "    #   dt_to_pass = i.strftime('%b%Y')\n",
        "    #   print(i,'get_zip_file not available')\n",
        "    #   nifty_50 = get_zip_file((i+timedelta(days=3)).strftime('%b%Y'))\n",
        "    #   print(i,'get_zip_file available now')\n",
        "      \n",
        "    final_stocks = all_stocks.merge(nifty_50,how=\"inner\",left_on = 'SYMBOL',right_on = 'Symbol')\n",
        "    if i == bussiness_days_rng[0]:\n",
        "      final_stocks['TIMESTAMP_V2'] = 'm0'\n",
        "    elif i == bussiness_days_rng[1]:\n",
        "      final_stocks['TIMESTAMP_V2'] = 'm6'\n",
        "    elif i == bussiness_days_rng[2]:\n",
        "      final_stocks['TIMESTAMP_V2'] = 'm12'\n",
        "\n",
        "      \n",
        "    final_df = final_df.append(final_stocks)\n",
        "    # print(final_df.shape)\n",
        "\n",
        "  return final_df\n"
      ],
      "execution_count": null,
      "outputs": []
    },
    {
      "cell_type": "code",
      "metadata": {
        "id": "bXTqPg1vqR5P"
      },
      "source": [
        "def for_return():\n",
        "  start = date(2021,11, 13) # start = date(2015,1, 1)\n",
        "  end = date(2021,11,18) # end = date(2021,11,13)\n",
        "  all_days =pd.date_range(start, end, freq='D')\n",
        "  appended_daily_df = pd.DataFrame()\n",
        "\n",
        "  for i in all_days:\n",
        "    try:\n",
        "      daily_df = get_price_list(dt=i)[['TIMESTAMP','SYMBOL','CLOSE','PREVCLOSE']]\n",
        "      # daily_df = daily_df.merge(stocks,how=\"inner\",left_on='SYMBOL',right_on='Symbol')\n",
        "      appended_daily_df = appended_daily_df.append(daily_df) \n",
        "      daily_df['return'] = daily_df['CLOSE']/daily_df['PREVCLOSE']  - 1\n",
        "    except:\n",
        "      # print('for_return not available')\n",
        "      pass\n",
        "  \n",
        "  appended_daily_df['TIMESTAMP'] = pd.to_datetime(appended_daily_df['TIMESTAMP'])\n",
        "  return appended_daily_df"
      ],
      "execution_count": null,
      "outputs": []
    },
    {
      "cell_type": "code",
      "metadata": {
        "id": "DxV3v5nWUtJ2"
      },
      "source": [
        "def read_daily_closing_all_stock_df():\n",
        "  return pd.read_parquet('daily_closing_all_stocks.parquet', engine='pyarrow')"
      ],
      "execution_count": null,
      "outputs": []
    },
    {
      "cell_type": "code",
      "metadata": {
        "id": "8wGh0glLRRkt"
      },
      "source": [
        "appended_2015_21 = for_return()\n",
        "# appended_2019['TIMESTAMP'].value_counts()"
      ],
      "execution_count": null,
      "outputs": []
    },
    {
      "cell_type": "code",
      "metadata": {
        "id": "4YcgGfkyH1-A"
      },
      "source": [
        "# FOR SAVING THE DF\n",
        "daily_closing_all_stocks = appended_2015_21.copy()\n",
        "daily_closing_all_stocks.to_parquet('daily_closing_all_stocks.parquet', engine='pyarrow')"
      ],
      "execution_count": null,
      "outputs": []
    },
    {
      "cell_type": "code",
      "metadata": {
        "id": "_2Rh1qkDPX5B"
      },
      "source": [
        "# FOR READING THE DF\n",
        "daily_closing_all_stocks = pd.read_parquet('daily_closing_all_stocks.parquet', engine='pyarrow')\n",
        "all_stock_market_dates = (daily_closing_all_stocks['TIMESTAMP'].value_counts().reset_index())\n",
        "dates = pd.Series(np.random.randint(100),index=pd.to_datetime(all_stock_market_dates['index'].values))"
      ],
      "execution_count": null,
      "outputs": []
    },
    {
      "cell_type": "code",
      "metadata": {
        "id": "C6lCQ8t20SKd"
      },
      "source": [
        "# daily_closing_all_stocks = daily_closing_all_stocks.append(appended_2015_21)\n",
        "# daily_closing_all_stocks.to_parquet('daily_closing_all_stocks.parquet', engine='pyarrow')\n"
      ],
      "execution_count": null,
      "outputs": []
    },
    {
      "cell_type": "code",
      "metadata": {
        "id": "8g2EDUmaRXQA"
      },
      "source": [
        "last_trading_date_of_month = pd.DataFrame(dates.groupby(dates.index.to_period('M')).apply(lambda x: x.index.max())).reset_index(drop=True)\n",
        "last_trading_date_of_month.columns = ['dates']"
      ],
      "execution_count": null,
      "outputs": []
    },
    {
      "cell_type": "code",
      "metadata": {
        "id": "bCZ-dXmFO7Jw"
      },
      "source": [
        "m_all = pd.to_datetime(last_trading_date_of_month['dates'].values)\n",
        "m_all = m_all.sort_values(ascending=False)"
      ],
      "execution_count": null,
      "outputs": []
    },
    {
      "cell_type": "code",
      "metadata": {
        "id": "ivdcg0EHvl39"
      },
      "source": [
        "# for i in range(0,2):\n",
        "#   print(daily_closing_all_stocks[daily_closing_all_stocks['TIMESTAMP'] == m_all[i]].head(2))"
      ],
      "execution_count": null,
      "outputs": []
    },
    {
      "cell_type": "code",
      "metadata": {
        "id": "17k2r1r7Siwt"
      },
      "source": [
        "# daily_closing_all_stocks[daily_closing_all_stocks['SYMBOL'] == 'RELIANCE'].to_csv('reliance.csv',index=False)"
      ],
      "execution_count": null,
      "outputs": []
    },
    {
      "cell_type": "code",
      "metadata": {
        "colab": {
          "base_uri": "https://localhost:8080/"
        },
        "id": "Ok_9mFFEWmUJ",
        "outputId": "3580e875-8bbe-4ecd-dc3d-ba200de5c5dc"
      },
      "source": [
        "appended_daily_df = pd.read_parquet('daily_closing_all_stocks.parquet')\n",
        "\n",
        "super_set_20 = pd.DataFrame();super_set_40 = pd.DataFrame();super_set_200 = pd.DataFrame()\n",
        "dict_of_top_15 = {}\n",
        "dict_of_top_200 = {}\n",
        "\n",
        "m_month_name = m_all.strftime('%d%b%Y')\n",
        "\n",
        "for i in range(0,1):\n",
        "  print(i)\n",
        "  # for months\n",
        "  da = [m_all[i],m_all[i+6],m_all[i+12]]#2021-03-28\n",
        "\n",
        "  # for weeks\n",
        "  # da = [m_all[i],m_all[i+26],m_all[i+52]]#2021-03-28\n",
        "\n",
        "  # final_df = m_0_7_13(da)\n",
        "\n",
        "  final_df = appended_daily_df[appended_daily_df['TIMESTAMP'].isin(da)].copy()\n",
        "\n",
        "  final_df['TIMESTAMP_V2'] = np.select(\n",
        "    [\n",
        "        final_df['TIMESTAMP'] == da[0], \n",
        "        final_df['TIMESTAMP'] == da[1], \n",
        "        final_df['TIMESTAMP'] == da[2]\n",
        "    ], \n",
        "    [\n",
        "        'm0', \n",
        "        'm6',\n",
        "     'm12'\n",
        "    ], \n",
        "    default='Unknown')\n",
        "\n",
        "  \n",
        "  if (da[0].month >= 2) & (da[0].month <= 7):\n",
        "    stocks = get_zip_file(da[0].strftime('Feb%Y'))\n",
        "  else:\n",
        "    stocks = get_zip_file(da[0].strftime('Aug%Y'))\n",
        "\n",
        "  appended_daily_df = appended_daily_df.merge(stocks,how=\"inner\",left_on='SYMBOL',right_on='Symbol')\n",
        "\n",
        "  last_12m = appended_daily_df[(pd.to_datetime(appended_daily_df['TIMESTAMP']).dt.date >= da[2]) \n",
        "                                & \n",
        "                              (pd.to_datetime(appended_daily_df['TIMESTAMP']).dt.date <= da[0])].copy()\n",
        "\n",
        "  last_6m = appended_daily_df[(pd.to_datetime(appended_daily_df['TIMESTAMP']).dt.date >= da[1]) \n",
        "                              & \n",
        "                              (pd.to_datetime(appended_daily_df['TIMESTAMP']).dt.date <= da[0])].copy()\n",
        "\n",
        "  def find_annual_std_dev_returns(df_passed):\n",
        "    # df_passed['Log_CLOSE'] = np.log(df_passed['CLOSE'])\n",
        "    # df_passed['Log_PREVCLOSE'] = np.log(df_passed['PREVCLOSE'])\n",
        "    df_passed['Log_return'] = np.log(df_passed['CLOSE']/df_passed['PREVCLOSE'])\n",
        "    # df_passed['Log_return'] = df_passed['Log_CLOSE']/df_passed['Log_PREVCLOSE']  - 1\n",
        "    df_passed = df_passed.groupby('SYMBOL').agg({'Log_return':np.std}).reset_index()\n",
        "    df_passed.columns = ['SYMBOL','log_stdev_return']\n",
        "    df_passed['log_stdev_return_annual'] = df_passed['log_stdev_return'] * np.sqrt(250)\n",
        "    return df_passed\n",
        "\n",
        "  last_12m = find_annual_std_dev_returns(last_12m)\n",
        "  last_6m = find_annual_std_dev_returns(last_6m)\n",
        "\n",
        "  # final_df = \n",
        "  returns = final_df.pivot_table(values='CLOSE',index='SYMBOL',columns = 'TIMESTAMP_V2').reset_index()\n",
        "  returns['12m'] = returns['m0']/returns['m12']-1\n",
        "  returns['6m'] = returns['m0']/returns['m6']-1\n",
        "\n",
        "  end_df = returns.merge(last_12m,how='inner')\n",
        "  end_df = end_df.rename(columns={'log_stdev_return_annual':'log_stdev_return_annual_12m',\n",
        "                                  'log_stdev_return':'log_stdev_return_12m'})\n",
        "\n",
        "  final_end_df = end_df.merge(last_6m,how='inner')\n",
        "  final_end_df = final_end_df.rename(columns={'log_stdev_return_annual':'log_stdev_return_annual_6m',\n",
        "                                  'log_stdev_return':'log_stdev_return_6m'})\n",
        "\n",
        "  final_end_df['mr12'] = final_end_df['12m']/final_end_df['log_stdev_return_annual_12m']\n",
        "  final_end_df['mr6'] = final_end_df['6m']/final_end_df['log_stdev_return_annual_6m']\n",
        "\n",
        "  mr12_std, mr12_mean = np.std(final_end_df['mr12']), np.mean(final_end_df['mr12'])\n",
        "  mr6_std, mr6_mean = np.std(final_end_df['mr6']), np.mean(final_end_df['mr6'])\n",
        "\n",
        "  final_end_df['mr12_z'] = (final_end_df['mr12'] - mr12_mean)/mr12_std\n",
        "  final_end_df['mr6_z'] = (final_end_df['mr6'] - mr6_mean)/mr6_std\n",
        "\n",
        "  final_end_df['combined_mr_score'] =( 0.5*final_end_df['mr12_z'] )+ (0.5*final_end_df['mr6_z'])\n",
        "  final_end_df['combined_mr_score_normalized'] = np.where(final_end_df['combined_mr_score']>=0,1+final_end_df['combined_mr_score'],\n",
        "          1/(1-final_end_df['combined_mr_score']))\n",
        "\n",
        "  df_anal = final_end_df.sort_values('combined_mr_score_normalized',ascending=False)\n",
        "  df = df_anal.merge(stocks,how='inner',left_on='SYMBOL',right_on = 'Symbol')\n",
        "\n",
        "  # mom30.dtypes\n",
        "  mom30 = df.head(200).copy()\n",
        "  mom30['MCap'] = pd.to_numeric(mom30['MCap'], errors='coerce')\n",
        "  mom30['Weight'] = pd.to_numeric(mom30['Weight'], errors='coerce')\n",
        "  mom30['MCap_into_Weight'] =  mom30['combined_mr_score_normalized'] * mom30['MCap']\n",
        "  # mom30['mom30_weight_pct'] = (mom30['mom30_weight']/mom30['mom30_weight'].sum())*100\n",
        "  # mom30['index_weight_5times'] = mom30['Weight'] * 5\n",
        "  # mom30['final_weight'] = mom30[['index_weight_5times','mom30_weight_pct']].min(axis=1)\n",
        "  mom30['rank'] = mom30['combined_mr_score_normalized'].rank(ascending=False)\n",
        "\n",
        "  top_20 = mom30.sort_values('rank',ascending=True).head(20); top_20['as_of'] = da[0]\n",
        "  top_40 = mom30.sort_values('rank',ascending=True).head(40); top_40['as_of'] = da[0]\n",
        "  top_200 = mom30.sort_values('rank',ascending=True).head(200); top_200['as_of'] = da[0]\n",
        "  top_15 = mom30.sort_values('rank',ascending=True).head(15); top_200['as_of'] = da[0]\n",
        "\n",
        "\n",
        "\n",
        "  keyname = 'df_'+ str(i)#str(m_month_name[i])\n",
        "  dict_of_top_15[keyname] = copy.deepcopy(top_15)\n",
        "  dict_of_top_200[keyname] = copy.deepcopy(top_200)\n",
        "\n",
        "  super_set_20 = super_set_20.append(top_20)\n",
        "  super_set_40 = super_set_40.append(top_40)\n",
        "  super_set_200 = super_set_200.append(top_200)\n",
        "\n",
        "  # print(super_set_20.shape,super_set_40.shape,super_set_200.shape)\n",
        "  "
      ],
      "execution_count": null,
      "outputs": [
        {
          "output_type": "stream",
          "name": "stdout",
          "text": [
            "0\n",
            "get_zip_file --> read_file_from_local\n"
          ]
        }
      ]
    },
    {
      "cell_type": "code",
      "metadata": {
        "id": "JPtxUaIDlDbK"
      },
      "source": [
        "# a_file = open(\"dict_of_top_200_47_months_updated_std_vola.pkl\", \"wb\")\n",
        "# pickle.dump(dict_of_top_200, a_file)\n",
        "# a_file.close()\n",
        "\n",
        "# a_file = open(\"dict_of_top_200_weekly.pkl\", \"wb\")\n",
        "# pickle.dump(dict_of_top_200, a_file)\n",
        "# a_file.close()\n",
        "\n",
        "\n",
        "# a_file = open(\"dict_of_top_200_weekly.pkl\", \"rb\")\n",
        "# output = pickle.load(a_file)\n",
        "\n",
        "a_file2 = open(\"dict_of_top_200_47_months.pkl\", \"rb\")\n",
        "dict_of_top_200 = pickle.load(a_file2)\n"
      ],
      "execution_count": null,
      "outputs": []
    },
    {
      "cell_type": "code",
      "metadata": {
        "id": "kEH06465_JPd"
      },
      "source": [
        "# c1 = output2['df_0']\n",
        "# c1['w'] = c1['Weight'] * c1['combined_mr_score_normalized']\n",
        "# c1['CP'] = pd.to_numeric(c1['CP'])\n",
        "# c11 = c1[c1['rank'] <=30].sort_values('rank')[['rank','SYMBOL','CP','combined_mr_score_normalized','MCap','Weight','w']]\n",
        "\n",
        "# c11['5t_Weight'] = c11['Weight'] * 5\n",
        "# c11['f_w']=c11[['w','5t_Weight']].min(axis=1)\n",
        "# c11['max_w'] = 5\n",
        "\n",
        "# c11['final_weight_cap'] = c11[['max_w','f_w']].min(axis=1)\n",
        "# c11['final_weight_cap_pct'] = c11['final_weight_cap']/c11['final_weight_cap'].sum()\n",
        "# c11['money_invested'] = 136782.75 * c11['final_weight_cap_pct']\n",
        "# c11['share_bought'] = c11['money_invested']/pd.to_numeric(c11['CP'])"
      ],
      "execution_count": null,
      "outputs": []
    },
    {
      "cell_type": "code",
      "metadata": {
        "id": "9Jh_c39CwBRD"
      },
      "source": [
        "# # d1[(d1['rank'] >= 0) & (d1['rank'] <= 30)]\n",
        "# d1['MCap_into_Weight'] = d1['MCap'] * d1['Weight']\n",
        "# d1['MCap_into_Weight_Share'] = d1['MCap_into_Weight'] / d1['MCap_into_Weight'].sum()\n",
        "# d1['MCap_into_Weight_Share_5t'] = (5 * d1['MCap_into_Weight']) / d1['MCap_into_Weight'].sum()\n",
        "# d1['5pct_cap'] = 0.05\n",
        "\n",
        "# d1['weight_found'] = d1[['MCap_into_Weight_Share_5t','5pct_cap']].min(axis=1)\n",
        "\n",
        "\n",
        "# d2 = d1[(d1['rank'] >= 0) & (d1['rank'] <= 30)].copy()\n",
        "# # d2['MCap_into_Weight_Share'] = d2['MCap_into_Weight'] / d2['MCap_into_Weight'].sum()\n",
        "# # d2['MCap_into_Weight_Share_5t'] = d2['MCap_into_Weight_Share'] * 5\n",
        "# # d2['MCap_Share'] = (d2['MCap']) / d2['MCap'].sum()\n",
        "# # d2['MCap_into_Weight_Share_5t'] = d2['MCap_into_Weight_Share'] * 5\n",
        "# # d2['5pct_cap'] = 0.05\n",
        "\n",
        "# d2['final_weight_found'] = d2['weight_found']/ d2['weight_found'].sum()\n",
        "# #d2[['MCap_into_Weight_Share','Weight_5t','5pct_cap']].min(axis=1)"
      ],
      "execution_count": null,
      "outputs": []
    },
    {
      "cell_type": "code",
      "metadata": {
        "id": "gRc8S7CO8TMC"
      },
      "source": [
        "# super_set_40[pd.to_numeric(super_set_40['CP']) < 2000][:10]"
      ],
      "execution_count": null,
      "outputs": []
    },
    {
      "cell_type": "code",
      "metadata": {
        "id": "k7RFTuAEwFio"
      },
      "source": [
        "# dict_of_top_200['df_6'].sort_values('rank').head(20)"
      ],
      "execution_count": null,
      "outputs": []
    },
    {
      "cell_type": "code",
      "metadata": {
        "id": "bYf8GHhXGsjZ"
      },
      "source": [
        "def rebalance_portfolio(df,sold_stocks,new_stocks):\n",
        "  df.loc[df['SYMBOL'].isin(sold_stocks) , 'updated_investment'] = -1*(df['CP'] * df['no_of_stock_buy'])\n",
        "  df.loc[df['SYMBOL'].isin(new_stocks) , 'updated_investment'] = 1(df['CP'] * df['no_of_stock_buy'])\n",
        "  # df['updated_investment'] = \n",
        "\n"
      ],
      "execution_count": null,
      "outputs": []
    },
    {
      "cell_type": "code",
      "metadata": {
        "id": "YPpirthrd2gN"
      },
      "source": [
        "def equal_Weight_stocks(df):\n",
        "  ews_df = df.copy()\n",
        "\n",
        "  n_stocks = ews_df.shape[0] #number of stocks qualify\n",
        "  df_max_price_of_selected_Stocks = ews_df['CP'].max()\n",
        "  pred_money_to_invest = df_max_price_of_selected_Stocks * n_stocks\n",
        "\n",
        "  ews_df['no_of_stock_buy'] = round(df_max_price_of_selected_Stocks/ews_df['CP'],0) # rounded to make them whole numbers\n",
        "  ews_df['investment_per_stock'] = ews_df['no_of_stock_buy'] * ews_df['CP']\n",
        "\n",
        "  # print(ews_df.tail(4))\n",
        "  return ews_df"
      ],
      "execution_count": null,
      "outputs": []
    },
    {
      "cell_type": "code",
      "metadata": {
        "id": "agQ2GRn1RQHK"
      },
      "source": [
        "def update_buy_stocks(df):\n",
        "  # buy stocks saved in dict\n",
        "  buy_dict = dict(zip(df['SYMBOL'],zip(df['CP'],buy_1['no_of_stock_buy'])))\n",
        "  buy_stocks = list(buy_dict.keys())\n"
      ],
      "execution_count": null,
      "outputs": []
    },
    {
      "cell_type": "code",
      "metadata": {
        "id": "vNTOwgtcn3Em"
      },
      "source": [
        "appended_daily_df = pd.read_parquet('daily_closing_all_stocks.parquet')"
      ],
      "execution_count": null,
      "outputs": []
    },
    {
      "cell_type": "code",
      "metadata": {
        "colab": {
          "base_uri": "https://localhost:8080/"
        },
        "id": "GDeG9lHsH1M2",
        "outputId": "d6e9afcf-f0d1-44d2-ee0a-ab9b08cb324e"
      },
      "source": [
        "# dict_of_top_200 = output2\n",
        "buy_dict = dict()\n",
        "sell_dict = dict()\n",
        "new_prospect = dict()\n",
        "hold_dict = dict()\n",
        "main_call = dict()\n",
        "buy_3 = pd.DataFrame()\n",
        "for i in range(0,-1,-1):\n",
        "  total_gain = 0 \n",
        "\n",
        "  # last month in data\n",
        "  df_read = dict_of_top_200['df_{}'.format(i)]\n",
        "  df_read['CP'] = pd.to_numeric(df_read['m0'])# df_read['CP'] = pd.to_numeric(df_read['CP'])\n",
        "  \n",
        "  # buy these stocks\n",
        "  # buy_1 = df_read[(df_read['rank'] > 0) & (df_read['rank'] <= 20) & (df_read['CP'] <=5000)].copy()#\n",
        "  buy_1 = df_read[(df_read['CP'] <=2500)].copy()\n",
        "  buy_1 = equal_Weight_stocks(buy_1)\n",
        "  buy_1 = buy_1.sort_values('rank')\n",
        "  buy_1 = buy_1.head(10) # top 20 stocks\n",
        "  print(buy_1[['SYMBOL','m0','m6','m12','no_of_stock_buy' , 'investment_per_stock']])\n",
        "\n",
        "  print('Money_Invested',round(buy_1['investment_per_stock'].sum(),0))\n",
        "  month_name = buy_1['as_of'].max().strftime('%b%Y')\n",
        "\n",
        "  #check sell of bought stocks in following months\n",
        "  for j in range(i-1,0,-1):\n",
        "    \n",
        "    # load next month data\n",
        "    i_df = dict_of_top_200['df_{}'.format(j)]\n",
        "    i_df['CP'] = pd.to_numeric(i_df['m0'])# i_df['CP'] = pd.to_numeric(i_df['CP'])\n",
        "\n",
        "    month_name = i_df['as_of'].max().strftime('%b%Y')\n",
        "\n",
        "\n",
        "    # check if any stock from last month moved to rank > 40\n",
        "    buy_dict = dict(zip(buy_1['SYMBOL'],zip(buy_1['CP'],buy_1['no_of_stock_buy'])))\n",
        "    print(buy_dict)\n",
        "    buy_stocks = list(buy_dict.keys())\n",
        "\n",
        "    stock_sold = i_df[(i_df['Symbol'].isin(buy_stocks)) & (i_df['rank'] > 40)][['SYMBOL','CP','as_of']]\n",
        "    stock_sold.columns = ['SYMBOL','SOLD_CP','as_of']\n",
        "    \n",
        "    # find price at which at which stock was bought [buy_1 store CP value]\n",
        "    buy_price_of_stock_sold = stock_sold.merge(buy_1[['SYMBOL','CP','no_of_stock_buy']],how='inner')\n",
        "    \n",
        "    #capital gain is calculated based on number of stocks invested in\n",
        "    buy_price_of_stock_sold['captial_gain'] = (buy_price_of_stock_sold['SOLD_CP'] - buy_price_of_stock_sold['CP'])*buy_price_of_stock_sold['no_of_stock_buy']\n",
        "    buy_price_of_stock_sold['value_withdrawn'] = buy_price_of_stock_sold['SOLD_CP'] * buy_price_of_stock_sold['no_of_stock_buy']\n",
        "    \n",
        "\n",
        "    #save sold stocks in another dic\n",
        "    sell_dict = dict(zip(buy_price_of_stock_sold['SYMBOL'],zip(buy_price_of_stock_sold['CP'],buy_price_of_stock_sold['no_of_stock_buy'])))\n",
        "    print(month_name,'sell',list(sell_dict.keys()))\n",
        "\n",
        "    #total gain from selling these stocks\n",
        "    total_gain = total_gain + buy_price_of_stock_sold['captial_gain'].sum()\n",
        "  \n",
        "    #position now open to fill\n",
        "    no_of_stocks_sold = buy_price_of_stock_sold.shape[0] # position available to fill\n",
        "    \n",
        "    #check new prospects which was not in initial buy list and rank < 10\n",
        "    buy_dict = dict(zip(buy_1['SYMBOL'],zip(buy_1['CP'],buy_1['no_of_stock_buy'])))\n",
        "    buy_stocks = list(buy_dict.keys())\n",
        "\n",
        "    # print('buy stocks-->',buy_stocks)\n",
        "    new_stock_prospects = i_df[(~i_df['SYMBOL'].isin(buy_stocks)) & (i_df['rank'] <= 10) & (i_df['CP'] < 5000)].sort_values('rank').head(no_of_stocks_sold)\n",
        "    # print(new_stock_prospects[['SYMBOL','CP']])\n",
        "    #new stocks also saved in the list\n",
        "    new_prospect = dict(zip(new_stock_prospects['SYMBOL'],new_stock_prospects['CP']))\n",
        "    print(month_name,'new',list(new_prospect.keys()))\n",
        "\n",
        "    #CHECK CAPITAL GAINS FOR BUY_1 as per next month\n",
        "    \n",
        "    # temp = i_df[['SYMBOL','CP','as_of']]\n",
        "    # temp.columns = ['SYMBOL','LATEST_CP','LATEST_AS_OF']\n",
        "    # cg_df = buy_1[['SYMBOL','CP','as_of','no_of_stock_buy']].merge(temp, how = 'inner')\n",
        "    # cg_df['C_GAIN'] = (cg_df['LATEST_CP'] - cg_df['CP']) * cg_df['no_of_stock_buy']\n",
        "\n",
        "    # print(cg_df['LATEST_AS_OF'].max().strftime('%b%Y'),round(cg_df['C_GAIN'].sum(),0))\n",
        "    # print('top gainers',cg_df.sort_values('C_GAIN',ascending=False)[['SYMBOL','C_GAIN']].head(3))\n",
        "    # print('top losers',cg_df.sort_values('C_GAIN',ascending=True)[['SYMBOL','C_GAIN']].head(3))\n",
        "\n",
        "    #update stocks list now\n",
        "    \n",
        "    \n",
        "    #initial buy\n",
        "    d1 = buy_1[['SYMBOL','CP','no_of_stock_buy','investment_per_stock','as_of']].copy()\n",
        "    d1= d1.rename(columns={'CP':'INITIAL_CP','no_of_stock_buy':'INITIAL_no_of_stock_buy','investment_per_stock':'INITIAL_investment_per_stock','as_of':'INITIAL_as_of'})\n",
        "    # temp_df = i_df[['SYMBOL','CP']]; temp_df = temp_df.rename(columns={'CP','NEW_CP'})\n",
        "\n",
        "    d1 = d1.merge(i_df[['SYMBOL','CP','as_of']].rename(columns={'CP':'NEW_CP'}),how = 'left')\n",
        "    d1['return'] = (d1['NEW_CP'] / d1['INITIAL_CP']) - 1\n",
        "    d1['value_now'] = (1+d1['return']) * d1['INITIAL_investment_per_stock']\n",
        "    d1[['INITIAL_as_of','as_of']] = d1[['INITIAL_as_of','as_of']].apply(pd.to_datetime) #if conversion required\n",
        "    d1['hold_period'] = (d1['as_of'] - d1['INITIAL_as_of'])/np.timedelta64(1, 'M')\n",
        "    d1['hold_period'] = d1['hold_period'].astype(int)\n",
        "    \n",
        "\n",
        "    \n",
        "    print('return ----->',d1['value_now'].sum()/d1['INITIAL_investment_per_stock'].sum() - 1)\n",
        "    print(d1[['SYMBOL','INITIAL_CP','NEW_CP','hold_period']])\n",
        "    # print('Money value now -->',(d1['value_now']).sum())\n",
        "\n",
        "\n",
        "    #remove stocks sold\n",
        "    buy_1 = buy_1[~buy_1['SYMBOL'].isin(stock_sold['SYMBOL'].values)]\n",
        "    \n",
        "    \n",
        "    #add new stocks\n",
        "    buy_1 = buy_1.append(new_stock_prospects)\n",
        "\n",
        "    # print(buy_1)\n",
        "\n",
        "    # print(buy_1[['SYMBOL','no_of_stock_buy']])\n",
        "    # print(d1[['SYMBOL','old_no_of_stock_buy']])\n",
        "\n",
        "    # print(buy_1.columns)\n",
        "    buy_1 = equal_Weight_stocks(buy_1).copy() # buy_2 = .............\n",
        "    \n",
        "    # buy_2 = (buy_2.merge(d1,how='left')[['SYMBOL','CP' ,'NEW_CP', 'no_of_stock_buy', 'investment_per_stock', 'INITIAL_CP','INITIAL_no_of_stock_buy', 'INITIAL_investment_per_stock','INITIAL_as_of']])\n",
        "    # print(buy_1[['SYMBOL','no_of_stock_buy','investment_per_stock']])\n",
        "    # print(buy_2)\n",
        "    \n",
        "    # print(buy_2.columns)\n",
        "    # buy_2.loc[buy_2['INITIAL_no_of_stock_buy'] > 0, 'final_rebalance_n_stocks'] = buy_2['INITIAL_no_of_stock_buy']\n",
        "    # buy_2.loc[buy_2['INITIAL_no_of_stock_buy'] > 0, 'final_rebalance_investment'] = buy_2['final_rebalance_n_stocks'] * buy_2['CP']\n",
        "    # buy_2.loc[buy_2['INITIAL_no_of_stock_buy'].isna() , 'final_rebalance_n_stocks'] = buy_2['no_of_stock_buy']\n",
        "    # buy_2.loc[buy_2['INITIAL_no_of_stock_buy'].isna(), 'final_rebalance_investment'] = buy_2['final_rebalance_n_stocks'] * buy_2['CP']\n",
        "    # buy_2['final_rebalance_weight'] = buy_2['final_rebalance_investment']/buy_2['final_rebalance_investment'].sum()\n",
        "\n",
        "    # buy_2['rebalanced_weight'] = buy_2['investment_per_stock']/buy_2['investment_per_stock'].sum()\n",
        "\n",
        "    # print('Money invested after rebalance', buy_2['investment_per_stock'].sum())\n",
        "    # print(buy_2[['SYMBOL','CP','NEW_CP','final_rebalance_n_stocks','final_rebalance_investment']].rename(columns = {'final_rebalance_n_stocks':'n','final_rebalance_investment':'amt'}))\n",
        "    \n",
        "    # buy_2['no_of_stock_buy'] =   buy_2['final_rebalance_n_stocks']\n",
        "    # print('New--->',buy_2)\n",
        "    # buy_1 = buy_2.copy()\n",
        "    buy_3 = buy_3.append(buy_1)\n",
        "    \n",
        "    # print(buy_2[['SYMBOL','no_of_stock_buy']])\n",
        "    # buy_1 = buy_1.merge(buy_2[['SYMBOL','no_of_stock_buy']].rename(columns={'no_of_stock_buy':'new_no_of_stock_buy'}),how='left')\n",
        "    # buy_1['old_no_of_stock_buy'] = buy_1['no_of_stock_buy']\n",
        "    # buy_1['no_of_stock_buy'] = buy_1['new_no_of_stock_buy']\n",
        "\n",
        "\n",
        "    # print('Final',buy_1)\n",
        "    \n",
        "    #value of sold stocks\n",
        "    # print('Sold_value',round(buy_price_of_stock_sold['value_withdrawn'].sum(),0))\n",
        "\n",
        "    # hold_stocks = i_df[(i_df['Symbol'].isin(buy_stocks))][['SYMBOL','CP','as_of']]\n",
        "    # hold_stocks = hold_stocks.merge(buy_1[['SYMBOL','no_of_stock_buy']],how='left')\n",
        "    # hold_stocks['new_value'] = hold_stocks['CP'] * hold_stocks['no_of_stock_buy']\n",
        "    # print('Return of stocks not sold', )\n",
        "  \n",
        "  # print(buy_1)\n",
        "  # number_of_stocks = buy_1.shape[0] #number of stocks qualify\n",
        "  # max_cp_of_selected_stocks = buy_1['CP'].max()\n",
        "  # pred_money_investment = max_cp_of_selected_stocks * number_of_stocks\n",
        "  \n",
        "\n",
        "  # buy_1['no_of_stock_buy'] = round(max_cp_of_selected_stocks/buy_1['CP'],0) # rounded to make them whole numbers\n",
        "  # buy_1['investment_per_stock'] = buy_1['no_of_stock_buy'] * buy_1['CP']\n",
        "\n",
        "      # # buy stocks saved in dict\n",
        "  # buy_dict = dict(zip(buy_1['SYMBOL'],zip(buy_1['CP'],buy_1['no_of_stock_buy'])))\n",
        "  # buy_stocks = list(buy_dict.keys())\n",
        "  \n",
        "  # print(buy_dict)\n",
        "  # buy_sell_calls_made['Buy'] = dict(zip(buy_1['SYMBOL'],zip(buy_1['CP'],buy_1['no_of_stock_buy'])))\n",
        "  \n",
        "  # calls_made_in_month[month_name] = buy_sell_calls_made\n",
        "\n",
        "  \n",
        "  # buy_1 = buy_1.sort_values('Symbol')\n",
        "  # print(calls_made_in_month)\n",
        "  # print(buy_sell_calls_made)\n",
        "  \n",
        "\n",
        "  # print(df_read['as_of'].max().strftime('%b%Y'),'\\n')\n",
        "  # print('Stocks bought on -->',buy_stocks)\n",
        "  # print('Stocks bought on -->',buy_1['CP'].values)\n",
        "  # print('Money to invest --->',int(buy_1['CP'].max() * (buy_1['CP'].shape[0])))\n",
        "  # m = int(buy_1['CP'].max() * (buy_1['CP'].shape[0]))\n",
        "  # print('No. of Stocks---->', [round(m/(i*buy_1.shape[0]),0) for i in list(buy_1['CP'].values)])\n",
        "  \n",
        "  # stock_buy_cp = list(buy_1['CP'].values)\n",
        "  # n_stock_buy = [round(m/(i*buy_1.shape[0]),0) for i in list(buy_1['CP'].values)]\n",
        "\n",
        "  # m = round(sum([a*b for a,b in zip(stock_buy_cp,n_stock_buy)]),0)\n",
        "  # print('Money to invest --->',m)\n",
        "  # # buy_call['df_{}'.format(i)]['Stock']\n",
        "  # # print(buy_1[['Symbol','CP','rank']].head(2))\n",
        "\n",
        "\n",
        "\n",
        "    # print(buy_1['SYMBOL'].values)\n",
        "    #incremental changes done in quantity\n",
        "\n",
        "    \n",
        "    # d2 = buy_2[['SYMBOL','no_of_stock_buy']]; d2 = d2.rename(columns = {'no_of_stock_buy':'updated_no_of_stock_buy'})\n",
        "    # d4 = new_stock_prospects[['SYMBOL','CP']]; d4['no_new_stock_buy'] = 0\n",
        "    # d5 = d1.merge(d2,how='left')\n",
        "    # d6 = d5.merge(d4,how='left')\n",
        "\n",
        "    # print(d6)\n",
        "\n",
        "    #minimal money required to \n",
        "\n",
        "\n",
        "    #print(new_stock_prospects)\n",
        "    \n",
        "    # print(buy_sell_calls_made)\n",
        "    # buy_sell_calls_made['Sell'] = dict(zip(buy_price_of_stock_sold['SYMBOL'],zip(buy_price_of_stock_sold['CP'],buy_price_of_stock_sold['no_of_stock_buy'])))\n",
        "    \n",
        "    \n",
        "    # calls_made_in_month[month_name] = buy_sell_calls_made['Sell']#dict(zip(buy_price_of_stock_sold['SYMBOL'],zip(buy_price_of_stock_sold['CP'],buy_price_of_stock_sold['no_of_stock_buy'])))\n",
        "\n",
        "    # print(calls_made_in_month)\n",
        "\n",
        "    # stock_sold = list(buy_price_of_stock_sold['SYMBOL'].values)\n",
        "    # if buy_price_of_stock_sold.shape[0]>0:\n",
        "    #   print(buy_price_of_stock_sold['as_of'].max().strftime('%b%Y'),'Stock sold -->',buy_price_of_stock_sold['SYMBOL'].values,int(buy_price_of_stock_sold['captial_gain'].sum()))\n",
        "    #   # print(buy_price_of_stock_sold)\n",
        "    # else:\n",
        "    #   print(i_df['as_of'].max().strftime('%b%Y'),'No Stock sold')\n",
        "    \n",
        "    # if i_df[(~i_df['SYMBOL'].isin(buy_stocks)) & (i_df['rank'] <= 5)].shape[0] >0:\n",
        "    #   print(i_df[(~i_df['SYMBOL'].isin(buy_stocks)) & (i_df['rank'] <= 5)]['as_of'].max().strftime('%b%Y'), 'New stocks added--->',i_df[(~i_df['SYMBOL'].isin(buy_stocks)) & (i_df['rank'] <= 10)]['SYMBOL'].values)\n",
        "\n",
        "    # buy_stocks = [x for x in buy_stocks if x not in stock_sold]\n",
        "\n",
        "  # information of stocks which have been held it date are\n",
        "  # buy_price_of_left_stocks = buy_1[buy_1['Symbol'].isin(buy_stocks)][['SYMBOL','CP','no_of_stock_buy']]\n",
        "  # buy_price_of_left_stocks.columns = ['SYMBOL','BUY_CP','no_of_stock_buy']\n",
        "  # latest_data_of_stocks = dict_of_top_200['df_1']\n",
        "  # captial_gain_of_holdings = buy_price_of_left_stocks.merge(latest_data_of_stocks[['SYMBOL','CP','no_of_stock_buy']],how='inner')\n",
        "  # captial_gain_of_holdings['CP']= pd.to_numeric(captial_gain_of_holdings['CP'])\n",
        "  # captial_gain_of_holdings['captial_gain'] = (captial_gain_of_holdings['CP'] - captial_gain_of_holdings['BUY_CP'])*captial_gain_of_holdings['no_of_stock_buy']\n",
        "  # # print('Stock holded-->',captial_gain_of_holdings['SYMBOL'].values)\n",
        "  # print(i, 'Released CG-->',int(total_gain) , 'UnReleased CG-->', int(captial_gain_of_holdings['captial_gain'].sum()))\n",
        "  # print('\\n')\n",
        "  # 'SYMBOL'\n",
        "  # 'INITIAL_CP'\n",
        "  # 'INITIAL_no_of_stock_buy'\n",
        "  "
      ],
      "execution_count": null,
      "outputs": [
        {
          "output_type": "stream",
          "name": "stdout",
          "text": [
            "        SYMBOL       m0       m6      m12  no_of_stock_buy  \\\n",
            "3    TATAPOWER   237.10   106.45    64.90             11.0   \n",
            "5      POLYCAB  2494.05  1674.25   958.40              1.0   \n",
            "6     ADANIENT  1688.75  1316.30   398.40              1.0   \n",
            "10       TITAN  2478.20  1596.25  1361.20              1.0   \n",
            "12         OIL   213.00   132.50    96.15             12.0   \n",
            "14       TECHM  1567.75  1021.65   876.85              2.0   \n",
            "15  TATAMOTORS   509.70   318.75   180.35              5.0   \n",
            "17        INFY  1779.40  1393.75  1100.00              1.0   \n",
            "18  MCDOWELL-N   920.05   612.45   548.40              3.0   \n",
            "19      GRASIM  1774.50  1471.20   875.75              1.0   \n",
            "\n",
            "    investment_per_stock  \n",
            "3                2608.10  \n",
            "5                2494.05  \n",
            "6                1688.75  \n",
            "10               2478.20  \n",
            "12               2556.00  \n",
            "14               3135.50  \n",
            "15               2548.50  \n",
            "17               1779.40  \n",
            "18               2760.15  \n",
            "19               1774.50  \n",
            "Money_Invested 23823.0\n"
          ]
        }
      ]
    },
    {
      "cell_type": "code",
      "metadata": {
        "id": "KtUlad4SwNXg"
      },
      "source": [
        "dic"
      ],
      "execution_count": null,
      "outputs": []
    },
    {
      "cell_type": "code",
      "metadata": {
        "id": "rYccRFQrlkBj"
      },
      "source": [
        "buy_3.to_csv('abc.csv')"
      ],
      "execution_count": null,
      "outputs": []
    },
    {
      "cell_type": "code",
      "metadata": {
        "id": "Z9DhfFsMPP2B"
      },
      "source": [
        "\n",
        "t = dict_of_top_200['df_39']\n"
      ],
      "execution_count": null,
      "outputs": []
    },
    {
      "cell_type": "code",
      "metadata": {
        "colab": {
          "base_uri": "https://localhost:8080/"
        },
        "id": "_sTyh7Y3mvl9",
        "outputId": "0a3c3b35-40d3-4739-c587-bcbd747a53fe"
      },
      "source": [
        "# t[t['SYMBOL'] == 'ADANITRANS']\n",
        "t.shape"
      ],
      "execution_count": null,
      "outputs": [
        {
          "output_type": "execute_result",
          "data": {
            "text/plain": [
              "(149, 25)"
            ]
          },
          "metadata": {},
          "execution_count": 54
        }
      ]
    },
    {
      "cell_type": "code",
      "metadata": {
        "colab": {
          "base_uri": "https://localhost:8080/",
          "height": 381
        },
        "id": "ta5U1xe0ksPS",
        "outputId": "02b2e093-c164-487b-ea80-33cf6d569b9e"
      },
      "source": [
        "# buy_1[['SYMBOL','m0','CP']]\n",
        "# buy_1\n",
        "# buy_1[['SYMBOL','CP']].merge(output2['df_1'][['SYMBOL','CP']], how = 'inner')\n",
        "latest_trend = output2['df_1'][['SYMBOL','CP']]\n",
        "latest_trend.columns = ['SYMBOL','LATEST_CP']\n",
        "\n",
        "buy_1[['SYMBOL','CP']].merge(latest_trend[['SYMBOL','LATEST_CP']], how = 'inner')"
      ],
      "execution_count": null,
      "outputs": [
        {
          "output_type": "execute_result",
          "data": {
            "text/html": [
              "<div>\n",
              "<style scoped>\n",
              "    .dataframe tbody tr th:only-of-type {\n",
              "        vertical-align: middle;\n",
              "    }\n",
              "\n",
              "    .dataframe tbody tr th {\n",
              "        vertical-align: top;\n",
              "    }\n",
              "\n",
              "    .dataframe thead th {\n",
              "        text-align: right;\n",
              "    }\n",
              "</style>\n",
              "<table border=\"1\" class=\"dataframe\">\n",
              "  <thead>\n",
              "    <tr style=\"text-align: right;\">\n",
              "      <th></th>\n",
              "      <th>SYMBOL</th>\n",
              "      <th>CP</th>\n",
              "      <th>LATEST_CP</th>\n",
              "    </tr>\n",
              "  </thead>\n",
              "  <tbody>\n",
              "    <tr>\n",
              "      <th>0</th>\n",
              "      <td>MINDTREE</td>\n",
              "      <td>1417.30</td>\n",
              "      <td>4492.40</td>\n",
              "    </tr>\n",
              "    <tr>\n",
              "      <th>1</th>\n",
              "      <td>APOLLOHOSP</td>\n",
              "      <td>2347.90</td>\n",
              "      <td>4262.05</td>\n",
              "    </tr>\n",
              "    <tr>\n",
              "      <th>2</th>\n",
              "      <td>INFY</td>\n",
              "      <td>1100.00</td>\n",
              "      <td>1667.75</td>\n",
              "    </tr>\n",
              "    <tr>\n",
              "      <th>3</th>\n",
              "      <td>TATASTEEL</td>\n",
              "      <td>577.35</td>\n",
              "      <td>1315.95</td>\n",
              "    </tr>\n",
              "    <tr>\n",
              "      <th>4</th>\n",
              "      <td>DIVISLAB</td>\n",
              "      <td>3841.90</td>\n",
              "      <td>5150.15</td>\n",
              "    </tr>\n",
              "    <tr>\n",
              "      <th>5</th>\n",
              "      <td>LTI</td>\n",
              "      <td>3659.50</td>\n",
              "      <td>6682.30</td>\n",
              "    </tr>\n",
              "    <tr>\n",
              "      <th>6</th>\n",
              "      <td>LTI</td>\n",
              "      <td>3963.90</td>\n",
              "      <td>6682.30</td>\n",
              "    </tr>\n",
              "    <tr>\n",
              "      <th>7</th>\n",
              "      <td>NAUKRI</td>\n",
              "      <td>4757.90</td>\n",
              "      <td>6075.35</td>\n",
              "    </tr>\n",
              "    <tr>\n",
              "      <th>8</th>\n",
              "      <td>HAVELLS</td>\n",
              "      <td>1044.75</td>\n",
              "      <td>1262.95</td>\n",
              "    </tr>\n",
              "    <tr>\n",
              "      <th>9</th>\n",
              "      <td>ADANITRANS</td>\n",
              "      <td>908.40</td>\n",
              "      <td>1767.40</td>\n",
              "    </tr>\n",
              "    <tr>\n",
              "      <th>10</th>\n",
              "      <td>ADANITRANS</td>\n",
              "      <td>1473.60</td>\n",
              "      <td>1767.40</td>\n",
              "    </tr>\n",
              "  </tbody>\n",
              "</table>\n",
              "</div>"
            ],
            "text/plain": [
              "        SYMBOL       CP  LATEST_CP\n",
              "0     MINDTREE  1417.30    4492.40\n",
              "1   APOLLOHOSP  2347.90    4262.05\n",
              "2         INFY  1100.00    1667.75\n",
              "3    TATASTEEL   577.35    1315.95\n",
              "4     DIVISLAB  3841.90    5150.15\n",
              "5          LTI  3659.50    6682.30\n",
              "6          LTI  3963.90    6682.30\n",
              "7       NAUKRI  4757.90    6075.35\n",
              "8      HAVELLS  1044.75    1262.95\n",
              "9   ADANITRANS   908.40    1767.40\n",
              "10  ADANITRANS  1473.60    1767.40"
            ]
          },
          "metadata": {},
          "execution_count": 65
        }
      ]
    },
    {
      "cell_type": "code",
      "metadata": {
        "id": "RI67PFcVJ4pt"
      },
      "source": [
        "p = [554.65, 1580.75, 2361.75, 4669.5,4914.1]\n",
        "s = sum(p)\n",
        "\n",
        "\n",
        "# while((((((1/len(p))*s)/p[0]) < 1) & ((((1/len(p))*s)/p[1]) < 1) & ((((1/len(p))*s)/p[2]) < 1) & ((((1/len(p))*s)/p[3]) < 1) & ((((1/len(p))*s)/p[4]) < 1))):\n",
        "#       s = s*1.10\n",
        "#       print(s)"
      ],
      "execution_count": null,
      "outputs": []
    },
    {
      "cell_type": "code",
      "metadata": {
        "colab": {
          "base_uri": "https://localhost:8080/"
        },
        "id": "iiJTFC46LDl3",
        "outputId": "a985e3e7-050a-4442-b91f-cab2088c35ee"
      },
      "source": [
        "[s/ (x*5) for x in p],s"
      ],
      "execution_count": null,
      "outputs": [
        {
          "output_type": "execute_result",
          "data": {
            "text/plain": [
              "([5.0773460741007845,\n",
              "  1.7815277558121145,\n",
              "  1.1923997036096114,\n",
              "  0.6030945497376593,\n",
              "  0.5730754359903136],\n",
              " 14080.75)"
            ]
          },
          "metadata": {},
          "execution_count": 19
        }
      ]
    },
    {
      "cell_type": "code",
      "metadata": {
        "id": "tOI0I5rKFxCi"
      },
      "source": [
        "from scipy.optimize import linprog\n",
        "\n",
        "\n",
        "# Set up values relating to both minimum and maximum values of y\n",
        "coefficients_inequalities = [[554.65, 1580.75, 2361.75, 4669.5,4914.1]]  # require -1*x + -1*y <= -180\n",
        "constants_inequalities = [-180]\n",
        "coefficients_equalities = [[3, 12]]  # require 3*x + 12*y = 1000\n",
        "constants_equalities = [1000]\n",
        "bounds_x = (30, 160)  # require 30 <= x <= 160\n",
        "bounds_y = (10, 60)  # require 10 <= y <= 60\n"
      ],
      "execution_count": null,
      "outputs": []
    },
    {
      "cell_type": "code",
      "metadata": {
        "id": "vwjdelbDKt2z"
      },
      "source": [
        "df_stock = appended_daily_df[(appended_daily_df['SYMBOL'] == 'JSWENERGY') & (pd.to_datetime(appended_daily_df['TIMESTAMP'])>=m_all[17])\n",
        "&  (pd.to_datetime(appended_daily_df['TIMESTAMP'])<=m_all[0])].reset_index()\n",
        "\n",
        "returns = df_stock['CLOSE'].pct_change(1).copy()\n",
        "\n",
        "ret_index = 100*(1 + returns).cumprod()\n",
        "\n",
        "ret_index[0] = 100 # Set first value to 1\n",
        "\n"
      ],
      "execution_count": null,
      "outputs": []
    },
    {
      "cell_type": "code",
      "metadata": {
        "colab": {
          "base_uri": "https://localhost:8080/"
        },
        "id": "BXxrMYsHMjeI",
        "outputId": "7063aac0-8da5-4c8a-d99a-1a8fcda106b3"
      },
      "source": [
        "ret_index"
      ],
      "execution_count": null,
      "outputs": [
        {
          "output_type": "execute_result",
          "data": {
            "text/plain": [
              "0     100.000000\n",
              "1     105.891927\n",
              "2     109.212240\n",
              "3     113.509115\n",
              "4     109.570313\n",
              "5     110.123698\n",
              "6     107.486979\n",
              "7     108.789062\n",
              "8     108.789062\n",
              "9     109.244792\n",
              "10    111.295573\n",
              "11    109.440104\n",
              "12    112.792969\n",
              "13    122.981771\n",
              "14    126.334635\n",
              "15    127.929687\n",
              "16    131.217448\n",
              "17    141.438802\n",
              "18    156.738281\n",
              "19    156.933594\n",
              "20    164.453125\n",
              "21    165.006510\n",
              "Name: CLOSE, dtype: float64"
            ]
          },
          "metadata": {},
          "execution_count": 160
        }
      ]
    },
    {
      "cell_type": "code",
      "metadata": {
        "colab": {
          "base_uri": "https://localhost:8080/"
        },
        "id": "pPX2cPBCMdXJ",
        "outputId": "9db1ac9e-d3d3-475a-de87-85d1d9f13857"
      },
      "source": [
        "(2285.95 - 2155.20)/2155.20"
      ],
      "execution_count": null,
      "outputs": [
        {
          "output_type": "execute_result",
          "data": {
            "text/plain": [
              "0.060667223459539725"
            ]
          },
          "metadata": {},
          "execution_count": 157
        }
      ]
    },
    {
      "cell_type": "code",
      "metadata": {
        "colab": {
          "base_uri": "https://localhost:8080/",
          "height": 419
        },
        "id": "axuJ_I97KzUS",
        "outputId": "48873591-b0ad-4419-ce6b-1863fcb0d5e8"
      },
      "source": [
        "df_stock"
      ],
      "execution_count": null,
      "outputs": [
        {
          "output_type": "execute_result",
          "data": {
            "text/html": [
              "<div>\n",
              "<style scoped>\n",
              "    .dataframe tbody tr th:only-of-type {\n",
              "        vertical-align: middle;\n",
              "    }\n",
              "\n",
              "    .dataframe tbody tr th {\n",
              "        vertical-align: top;\n",
              "    }\n",
              "\n",
              "    .dataframe thead th {\n",
              "        text-align: right;\n",
              "    }\n",
              "</style>\n",
              "<table border=\"1\" class=\"dataframe\">\n",
              "  <thead>\n",
              "    <tr style=\"text-align: right;\">\n",
              "      <th></th>\n",
              "      <th>index</th>\n",
              "      <th>TIMESTAMP</th>\n",
              "      <th>SYMBOL</th>\n",
              "      <th>CLOSE</th>\n",
              "      <th>PREVCLOSE</th>\n",
              "    </tr>\n",
              "  </thead>\n",
              "  <tbody>\n",
              "    <tr>\n",
              "      <th>0</th>\n",
              "      <td>564768</td>\n",
              "      <td>28-JUN-2021</td>\n",
              "      <td>PIDILITIND</td>\n",
              "      <td>2155.20</td>\n",
              "      <td>2134.25</td>\n",
              "    </tr>\n",
              "    <tr>\n",
              "      <th>1</th>\n",
              "      <td>566256</td>\n",
              "      <td>29-JUN-2021</td>\n",
              "      <td>PIDILITIND</td>\n",
              "      <td>2161.75</td>\n",
              "      <td>2155.20</td>\n",
              "    </tr>\n",
              "    <tr>\n",
              "      <th>2</th>\n",
              "      <td>567745</td>\n",
              "      <td>30-JUN-2021</td>\n",
              "      <td>PIDILITIND</td>\n",
              "      <td>2153.95</td>\n",
              "      <td>2161.75</td>\n",
              "    </tr>\n",
              "    <tr>\n",
              "      <th>3</th>\n",
              "      <td>569225</td>\n",
              "      <td>01-JUL-2021</td>\n",
              "      <td>PIDILITIND</td>\n",
              "      <td>2169.15</td>\n",
              "      <td>2153.95</td>\n",
              "    </tr>\n",
              "    <tr>\n",
              "      <th>4</th>\n",
              "      <td>570702</td>\n",
              "      <td>02-JUL-2021</td>\n",
              "      <td>PIDILITIND</td>\n",
              "      <td>2178.85</td>\n",
              "      <td>2169.15</td>\n",
              "    </tr>\n",
              "    <tr>\n",
              "      <th>...</th>\n",
              "      <td>...</td>\n",
              "      <td>...</td>\n",
              "      <td>...</td>\n",
              "      <td>...</td>\n",
              "      <td>...</td>\n",
              "    </tr>\n",
              "    <tr>\n",
              "      <th>77</th>\n",
              "      <td>682595</td>\n",
              "      <td>19-OCT-2021</td>\n",
              "      <td>PIDILITIND</td>\n",
              "      <td>2470.85</td>\n",
              "      <td>2501.80</td>\n",
              "    </tr>\n",
              "    <tr>\n",
              "      <th>78</th>\n",
              "      <td>684286</td>\n",
              "      <td>20-OCT-2021</td>\n",
              "      <td>PIDILITIND</td>\n",
              "      <td>2417.50</td>\n",
              "      <td>2470.85</td>\n",
              "    </tr>\n",
              "    <tr>\n",
              "      <th>79</th>\n",
              "      <td>685968</td>\n",
              "      <td>21-OCT-2021</td>\n",
              "      <td>PIDILITIND</td>\n",
              "      <td>2305.50</td>\n",
              "      <td>2417.50</td>\n",
              "    </tr>\n",
              "    <tr>\n",
              "      <th>80</th>\n",
              "      <td>687640</td>\n",
              "      <td>22-OCT-2021</td>\n",
              "      <td>PIDILITIND</td>\n",
              "      <td>2316.40</td>\n",
              "      <td>2305.50</td>\n",
              "    </tr>\n",
              "    <tr>\n",
              "      <th>81</th>\n",
              "      <td>689319</td>\n",
              "      <td>25-OCT-2021</td>\n",
              "      <td>PIDILITIND</td>\n",
              "      <td>2285.95</td>\n",
              "      <td>2316.40</td>\n",
              "    </tr>\n",
              "  </tbody>\n",
              "</table>\n",
              "<p>82 rows × 5 columns</p>\n",
              "</div>"
            ],
            "text/plain": [
              "     index    TIMESTAMP      SYMBOL    CLOSE  PREVCLOSE\n",
              "0   564768  28-JUN-2021  PIDILITIND  2155.20    2134.25\n",
              "1   566256  29-JUN-2021  PIDILITIND  2161.75    2155.20\n",
              "2   567745  30-JUN-2021  PIDILITIND  2153.95    2161.75\n",
              "3   569225  01-JUL-2021  PIDILITIND  2169.15    2153.95\n",
              "4   570702  02-JUL-2021  PIDILITIND  2178.85    2169.15\n",
              "..     ...          ...         ...      ...        ...\n",
              "77  682595  19-OCT-2021  PIDILITIND  2470.85    2501.80\n",
              "78  684286  20-OCT-2021  PIDILITIND  2417.50    2470.85\n",
              "79  685968  21-OCT-2021  PIDILITIND  2305.50    2417.50\n",
              "80  687640  22-OCT-2021  PIDILITIND  2316.40    2305.50\n",
              "81  689319  25-OCT-2021  PIDILITIND  2285.95    2316.40\n",
              "\n",
              "[82 rows x 5 columns]"
            ]
          },
          "metadata": {},
          "execution_count": 156
        }
      ]
    },
    {
      "cell_type": "code",
      "metadata": {
        "id": "Fn1NocUEGxUz"
      },
      "source": [
        "buy_sell = dict()\n",
        "dict_of_top_200 = output\n",
        "\n",
        "for i in range(0,20):\n",
        "\n",
        "  #last month dataset\n",
        "  df_last_month = dict_of_top_200['df_{0}'.format(i+1)]\n",
        "  # print(df_last_month.dtypes)\n",
        "  df_last_month['CP'] = pd.to_numeric(df_last_month['CP'], errors='coerce')\n",
        "    # mom30['MCap'] = pd.to_numeric(mom30['MCap'], errors='coerce')\n",
        "\n",
        "  df_last_month_top_30 = df_last_month[(df_last_month['rank'] > 0) & (df_last_month['rank'] <= 30) & (df_last_month['CP'] <=2500) ]\n",
        "\n",
        "  buy_sell['df_{0}'.format(i)] = dict()\n",
        "  \n",
        "  buy_sell['df_{0}'.format(i)]['Buy'] =  pd.Series(df_last_month_top_30.CP.values,index=df_last_month_top_30.Symbol).to_dict()\n",
        "\n",
        "  #current month\n",
        "  df_curr_month = dict_of_top_200['df_{0}'.format(i)][['SYMBOL','rank','CP']]\n",
        "  # print(df_curr_month)\n",
        "  df_curr_month.columns = ['SYMBOL','next_month_rank','next_month_CP']\n",
        "  \n",
        "  #get current month ranks in last month dataset\n",
        "  df_last_month_top_30 = df_last_month_top_30.merge(df_curr_month,how=\"left\")\n",
        "\n",
        "  buy_sell['df_{0}'.format(i)]['Sell'] =  pd.Series(df_last_month_top_30[(df_last_month_top_30['next_month_rank'] >= 50)\n",
        "                                             | (df_last_month_top_30['next_month_rank'].isnull()) ]['CP'].values,index=df_last_month_top_30[(df_last_month_top_30['next_month_rank'] >= 50)\n",
        "                                             | (df_last_month_top_30['next_month_rank'].isnull()) ]['SYMBOL'].values).to_dict()\n",
        "\n"
      ],
      "execution_count": null,
      "outputs": []
    },
    {
      "cell_type": "code",
      "metadata": {
        "id": "pwTsQe4UdPdy"
      },
      "source": [
        "buy_sell = dict()\n",
        "dict_of_top_200 = output\n",
        "\n",
        "for i in range(0,20):\n",
        "\n",
        "  #last month dataset\n",
        "  df_last_month = dict_of_top_200['df_{0}'.format(i+1)]\n",
        "  # print(df_last_month.dtypes)\n",
        "  df_last_month['CP'] = pd.to_numeric(df_last_month['CP'], errors='coerce')\n",
        "    # mom30['MCap'] = pd.to_numeric(mom30['MCap'], errors='coerce')\n",
        "\n",
        "  df_last_month_top_30 = df_last_month[(df_last_month['rank'] > 0) & (df_last_month['rank'] <= 30) & (df_last_month['CP'] <=2500) ]\n",
        "\n",
        "  buy_sell['df_{0}'.format(i)] = dict()\n",
        "  \n",
        "  buy_sell['df_{0}'.format(i)]['Buy'] =  pd.Series(df_last_month_top_30.CP.values,index=df_last_month_top_30.Symbol).to_dict()\n",
        "\n",
        "  #current month\n",
        "  df_curr_month = dict_of_top_200['df_{0}'.format(i)][['SYMBOL','rank','CP']]\n",
        "  # print(df_curr_month)\n",
        "  df_curr_month.columns = ['SYMBOL','next_month_rank','next_month_CP']\n",
        "  \n",
        "  #get current month ranks in last month dataset\n",
        "  df_last_month_top_30 = df_last_month_top_30.merge(df_curr_month,how=\"left\")\n",
        "\n",
        "  buy_sell['df_{0}'.format(i)]['Sell'] =  pd.Series(df_last_month_top_30[(df_last_month_top_30['next_month_rank'] >= 50)\n",
        "                                             | (df_last_month_top_30['next_month_rank'].isnull()) ]['CP'].values,index=df_last_month_top_30[(df_last_month_top_30['next_month_rank'] >= 50)\n",
        "                                             | (df_last_month_top_30['next_month_rank'].isnull()) ]['SYMBOL'].values).to_dict()\n",
        "\n"
      ],
      "execution_count": null,
      "outputs": []
    },
    {
      "cell_type": "code",
      "metadata": {
        "colab": {
          "base_uri": "https://localhost:8080/"
        },
        "id": "tgDeEWMIEiHW",
        "outputId": "a75784f5-27a2-49d7-bb15-b6e46cd0698c"
      },
      "source": [
        "for i in range(len(buy_sell.keys())-1,0,-1):\n",
        "  # print(i)\n",
        "  if i == 19:\n",
        "    print(m_all[i],i,'Buy',buy_sell['df_{}'.format(i)]['Buy'])\n",
        "  print(m_all[i],i,'Sell',buy_sell['df_{}'.format(i)]['Sell'])\n"
      ],
      "execution_count": null,
      "outputs": [
        {
          "output_type": "stream",
          "name": "stdout",
          "text": [
            "2021-06-14 00:00:00 19 Buy {'INFY': 1580.8, 'SBIN': 419.2, 'TATASTEEL': 1166.6, 'JSWSTEEL': 683.9, 'WIPRO': 545.65, 'GRASIM': 1498.75, 'ADANITRANS': 1059.45, 'ADANIPORTS': 703.7, 'TATAMOTORS': 339.6, 'HINDALCO': 372.05, 'UPL': 792.85, 'CHOLAFIN': 513.25, 'MFSL': 1060.4, 'DALBHARAT': 1891.15, 'VOLTAS': 1022.45, 'MPHASIS': 2134.2, 'SIEMENS': 2021.05, 'SAIL': 130.6, 'BALKRISIND': 2239.2, 'AARTIIND': 871.75, 'GUJGASLTD': 660.75, 'POLYCAB': 1975.05, 'EMAMILTD': 560.35, 'JSWENERGY': 167.75}\n",
            "2021-06-14 00:00:00 19 Sell {'ADANITRANS': 1059.45}\n",
            "2021-06-21 00:00:00 18 Sell {}\n",
            "2021-06-28 00:00:00 17 Sell {'AARTIIND': 871.75}\n",
            "2021-07-05 00:00:00 16 Sell {}\n",
            "2021-07-12 00:00:00 15 Sell {}\n",
            "2021-07-19 00:00:00 14 Sell {}\n",
            "2021-07-26 00:00:00 13 Sell {}\n",
            "2021-08-02 00:00:00 12 Sell {'JSWENERGY': 252.55}\n",
            "2021-08-09 00:00:00 11 Sell {}\n",
            "2021-08-16 00:00:00 10 Sell {}\n",
            "2021-08-23 00:00:00 9 Sell {'SAIL': 121.6}\n",
            "2021-08-30 00:00:00 8 Sell {}\n",
            "2021-09-06 00:00:00 7 Sell {}\n",
            "2021-09-13 00:00:00 6 Sell {}\n",
            "2021-09-20 00:00:00 5 Sell {'ADANITRANS': 1558.5}\n",
            "2021-09-27 00:00:00 4 Sell {}\n",
            "2021-10-04 00:00:00 3 Sell {}\n",
            "2021-10-11 00:00:00 2 Sell {}\n",
            "2021-10-18 00:00:00 1 Sell {'SRF': 2117.3}\n"
          ]
        }
      ]
    },
    {
      "cell_type": "code",
      "metadata": {
        "id": "ZeoGz_nU_w07"
      },
      "source": [
        "# m_all[19]\n",
        "\n",
        "appended_daily_df = pd.read_parquet('appended_daily_df.parquet')"
      ],
      "execution_count": null,
      "outputs": []
    },
    {
      "cell_type": "code",
      "metadata": {
        "id": "c2QV5gYRAKlY"
      },
      "source": [
        "df_stock = appended_daily_df[(appended_daily_df['SYMBOL'] == 'AARTIIND') & (pd.to_datetime(appended_daily_df['TIMESTAMP'])>=m_all[19])\n",
        "&  (pd.to_datetime(appended_daily_df['TIMESTAMP'])<=m_all[17])]\n",
        "\n",
        "returns = df_stock['CLOSE'].pct_change(1).copy()\n",
        "\n",
        "ret_index = (1 + returns).cumprod()\n",
        "\n",
        "ret_index[0] = 100 # Set first value to 1\n"
      ],
      "execution_count": null,
      "outputs": []
    },
    {
      "cell_type": "code",
      "metadata": {
        "id": "kMyNV4aeCbYu"
      },
      "source": [
        ""
      ],
      "execution_count": null,
      "outputs": []
    },
    {
      "cell_type": "code",
      "metadata": {
        "colab": {
          "base_uri": "https://localhost:8080/"
        },
        "id": "pwqQU4ALDTM2",
        "outputId": "2f4d77f6-e15c-47a8-e932-9cc69083aa41"
      },
      "source": [
        "ret_index"
      ],
      "execution_count": null,
      "outputs": [
        {
          "output_type": "execute_result",
          "data": {
            "text/plain": [
              "548684           NaN\n",
              "550234      0.991640\n",
              "551783      0.992345\n",
              "553331      0.983605\n",
              "554823      0.961102\n",
              "556311      0.961944\n",
              "557796      0.476167\n",
              "559283      0.469273\n",
              "560770      0.472720\n",
              "562259      0.466368\n",
              "563746      0.471227\n",
              "0         100.000000\n",
              "Name: CLOSE, dtype: float64"
            ]
          },
          "metadata": {},
          "execution_count": 90
        }
      ]
    },
    {
      "cell_type": "code",
      "metadata": {
        "colab": {
          "base_uri": "https://localhost:8080/",
          "height": 390
        },
        "id": "QSD8iMaFGWd6",
        "outputId": "c1eec622-dae5-4af4-b810-69de5ef05ffa"
      },
      "source": [
        "df_stock"
      ],
      "execution_count": null,
      "outputs": [
        {
          "output_type": "execute_result",
          "data": {
            "text/html": [
              "<div>\n",
              "<style scoped>\n",
              "    .dataframe tbody tr th:only-of-type {\n",
              "        vertical-align: middle;\n",
              "    }\n",
              "\n",
              "    .dataframe tbody tr th {\n",
              "        vertical-align: top;\n",
              "    }\n",
              "\n",
              "    .dataframe thead th {\n",
              "        text-align: right;\n",
              "    }\n",
              "</style>\n",
              "<table border=\"1\" class=\"dataframe\">\n",
              "  <thead>\n",
              "    <tr style=\"text-align: right;\">\n",
              "      <th></th>\n",
              "      <th>TIMESTAMP</th>\n",
              "      <th>SYMBOL</th>\n",
              "      <th>CLOSE</th>\n",
              "      <th>PREVCLOSE</th>\n",
              "      <th>return</th>\n",
              "      <th>100_invested</th>\n",
              "    </tr>\n",
              "  </thead>\n",
              "  <tbody>\n",
              "    <tr>\n",
              "      <th>548684</th>\n",
              "      <td>14-JUN-2021</td>\n",
              "      <td>AARTIIND</td>\n",
              "      <td>1842.00</td>\n",
              "      <td>1815.55</td>\n",
              "      <td>NaN</td>\n",
              "      <td>100</td>\n",
              "    </tr>\n",
              "    <tr>\n",
              "      <th>550234</th>\n",
              "      <td>15-JUN-2021</td>\n",
              "      <td>AARTIIND</td>\n",
              "      <td>1826.60</td>\n",
              "      <td>1842.00</td>\n",
              "      <td>-0.008360</td>\n",
              "      <td>100</td>\n",
              "    </tr>\n",
              "    <tr>\n",
              "      <th>551783</th>\n",
              "      <td>16-JUN-2021</td>\n",
              "      <td>AARTIIND</td>\n",
              "      <td>1827.90</td>\n",
              "      <td>1826.60</td>\n",
              "      <td>0.000712</td>\n",
              "      <td>100</td>\n",
              "    </tr>\n",
              "    <tr>\n",
              "      <th>553331</th>\n",
              "      <td>17-JUN-2021</td>\n",
              "      <td>AARTIIND</td>\n",
              "      <td>1811.80</td>\n",
              "      <td>1827.90</td>\n",
              "      <td>-0.008808</td>\n",
              "      <td>100</td>\n",
              "    </tr>\n",
              "    <tr>\n",
              "      <th>554823</th>\n",
              "      <td>18-JUN-2021</td>\n",
              "      <td>AARTIIND</td>\n",
              "      <td>1770.35</td>\n",
              "      <td>1811.80</td>\n",
              "      <td>-0.022878</td>\n",
              "      <td>100</td>\n",
              "    </tr>\n",
              "    <tr>\n",
              "      <th>556311</th>\n",
              "      <td>21-JUN-2021</td>\n",
              "      <td>AARTIIND</td>\n",
              "      <td>1771.90</td>\n",
              "      <td>1770.35</td>\n",
              "      <td>0.000876</td>\n",
              "      <td>100</td>\n",
              "    </tr>\n",
              "    <tr>\n",
              "      <th>557796</th>\n",
              "      <td>22-JUN-2021</td>\n",
              "      <td>AARTIIND</td>\n",
              "      <td>877.10</td>\n",
              "      <td>1771.90</td>\n",
              "      <td>-0.504995</td>\n",
              "      <td>100</td>\n",
              "    </tr>\n",
              "    <tr>\n",
              "      <th>559283</th>\n",
              "      <td>23-JUN-2021</td>\n",
              "      <td>AARTIIND</td>\n",
              "      <td>864.40</td>\n",
              "      <td>877.10</td>\n",
              "      <td>-0.014480</td>\n",
              "      <td>100</td>\n",
              "    </tr>\n",
              "    <tr>\n",
              "      <th>560770</th>\n",
              "      <td>24-JUN-2021</td>\n",
              "      <td>AARTIIND</td>\n",
              "      <td>870.75</td>\n",
              "      <td>864.40</td>\n",
              "      <td>0.007346</td>\n",
              "      <td>100</td>\n",
              "    </tr>\n",
              "    <tr>\n",
              "      <th>562259</th>\n",
              "      <td>25-JUN-2021</td>\n",
              "      <td>AARTIIND</td>\n",
              "      <td>859.05</td>\n",
              "      <td>870.75</td>\n",
              "      <td>-0.013437</td>\n",
              "      <td>100</td>\n",
              "    </tr>\n",
              "    <tr>\n",
              "      <th>563746</th>\n",
              "      <td>28-JUN-2021</td>\n",
              "      <td>AARTIIND</td>\n",
              "      <td>868.00</td>\n",
              "      <td>859.05</td>\n",
              "      <td>0.010418</td>\n",
              "      <td>100</td>\n",
              "    </tr>\n",
              "  </tbody>\n",
              "</table>\n",
              "</div>"
            ],
            "text/plain": [
              "          TIMESTAMP    SYMBOL    CLOSE  PREVCLOSE    return  100_invested\n",
              "548684  14-JUN-2021  AARTIIND  1842.00    1815.55       NaN           100\n",
              "550234  15-JUN-2021  AARTIIND  1826.60    1842.00 -0.008360           100\n",
              "551783  16-JUN-2021  AARTIIND  1827.90    1826.60  0.000712           100\n",
              "553331  17-JUN-2021  AARTIIND  1811.80    1827.90 -0.008808           100\n",
              "554823  18-JUN-2021  AARTIIND  1770.35    1811.80 -0.022878           100\n",
              "556311  21-JUN-2021  AARTIIND  1771.90    1770.35  0.000876           100\n",
              "557796  22-JUN-2021  AARTIIND   877.10    1771.90 -0.504995           100\n",
              "559283  23-JUN-2021  AARTIIND   864.40     877.10 -0.014480           100\n",
              "560770  24-JUN-2021  AARTIIND   870.75     864.40  0.007346           100\n",
              "562259  25-JUN-2021  AARTIIND   859.05     870.75 -0.013437           100\n",
              "563746  28-JUN-2021  AARTIIND   868.00     859.05  0.010418           100"
            ]
          },
          "metadata": {},
          "execution_count": 91
        }
      ]
    },
    {
      "cell_type": "code",
      "metadata": {
        "id": "z1McAPPnelV-"
      },
      "source": [
        "sum1 = sum(buy_sell['df_0']['Buy'][item] for item in buy_sell['df_0']['Buy'])"
      ],
      "execution_count": null,
      "outputs": []
    },
    {
      "cell_type": "code",
      "metadata": {
        "id": "QB8WgD3xhbCN"
      },
      "source": [
        "super_set_20.to_csv('super_set_20.csv',index=False)\n",
        "super_set_40.to_csv('super_set_40.csv',index=False)\n",
        "super_set_200.to_csv('super_set_200.csv',index=False)"
      ],
      "execution_count": null,
      "outputs": []
    },
    {
      "cell_type": "code",
      "metadata": {
        "colab": {
          "base_uri": "https://localhost:8080/",
          "height": 184
        },
        "id": "Ffo0X-aIuKOn",
        "outputId": "e58106a3-3df7-47f3-f375-d82a5a716380"
      },
      "source": [
        "super_set_200.head(2)"
      ],
      "execution_count": null,
      "outputs": [
        {
          "output_type": "execute_result",
          "data": {
            "text/html": [
              "<div>\n",
              "<style scoped>\n",
              "    .dataframe tbody tr th:only-of-type {\n",
              "        vertical-align: middle;\n",
              "    }\n",
              "\n",
              "    .dataframe tbody tr th {\n",
              "        vertical-align: top;\n",
              "    }\n",
              "\n",
              "    .dataframe thead th {\n",
              "        text-align: right;\n",
              "    }\n",
              "</style>\n",
              "<table border=\"1\" class=\"dataframe\">\n",
              "  <thead>\n",
              "    <tr style=\"text-align: right;\">\n",
              "      <th></th>\n",
              "      <th>SYMBOL</th>\n",
              "      <th>m0</th>\n",
              "      <th>m12</th>\n",
              "      <th>m6</th>\n",
              "      <th>12m</th>\n",
              "      <th>6m</th>\n",
              "      <th>log_stdev_return_12m</th>\n",
              "      <th>log_stdev_return_annual_12m</th>\n",
              "      <th>log_stdev_return_6m</th>\n",
              "      <th>log_stdev_return_annual_6m</th>\n",
              "      <th>mr12</th>\n",
              "      <th>mr6</th>\n",
              "      <th>mr12_z</th>\n",
              "      <th>mr6_z</th>\n",
              "      <th>combined_mr_score</th>\n",
              "      <th>combined_mr_score_normalized</th>\n",
              "      <th>Symbol</th>\n",
              "      <th>S_name</th>\n",
              "      <th>Industry</th>\n",
              "      <th>CP</th>\n",
              "      <th>MCap</th>\n",
              "      <th>Weight</th>\n",
              "      <th>mom30_weight</th>\n",
              "      <th>mom30_weight_pct</th>\n",
              "      <th>index_weight_5times</th>\n",
              "      <th>final_weight</th>\n",
              "      <th>rank</th>\n",
              "      <th>as_of</th>\n",
              "    </tr>\n",
              "  </thead>\n",
              "  <tbody>\n",
              "    <tr>\n",
              "      <th>34</th>\n",
              "      <td>INFY</td>\n",
              "      <td>1667.75</td>\n",
              "      <td>1060.6</td>\n",
              "      <td>1354.35</td>\n",
              "      <td>0.572459</td>\n",
              "      <td>0.231403</td>\n",
              "      <td>0.001914</td>\n",
              "      <td>0.030256</td>\n",
              "      <td>0.001574</td>\n",
              "      <td>0.024893</td>\n",
              "      <td>18.920606</td>\n",
              "      <td>9.295840</td>\n",
              "      <td>0.658545</td>\n",
              "      <td>0.858392</td>\n",
              "      <td>0.758469</td>\n",
              "      <td>1.758469</td>\n",
              "      <td>INFY</td>\n",
              "      <td>Infosys Ltd.</td>\n",
              "      <td>IT</td>\n",
              "      <td>1667.75</td>\n",
              "      <td>618286</td>\n",
              "      <td>5.99</td>\n",
              "      <td>1.087237e+06</td>\n",
              "      <td>8.094051</td>\n",
              "      <td>29.95</td>\n",
              "      <td>8.094051</td>\n",
              "      <td>35.0</td>\n",
              "      <td>2021-10-29</td>\n",
              "    </tr>\n",
              "    <tr>\n",
              "      <th>65</th>\n",
              "      <td>RELIANCE</td>\n",
              "      <td>2536.25</td>\n",
              "      <td>2054.5</td>\n",
              "      <td>1994.50</td>\n",
              "      <td>0.234485</td>\n",
              "      <td>0.271622</td>\n",
              "      <td>0.002191</td>\n",
              "      <td>0.034639</td>\n",
              "      <td>0.001769</td>\n",
              "      <td>0.027964</td>\n",
              "      <td>6.769341</td>\n",
              "      <td>9.713117</td>\n",
              "      <td>-0.521681</td>\n",
              "      <td>0.934796</td>\n",
              "      <td>0.206557</td>\n",
              "      <td>1.206557</td>\n",
              "      <td>RELIANCE</td>\n",
              "      <td>Reliance Industries Ltd.</td>\n",
              "      <td>OIL &amp; GAS</td>\n",
              "      <td>2536.25</td>\n",
              "      <td>819999</td>\n",
              "      <td>7.94</td>\n",
              "      <td>9.893758e+05</td>\n",
              "      <td>7.365516</td>\n",
              "      <td>39.70</td>\n",
              "      <td>7.365516</td>\n",
              "      <td>66.0</td>\n",
              "      <td>2021-10-29</td>\n",
              "    </tr>\n",
              "  </tbody>\n",
              "</table>\n",
              "</div>"
            ],
            "text/plain": [
              "      SYMBOL       m0     m12  ...  final_weight  rank      as_of\n",
              "34      INFY  1667.75  1060.6  ...      8.094051  35.0 2021-10-29\n",
              "65  RELIANCE  2536.25  2054.5  ...      7.365516  66.0 2021-10-29\n",
              "\n",
              "[2 rows x 28 columns]"
            ]
          },
          "metadata": {},
          "execution_count": 19
        }
      ]
    },
    {
      "cell_type": "code",
      "metadata": {
        "id": "brfi27mBgP3n"
      },
      "source": [
        "# top_20['combined_mr_score_normalized'].min(),top_20['combined_mr_score_normalized'].max()\n",
        "# top_40['combined_mr_score_normalized'].min(),top_40['combined_mr_score_normalized'].max()"
      ],
      "execution_count": null,
      "outputs": []
    },
    {
      "cell_type": "code",
      "metadata": {
        "id": "r7f38_pFzOqp"
      },
      "source": [
        "rel = daily_closing_all_stocks[daily_closing_all_stocks['SYMBOL'] == 'RELIANCE'].reset_index(drop=True)"
      ],
      "execution_count": null,
      "outputs": []
    },
    {
      "cell_type": "code",
      "metadata": {
        "id": "Q8ZYpy-wztRh"
      },
      "source": [
        "from stockstats import StockDataFrame"
      ],
      "execution_count": null,
      "outputs": []
    },
    {
      "cell_type": "code",
      "metadata": {
        "id": "3SSIxDFmzwV5"
      },
      "source": [
        "rel_s_df = StockDataFrame.retype(rel)"
      ],
      "execution_count": null,
      "outputs": []
    },
    {
      "cell_type": "code",
      "metadata": {
        "colab": {
          "base_uri": "https://localhost:8080/",
          "height": 423
        },
        "id": "eO9oCc6S0eeh",
        "outputId": "03f852d9-9589-45a7-8c39-1a57d0f7f623"
      },
      "source": [
        "# rel_s_df['close_3_ema']\n",
        "# rel_s_df[[\"close_3_sma\"]]\n",
        "rel_s_df[['macd','close_50_ema','close_200_ema','rsi_14']] #'macds','macdh'"
      ],
      "execution_count": null,
      "outputs": [
        {
          "output_type": "execute_result",
          "data": {
            "text/html": [
              "<div>\n",
              "<style scoped>\n",
              "    .dataframe tbody tr th:only-of-type {\n",
              "        vertical-align: middle;\n",
              "    }\n",
              "\n",
              "    .dataframe tbody tr th {\n",
              "        vertical-align: top;\n",
              "    }\n",
              "\n",
              "    .dataframe thead th {\n",
              "        text-align: right;\n",
              "    }\n",
              "</style>\n",
              "<table border=\"1\" class=\"dataframe\">\n",
              "  <thead>\n",
              "    <tr style=\"text-align: right;\">\n",
              "      <th></th>\n",
              "      <th>macd</th>\n",
              "      <th>close_50_ema</th>\n",
              "      <th>close_200_ema</th>\n",
              "      <th>rsi_14</th>\n",
              "    </tr>\n",
              "  </thead>\n",
              "  <tbody>\n",
              "    <tr>\n",
              "      <th>0</th>\n",
              "      <td>0.000000</td>\n",
              "      <td>887.900000</td>\n",
              "      <td>887.900000</td>\n",
              "      <td>NaN</td>\n",
              "    </tr>\n",
              "    <tr>\n",
              "      <th>1</th>\n",
              "      <td>-0.052724</td>\n",
              "      <td>886.701500</td>\n",
              "      <td>886.719125</td>\n",
              "      <td>0.000000</td>\n",
              "    </tr>\n",
              "    <tr>\n",
              "      <th>2</th>\n",
              "      <td>-0.367978</td>\n",
              "      <td>882.938702</td>\n",
              "      <td>883.059793</td>\n",
              "      <td>0.000000</td>\n",
              "    </tr>\n",
              "    <tr>\n",
              "      <th>3</th>\n",
              "      <td>-1.937502</td>\n",
              "      <td>870.517269</td>\n",
              "      <td>871.143161</td>\n",
              "      <td>0.000000</td>\n",
              "    </tr>\n",
              "    <tr>\n",
              "      <th>4</th>\n",
              "      <td>-2.025348</td>\n",
              "      <td>867.009257</td>\n",
              "      <td>867.706821</td>\n",
              "      <td>27.847468</td>\n",
              "    </tr>\n",
              "    <tr>\n",
              "      <th>...</th>\n",
              "      <td>...</td>\n",
              "      <td>...</td>\n",
              "      <td>...</td>\n",
              "      <td>...</td>\n",
              "    </tr>\n",
              "    <tr>\n",
              "      <th>1697</th>\n",
              "      <td>-0.346633</td>\n",
              "      <td>2499.600481</td>\n",
              "      <td>2237.136416</td>\n",
              "      <td>55.659754</td>\n",
              "    </tr>\n",
              "    <tr>\n",
              "      <th>1698</th>\n",
              "      <td>1.421494</td>\n",
              "      <td>2502.667129</td>\n",
              "      <td>2240.526103</td>\n",
              "      <td>53.250582</td>\n",
              "    </tr>\n",
              "    <tr>\n",
              "      <th>1699</th>\n",
              "      <td>-1.987768</td>\n",
              "      <td>2503.264497</td>\n",
              "      <td>2243.286043</td>\n",
              "      <td>45.032467</td>\n",
              "    </tr>\n",
              "    <tr>\n",
              "      <th>1700</th>\n",
              "      <td>-8.935904</td>\n",
              "      <td>2501.724712</td>\n",
              "      <td>2245.482202</td>\n",
              "      <td>39.173900</td>\n",
              "    </tr>\n",
              "    <tr>\n",
              "      <th>1701</th>\n",
              "      <td>-13.535887</td>\n",
              "      <td>2500.610018</td>\n",
              "      <td>2247.749045</td>\n",
              "      <td>40.609591</td>\n",
              "    </tr>\n",
              "  </tbody>\n",
              "</table>\n",
              "<p>1702 rows × 4 columns</p>\n",
              "</div>"
            ],
            "text/plain": [
              "           macd  close_50_ema  close_200_ema     rsi_14\n",
              "0      0.000000    887.900000     887.900000        NaN\n",
              "1     -0.052724    886.701500     886.719125   0.000000\n",
              "2     -0.367978    882.938702     883.059793   0.000000\n",
              "3     -1.937502    870.517269     871.143161   0.000000\n",
              "4     -2.025348    867.009257     867.706821  27.847468\n",
              "...         ...           ...            ...        ...\n",
              "1697  -0.346633   2499.600481    2237.136416  55.659754\n",
              "1698   1.421494   2502.667129    2240.526103  53.250582\n",
              "1699  -1.987768   2503.264497    2243.286043  45.032467\n",
              "1700  -8.935904   2501.724712    2245.482202  39.173900\n",
              "1701 -13.535887   2500.610018    2247.749045  40.609591\n",
              "\n",
              "[1702 rows x 4 columns]"
            ]
          },
          "metadata": {},
          "execution_count": 16
        }
      ]
    },
    {
      "cell_type": "code",
      "metadata": {
        "id": "xjk0soMj0UZ1"
      },
      "source": [
        "def buy_sell(signal):\n",
        "  buy = []\n",
        "  sell = []\n",
        "  flag = -1\n",
        "\n",
        "  for i in range(0,len(signal)):\n",
        "    if (signal['macd'][i] > signal['macds'][i]) & (signal['macdh'][i]>2):\n",
        "      sell.append(np.nan)\n",
        "      if flag != 1:\n",
        "        buy.append(signal['close'][i])\n",
        "        flag = 1\n",
        "      else:\n",
        "        buy.append(np.nan)\n",
        "    elif (signal['macd'][i] < signal['macds'][i]) & (signal['macdh'][i]<-2):\n",
        "      buy.append(np.nan)\n",
        "      if flag != 0:\n",
        "        sell.append(signal['close'][i])\n",
        "        flag = 0\n",
        "      else:\n",
        "        sell.append(np.nan)\n",
        "    else:\n",
        "      buy.append(np.nan)\n",
        "      sell.append(np.nan)\n",
        "\n",
        "  return (buy,sell)"
      ],
      "execution_count": null,
      "outputs": []
    },
    {
      "cell_type": "code",
      "metadata": {
        "id": "Zg1_XHy79N6C"
      },
      "source": [
        "a = buy_sell(rel_s_df)"
      ],
      "execution_count": null,
      "outputs": []
    },
    {
      "cell_type": "code",
      "metadata": {
        "id": "uS-em8rTAjrb"
      },
      "source": [
        "rel_s_df['buy_signal'] = a[0]\n",
        "rel_s_df['sell_signal'] = a[1]"
      ],
      "execution_count": null,
      "outputs": []
    },
    {
      "cell_type": "code",
      "metadata": {
        "id": "BGjDqtRUAv3M"
      },
      "source": [
        "# rel_s_df[['timestamp','close','buy_signal','sell_signal']][:\n",
        "rel_s_df.to_csv('si.csv')\n",
        "\n",
        "df = pd.DataFrame(rel_s_df)"
      ],
      "execution_count": null,
      "outputs": []
    },
    {
      "cell_type": "code",
      "metadata": {
        "colab": {
          "base_uri": "https://localhost:8080/"
        },
        "id": "8hVDPt5lEyGG",
        "outputId": "7e94fbde-d9de-4573-a871-9e1ec25801d1"
      },
      "source": [
        "pip uninstall pandas"
      ],
      "execution_count": null,
      "outputs": [
        {
          "output_type": "stream",
          "name": "stdout",
          "text": [
            "Found existing installation: pandas 1.3.4\n",
            "Uninstalling pandas-1.3.4:\n",
            "  Would remove:\n",
            "    /usr/local/lib/python3.7/dist-packages/pandas-1.3.4.dist-info/*\n",
            "    /usr/local/lib/python3.7/dist-packages/pandas/*\n",
            "Proceed (y/n)? y\n",
            "  Successfully uninstalled pandas-1.3.4\n"
          ]
        }
      ]
    },
    {
      "cell_type": "code",
      "metadata": {
        "colab": {
          "base_uri": "https://localhost:8080/",
          "height": 312
        },
        "id": "2X6U9TR6E0ks",
        "outputId": "7e3b7ef4-9310-4896-b263-c8de7d2d41c5"
      },
      "source": [
        "pip install pandas"
      ],
      "execution_count": null,
      "outputs": [
        {
          "output_type": "stream",
          "name": "stdout",
          "text": [
            "Collecting pandas\n",
            "  Using cached pandas-1.3.4-cp37-cp37m-manylinux_2_17_x86_64.manylinux2014_x86_64.whl (11.3 MB)\n",
            "Requirement already satisfied: pytz>=2017.3 in /usr/local/lib/python3.7/dist-packages (from pandas) (2018.9)\n",
            "Requirement already satisfied: numpy>=1.17.3 in /usr/local/lib/python3.7/dist-packages (from pandas) (1.19.5)\n",
            "Requirement already satisfied: python-dateutil>=2.7.3 in /usr/local/lib/python3.7/dist-packages (from pandas) (2.8.2)\n",
            "Requirement already satisfied: six>=1.5 in /usr/local/lib/python3.7/dist-packages (from python-dateutil>=2.7.3->pandas) (1.15.0)\n",
            "Installing collected packages: pandas\n",
            "\u001b[31mERROR: pip's dependency resolver does not currently take into account all the packages that are installed. This behaviour is the source of the following dependency conflicts.\n",
            "google-colab 1.0.0 requires ipython~=5.5.0, but you have ipython 7.30.0 which is incompatible.\n",
            "google-colab 1.0.0 requires pandas~=1.1.0; python_version >= \"3.0\", but you have pandas 1.3.4 which is incompatible.\n",
            "google-colab 1.0.0 requires requests~=2.23.0, but you have requests 2.26.0 which is incompatible.\u001b[0m\n",
            "Successfully installed pandas-1.3.4\n"
          ]
        },
        {
          "output_type": "display_data",
          "data": {
            "application/vnd.colab-display-data+json": {
              "pip_warning": {
                "packages": [
                  "pandas"
                ]
              }
            }
          },
          "metadata": {}
        }
      ]
    },
    {
      "cell_type": "code",
      "metadata": {
        "colab": {
          "base_uri": "https://localhost:8080/",
          "height": 450
        },
        "id": "cC5jBPswEiv5",
        "outputId": "fe95fa53-cac0-4ae6-819d-e9c2f13ad008"
      },
      "source": [
        "df.to_csv('df.csv')"
      ],
      "execution_count": null,
      "outputs": [
        {
          "output_type": "error",
          "ename": "ImportError",
          "evalue": "ignored",
          "traceback": [
            "\u001b[0;31m---------------------------------------------------------------------------\u001b[0m",
            "\u001b[0;31mImportError\u001b[0m                               Traceback (most recent call last)",
            "\u001b[0;32m<ipython-input-90-6afa9aa8c24e>\u001b[0m in \u001b[0;36m<module>\u001b[0;34m()\u001b[0m\n\u001b[0;32m----> 1\u001b[0;31m \u001b[0mdf\u001b[0m\u001b[0;34m.\u001b[0m\u001b[0mto_csv\u001b[0m\u001b[0;34m(\u001b[0m\u001b[0;34m'df.csv'\u001b[0m\u001b[0;34m)\u001b[0m\u001b[0;34m\u001b[0m\u001b[0;34m\u001b[0m\u001b[0m\n\u001b[0m",
            "\u001b[0;32m/usr/local/lib/python3.7/dist-packages/pandas/core/generic.py\u001b[0m in \u001b[0;36mto_csv\u001b[0;34m(self, path_or_buf, sep, na_rep, float_format, columns, header, index, index_label, mode, encoding, compression, quoting, quotechar, line_terminator, chunksize, date_format, doublequote, escapechar, decimal, errors)\u001b[0m\n\u001b[1;32m   3143\u001b[0m         \u001b[0;32mwith\u001b[0m\u001b[0;31m \u001b[0m\u001b[0;31m`\u001b[0m\u001b[0;31m`\u001b[0m\u001b[0;31m\\\u001b[0m\u001b[0minput\u001b[0m\u001b[0;34m{\u001b[0m\u001b[0;34m{\u001b[0m\u001b[0mtable\u001b[0m\u001b[0;34m.\u001b[0m\u001b[0mtex\u001b[0m\u001b[0;34m}\u001b[0m\u001b[0;34m}\u001b[0m\u001b[0;31m`\u001b[0m\u001b[0;31m`\u001b[0m\u001b[0;34m.\u001b[0m\u001b[0;34m\u001b[0m\u001b[0;34m\u001b[0m\u001b[0m\n\u001b[1;32m   3144\u001b[0m \u001b[0;34m\u001b[0m\u001b[0m\n\u001b[0;32m-> 3145\u001b[0;31m         \u001b[0;34m.\u001b[0m\u001b[0;34m.\u001b[0m \u001b[0mversionchanged\u001b[0m\u001b[0;34m:\u001b[0m\u001b[0;34m:\u001b[0m \u001b[0;36m1.0\u001b[0m\u001b[0;36m.0\u001b[0m\u001b[0;34m\u001b[0m\u001b[0;34m\u001b[0m\u001b[0m\n\u001b[0m\u001b[1;32m   3146\u001b[0m            \u001b[0mAdded\u001b[0m \u001b[0mcaption\u001b[0m \u001b[0;32mand\u001b[0m \u001b[0mlabel\u001b[0m \u001b[0marguments\u001b[0m\u001b[0;34m.\u001b[0m\u001b[0;34m\u001b[0m\u001b[0;34m\u001b[0m\u001b[0m\n\u001b[1;32m   3147\u001b[0m \u001b[0;34m\u001b[0m\u001b[0m\n",
            "\u001b[0;32m/usr/local/lib/python3.7/dist-packages/pandas/io/formats/csvs.py\u001b[0m in \u001b[0;36m<module>\u001b[0;34m()\u001b[0m\n\u001b[1;32m     19\u001b[0m \u001b[0;34m\u001b[0m\u001b[0m\n\u001b[1;32m     20\u001b[0m \u001b[0;32mfrom\u001b[0m \u001b[0mpandas\u001b[0m\u001b[0;34m.\u001b[0m\u001b[0m_libs\u001b[0m \u001b[0;32mimport\u001b[0m \u001b[0mwriters\u001b[0m \u001b[0;32mas\u001b[0m \u001b[0mlibwriters\u001b[0m\u001b[0;34m\u001b[0m\u001b[0;34m\u001b[0m\u001b[0m\n\u001b[0;32m---> 21\u001b[0;31m from pandas._typing import (\n\u001b[0m\u001b[1;32m     22\u001b[0m     \u001b[0mCompressionOptions\u001b[0m\u001b[0;34m,\u001b[0m\u001b[0;34m\u001b[0m\u001b[0;34m\u001b[0m\u001b[0m\n\u001b[1;32m     23\u001b[0m     \u001b[0mFilePathOrBuffer\u001b[0m\u001b[0;34m,\u001b[0m\u001b[0;34m\u001b[0m\u001b[0;34m\u001b[0m\u001b[0m\n",
            "\u001b[0;31mImportError\u001b[0m: cannot import name 'CompressionOptions' from 'pandas._typing' (/usr/local/lib/python3.7/dist-packages/pandas/_typing.py)",
            "",
            "\u001b[0;31m---------------------------------------------------------------------------\u001b[0;32m\nNOTE: If your import is failing due to a missing package, you can\nmanually install dependencies using either !pip or !apt.\n\nTo view examples of installing some common dependencies, click the\n\"Open Examples\" button below.\n\u001b[0;31m---------------------------------------------------------------------------\u001b[0m\n"
          ],
          "errorDetails": {
            "actions": [
              {
                "action": "open_url",
                "actionText": "Open Examples",
                "url": "/notebooks/snippets/importing_libraries.ipynb"
              }
            ]
          }
        }
      ]
    },
    {
      "cell_type": "code",
      "metadata": {
        "id": "q411j5HF94ky",
        "colab": {
          "base_uri": "https://localhost:8080/"
        },
        "outputId": "fe4e1786-ec15-4e0c-88f8-826195748413"
      },
      "source": [
        "pip install plotly"
      ],
      "execution_count": null,
      "outputs": [
        {
          "output_type": "stream",
          "name": "stdout",
          "text": [
            "Requirement already satisfied: plotly in /usr/local/lib/python3.7/dist-packages (4.4.1)\n",
            "Requirement already satisfied: six in /usr/local/lib/python3.7/dist-packages (from plotly) (1.15.0)\n",
            "Requirement already satisfied: retrying>=1.3.3 in /usr/local/lib/python3.7/dist-packages (from plotly) (1.3.3)\n"
          ]
        }
      ]
    },
    {
      "cell_type": "code",
      "metadata": {
        "colab": {
          "base_uri": "https://localhost:8080/",
          "height": 611
        },
        "id": "PnGUA8f71Wnj",
        "outputId": "8132b56c-23a1-4fa7-d432-0b3073bb5176"
      },
      "source": [
        "import plotly.express as px\n",
        "\n",
        "df = rel_s_df.copy()\n",
        "print(df.columns)\n",
        "df[['close_50_ema','close_200_ema']]  = df[['close_50_ema','close_200_ema']].astype(int)\n",
        "# print(df[['close_50_ema','close_200_ema']].astype(int))\n",
        "\n",
        "fig = px.line(df, x='timestamp', y=\"close\",custom_data=['close', 'close_50_ema', 'close_200_ema'])\n",
        "fig.add_scatter(x=df['timestamp'], y=df['close_50_ema'],mode='lines',name='50_EMA')\n",
        "fig.add_scatter(x=df['timestamp'], y=df['close_200_ema'],mode='lines',name = '200_EMA')\n",
        "\n",
        "\n",
        "fig.update_traces(\n",
        "    hovertemplate=\"<br>\".join([\n",
        "        \"Dt: %{x}\",\n",
        "        \"Close: %{customdata[0]}\",\n",
        "        \"50_EMA: %{customdata[1]}\",\n",
        "        \"200_EMA: %{customdata[2]}\",\n",
        "    ])\n",
        ")\n",
        "\n",
        "# fig.update_layout({'plot_bgcolor': \"#21201f\", 'paper_bgcolor': \"#21201f\", 'legend_orientation': \"h\"},\n",
        "#                   legend=dict(y=1, x=0),\n",
        "#                   font=dict(color='#dedddc'), dragmode='pan', hovermode='x unified',\n",
        "#                   margin=dict(b=20, t=0, l=0, r=40))\n",
        "\n",
        "# fig.update_xaxes(spikecolor=\"grey\",spikethickness=1)\n",
        "\n",
        "fig.update_yaxes(showgrid=True, zeroline=True, showticklabels=True,\n",
        "                 showspikes=True, spikemode='across', spikesnap='cursor', showline=False, spikedash='dot')\n",
        "\n",
        "fig.update_xaxes(showgrid=True, zeroline=False, rangeslider_visible=False, showticklabels=True,\n",
        "                 showspikes=True, spikemode='across', spikesnap='cursor', showline=False, spikedash='dot')\n",
        "\n",
        "# fig.update_layout(hoverdistance=0)\n",
        "\n",
        "# fig.update_traces(xaxis='x', hoverinfo='none')\n",
        "\n",
        "# fig.update_layout(hoverdistance=0)\n",
        "# fig.update_traces(xaxis='x', hoverinfo='none')\n",
        "# px.line(df, x='timestamp', y=\"close_50_ema\")\n",
        "fig.show()"
      ],
      "execution_count": null,
      "outputs": [
        {
          "output_type": "stream",
          "name": "stdout",
          "text": [
            "Index(['timestamp', 'symbol', 'close', 'prevclose', 'macd', 'macds', 'macdh',\n",
            "       'close_50_ema', 'close_200_ema', 'close_-1_s', 'close_-1_d', 'rs_14',\n",
            "       'rsi_14'],\n",
            "      dtype='object')\n"
          ]
        },
        {
          "output_type": "display_data",
          "data": {
            "text/html": [
              "<html>\n",
              "<head><meta charset=\"utf-8\" /></head>\n",
              "<body>\n",
              "    <div>\n",
              "            <script src=\"https://cdnjs.cloudflare.com/ajax/libs/mathjax/2.7.5/MathJax.js?config=TeX-AMS-MML_SVG\"></script><script type=\"text/javascript\">if (window.MathJax) {MathJax.Hub.Config({SVG: {font: \"STIX-Web\"}});}</script>\n",
              "                <script type=\"text/javascript\">window.PlotlyConfig = {MathJaxConfig: 'local'};</script>\n",
              "        <script src=\"https://cdn.plot.ly/plotly-latest.min.js\"></script>    \n",
              "            <div id=\"1d057245-1f8e-4a2e-adda-adb0e9983d72\" class=\"plotly-graph-div\" style=\"height:525px; width:100%;\"></div>\n",
              "            <script type=\"text/javascript\">\n",
              "                \n",
              "                    window.PLOTLYENV=window.PLOTLYENV || {};\n",
              "                    \n",
              "                if (document.getElementById(\"1d057245-1f8e-4a2e-adda-adb0e9983d72\")) {\n",
              "                    Plotly.newPlot(\n",
              "                        '1d057245-1f8e-4a2e-adda-adb0e9983d72',\n",
              "                        [{\"customdata\": [[887.9, 887.0, 887.0], [885.55, 886.0, 886.0], [875.85, 882.0, 883.0], [836.1, 870.0, 871.0], [854.3, 867.0, 867.0], [842.05, 862.0, 863.0], [860.3, 862.0, 862.0], [850.3, 860.0, 861.0], [843.15, 858.0, 859.0], [834.95, 855.0, 856.0], [864.25, 856.0, 857.0], [869.7, 857.0, 858.0], [879.65, 859.0, 860.0], [903.05, 863.0, 863.0], [906.75, 867.0, 866.0], [883.75, 868.0, 867.0], [886.9, 870.0, 868.0], [889.05, 871.0, 870.0], [906.85, 874.0, 872.0], [929.4, 878.0, 875.0], [915.25, 880.0, 877.0], [908.05, 882.0, 879.0], [937.6, 886.0, 881.0], [928.8, 888.0, 884.0], [923.7, 891.0, 885.0], [909.9, 892.0, 886.0], [896.7, 892.0, 887.0], [882.0, 891.0, 887.0], [900.7, 892.0, 887.0], [909.15, 893.0, 888.0], [917.5, 894.0, 889.0], [902.8, 895.0, 890.0], [901.65, 895.0, 890.0], [902.05, 895.0, 890.0], [873.1, 894.0, 890.0], [851.45, 892.0, 888.0], [841.45, 889.0, 887.0], [843.15, 887.0, 886.0], [842.0, 885.0, 884.0], [855.55, 883.0, 883.0], [865.15, 882.0, 883.0], [864.25, 881.0, 882.0], [900.8, 882.0, 883.0], [887.85, 883.0, 883.0], [884.95, 883.0, 883.0], [869.65, 882.0, 883.0], [859.15, 881.0, 882.0], [855.95, 880.0, 881.0], [863.8, 879.0, 881.0], [850.1, 878.0, 880.0], [842.1, 876.0, 879.0], [856.85, 875.0, 878.0], [868.65, 875.0, 878.0], [856.15, 874.0, 878.0], [854.1, 873.0, 877.0], [841.95, 872.0, 876.0], [847.95, 871.0, 876.0], [844.9, 870.0, 875.0], [829.3, 868.0, 874.0], [811.7, 865.0, 872.0], [810.75, 863.0, 871.0], [826.0, 861.0, 870.0], [836.05, 860.0, 869.0], [824.65, 859.0, 868.0], [832.85, 858.0, 868.0], [865.9, 858.0, 868.0], [895.1, 859.0, 868.0], [904.35, 861.0, 869.0], [922.5, 864.0, 870.0], [923.65, 866.0, 871.0], [928.35, 869.0, 872.0], [926.85, 871.0, 873.0], [885.65, 872.0, 873.0], [876.45, 872.0, 873.0], [879.75, 872.0, 874.0], [877.05, 873.0, 874.0], [878.9, 873.0, 874.0], [875.3, 873.0, 874.0], [865.2, 873.0, 874.0], [850.0, 872.0, 873.0], [862.35, 871.0, 873.0], [890.95, 872.0, 873.0], [892.15, 873.0, 874.0], [880.25, 873.0, 874.0], [870.75, 873.0, 874.0], [889.7, 874.0, 874.0], [895.95, 874.0, 874.0], [868.7, 874.0, 874.0], [885.1, 875.0, 874.0], [878.2, 875.0, 874.0], [873.95, 875.0, 874.0], [891.55, 875.0, 875.0], [895.55, 876.0, 875.0], [908.85, 877.0, 876.0], [896.75, 878.0, 876.0], [903.85, 879.0, 876.0], [894.5, 880.0, 877.0], [884.6, 880.0, 877.0], [885.3, 880.0, 877.0], [875.8, 880.0, 877.0], [877.0, 880.0, 877.0], [902.25, 881.0, 877.0], [898.65, 881.0, 878.0], [896.35, 882.0, 878.0], [912.7, 883.0, 878.0], [907.75, 884.0, 879.0], [885.45, 884.0, 879.0], [883.7, 884.0, 879.0], [905.8, 885.0, 879.0], [877.15, 885.0, 879.0], [889.85, 885.0, 879.0], [901.75, 885.0, 880.0], [903.95, 886.0, 880.0], [931.2, 888.0, 881.0], [978.95, 892.0, 882.0], [996.65, 896.0, 884.0], [991.7, 899.0, 885.0], [995.0, 903.0, 887.0], [990.9, 907.0, 889.0], [1004.55, 911.0, 890.0], [1000.7, 914.0, 892.0], [990.85, 917.0, 893.0], [1000.1, 920.0, 895.0], [1005.65, 924.0, 896.0], [1010.85, 927.0, 898.0], [1007.2, 930.0, 899.0], [1015.55, 934.0, 901.0], [1003.25, 936.0, 902.0], [996.6, 939.0, 904.0], [987.4, 941.0, 905.0], [1001.8, 943.0, 906.0], [1007.0, 945.0, 907.0], [997.8, 948.0, 909.0], [1011.15, 950.0, 910.0], [1023.7, 953.0, 911.0], [1021.7, 956.0, 913.0], [1024.75, 958.0, 914.0], [1007.8, 960.0, 916.0], [1050.4, 964.0, 917.0], [1045.3, 967.0, 919.0], [1025.05, 969.0, 921.0], [1005.35, 971.0, 922.0], [1010.25, 972.0, 923.0], [996.0, 973.0, 924.0], [1000.15, 974.0, 925.0], [1001.85, 975.0, 926.0], [1002.45, 976.0, 927.0], [988.0, 977.0, 927.0], [987.75, 977.0, 928.0], [978.95, 977.0, 929.0], [984.35, 977.0, 930.0], [968.9, 977.0, 930.0], [966.0, 977.0, 931.0], [942.9, 975.0, 931.0], [933.35, 974.0, 931.0], [966.95, 973.0, 931.0], [950.7, 972.0, 931.0], [944.1, 971.0, 932.0], [954.6, 971.0, 932.0], [916.3, 968.0, 932.0], [907.95, 966.0, 931.0], [829.55, 961.0, 930.0], [848.15, 956.0, 929.0], [853.4, 952.0, 928.0], [869.15, 949.0, 927.0], [872.4, 946.0, 927.0], [855.9, 942.0, 926.0], [839.85, 938.0, 925.0], [849.55, 935.0, 924.0], [853.85, 932.0, 923.0], [835.9, 928.0, 922.0], [833.2, 924.0, 921.0], [848.6, 921.0, 920.0], [874.05, 919.0, 919.0], [867.0, 917.0, 919.0], [860.95, 915.0, 918.0], [863.85, 913.0, 917.0], [868.15, 911.0, 917.0], [872.55, 910.0, 916.0], [895.4, 909.0, 916.0], [878.1, 908.0, 916.0], [847.9, 905.0, 915.0], [850.35, 903.0, 914.0], [837.35, 901.0, 913.0], [834.25, 898.0, 912.0], [840.75, 896.0, 911.0], [862.3, 894.0, 911.0], [864.7, 893.0, 910.0], [888.0, 893.0, 910.0], [898.05, 893.0, 910.0], [913.8, 894.0, 910.0], [889.1, 894.0, 910.0], [887.35, 893.0, 909.0], [891.75, 893.0, 909.0], [893.6, 893.0, 909.0], [902.95, 894.0, 909.0], [903.7, 894.0, 909.0], [912.15, 895.0, 909.0], [963.5, 897.0, 909.0], [956.7, 900.0, 910.0], [955.0, 902.0, 910.0], [955.65, 904.0, 911.0], [942.85, 906.0, 911.0], [939.55, 907.0, 912.0], [936.95, 908.0, 912.0], [941.0, 909.0, 912.0], [947.7, 911.0, 913.0], [959.8, 913.0, 913.0], [967.2, 915.0, 914.0], [951.3, 916.0, 914.0], [936.6, 917.0, 914.0], [952.4, 918.0, 915.0], [961.25, 920.0, 915.0], [922.75, 920.0, 915.0], [928.45, 920.0, 916.0], [933.05, 921.0, 916.0], [934.3, 921.0, 916.0], [927.75, 922.0, 916.0], [912.0, 921.0, 916.0], [934.75, 922.0, 916.0], [946.85, 923.0, 917.0], [953.75, 924.0, 917.0], [967.7, 926.0, 918.0], [988.65, 928.0, 918.0], [979.05, 930.0, 919.0], [965.85, 931.0, 920.0], [965.9, 933.0, 920.0], [977.95, 934.0, 921.0], [977.2, 936.0, 921.0], [965.45, 937.0, 922.0], [952.05, 938.0, 922.0], [940.9, 938.0, 922.0], [915.9, 937.0, 922.0], [950.35, 938.0, 923.0], [952.95, 938.0, 923.0], [955.1, 939.0, 923.0], [975.9, 940.0, 924.0], [978.65, 942.0, 924.0], [1009.7, 944.0, 925.0], [991.9, 946.0, 926.0], [992.1, 948.0, 927.0], [987.3, 950.0, 927.0], [1003.8, 952.0, 928.0], [1000.55, 954.0, 929.0], [1010.4, 956.0, 930.0], [1015.4, 958.0, 931.0], [1004.5, 960.0, 932.0], [1014.6, 962.0, 933.0], [1015.35, 964.0, 933.0], [995.3, 965.0, 934.0], [1005.15, 967.0, 935.0], [1032.2, 969.0, 936.0], [1013.25, 971.0, 937.0], [1025.75, 973.0, 938.0], [1051.6, 976.0, 939.0], [1045.45, 979.0, 940.0], [1076.85, 983.0, 942.0], [1061.65, 986.0, 943.0], [1073.3, 989.0, 944.0], [1016.85, 990.0, 945.0], [1043.6, 992.0, 946.0], [1004.55, 993.0, 947.0], [984.2, 992.0, 947.0], [1004.15, 993.0, 948.0], [1003.95, 993.0, 948.0], [999.35, 994.0, 949.0], [1016.9, 994.0, 950.0], [1035.4, 996.0, 950.0], [1030.3, 997.0, 951.0], [1001.15, 997.0, 952.0], [981.4, 997.0, 952.0], [973.05, 996.0, 952.0], [970.9, 995.0, 953.0], [961.05, 994.0, 953.0], [957.5, 992.0, 953.0], [962.65, 991.0, 953.0], [924.55, 988.0, 952.0], [906.55, 985.0, 952.0], [946.75, 984.0, 952.0], [930.55, 981.0, 952.0], [952.6, 980.0, 952.0], [940.1, 979.0, 952.0], [944.35, 977.0, 951.0], [962.3, 977.0, 952.0], [949.65, 976.0, 952.0], [952.65, 975.0, 952.0], [944.1, 974.0, 951.0], [950.35, 973.0, 951.0], [966.65, 972.0, 952.0], [981.3, 973.0, 952.0], [1001.5, 974.0, 952.0], [1012.85, 975.0, 953.0], [1006.4, 976.0, 954.0], [1027.0, 978.0, 954.0], [1041.7, 981.0, 955.0], [1011.75, 982.0, 956.0], [1014.5, 983.0, 957.0], [1019.75, 985.0, 957.0], [1020.5, 986.0, 958.0], [1021.75, 988.0, 958.0], [1016.0, 989.0, 959.0], [1027.2, 990.0, 960.0], [1037.3, 992.0, 961.0], [1047.85, 994.0, 961.0], [1029.2, 995.0, 962.0], [1020.4, 996.0, 963.0], [1036.25, 998.0, 964.0], [1047.05, 1000.0, 964.0], [1045.2, 1002.0, 965.0], [1034.45, 1003.0, 966.0], [1035.05, 1004.0, 967.0], [1026.95, 1005.0, 967.0], [1033.75, 1006.0, 968.0], [1037.25, 1007.0, 969.0], [1036.35, 1008.0, 969.0], [1040.3, 1010.0, 970.0], [1047.4, 1011.0, 971.0], [1066.05, 1013.0, 972.0], [1064.75, 1015.0, 973.0], [1037.3, 1016.0, 974.0], [1041.15, 1017.0, 974.0], [1038.95, 1018.0, 975.0], [1016.9, 1018.0, 975.0], [1016.95, 1018.0, 976.0], [1019.4, 1018.0, 976.0], [996.7, 1017.0, 976.0], [982.7, 1016.0, 976.0], [986.95, 1014.0, 977.0], [975.8, 1013.0, 977.0], [978.1, 1012.0, 977.0], [975.25, 1010.0, 977.0], [968.95, 1008.0, 976.0], [983.1, 1007.0, 977.0], [982.55, 1006.0, 977.0], [975.4, 1005.0, 977.0], [992.8, 1005.0, 977.0], [978.15, 1004.0, 977.0], [975.95, 1003.0, 977.0], [969.15, 1001.0, 977.0], [970.55, 1000.0, 977.0], [951.2, 998.0, 976.0], [934.2, 996.0, 976.0], [930.0, 993.0, 975.0], [940.45, 991.0, 975.0], [951.2, 989.0, 975.0], [946.85, 988.0, 974.0], [974.7, 987.0, 974.0], [968.7, 986.0, 974.0], [957.85, 985.0, 974.0], [953.6, 984.0, 974.0], [956.25, 983.0, 974.0], [959.65, 982.0, 974.0], [954.8, 981.0, 974.0], [955.05, 980.0, 973.0], [954.1, 979.0, 973.0], [971.15, 978.0, 973.0], [976.7, 978.0, 973.0], [981.1, 978.0, 973.0], [976.25, 978.0, 973.0], [984.6, 979.0, 973.0], [976.3, 978.0, 973.0], [974.9, 978.0, 973.0], [990.2, 979.0, 974.0], [987.1, 979.0, 974.0], [980.5, 979.0, 974.0], [980.45, 979.0, 974.0], [951.45, 978.0, 974.0], [955.65, 977.0, 973.0], [957.8, 976.0, 973.0], [966.9, 976.0, 973.0], [969.15, 976.0, 973.0], [973.45, 976.0, 973.0], [986.7, 976.0, 973.0], [993.1, 977.0, 973.0], [987.9, 977.0, 974.0], [978.4, 977.0, 974.0], [992.5, 978.0, 974.0], [1003.4, 979.0, 974.0], [1008.75, 980.0, 974.0], [1004.9, 981.0, 975.0], [1012.2, 982.0, 975.0], [1006.25, 983.0, 975.0], [1017.8, 984.0, 976.0], [1023.0, 986.0, 976.0], [1006.35, 987.0, 977.0], [1014.85, 988.0, 977.0], [1022.75, 989.0, 977.0], [1024.05, 990.0, 978.0], [1013.1, 991.0, 978.0], [1026.35, 993.0, 979.0], [1014.9, 993.0, 979.0], [1009.5, 994.0, 979.0], [1012.8, 995.0, 980.0], [993.95, 995.0, 980.0], [993.0, 995.0, 980.0], [1016.25, 995.0, 980.0], [1029.25, 997.0, 981.0], [1030.7, 998.0, 981.0], [1003.65, 998.0, 982.0], [1014.1, 999.0, 982.0], [1035.8, 1000.0, 982.0], [1024.9, 1001.0, 983.0], [1013.3, 1002.0, 983.0], [1018.05, 1002.0, 984.0], [1014.9, 1003.0, 984.0], [1011.85, 1003.0, 984.0], [1010.45, 1003.0, 984.0], [1020.5, 1004.0, 985.0], [1012.7, 1004.0, 985.0], [1027.9, 1005.0, 985.0], [1057.45, 1007.0, 986.0], [1066.4, 1010.0, 987.0], [1060.0, 1012.0, 988.0], [1029.2, 1012.0, 988.0], [1013.35, 1012.0, 988.0], [1019.9, 1013.0, 989.0], [1017.65, 1013.0, 989.0], [1033.4, 1014.0, 989.0], [1044.55, 1015.0, 990.0], [1046.5, 1016.0, 991.0], [1044.75, 1017.0, 991.0], [1065.0, 1019.0, 992.0], [1075.55, 1021.0, 993.0], [1082.4, 1023.0, 994.0], [1074.2, 1025.0, 994.0], [1072.25, 1027.0, 995.0], [1088.95, 1030.0, 996.0], [1102.8, 1033.0, 997.0], [1107.2, 1035.0, 998.0], [1110.5, 1038.0, 999.0], [1090.65, 1040.0, 1000.0], [1072.45, 1042.0, 1001.0], [1083.7, 1043.0, 1002.0], [1090.7, 1045.0, 1003.0], [1096.35, 1047.0, 1004.0], [1089.4, 1049.0, 1005.0], [1110.8, 1051.0, 1006.0], [1109.0, 1053.0, 1007.0], [1096.35, 1055.0, 1008.0], [1057.15, 1055.0, 1008.0], [1077.65, 1056.0, 1009.0], [1060.65, 1056.0, 1009.0], [1081.1, 1057.0, 1010.0], [1087.35, 1058.0, 1011.0], [1087.55, 1059.0, 1012.0], [1064.2, 1060.0, 1012.0], [1063.3, 1060.0, 1013.0], [1060.85, 1060.0, 1013.0], [1054.05, 1059.0, 1013.0], [1048.7, 1059.0, 1014.0], [1054.95, 1059.0, 1014.0], [1051.2, 1059.0, 1015.0], [1051.0, 1058.0, 1015.0], [1023.75, 1057.0, 1015.0], [1023.95, 1056.0, 1015.0], [1005.55, 1054.0, 1015.0], [1001.15, 1051.0, 1015.0], [1003.5, 1050.0, 1015.0], [1004.6, 1048.0, 1015.0], [1010.4, 1046.0, 1015.0], [1001.75, 1045.0, 1014.0], [985.4, 1042.0, 1014.0], [986.55, 1040.0, 1014.0], [977.75, 1038.0, 1014.0], [987.5, 1036.0, 1013.0], [991.5, 1034.0, 1013.0], [1001.45, 1033.0, 1013.0], [1009.0, 1032.0, 1013.0], [987.35, 1030.0, 1013.0], [993.7, 1028.0, 1012.0], [986.65, 1027.0, 1012.0], [997.7, 1026.0, 1012.0], [990.05, 1024.0, 1012.0], [997.75, 1023.0, 1012.0], [994.75, 1022.0, 1011.0], [993.85, 1021.0, 1011.0], [1005.2, 1020.0, 1011.0], [999.15, 1019.0, 1011.0], [1020.05, 1019.0, 1011.0], [1028.95, 1020.0, 1011.0], [1027.2, 1020.0, 1011.0], [1039.8, 1021.0, 1012.0], [1059.5, 1022.0, 1012.0], [1052.95, 1023.0, 1013.0], [1057.15, 1025.0, 1013.0], [1062.55, 1026.0, 1014.0], [1057.9, 1027.0, 1014.0], [1063.25, 1029.0, 1015.0], [1053.35, 1030.0, 1015.0], [1057.3, 1031.0, 1015.0], [1047.45, 1031.0, 1016.0], [1064.7, 1033.0, 1016.0], [1049.7, 1033.0, 1016.0], [1065.45, 1035.0, 1017.0], [1082.4, 1036.0, 1018.0], [1085.1, 1038.0, 1018.0], [1089.4, 1040.0, 1019.0], [1067.15, 1041.0, 1019.0], [1077.4, 1043.0, 1020.0], [1074.95, 1044.0, 1021.0], [1077.7, 1045.0, 1021.0], [1089.85, 1047.0, 1022.0], [1086.05, 1049.0, 1022.0], [1083.3, 1050.0, 1023.0], [1090.4, 1051.0, 1024.0], [1076.25, 1052.0, 1024.0], [1041.25, 1052.0, 1024.0], [1032.55, 1051.0, 1024.0], [1033.7, 1050.0, 1025.0], [1025.8, 1049.0, 1025.0], [1015.9, 1048.0, 1024.0], [1027.3, 1047.0, 1025.0], [1017.3, 1046.0, 1024.0], [1025.1, 1045.0, 1024.0], [1044.8, 1045.0, 1025.0], [1045.2, 1045.0, 1025.0], [1049.65, 1045.0, 1025.0], [1043.5, 1045.0, 1025.0], [1033.65, 1045.0, 1025.0], [1041.65, 1045.0, 1025.0], [1030.9, 1044.0, 1026.0], [1025.15, 1043.0, 1026.0], [1032.75, 1043.0, 1026.0], [1030.15, 1042.0, 1026.0], [1029.85, 1042.0, 1026.0], [1049.8, 1042.0, 1026.0], [1051.3, 1042.0, 1026.0], [1067.5, 1043.0, 1027.0], [1075.5, 1045.0, 1027.0], [1075.4, 1046.0, 1028.0], [1088.2, 1048.0, 1028.0], [1207.5, 1054.0, 1030.0], [1182.75, 1059.0, 1031.0], [1238.9, 1066.0, 1034.0], [1238.05, 1073.0, 1036.0], [1234.5, 1079.0, 1038.0], [1236.75, 1085.0, 1040.0], [1258.55, 1092.0, 1042.0], [1305.35, 1100.0, 1044.0], [1304.95, 1108.0, 1047.0], [1291.2, 1115.0, 1049.0], [1286.75, 1122.0, 1052.0], [1281.65, 1128.0, 1054.0], [1289.5, 1135.0, 1056.0], [1304.95, 1141.0, 1059.0], [1297.65, 1147.0, 1061.0], [1300.7, 1153.0, 1064.0], [1280.8, 1158.0, 1066.0], [1263.8, 1162.0, 1068.0], [1259.7, 1166.0, 1070.0], [1273.3, 1170.0, 1072.0], [1286.75, 1175.0, 1074.0], [1251.1, 1178.0, 1076.0], [1245.75, 1181.0, 1077.0], [1256.65, 1184.0, 1079.0], [1270.65, 1187.0, 1081.0], [1320.9, 1192.0, 1083.0], [1374.65, 1199.0, 1086.0], [1415.0, 1208.0, 1090.0], [1438.5, 1217.0, 1093.0], [1406.6, 1224.0, 1096.0], [1381.35, 1230.0, 1099.0], [1372.35, 1236.0, 1102.0], [1354.0, 1241.0, 1104.0], [1364.8, 1245.0, 1107.0], [1391.85, 1251.0, 1110.0], [1370.2, 1256.0, 1112.0], [1368.8, 1260.0, 1115.0], [1369.55, 1264.0, 1117.0], [1402.5, 1270.0, 1120.0], [1417.4, 1276.0, 1123.0], [1432.8, 1282.0, 1126.0], [1416.45, 1287.0, 1129.0], [1409.5, 1292.0, 1132.0], [1395.2, 1296.0, 1135.0], [1370.55, 1299.0, 1137.0], [1370.1, 1302.0, 1139.0], [1357.95, 1304.0, 1141.0], [1328.25, 1305.0, 1143.0], [1321.4, 1305.0, 1145.0], [1330.35, 1306.0, 1147.0], [1359.1, 1308.0, 1149.0], [1359.55, 1310.0, 1151.0], [1350.45, 1312.0, 1153.0], [1344.1, 1313.0, 1155.0], [1356.3, 1315.0, 1157.0], [1353.1, 1316.0, 1159.0], [1327.35, 1317.0, 1161.0], [1318.85, 1317.0, 1162.0], [1324.15, 1317.0, 1164.0], [1305.55, 1317.0, 1165.0], [1297.7, 1316.0, 1167.0], [1302.45, 1315.0, 1168.0], [1337.3, 1316.0, 1170.0], [1356.9, 1318.0, 1171.0], [1359.35, 1319.0, 1173.0], [1340.7, 1320.0, 1175.0], [1328.25, 1320.0, 1177.0], [1324.75, 1321.0, 1178.0], [1329.35, 1321.0, 1179.0], [1312.8, 1321.0, 1181.0], [1339.0, 1321.0, 1182.0], [1331.7, 1322.0, 1184.0], [1335.7, 1322.0, 1185.0], [1319.45, 1322.0, 1187.0], [1314.35, 1322.0, 1188.0], [1357.5, 1323.0, 1190.0], [1383.95, 1325.0, 1192.0], [1388.8, 1328.0, 1194.0], [1409.25, 1331.0, 1196.0], [1412.35, 1334.0, 1198.0], [1422.0, 1338.0, 1200.0], [1432.65, 1341.0, 1202.0], [1435.85, 1345.0, 1205.0], [1437.15, 1349.0, 1207.0], [1398.5, 1351.0, 1209.0], [1392.7, 1352.0, 1211.0], [1380.0, 1353.0, 1212.0], [1381.05, 1354.0, 1214.0], [1421.95, 1357.0, 1216.0], [1442.65, 1360.0, 1218.0], [1442.55, 1364.0, 1221.0], [1491.15, 1369.0, 1223.0], [1494.35, 1373.0, 1226.0], [1511.1, 1379.0, 1229.0], [1522.1, 1384.0, 1232.0], [1533.75, 1390.0, 1235.0], [1551.75, 1397.0, 1238.0], [1519.9, 1401.0, 1241.0], [1532.95, 1407.0, 1244.0], [1528.9, 1411.0, 1247.0], [1585.0, 1418.0, 1250.0], [1615.25, 1426.0, 1254.0], [1602.15, 1433.0, 1257.0], [1622.75, 1440.0, 1261.0], [1594.8, 1446.0, 1264.0], [1594.45, 1452.0, 1267.0], [1615.2, 1458.0, 1271.0], [1603.6, 1464.0, 1274.0], [1629.2, 1470.0, 1278.0], [1650.1, 1478.0, 1281.0], [1622.15, 1483.0, 1285.0], [1616.35, 1488.0, 1288.0], [1602.55, 1493.0, 1291.0], [1598.8, 1497.0, 1294.0], [1584.35, 1500.0, 1297.0], [1546.25, 1502.0, 1300.0], [1573.05, 1505.0, 1302.0], [1566.1, 1507.0, 1305.0], [1567.1, 1510.0, 1307.0], [1575.4, 1512.0, 1310.0], [1564.4, 1514.0, 1313.0], [1560.05, 1516.0, 1315.0], [1582.05, 1519.0, 1318.0], [1568.05, 1520.0, 1320.0], [1566.55, 1522.0, 1323.0], [1532.15, 1523.0, 1325.0], [1564.1, 1524.0, 1327.0], [1594.5, 1527.0, 1330.0], [1610.1, 1530.0, 1333.0], [1613.35, 1533.0, 1335.0], [1632.6, 1537.0, 1338.0], [1645.4, 1542.0, 1341.0], [818.1, 1513.0, 1336.0], [816.9, 1486.0, 1331.0], [817.9, 1460.0, 1326.0], [823.75, 1435.0, 1321.0], [849.0, 1412.0, 1316.0], [843.85, 1389.0, 1311.0], [841.8, 1368.0, 1307.0], [845.55, 1347.0, 1302.0], [838.6, 1327.0, 1298.0], [847.15, 1309.0, 1293.0], [841.35, 1290.0, 1289.0], [817.4, 1272.0, 1284.0], [821.55, 1254.0, 1279.0], [820.1, 1237.0, 1275.0], [799.15, 1220.0, 1270.0], [786.45, 1203.0, 1265.0], [780.9, 1186.0, 1260.0], [798.35, 1171.0, 1256.0], [818.85, 1157.0, 1251.0], [824.15, 1144.0, 1247.0], [837.05, 1132.0, 1243.0], [830.65, 1120.0, 1239.0], [843.2, 1109.0, 1235.0], [840.15, 1099.0, 1231.0], [872.75, 1090.0, 1227.0], [876.45, 1081.0, 1224.0], [876.8, 1073.0, 1220.0], [874.35, 1066.0, 1217.0], [914.5, 1060.0, 1214.0], [909.9, 1054.0, 1211.0], [939.75, 1049.0, 1208.0], [934.25, 1045.0, 1206.0], [939.9, 1041.0, 1203.0], [947.4, 1037.0, 1200.0], [929.85, 1033.0, 1198.0], [942.5, 1029.0, 1195.0], [940.85, 1026.0, 1193.0], [952.55, 1023.0, 1190.0], [946.6, 1020.0, 1188.0], [945.3, 1017.0, 1185.0], [932.5, 1013.0, 1183.0], [906.7, 1009.0, 1180.0], [887.8, 1005.0, 1177.0], [900.5, 1000.0, 1174.0], [883.85, 996.0, 1171.0], [875.25, 991.0, 1168.0], [886.7, 987.0, 1166.0], [883.7, 983.0, 1163.0], [903.85, 980.0, 1160.0], [911.9, 977.0, 1158.0], [920.85, 975.0, 1155.0], [932.55, 973.0, 1153.0], [930.75, 971.0, 1151.0], [947.0, 971.0, 1149.0], [951.1, 970.0, 1147.0], [951.35, 969.0, 1145.0], [943.35, 968.0, 1143.0], [946.0, 967.0, 1141.0], [921.55, 965.0, 1139.0], [910.1, 963.0, 1137.0], [901.6, 961.0, 1134.0], [913.7, 959.0, 1132.0], [926.65, 958.0, 1130.0], [931.55, 956.0, 1128.0], [921.0, 955.0, 1126.0], [916.15, 954.0, 1124.0], [915.6, 952.0, 1122.0], [914.65, 951.0, 1120.0], [921.5, 949.0, 1118.0], [919.75, 948.0, 1116.0], [921.0, 947.0, 1114.0], [925.95, 946.0, 1112.0], [918.15, 945.0, 1110.0], [912.95, 944.0, 1108.0], [920.4, 943.0, 1106.0], [929.8, 942.0, 1104.0], [923.75, 942.0, 1103.0], [924.2, 941.0, 1101.0], [921.05, 940.0, 1099.0], [909.75, 939.0, 1097.0], [911.15, 938.0, 1095.0], [914.8, 937.0, 1093.0], [920.3, 936.0, 1092.0], [923.25, 936.0, 1090.0], [928.55, 935.0, 1088.0], [940.95, 936.0, 1087.0], [942.35, 936.0, 1086.0], [937.75, 936.0, 1084.0], [949.0, 936.0, 1083.0], [949.15, 937.0, 1081.0], [922.95, 936.0, 1080.0], [924.5, 936.0, 1078.0], [919.7, 935.0, 1077.0], [931.3, 935.0, 1075.0], [971.5, 936.0, 1074.0], [983.25, 938.0, 1073.0], [966.35, 939.0, 1072.0], [965.9, 940.0, 1071.0], [964.5, 941.0, 1070.0], [950.4, 942.0, 1069.0], [961.3, 942.0, 1068.0], [943.85, 942.0, 1067.0], [904.35, 941.0, 1065.0], [902.15, 939.0, 1063.0], [892.1, 937.0, 1062.0], [894.4, 936.0, 1060.0], [904.55, 935.0, 1058.0], [897.85, 933.0, 1057.0], [915.5, 932.0, 1055.0], [933.65, 932.0, 1054.0], [935.65, 932.0, 1053.0], [921.3, 932.0, 1052.0], [927.0, 932.0, 1050.0], [921.1, 931.0, 1049.0], [929.35, 931.0, 1048.0], [924.35, 931.0, 1047.0], [934.25, 931.0, 1046.0], [938.7, 931.0, 1044.0], [950.5, 932.0, 1044.0], [954.55, 933.0, 1043.0], [948.4, 934.0, 1042.0], [924.1, 933.0, 1041.0], [910.85, 932.0, 1039.0], [889.75, 931.0, 1038.0], [911.45, 930.0, 1036.0], [913.1, 929.0, 1035.0], [930.3, 929.0, 1034.0], [931.85, 929.0, 1033.0], [929.05, 929.0, 1032.0], [911.8, 929.0, 1031.0], [900.05, 927.0, 1030.0], [895.5, 926.0, 1028.0], [889.8, 925.0, 1027.0], [896.9, 924.0, 1026.0], [908.15, 923.0, 1024.0], [893.9, 922.0, 1023.0], [901.1, 921.0, 1022.0], [899.8, 920.0, 1021.0], [882.7, 919.0, 1019.0], [892.95, 918.0, 1018.0], [899.55, 917.0, 1017.0], [894.9, 916.0, 1016.0], [908.2, 916.0, 1015.0], [911.0, 915.0, 1014.0], [916.0, 915.0, 1013.0], [917.05, 915.0, 1012.0], [930.85, 916.0, 1011.0], [928.7, 917.0, 1010.0], [938.85, 917.0, 1009.0], [937.05, 918.0, 1009.0], [944.25, 919.0, 1008.0], [938.0, 920.0, 1007.0], [942.3, 921.0, 1007.0], [927.9, 921.0, 1006.0], [936.0, 922.0, 1005.0], [970.05, 923.0, 1005.0], [970.5, 925.0, 1004.0], [975.35, 927.0, 1004.0], [996.3, 930.0, 1004.0], [963.3, 931.0, 1004.0], [972.7, 933.0, 1003.0], [961.6, 934.0, 1003.0], [953.95, 935.0, 1002.0], [971.0, 936.0, 1002.0], [967.1, 937.0, 1002.0], [976.7, 939.0, 1001.0], [981.15, 940.0, 1001.0], [989.25, 942.0, 1001.0], [986.6, 944.0, 1001.0], [978.95, 945.0, 1001.0], [956.15, 946.0, 1000.0], [945.35, 946.0, 1000.0], [933.85, 945.0, 999.0], [931.35, 945.0, 998.0], [926.75, 944.0, 998.0], [912.25, 943.0, 997.0], [915.85, 942.0, 996.0], [920.8, 941.0, 995.0], [920.4, 940.0, 994.0], [917.45, 939.0, 994.0], [916.1, 938.0, 993.0], [921.35, 937.0, 992.0], [930.55, 937.0, 992.0], [940.85, 937.0, 991.0], [947.65, 938.0, 991.0], [954.4, 938.0, 990.0], [971.35, 940.0, 990.0], [984.35, 941.0, 990.0], [982.65, 943.0, 990.0], [997.15, 945.0, 990.0], [1002.5, 947.0, 990.0], [1007.95, 950.0, 990.0], [1014.2, 952.0, 991.0], [1015.55, 955.0, 991.0], [996.05, 956.0, 991.0], [1019.25, 959.0, 991.0], [1031.95, 962.0, 992.0], [1012.5, 964.0, 992.0], [1004.45, 965.0, 992.0], [978.95, 966.0, 992.0], [965.85, 966.0, 991.0], [944.95, 965.0, 991.0], [972.45, 965.0, 991.0], [960.6, 965.0, 990.0], [971.3, 965.0, 990.0], [990.1, 966.0, 990.0], [964.5, 966.0, 990.0], [977.55, 966.0, 990.0], [997.1, 968.0, 990.0], [1025.7, 970.0, 990.0], [1038.8, 973.0, 991.0], [1082.35, 977.0, 992.0], [1099.8, 982.0, 993.0], [1076.2, 985.0, 994.0], [1092.35, 990.0, 995.0], [1092.55, 994.0, 996.0], [1104.85, 998.0, 997.0], [1128.65, 1003.0, 998.0], [1120.3, 1008.0, 999.0], [1110.95, 1012.0, 1000.0], [1115.15, 1016.0, 1001.0], [1110.65, 1019.0, 1002.0], [1129.85, 1024.0, 1004.0], [1151.4, 1029.0, 1005.0], [1186.0, 1035.0, 1007.0], [1192.35, 1041.0, 1009.0], [1168.35, 1046.0, 1010.0], [1176.95, 1051.0, 1012.0], [1192.6, 1057.0, 1014.0], [1184.2, 1062.0, 1016.0], [1217.7, 1068.0, 1018.0], [1217.95, 1074.0, 1020.0], [1204.2, 1079.0, 1021.0], [1187.7, 1083.0, 1023.0], [1210.6, 1088.0, 1025.0], [1200.8, 1092.0, 1027.0], [1203.75, 1097.0, 1028.0], [1234.9, 1102.0, 1030.0], [1247.2, 1108.0, 1033.0], [1269.45, 1114.0, 1035.0], [1277.5, 1120.0, 1037.0], [1291.5, 1127.0, 1040.0], [1319.0, 1135.0, 1043.0], [1294.2, 1141.0, 1045.0], [1274.45, 1146.0, 1047.0], [1241.65, 1150.0, 1049.0], [1229.15, 1153.0, 1051.0], [1241.95, 1156.0, 1053.0], [1227.0, 1159.0, 1055.0], [1261.4, 1163.0, 1057.0], [1278.6, 1168.0, 1059.0], [1255.85, 1171.0, 1061.0], [1237.7, 1174.0, 1063.0], [1252.5, 1177.0, 1065.0], [1253.15, 1180.0, 1066.0], [1225.9, 1182.0, 1068.0], [1217.15, 1183.0, 1070.0], [1210.75, 1184.0, 1071.0], [1217.5, 1185.0, 1072.0], [1232.05, 1187.0, 1074.0], [1230.6, 1189.0, 1076.0], [1251.4, 1191.0, 1077.0], [1253.75, 1194.0, 1079.0], [1257.95, 1196.0, 1081.0], [1231.7, 1198.0, 1082.0], [1205.1, 1198.0, 1084.0], [1122.25, 1195.0, 1084.0], [1048.85, 1189.0, 1084.0], [1109.4, 1186.0, 1084.0], [1090.05, 1182.0, 1084.0], [1102.1, 1179.0, 1084.0], [1087.8, 1175.0, 1084.0], [1126.55, 1173.0, 1084.0], [1139.75, 1172.0, 1085.0], [1163.8, 1172.0, 1086.0], [1151.3, 1171.0, 1086.0], [1101.3, 1168.0, 1087.0], [1062.65, 1164.0, 1086.0], [1054.7, 1160.0, 1086.0], [1045.75, 1155.0, 1086.0], [1030.8, 1150.0, 1085.0], [1044.9, 1146.0, 1085.0], [1087.8, 1144.0, 1085.0], [1057.0, 1140.0, 1084.0], [1061.25, 1137.0, 1084.0], [1056.25, 1134.0, 1084.0], [1074.9, 1132.0, 1084.0], [1090.3, 1130.0, 1084.0], [1104.1, 1129.0, 1084.0], [1110.7, 1128.0, 1084.0], [1093.45, 1127.0, 1084.0], [1080.0, 1125.0, 1084.0], [1099.45, 1124.0, 1084.0], [1097.95, 1123.0, 1085.0], [1096.85, 1122.0, 1085.0], [1127.4, 1122.0, 1085.0], [1150.0, 1123.0, 1086.0], [1137.4, 1124.0, 1086.0], [1112.9, 1123.0, 1087.0], [1102.85, 1123.0, 1087.0], [1109.75, 1122.0, 1087.0], [1128.2, 1122.0, 1087.0], [1152.65, 1123.0, 1088.0], [1168.5, 1125.0, 1089.0], [1167.55, 1127.0, 1090.0], [1156.45, 1128.0, 1090.0], [1152.3, 1129.0, 1091.0], [1155.15, 1130.0, 1091.0], [1123.65, 1130.0, 1092.0], [1133.8, 1130.0, 1092.0], [1090.25, 1128.0, 1092.0], [1097.55, 1127.0, 1092.0], [1110.5, 1126.0, 1092.0], [1107.05, 1126.0, 1093.0], [1112.2, 1125.0, 1093.0], [1129.9, 1125.0, 1093.0], [1136.4, 1126.0, 1094.0], [1136.8, 1126.0, 1094.0], [1128.45, 1126.0, 1094.0], [1100.2, 1125.0, 1094.0], [1089.15, 1124.0, 1094.0], [1098.35, 1123.0, 1094.0], [1120.2, 1122.0, 1095.0], [1125.55, 1123.0, 1095.0], [1121.25, 1123.0, 1095.0], [1121.0, 1122.0, 1095.0], [1106.4, 1122.0, 1095.0], [1092.75, 1121.0, 1095.0], [1098.65, 1120.0, 1095.0], [1104.75, 1119.0, 1096.0], [1104.65, 1119.0, 1096.0], [1110.75, 1118.0, 1096.0], [1107.5, 1118.0, 1096.0], [1098.05, 1117.0, 1096.0], [1096.8, 1116.0, 1096.0], [1129.65, 1117.0, 1096.0], [1135.9, 1117.0, 1097.0], [1134.45, 1118.0, 1097.0], [1184.35, 1121.0, 1098.0], [1237.7, 1125.0, 1099.0], [1235.15, 1130.0, 1101.0], [1226.3, 1133.0, 1102.0], [1247.45, 1138.0, 1103.0], [1246.0, 1142.0, 1105.0], [1229.55, 1145.0, 1106.0], [1210.65, 1148.0, 1107.0], [1195.7, 1150.0, 1108.0], [1227.15, 1153.0, 1109.0], [1249.95, 1157.0, 1110.0], [1290.9, 1162.0, 1112.0], [1291.55, 1167.0, 1114.0], [1310.25, 1173.0, 1116.0], [1290.4, 1177.0, 1118.0], [1277.7, 1181.0, 1119.0], [1253.25, 1184.0, 1121.0], [1256.4, 1187.0, 1122.0], [1245.95, 1189.0, 1123.0], [1224.2, 1190.0, 1124.0], [1244.45, 1192.0, 1125.0], [1220.1, 1194.0, 1126.0], [1216.1, 1194.0, 1127.0], [1234.35, 1196.0, 1128.0], [1246.9, 1198.0, 1129.0], [1232.35, 1199.0, 1130.0], [1232.3, 1201.0, 1131.0], [1220.25, 1201.0, 1132.0], [1223.5, 1202.0, 1133.0], [1231.05, 1203.0, 1134.0], [1226.05, 1204.0, 1135.0], [1237.65, 1205.0, 1136.0], [1264.8, 1208.0, 1137.0], [1270.25, 1210.0, 1139.0], [1267.1, 1212.0, 1140.0], [1304.1, 1216.0, 1142.0], [1331.35, 1220.0, 1144.0], [1347.3, 1225.0, 1146.0], [1341.55, 1230.0, 1147.0], [1321.65, 1234.0, 1149.0], [1350.05, 1238.0, 1151.0], [1376.55, 1243.0, 1153.0], [1375.45, 1249.0, 1156.0], [1341.75, 1252.0, 1158.0], [1324.45, 1255.0, 1159.0], [1367.25, 1259.0, 1161.0], [1349.25, 1263.0, 1163.0], [1360.0, 1267.0, 1165.0], [1363.25, 1271.0, 1167.0], [1391.85, 1275.0, 1169.0], [1389.7, 1280.0, 1171.0], [1375.2, 1283.0, 1173.0], [1353.05, 1286.0, 1175.0], [1353.9, 1289.0, 1177.0], [1329.25, 1290.0, 1179.0], [1334.45, 1292.0, 1180.0], [1331.4, 1294.0, 1182.0], [1346.8, 1296.0, 1183.0], [1343.1, 1297.0, 1185.0], [1340.15, 1299.0, 1186.0], [1343.75, 1301.0, 1188.0], [1385.95, 1304.0, 1190.0], [1345.35, 1306.0, 1191.0], [1363.85, 1308.0, 1193.0], [1389.5, 1311.0, 1195.0], [1372.4, 1314.0, 1197.0], [1392.8, 1317.0, 1199.0], [1392.8, 1320.0, 1201.0], [1405.05, 1323.0, 1203.0], [1408.85, 1326.0, 1205.0], [1384.9, 1329.0, 1207.0], [1343.5, 1329.0, 1208.0], [1299.45, 1328.0, 1209.0], [1256.45, 1325.0, 1209.0], [1251.15, 1322.0, 1210.0], [1232.05, 1319.0, 1210.0], [1260.45, 1316.0, 1210.0], [1256.9, 1314.0, 1211.0], [1265.35, 1312.0, 1211.0], [1267.4, 1310.0, 1212.0], [1325.9, 1311.0, 1213.0], [1339.8, 1312.0, 1214.0], [1340.4, 1313.0, 1216.0], [1333.9, 1314.0, 1217.0], [1336.85, 1315.0, 1218.0], [1310.65, 1315.0, 1219.0], [1323.75, 1315.0, 1220.0], [1313.05, 1315.0, 1221.0], [1329.75, 1315.0, 1222.0], [1330.15, 1316.0, 1223.0], [1360.2, 1318.0, 1224.0], [1351.65, 1319.0, 1226.0], [1327.35, 1319.0, 1227.0], [1314.9, 1319.0, 1227.0], [1319.15, 1319.0, 1228.0], [1329.15, 1319.0, 1229.0], [1332.15, 1320.0, 1230.0], [1327.25, 1320.0, 1231.0], [1317.55, 1320.0, 1232.0], [1282.3, 1319.0, 1233.0], [1281.0, 1317.0, 1233.0], [1277.35, 1316.0, 1234.0], [1296.75, 1315.0, 1234.0], [1279.5, 1313.0, 1235.0], [1262.4, 1311.0, 1235.0], [1295.85, 1311.0, 1236.0], [1294.15, 1310.0, 1236.0], [1274.15, 1309.0, 1237.0], [1253.1, 1306.0, 1237.0], [1268.85, 1305.0, 1237.0], [1278.5, 1304.0, 1237.0], [1282.55, 1303.0, 1238.0], [1284.0, 1302.0, 1238.0], [1263.35, 1301.0, 1239.0], [1252.05, 1299.0, 1239.0], [1280.1, 1298.0, 1239.0], [1278.85, 1297.0, 1239.0], [1281.55, 1297.0, 1240.0], [1280.5, 1296.0, 1240.0], [1276.1, 1295.0, 1241.0], [1293.0, 1295.0, 1241.0], [1281.85, 1295.0, 1242.0], [1261.85, 1293.0, 1242.0], [1249.0, 1291.0, 1242.0], [1280.5, 1291.0, 1242.0], [1273.55, 1290.0, 1243.0], [1259.1, 1289.0, 1243.0], [1231.5, 1287.0, 1243.0], [1213.8, 1284.0, 1242.0], [1210.95, 1281.0, 1242.0], [1180.9, 1277.0, 1241.0], [1166.25, 1273.0, 1241.0], [1180.25, 1269.0, 1240.0], [1184.35, 1266.0, 1239.0], [1143.35, 1261.0, 1238.0], [1128.3, 1256.0, 1237.0], [1109.4, 1250.0, 1236.0], [1152.35, 1246.0, 1235.0], [1162.1, 1243.0, 1235.0], [1274.75, 1244.0, 1235.0], [1288.25, 1246.0, 1235.0], [1278.0, 1247.0, 1236.0], [1292.6, 1249.0, 1236.0], [1275.95, 1250.0, 1237.0], [1270.95, 1251.0, 1237.0], [1246.75, 1250.0, 1237.0], [1275.85, 1251.0, 1238.0], [1266.8, 1252.0, 1238.0], [1274.85, 1253.0, 1238.0], [1263.3, 1253.0, 1238.0], [1241.75, 1253.0, 1239.0], [1248.55, 1253.0, 1239.0], [1206.4, 1251.0, 1238.0], [1201.15, 1249.0, 1238.0], [1198.6, 1247.0, 1238.0], [1222.5, 1246.0, 1237.0], [1222.2, 1245.0, 1237.0], [1234.4, 1244.0, 1237.0], [1210.35, 1243.0, 1237.0], [1225.6, 1242.0, 1237.0], [1210.75, 1241.0, 1237.0], [1197.45, 1239.0, 1236.0], [1205.7, 1238.0, 1236.0], [1179.05, 1236.0, 1235.0], [1254.35, 1236.0, 1235.0], [1239.2, 1237.0, 1235.0], [1278.7, 1238.0, 1236.0], [1279.55, 1240.0, 1236.0], [1296.8, 1242.0, 1237.0], [1309.05, 1245.0, 1238.0], [1332.25, 1248.0, 1239.0], [1304.9, 1250.0, 1239.0], [1311.05, 1253.0, 1240.0], [1308.1, 1255.0, 1241.0], [1310.1, 1257.0, 1241.0], [1324.75, 1260.0, 1242.0], [1362.75, 1264.0, 1243.0], [1352.6, 1267.0, 1244.0], [1358.0, 1271.0, 1246.0], [1364.15, 1274.0, 1247.0], [1372.35, 1278.0, 1248.0], [1396.5, 1283.0, 1249.0], [1416.35, 1288.0, 1251.0], [1414.15, 1293.0, 1253.0], [1392.4, 1297.0, 1254.0], [1436.45, 1302.0, 1256.0], [1431.2, 1307.0, 1258.0], [1434.25, 1312.0, 1259.0], [1467.05, 1318.0, 1261.0], [1479.1, 1325.0, 1264.0], [1464.35, 1330.0, 1266.0], [1456.9, 1335.0, 1267.0], [1457.65, 1340.0, 1269.0], [1447.3, 1344.0, 1271.0], [1434.9, 1347.0, 1273.0], [1458.6, 1352.0, 1275.0], [1445.5, 1355.0, 1276.0], [1427.8, 1358.0, 1278.0], [1472.3, 1363.0, 1280.0], [1462.75, 1367.0, 1282.0], [1470.85, 1371.0, 1283.0], [1459.2, 1374.0, 1285.0], [1509.75, 1379.0, 1287.0], [1547.65, 1386.0, 1290.0], [1537.6, 1392.0, 1292.0], [1546.5, 1398.0, 1295.0], [1561.55, 1404.0, 1298.0], [1560.25, 1410.0, 1300.0], [1569.85, 1417.0, 1303.0], [1580.3, 1423.0, 1306.0], [1551.15, 1428.0, 1308.0], [1586.5, 1434.0, 1311.0], [1578.9, 1440.0, 1314.0], [1552.7, 1444.0, 1316.0], [1550.85, 1449.0, 1318.0], [1554.9, 1453.0, 1321.0], [1572.6, 1457.0, 1323.0], [1561.95, 1461.0, 1325.0], [1562.4, 1465.0, 1328.0], [1568.2, 1469.0, 1330.0], [1582.9, 1474.0, 1333.0], [1566.6, 1477.0, 1335.0], [1562.7, 1481.0, 1337.0], [1575.85, 1484.0, 1340.0], [1609.95, 1489.0, 1342.0], [1599.1, 1494.0, 1345.0], [1571.4, 1497.0, 1347.0], [1546.45, 1499.0, 1349.0], [1515.4, 1499.0, 1351.0], [1542.35, 1501.0, 1353.0], [1544.2, 1503.0, 1355.0], [1514.05, 1503.0, 1356.0], [1509.6, 1503.0, 1358.0], [1535.3, 1505.0, 1359.0], [1537.15, 1506.0, 1361.0], [1501.5, 1506.0, 1363.0], [1524.6, 1506.0, 1364.0], [1513.15, 1507.0, 1366.0], [1548.0, 1508.0, 1367.0], [1547.65, 1510.0, 1369.0], [1543.7, 1511.0, 1371.0], [1529.4, 1512.0, 1373.0], [1523.85, 1512.0, 1374.0], [1537.9, 1513.0, 1376.0], [1581.0, 1516.0, 1378.0], [1532.35, 1516.0, 1379.0], [1533.9, 1517.0, 1381.0], [1533.35, 1518.0, 1382.0], [1526.85, 1518.0, 1384.0], [1521.55, 1518.0, 1385.0], [1506.55, 1518.0, 1386.0], [1471.75, 1516.0, 1387.0], [1479.85, 1514.0, 1388.0], [1443.75, 1512.0, 1389.0], [1411.65, 1508.0, 1389.0], [1383.35, 1503.0, 1389.0], [1385.5, 1498.0, 1389.0], [1426.4, 1495.0, 1389.0], [1448.5, 1493.0, 1390.0], [1457.8, 1492.0, 1390.0], [1433.65, 1490.0, 1391.0], [1435.6, 1488.0, 1391.0], [1452.75, 1486.0, 1392.0], [1470.3, 1486.0, 1393.0], [1474.15, 1485.0, 1393.0], [1487.6, 1485.0, 1394.0], [1478.25, 1485.0, 1395.0], [1467.4, 1484.0, 1396.0], [1503.8, 1485.0, 1397.0], [1485.95, 1485.0, 1398.0], [1444.95, 1483.0, 1398.0], [1416.4, 1481.0, 1399.0], [1392.0, 1477.0, 1398.0], [1386.25, 1474.0, 1398.0], [1328.65, 1468.0, 1398.0], [1316.15, 1462.0, 1397.0], [1342.85, 1457.0, 1396.0], [1339.7, 1453.0, 1396.0], [1311.15, 1447.0, 1395.0], [1271.0, 1440.0, 1394.0], [1114.15, 1427.0, 1391.0], [1153.55, 1417.0, 1388.0], [1063.0, 1403.0, 1385.0], [1105.3, 1391.0, 1382.0], [1015.7, 1376.0, 1379.0], [1008.0, 1362.0, 1375.0], [968.5, 1346.0, 1371.0], [917.7, 1330.0, 1367.0], [1017.95, 1317.0, 1363.0], [884.05, 1300.0, 1358.0], [943.4, 1286.0, 1354.0], [1082.25, 1278.0, 1351.0], [1066.2, 1270.0, 1349.0], [1065.6, 1262.0, 1346.0], [1030.45, 1253.0, 1343.0], [1113.75, 1247.0, 1340.0], [1080.45, 1241.0, 1338.0], [1077.45, 1234.0, 1335.0], [1206.1, 1233.0, 1334.0], [1192.15, 1232.0, 1332.0], [1219.95, 1231.0, 1331.0], [1189.15, 1229.0, 1330.0], [1149.85, 1226.0, 1328.0], [1168.05, 1224.0, 1326.0], [1224.0, 1224.0, 1325.0], [1243.8, 1225.0, 1325.0], [1237.35, 1225.0, 1324.0], [1363.6, 1231.0, 1324.0], [1370.9, 1236.0, 1325.0], [1417.0, 1243.0, 1326.0], [1429.75, 1250.0, 1327.0], [1428.15, 1257.0, 1328.0], [1426.95, 1264.0, 1329.0], [1466.0, 1272.0, 1330.0], [1435.2, 1278.0, 1331.0], [1460.65, 1285.0, 1332.0], [1460.75, 1292.0, 1334.0], [1506.95, 1301.0, 1335.0], [1561.8, 1311.0, 1338.0], [1576.8, 1321.0, 1340.0], [1479.25, 1328.0, 1341.0], [1496.45, 1334.0, 1343.0], [1435.95, 1338.0, 1344.0], [1459.4, 1343.0, 1345.0], [1440.75, 1347.0, 1346.0], [1408.9, 1349.0, 1346.0], [1433.7, 1352.0, 1347.0], [1441.25, 1356.0, 1348.0], [1431.55, 1359.0, 1349.0], [1424.05, 1361.0, 1350.0], [1445.55, 1365.0, 1351.0], [1472.25, 1369.0, 1352.0], [1464.4, 1373.0, 1353.0], [1520.35, 1378.0, 1355.0], [1535.7, 1384.0, 1357.0], [1541.65, 1391.0, 1358.0], [1579.8, 1398.0, 1361.0], [1581.7, 1405.0, 1363.0], [1569.5, 1412.0, 1365.0], [1537.15, 1417.0, 1367.0], [1572.15, 1423.0, 1369.0], [1537.7, 1427.0, 1370.0], [1588.8, 1433.0, 1372.0], [1614.55, 1441.0, 1375.0], [1617.7, 1447.0, 1377.0], [1615.35, 1454.0, 1380.0], [1655.9, 1462.0, 1382.0], [1759.4, 1474.0, 1386.0], [1746.15, 1484.0, 1390.0], [1720.9, 1493.0, 1393.0], [1727.85, 1503.0, 1396.0], [1717.9, 1511.0, 1399.0], [1741.65, 1520.0, 1403.0], [1723.15, 1528.0, 1406.0], [1704.1, 1535.0, 1409.0], [1737.6, 1543.0, 1412.0], [1760.35, 1551.0, 1416.0], [1787.9, 1561.0, 1419.0], [1851.8, 1572.0, 1424.0], [1823.45, 1582.0, 1428.0], [1798.0, 1590.0, 1431.0], [1824.25, 1599.0, 1435.0], [1878.05, 1610.0, 1440.0], [1917.0, 1622.0, 1444.0], [1844.0, 1631.0, 1448.0], [1843.4, 1639.0, 1452.0], [1911.7, 1650.0, 1457.0], [1919.9, 1661.0, 1461.0], [1971.55, 1673.0, 1467.0], [2004.0, 1686.0, 1472.0], [2057.8, 1700.0, 1478.0], [2146.15, 1718.0, 1484.0], [2156.2, 1735.0, 1491.0], [2177.7, 1752.0, 1498.0], [2096.65, 1766.0, 1504.0], [2108.85, 1779.0, 1510.0], [2067.1, 1790.0, 1515.0], [2009.0, 1799.0, 1520.0], [2150.6, 1813.0, 1527.0], [2126.45, 1825.0, 1533.0], [2134.1, 1837.0, 1539.0], [2146.45, 1849.0, 1545.0], [2119.85, 1860.0, 1550.0], [2133.8, 1871.0, 1556.0], [2127.6, 1881.0, 1562.0], [2122.05, 1890.0, 1567.0], [2113.8, 1899.0, 1573.0], [2091.35, 1906.0, 1578.0], [2118.55, 1915.0, 1583.0], [2131.55, 1923.0, 1589.0], [2097.05, 1930.0, 1594.0], [2081.85, 1936.0, 1599.0], [2095.75, 1942.0, 1604.0], [2082.1, 1948.0, 1608.0], [2137.3, 1955.0, 1614.0], [2110.6, 1961.0, 1619.0], [2116.15, 1967.0, 1623.0], [2080.7, 1972.0, 1628.0], [2087.25, 1976.0, 1633.0], [2128.2, 1982.0, 1638.0], [2112.1, 1987.0, 1642.0], [2077.25, 1991.0, 1647.0], [2082.65, 1994.0, 1651.0], [2107.1, 1999.0, 1655.0], [2161.35, 2005.0, 1660.0], [2314.0, 2017.0, 1667.0], [2319.75, 2029.0, 1673.0], [2302.55, 2040.0, 1680.0], [2318.85, 2051.0, 1686.0], [2324.55, 2061.0, 1692.0], [2298.75, 2071.0, 1698.0], [2305.7, 2080.0, 1704.0], [2255.85, 2087.0, 1710.0], [2211.15, 2092.0, 1715.0], [2230.8, 2097.0, 1720.0], [2181.2, 2100.0, 1725.0], [2201.7, 2104.0, 1729.0], [2216.25, 2109.0, 1734.0], [2245.05, 2114.0, 1739.0], [2234.35, 2119.0, 1744.0], [2225.25, 2123.0, 1749.0], [2212.2, 2126.0, 1754.0], [2210.35, 2130.0, 1758.0], [2257.5, 2135.0, 1763.0], [2239.25, 2139.0, 1768.0], [2233.45, 2142.0, 1772.0], [2237.05, 2146.0, 1777.0], [2280.7, 2151.0, 1782.0], [2287.5, 2157.0, 1787.0], [2206.5, 2159.0, 1791.0], [2175.8, 2159.0, 1795.0], [2176.2, 2160.0, 1799.0], [2155.9, 2160.0, 1802.0], [2124.6, 2158.0, 1806.0], [2106.95, 2156.0, 1809.0], [2113.05, 2155.0, 1812.0], [2029.1, 2150.0, 1814.0], [2034.5, 2145.0, 1816.0], [2011.45, 2140.0, 1818.0], [2026.9, 2135.0, 1820.0], [2054.5, 2132.0, 1822.0], [1877.45, 2122.0, 1823.0], [1850.4, 2111.0, 1823.0], [1913.2, 2104.0, 1824.0], [1955.0, 2098.0, 1825.0], [2029.15, 2095.0, 1827.0], [2050.7, 2093.0, 1830.0], [2084.55, 2093.0, 1832.0], [1997.2, 2089.0, 1834.0], [1980.0, 2085.0, 1835.0], [1996.4, 2081.0, 1837.0], [2002.3, 2078.0, 1838.0], [1993.25, 2075.0, 1840.0], [1987.2, 2071.0, 1841.0], [1973.15, 2068.0, 1843.0], [1899.5, 2061.0, 1843.0], [1950.7, 2057.0, 1844.0], [1964.05, 2053.0, 1846.0], [1947.8, 2049.0, 1847.0], [1952.6, 2045.0, 1848.0], [1929.8, 2041.0, 1848.0], [1954.9, 2037.0, 1849.0], [1958.15, 2034.0, 1851.0], [1964.05, 2031.0, 1852.0], [1946.75, 2028.0, 1853.0], [1958.2, 2025.0, 1854.0], [1993.75, 2024.0, 1855.0], [2026.95, 2024.0, 1857.0], [2007.0, 2023.0, 1858.0], [2005.8, 2023.0, 1860.0], [1991.3, 2021.0, 1861.0], [1974.35, 2020.0, 1862.0], [1976.55, 2018.0, 1863.0], [1985.6, 2017.0, 1864.0], [1991.55, 2016.0, 1866.0], [1939.7, 2013.0, 1866.0], [1936.7, 2010.0, 1867.0], [1943.85, 2007.0, 1868.0], [1994.15, 2006.0, 1869.0], [2003.3, 2006.0, 1871.0], [1990.05, 2006.0, 1872.0], [1995.5, 2005.0, 1873.0], [1985.3, 2004.0, 1874.0], [1987.5, 2004.0, 1875.0], [1990.85, 2003.0, 1876.0], [1966.1, 2002.0, 1877.0], [1914.25, 1998.0, 1878.0], [1911.15, 1995.0, 1878.0], [1933.7, 1992.0, 1878.0], [1897.25, 1989.0, 1879.0], [1957.05, 1987.0, 1879.0], [1938.8, 1985.0, 1880.0], [1960.6, 1984.0, 1881.0], [1937.45, 1983.0, 1881.0], [1983.95, 1983.0, 1882.0], [2016.4, 1984.0, 1884.0], [2054.7, 1987.0, 1885.0], [2099.4, 1991.0, 1888.0], [2049.6, 1993.0, 1889.0], [1941.0, 1991.0, 1890.0], [1895.0, 1988.0, 1890.0], [1876.55, 1983.0, 1890.0], [1841.95, 1978.0, 1889.0], [1895.3, 1974.0, 1889.0], [1925.8, 1972.0, 1889.0], [1930.65, 1971.0, 1890.0], [1924.3, 1969.0, 1890.0], [1923.75, 1967.0, 1891.0], [1951.45, 1966.0, 1891.0], [1956.15, 1966.0, 1892.0], [1974.3, 1966.0, 1893.0], [2055.7, 1970.0, 1894.0], [2041.6, 1973.0, 1896.0], [2032.6, 1975.0, 1897.0], [2059.5, 1978.0, 1899.0], [2083.25, 1982.0, 1900.0], [2067.7, 1986.0, 1902.0], [2080.3, 1989.0, 1904.0], [2008.1, 1990.0, 1905.0], [2023.45, 1991.0, 1906.0], [2061.0, 1994.0, 1908.0], [2144.35, 2000.0, 1910.0], [2085.8, 2003.0, 1912.0], [2101.7, 2007.0, 1914.0], [2106.0, 2011.0, 1916.0], [2202.1, 2018.0, 1918.0], [2175.85, 2025.0, 1921.0], [2178.7, 2031.0, 1924.0], [2191.1, 2037.0, 1926.0], [2191.05, 2043.0, 1929.0], [2181.95, 2048.0, 1931.0], [2137.6, 2052.0, 1933.0], [2108.9, 2054.0, 1935.0], [2100.6, 2056.0, 1937.0], [2055.35, 2056.0, 1938.0], [2009.1, 2054.0, 1939.0], [2082.0, 2055.0, 1940.0], [2062.4, 2055.0, 1941.0], [2087.5, 2057.0, 1943.0], [2047.3, 2056.0, 1944.0], [1991.45, 2054.0, 1944.0], [1994.65, 2051.0, 1945.0], [2029.3, 2050.0, 1946.0], [2003.1, 2049.0, 1946.0], [2021.85, 2047.0, 1947.0], [1992.6, 2045.0, 1947.0], [1984.3, 2043.0, 1948.0], [2002.85, 2041.0, 1948.0], [2005.35, 2040.0, 1949.0], [1982.05, 2038.0, 1949.0], [1911.15, 2033.0, 1949.0], [1931.8, 2029.0, 1949.0], [1944.3, 2025.0, 1949.0], [1932.1, 2022.0, 1948.0], [1901.7, 2017.0, 1948.0], [1901.15, 2012.0, 1947.0], [1906.4, 2008.0, 1947.0], [1904.35, 2004.0, 1947.0], [1937.85, 2001.0, 1946.0], [1988.65, 2001.0, 1947.0], [1997.3, 2001.0, 1947.0], [2024.05, 2002.0, 1948.0], [1994.5, 2001.0, 1949.0], [1959.05, 2000.0, 1949.0], [1916.6, 1996.0, 1948.0], [1920.1, 1993.0, 1948.0], [1931.0, 1991.0, 1948.0], [1931.75, 1989.0, 1948.0], [1926.2, 1986.0, 1948.0], [1933.15, 1984.0, 1947.0], [1913.15, 1981.0, 1947.0], [1937.3, 1979.0, 1947.0], [1960.35, 1979.0, 1947.0], [1987.95, 1979.0, 1947.0], [1997.05, 1980.0, 1948.0], [1985.4, 1980.0, 1948.0], [2002.55, 1981.0, 1949.0], [1985.65, 1981.0, 1949.0], [1963.15, 1980.0, 1949.0], [1970.05, 1980.0, 1950.0], [1976.1, 1980.0, 1950.0], [2094.8, 1984.0, 1951.0], [2160.3, 1991.0, 1953.0], [2168.9, 1998.0, 1955.0], [2201.25, 2006.0, 1958.0], [2209.65, 2014.0, 1960.0], [2190.5, 2021.0, 1963.0], [2227.4, 2029.0, 1965.0], [2214.6, 2036.0, 1968.0], [2175.0, 2042.0, 1970.0], [2183.0, 2047.0, 1972.0], [2213.15, 2054.0, 1974.0], [2244.9, 2061.0, 1977.0], [2250.0, 2068.0, 1980.0], [2211.6, 2074.0, 1982.0], [2215.65, 2080.0, 1984.0], [2225.65, 2085.0, 1987.0], [2237.25, 2091.0, 1989.0], [2225.75, 2097.0, 1992.0], [2205.35, 2101.0, 1994.0], [2153.5, 2103.0, 1995.0], [2104.45, 2103.0, 1996.0], [2086.0, 2102.0, 1997.0], [2087.8, 2102.0, 1998.0], [2110.65, 2102.0, 1999.0], [2097.95, 2102.0, 2000.0], [2129.05, 2103.0, 2002.0], [2150.2, 2105.0, 2003.0], [2124.8, 2105.0, 2004.0], [2110.05, 2106.0, 2005.0], [2092.6, 2105.0, 2006.0], [2071.2, 2104.0, 2007.0], [2084.1, 2103.0, 2008.0], [2099.7, 2103.0, 2008.0], [2086.0, 2102.0, 2009.0], [2082.35, 2101.0, 2010.0], [2112.4, 2102.0, 2011.0], [2098.95, 2102.0, 2012.0], [2093.8, 2101.0, 2013.0], [2120.7, 2102.0, 2014.0], [2105.7, 2102.0, 2015.0], [2076.85, 2101.0, 2015.0], [2055.0, 2099.0, 2016.0], [2037.35, 2097.0, 2016.0], [2053.25, 2095.0, 2016.0], [2035.3, 2093.0, 2016.0], [2072.5, 2092.0, 2017.0], [2087.75, 2092.0, 2018.0], [2103.75, 2092.0, 2018.0], [2134.25, 2094.0, 2020.0], [2089.05, 2094.0, 2020.0], [2077.15, 2093.0, 2021.0], [2088.05, 2093.0, 2022.0], [2117.3, 2094.0, 2022.0], [2110.5, 2094.0, 2023.0], [2145.65, 2096.0, 2025.0], [2173.5, 2099.0, 2026.0], [2164.25, 2102.0, 2027.0], [2172.65, 2105.0, 2029.0], [2148.25, 2106.0, 2030.0], [2162.35, 2108.0, 2031.0], [2183.7, 2111.0, 2033.0], [2202.6, 2115.0, 2035.0], [2230.45, 2119.0, 2036.0], [2227.4, 2124.0, 2038.0], [2270.25, 2129.0, 2041.0], [2258.15, 2134.0, 2043.0], [2267.1, 2140.0, 2045.0], [2294.4, 2146.0, 2048.0], [2388.5, 2155.0, 2051.0], [2425.6, 2166.0, 2055.0], [2440.9, 2177.0, 2059.0], [2431.35, 2187.0, 2062.0], [2425.6, 2196.0, 2066.0], [2371.55, 2203.0, 2069.0], [2368.45, 2209.0, 2072.0], [2378.3, 2216.0, 2075.0], [2428.2, 2224.0, 2078.0], [2390.55, 2231.0, 2081.0], [2394.35, 2237.0, 2085.0], [2404.7, 2244.0, 2088.0], [2430.5, 2251.0, 2091.0], [2489.9, 2260.0, 2095.0], [2482.7, 2269.0, 2099.0], [2524.45, 2279.0, 2103.0], [2548.05, 2289.0, 2108.0], [2527.85, 2299.0, 2112.0], [2519.25, 2307.0, 2116.0], [2523.7, 2316.0, 2120.0], [2556.15, 2325.0, 2124.0], [2609.2, 2336.0, 2129.0], [2559.85, 2345.0, 2133.0], [2572.4, 2354.0, 2138.0], [2671.25, 2366.0, 2143.0], [2652.65, 2378.0, 2148.0], [2667.8, 2389.0, 2153.0], [2694.95, 2401.0, 2159.0], [2700.4, 2413.0, 2164.0], [2707.6, 2424.0, 2169.0], [2731.85, 2436.0, 2175.0], [2700.4, 2447.0, 2180.0], [2622.5, 2454.0, 2185.0], [2627.4, 2460.0, 2189.0], [2601.8, 2466.0, 2193.0], [2661.05, 2473.0, 2198.0], [2627.4, 2480.0, 2202.0], [2598.6, 2484.0, 2206.0], [2536.25, 2486.0, 2209.0], [2537.8, 2488.0, 2213.0], [2500.8, 2489.0, 2215.0], [2483.6, 2488.0, 2218.0], [2498.85, 2489.0, 2221.0], [2501.95, 2489.0, 2224.0], [2521.7, 2491.0, 2227.0], [2549.9, 2493.0, 2230.0], [2554.55, 2495.0, 2233.0], [2593.1, 2499.0, 2237.0], [2577.8, 2502.0, 2240.0], [2517.9, 2503.0, 2243.0], [2464.0, 2501.0, 2245.0], [2473.3, 2500.0, 2247.0]], \"hoverlabel\": {\"namelength\": 0}, \"hovertemplate\": \"Dt: %{x}<br>Close: %{customdata[0]}<br>50_EMA: %{customdata[1]}<br>200_EMA: %{customdata[2]}\", \"legendgroup\": \"\", \"line\": {\"color\": \"#636efa\", \"dash\": \"solid\"}, \"mode\": \"lines\", \"name\": \"\", \"showlegend\": false, \"type\": \"scattergl\", \"x\": [\"2015-01-01T00:00:00\", \"2015-01-02T00:00:00\", \"2015-01-05T00:00:00\", \"2015-01-06T00:00:00\", \"2015-01-07T00:00:00\", \"2015-01-08T00:00:00\", \"2015-01-09T00:00:00\", \"2015-01-12T00:00:00\", \"2015-01-13T00:00:00\", \"2015-01-14T00:00:00\", \"2015-01-15T00:00:00\", \"2015-01-16T00:00:00\", \"2015-01-19T00:00:00\", \"2015-01-20T00:00:00\", \"2015-01-21T00:00:00\", \"2015-01-22T00:00:00\", \"2015-01-23T00:00:00\", \"2015-01-27T00:00:00\", \"2015-01-28T00:00:00\", \"2015-01-29T00:00:00\", \"2015-01-30T00:00:00\", \"2015-02-02T00:00:00\", \"2015-02-03T00:00:00\", \"2015-02-04T00:00:00\", \"2015-02-05T00:00:00\", \"2015-02-06T00:00:00\", \"2015-02-09T00:00:00\", \"2015-02-10T00:00:00\", \"2015-02-11T00:00:00\", \"2015-02-12T00:00:00\", \"2015-02-13T00:00:00\", \"2015-02-16T00:00:00\", \"2015-02-18T00:00:00\", \"2015-02-19T00:00:00\", \"2015-02-20T00:00:00\", \"2015-02-23T00:00:00\", \"2015-02-24T00:00:00\", \"2015-02-25T00:00:00\", \"2015-02-26T00:00:00\", \"2015-02-27T00:00:00\", \"2015-02-28T00:00:00\", \"2015-03-02T00:00:00\", \"2015-03-03T00:00:00\", \"2015-03-04T00:00:00\", \"2015-03-05T00:00:00\", \"2015-03-09T00:00:00\", \"2015-03-10T00:00:00\", \"2015-03-11T00:00:00\", \"2015-03-12T00:00:00\", \"2015-03-13T00:00:00\", \"2015-03-16T00:00:00\", \"2015-03-17T00:00:00\", \"2015-03-18T00:00:00\", \"2015-03-19T00:00:00\", \"2015-03-20T00:00:00\", \"2015-03-23T00:00:00\", \"2015-03-24T00:00:00\", \"2015-03-25T00:00:00\", \"2015-03-26T00:00:00\", \"2015-03-27T00:00:00\", \"2015-03-30T00:00:00\", \"2015-03-31T00:00:00\", \"2015-04-01T00:00:00\", \"2015-04-06T00:00:00\", \"2015-04-07T00:00:00\", \"2015-04-08T00:00:00\", \"2015-04-09T00:00:00\", \"2015-04-10T00:00:00\", \"2015-04-13T00:00:00\", \"2015-04-15T00:00:00\", \"2015-04-16T00:00:00\", \"2015-04-17T00:00:00\", \"2015-04-20T00:00:00\", \"2015-04-21T00:00:00\", \"2015-04-22T00:00:00\", \"2015-04-23T00:00:00\", \"2015-04-24T00:00:00\", \"2015-04-27T00:00:00\", \"2015-04-28T00:00:00\", \"2015-04-29T00:00:00\", \"2015-04-30T00:00:00\", \"2015-05-04T00:00:00\", \"2015-05-05T00:00:00\", \"2015-05-06T00:00:00\", \"2015-05-07T00:00:00\", \"2015-05-08T00:00:00\", \"2015-05-11T00:00:00\", \"2015-05-12T00:00:00\", \"2015-05-13T00:00:00\", \"2015-05-14T00:00:00\", \"2015-05-15T00:00:00\", \"2015-05-18T00:00:00\", \"2015-05-19T00:00:00\", \"2015-05-20T00:00:00\", \"2015-05-21T00:00:00\", \"2015-05-22T00:00:00\", \"2015-05-25T00:00:00\", \"2015-05-26T00:00:00\", \"2015-05-27T00:00:00\", \"2015-05-28T00:00:00\", \"2015-05-29T00:00:00\", \"2015-06-01T00:00:00\", \"2015-06-02T00:00:00\", \"2015-06-03T00:00:00\", \"2015-06-04T00:00:00\", \"2015-06-05T00:00:00\", \"2015-06-08T00:00:00\", \"2015-06-09T00:00:00\", \"2015-06-10T00:00:00\", \"2015-06-11T00:00:00\", \"2015-06-12T00:00:00\", \"2015-06-15T00:00:00\", \"2015-06-16T00:00:00\", \"2015-06-17T00:00:00\", \"2015-06-18T00:00:00\", \"2015-06-19T00:00:00\", \"2015-06-22T00:00:00\", \"2015-06-23T00:00:00\", \"2015-06-24T00:00:00\", \"2015-06-25T00:00:00\", \"2015-06-26T00:00:00\", \"2015-06-29T00:00:00\", \"2015-06-30T00:00:00\", \"2015-07-01T00:00:00\", \"2015-07-02T00:00:00\", \"2015-07-03T00:00:00\", \"2015-07-06T00:00:00\", \"2015-07-07T00:00:00\", \"2015-07-08T00:00:00\", \"2015-07-09T00:00:00\", \"2015-07-10T00:00:00\", \"2015-07-13T00:00:00\", \"2015-07-14T00:00:00\", \"2015-07-15T00:00:00\", \"2015-07-16T00:00:00\", \"2015-07-17T00:00:00\", \"2015-07-20T00:00:00\", \"2015-07-21T00:00:00\", \"2015-07-22T00:00:00\", \"2015-07-23T00:00:00\", \"2015-07-24T00:00:00\", \"2015-07-27T00:00:00\", \"2015-07-28T00:00:00\", \"2015-07-29T00:00:00\", \"2015-07-30T00:00:00\", \"2015-07-31T00:00:00\", \"2015-08-03T00:00:00\", \"2015-08-04T00:00:00\", \"2015-08-05T00:00:00\", \"2015-08-06T00:00:00\", \"2015-08-07T00:00:00\", \"2015-08-10T00:00:00\", \"2015-08-11T00:00:00\", \"2015-08-12T00:00:00\", \"2015-08-13T00:00:00\", \"2015-08-14T00:00:00\", \"2015-08-17T00:00:00\", \"2015-08-18T00:00:00\", \"2015-08-19T00:00:00\", \"2015-08-20T00:00:00\", \"2015-08-21T00:00:00\", \"2015-08-24T00:00:00\", \"2015-08-25T00:00:00\", \"2015-08-26T00:00:00\", \"2015-08-27T00:00:00\", \"2015-08-28T00:00:00\", \"2015-08-31T00:00:00\", \"2015-09-01T00:00:00\", \"2015-09-02T00:00:00\", \"2015-09-03T00:00:00\", \"2015-09-04T00:00:00\", \"2015-09-07T00:00:00\", \"2015-09-08T00:00:00\", \"2015-09-09T00:00:00\", \"2015-09-10T00:00:00\", \"2015-09-11T00:00:00\", \"2015-09-14T00:00:00\", \"2015-09-15T00:00:00\", \"2015-09-16T00:00:00\", \"2015-09-18T00:00:00\", \"2015-09-21T00:00:00\", \"2015-09-22T00:00:00\", \"2015-09-23T00:00:00\", \"2015-09-24T00:00:00\", \"2015-09-28T00:00:00\", \"2015-09-29T00:00:00\", \"2015-09-30T00:00:00\", \"2015-10-01T00:00:00\", \"2015-10-05T00:00:00\", \"2015-10-06T00:00:00\", \"2015-10-07T00:00:00\", \"2015-10-08T00:00:00\", \"2015-10-09T00:00:00\", \"2015-10-12T00:00:00\", \"2015-10-13T00:00:00\", \"2015-10-14T00:00:00\", \"2015-10-15T00:00:00\", \"2015-10-16T00:00:00\", \"2015-10-19T00:00:00\", \"2015-10-20T00:00:00\", \"2015-10-21T00:00:00\", \"2015-10-23T00:00:00\", \"2015-10-26T00:00:00\", \"2015-10-27T00:00:00\", \"2015-10-28T00:00:00\", \"2015-10-29T00:00:00\", \"2015-10-30T00:00:00\", \"2015-11-02T00:00:00\", \"2015-11-03T00:00:00\", \"2015-11-04T00:00:00\", \"2015-11-05T00:00:00\", \"2015-11-06T00:00:00\", \"2015-11-09T00:00:00\", \"2015-11-10T00:00:00\", \"2015-11-11T00:00:00\", \"2015-11-13T00:00:00\", \"2015-11-16T00:00:00\", \"2015-11-17T00:00:00\", \"2015-11-18T00:00:00\", \"2015-11-19T00:00:00\", \"2015-11-20T00:00:00\", \"2015-11-23T00:00:00\", \"2015-11-24T00:00:00\", \"2015-11-26T00:00:00\", \"2015-11-27T00:00:00\", \"2015-11-30T00:00:00\", \"2015-12-01T00:00:00\", \"2015-12-02T00:00:00\", \"2015-12-03T00:00:00\", \"2015-12-04T00:00:00\", \"2015-12-07T00:00:00\", \"2015-12-08T00:00:00\", \"2015-12-09T00:00:00\", \"2015-12-10T00:00:00\", \"2015-12-11T00:00:00\", \"2015-12-14T00:00:00\", \"2015-12-15T00:00:00\", \"2015-12-16T00:00:00\", \"2015-12-17T00:00:00\", \"2015-12-18T00:00:00\", \"2015-12-21T00:00:00\", \"2015-12-22T00:00:00\", \"2015-12-23T00:00:00\", \"2015-12-24T00:00:00\", \"2015-12-28T00:00:00\", \"2015-12-29T00:00:00\", \"2015-12-30T00:00:00\", \"2015-12-31T00:00:00\", \"2016-01-01T00:00:00\", \"2016-01-04T00:00:00\", \"2016-01-05T00:00:00\", \"2016-01-06T00:00:00\", \"2016-01-07T00:00:00\", \"2016-01-08T00:00:00\", \"2016-01-11T00:00:00\", \"2016-01-12T00:00:00\", \"2016-01-13T00:00:00\", \"2016-01-14T00:00:00\", \"2016-01-15T00:00:00\", \"2016-01-18T00:00:00\", \"2016-01-19T00:00:00\", \"2016-01-20T00:00:00\", \"2016-01-21T00:00:00\", \"2016-01-22T00:00:00\", \"2016-01-25T00:00:00\", \"2016-01-27T00:00:00\", \"2016-01-28T00:00:00\", \"2016-01-29T00:00:00\", \"2016-02-01T00:00:00\", \"2016-02-02T00:00:00\", \"2016-02-03T00:00:00\", \"2016-02-04T00:00:00\", \"2016-02-05T00:00:00\", \"2016-02-08T00:00:00\", \"2016-02-09T00:00:00\", \"2016-02-10T00:00:00\", \"2016-02-11T00:00:00\", \"2016-02-12T00:00:00\", \"2016-02-15T00:00:00\", \"2016-02-16T00:00:00\", \"2016-02-17T00:00:00\", \"2016-02-18T00:00:00\", \"2016-02-19T00:00:00\", \"2016-02-22T00:00:00\", \"2016-02-23T00:00:00\", \"2016-02-24T00:00:00\", \"2016-02-25T00:00:00\", \"2016-02-26T00:00:00\", \"2016-02-29T00:00:00\", \"2016-03-01T00:00:00\", \"2016-03-02T00:00:00\", \"2016-03-03T00:00:00\", \"2016-03-04T00:00:00\", \"2016-03-08T00:00:00\", \"2016-03-09T00:00:00\", \"2016-03-10T00:00:00\", \"2016-03-11T00:00:00\", \"2016-03-14T00:00:00\", \"2016-03-15T00:00:00\", \"2016-03-16T00:00:00\", \"2016-03-17T00:00:00\", \"2016-03-18T00:00:00\", \"2016-03-21T00:00:00\", \"2016-03-22T00:00:00\", \"2016-03-23T00:00:00\", \"2016-03-28T00:00:00\", \"2016-03-29T00:00:00\", \"2016-03-30T00:00:00\", \"2016-03-31T00:00:00\", \"2016-04-01T00:00:00\", \"2016-04-04T00:00:00\", \"2016-04-05T00:00:00\", \"2016-04-06T00:00:00\", \"2016-04-07T00:00:00\", \"2016-04-08T00:00:00\", \"2016-04-11T00:00:00\", \"2016-04-12T00:00:00\", \"2016-04-13T00:00:00\", \"2016-04-18T00:00:00\", \"2016-04-20T00:00:00\", \"2016-04-21T00:00:00\", \"2016-04-22T00:00:00\", \"2016-04-25T00:00:00\", \"2016-04-26T00:00:00\", \"2016-04-27T00:00:00\", \"2016-04-28T00:00:00\", \"2016-04-29T00:00:00\", \"2016-05-02T00:00:00\", \"2016-05-03T00:00:00\", \"2016-05-04T00:00:00\", \"2016-05-05T00:00:00\", \"2016-05-06T00:00:00\", \"2016-05-09T00:00:00\", \"2016-05-10T00:00:00\", \"2016-05-11T00:00:00\", \"2016-05-12T00:00:00\", \"2016-05-13T00:00:00\", \"2016-05-16T00:00:00\", \"2016-05-17T00:00:00\", \"2016-05-18T00:00:00\", \"2016-05-19T00:00:00\", \"2016-05-20T00:00:00\", \"2016-05-23T00:00:00\", \"2016-05-24T00:00:00\", \"2016-05-25T00:00:00\", \"2016-05-26T00:00:00\", \"2016-05-27T00:00:00\", \"2016-05-30T00:00:00\", \"2016-05-31T00:00:00\", \"2016-06-01T00:00:00\", \"2016-06-02T00:00:00\", \"2016-06-03T00:00:00\", \"2016-06-06T00:00:00\", \"2016-06-07T00:00:00\", \"2016-06-08T00:00:00\", \"2016-06-09T00:00:00\", \"2016-06-10T00:00:00\", \"2016-06-13T00:00:00\", \"2016-06-14T00:00:00\", \"2016-06-15T00:00:00\", \"2016-06-16T00:00:00\", \"2016-06-17T00:00:00\", \"2016-06-20T00:00:00\", \"2016-06-21T00:00:00\", \"2016-06-22T00:00:00\", \"2016-06-23T00:00:00\", \"2016-06-24T00:00:00\", \"2016-06-27T00:00:00\", \"2016-06-28T00:00:00\", \"2016-06-29T00:00:00\", \"2016-06-30T00:00:00\", \"2016-07-01T00:00:00\", \"2016-07-04T00:00:00\", \"2016-07-05T00:00:00\", \"2016-07-07T00:00:00\", \"2016-07-08T00:00:00\", \"2016-07-11T00:00:00\", \"2016-07-12T00:00:00\", \"2016-07-13T00:00:00\", \"2016-07-14T00:00:00\", \"2016-07-15T00:00:00\", \"2016-07-18T00:00:00\", \"2016-07-19T00:00:00\", \"2016-07-20T00:00:00\", \"2016-07-21T00:00:00\", \"2016-07-22T00:00:00\", \"2016-07-25T00:00:00\", \"2016-07-26T00:00:00\", \"2016-07-27T00:00:00\", \"2016-07-28T00:00:00\", \"2016-07-29T00:00:00\", \"2016-08-01T00:00:00\", \"2016-08-02T00:00:00\", \"2016-08-03T00:00:00\", \"2016-08-04T00:00:00\", \"2016-08-05T00:00:00\", \"2016-08-08T00:00:00\", \"2016-08-09T00:00:00\", \"2016-08-10T00:00:00\", \"2016-08-11T00:00:00\", \"2016-08-12T00:00:00\", \"2016-08-16T00:00:00\", \"2016-08-17T00:00:00\", \"2016-08-18T00:00:00\", \"2016-08-19T00:00:00\", \"2016-08-22T00:00:00\", \"2016-08-23T00:00:00\", \"2016-08-24T00:00:00\", \"2016-08-25T00:00:00\", \"2016-08-26T00:00:00\", \"2016-08-29T00:00:00\", \"2016-08-30T00:00:00\", \"2016-08-31T00:00:00\", \"2016-09-01T00:00:00\", \"2016-09-02T00:00:00\", \"2016-09-06T00:00:00\", \"2016-09-07T00:00:00\", \"2016-09-08T00:00:00\", \"2016-09-09T00:00:00\", \"2016-09-12T00:00:00\", \"2016-09-14T00:00:00\", \"2016-09-15T00:00:00\", \"2016-09-16T00:00:00\", \"2016-09-19T00:00:00\", \"2016-09-20T00:00:00\", \"2016-09-21T00:00:00\", \"2016-09-22T00:00:00\", \"2016-09-23T00:00:00\", \"2016-09-26T00:00:00\", \"2016-09-27T00:00:00\", \"2016-09-28T00:00:00\", \"2016-09-29T00:00:00\", \"2016-09-30T00:00:00\", \"2016-10-03T00:00:00\", \"2016-10-04T00:00:00\", \"2016-10-05T00:00:00\", \"2016-10-06T00:00:00\", \"2016-10-07T00:00:00\", \"2016-10-10T00:00:00\", \"2016-10-13T00:00:00\", \"2016-10-14T00:00:00\", \"2016-10-17T00:00:00\", \"2016-10-18T00:00:00\", \"2016-10-19T00:00:00\", \"2016-10-20T00:00:00\", \"2016-10-21T00:00:00\", \"2016-10-24T00:00:00\", \"2016-10-25T00:00:00\", \"2016-10-26T00:00:00\", \"2016-10-27T00:00:00\", \"2016-10-28T00:00:00\", \"2016-10-30T00:00:00\", \"2016-11-01T00:00:00\", \"2016-11-02T00:00:00\", \"2016-11-03T00:00:00\", \"2016-11-04T00:00:00\", \"2016-11-07T00:00:00\", \"2016-11-08T00:00:00\", \"2016-11-09T00:00:00\", \"2016-11-10T00:00:00\", \"2016-11-11T00:00:00\", \"2016-11-15T00:00:00\", \"2016-11-16T00:00:00\", \"2016-11-17T00:00:00\", \"2016-11-18T00:00:00\", \"2016-11-21T00:00:00\", \"2016-11-22T00:00:00\", \"2016-11-23T00:00:00\", \"2016-11-24T00:00:00\", \"2016-11-25T00:00:00\", \"2016-11-28T00:00:00\", \"2016-11-29T00:00:00\", \"2016-11-30T00:00:00\", \"2016-12-01T00:00:00\", \"2016-12-02T00:00:00\", \"2016-12-05T00:00:00\", \"2016-12-06T00:00:00\", \"2016-12-07T00:00:00\", \"2016-12-08T00:00:00\", \"2016-12-09T00:00:00\", \"2016-12-12T00:00:00\", \"2016-12-13T00:00:00\", \"2016-12-14T00:00:00\", \"2016-12-15T00:00:00\", \"2016-12-16T00:00:00\", \"2016-12-19T00:00:00\", \"2016-12-20T00:00:00\", \"2016-12-21T00:00:00\", \"2016-12-22T00:00:00\", \"2016-12-23T00:00:00\", \"2016-12-26T00:00:00\", \"2016-12-27T00:00:00\", \"2016-12-28T00:00:00\", \"2016-12-29T00:00:00\", \"2016-12-30T00:00:00\", \"2017-01-02T00:00:00\", \"2017-01-03T00:00:00\", \"2017-01-04T00:00:00\", \"2017-01-05T00:00:00\", \"2017-01-06T00:00:00\", \"2017-01-09T00:00:00\", \"2017-01-10T00:00:00\", \"2017-01-11T00:00:00\", \"2017-01-12T00:00:00\", \"2017-01-13T00:00:00\", \"2017-01-16T00:00:00\", \"2017-01-17T00:00:00\", \"2017-01-18T00:00:00\", \"2017-01-19T00:00:00\", \"2017-01-20T00:00:00\", \"2017-01-23T00:00:00\", \"2017-01-24T00:00:00\", \"2017-01-25T00:00:00\", \"2017-01-27T00:00:00\", \"2017-01-30T00:00:00\", \"2017-01-31T00:00:00\", \"2017-02-01T00:00:00\", \"2017-02-02T00:00:00\", \"2017-02-03T00:00:00\", \"2017-02-06T00:00:00\", \"2017-02-07T00:00:00\", \"2017-02-08T00:00:00\", \"2017-02-09T00:00:00\", \"2017-02-10T00:00:00\", \"2017-02-13T00:00:00\", \"2017-02-14T00:00:00\", \"2017-02-15T00:00:00\", \"2017-02-16T00:00:00\", \"2017-02-17T00:00:00\", \"2017-02-20T00:00:00\", \"2017-02-21T00:00:00\", \"2017-02-22T00:00:00\", \"2017-02-23T00:00:00\", \"2017-02-27T00:00:00\", \"2017-02-28T00:00:00\", \"2017-03-01T00:00:00\", \"2017-03-02T00:00:00\", \"2017-03-03T00:00:00\", \"2017-03-06T00:00:00\", \"2017-03-07T00:00:00\", \"2017-03-08T00:00:00\", \"2017-03-09T00:00:00\", \"2017-03-10T00:00:00\", \"2017-03-14T00:00:00\", \"2017-03-15T00:00:00\", \"2017-03-16T00:00:00\", \"2017-03-17T00:00:00\", \"2017-03-20T00:00:00\", \"2017-03-21T00:00:00\", \"2017-03-22T00:00:00\", \"2017-03-23T00:00:00\", \"2017-03-24T00:00:00\", \"2017-03-27T00:00:00\", \"2017-03-28T00:00:00\", \"2017-03-29T00:00:00\", \"2017-03-30T00:00:00\", \"2017-03-31T00:00:00\", \"2017-04-03T00:00:00\", \"2017-04-05T00:00:00\", \"2017-04-06T00:00:00\", \"2017-04-07T00:00:00\", \"2017-04-10T00:00:00\", \"2017-04-11T00:00:00\", \"2017-04-12T00:00:00\", \"2017-04-13T00:00:00\", \"2017-04-17T00:00:00\", \"2017-04-18T00:00:00\", \"2017-04-19T00:00:00\", \"2017-04-20T00:00:00\", \"2017-04-21T00:00:00\", \"2017-04-24T00:00:00\", \"2017-04-25T00:00:00\", \"2017-04-26T00:00:00\", \"2017-04-27T00:00:00\", \"2017-04-28T00:00:00\", \"2017-05-02T00:00:00\", \"2017-05-03T00:00:00\", \"2017-05-04T00:00:00\", \"2017-05-05T00:00:00\", \"2017-05-08T00:00:00\", \"2017-05-09T00:00:00\", \"2017-05-10T00:00:00\", \"2017-05-11T00:00:00\", \"2017-05-12T00:00:00\", \"2017-05-15T00:00:00\", \"2017-05-16T00:00:00\", \"2017-05-17T00:00:00\", \"2017-05-18T00:00:00\", \"2017-05-19T00:00:00\", \"2017-05-22T00:00:00\", \"2017-05-23T00:00:00\", \"2017-05-24T00:00:00\", \"2017-05-25T00:00:00\", \"2017-05-26T00:00:00\", \"2017-05-29T00:00:00\", \"2017-05-30T00:00:00\", \"2017-05-31T00:00:00\", \"2017-06-01T00:00:00\", \"2017-06-02T00:00:00\", \"2017-06-05T00:00:00\", \"2017-06-06T00:00:00\", \"2017-06-07T00:00:00\", \"2017-06-08T00:00:00\", \"2017-06-09T00:00:00\", \"2017-06-12T00:00:00\", \"2017-06-13T00:00:00\", \"2017-06-14T00:00:00\", \"2017-06-15T00:00:00\", \"2017-06-16T00:00:00\", \"2017-06-19T00:00:00\", \"2017-06-20T00:00:00\", \"2017-06-21T00:00:00\", \"2017-06-22T00:00:00\", \"2017-06-23T00:00:00\", \"2017-06-27T00:00:00\", \"2017-06-28T00:00:00\", \"2017-06-29T00:00:00\", \"2017-06-30T00:00:00\", \"2017-07-03T00:00:00\", \"2017-07-04T00:00:00\", \"2017-07-05T00:00:00\", \"2017-07-06T00:00:00\", \"2017-07-07T00:00:00\", \"2017-07-11T00:00:00\", \"2017-07-12T00:00:00\", \"2017-07-13T00:00:00\", \"2017-07-14T00:00:00\", \"2017-07-17T00:00:00\", \"2017-07-18T00:00:00\", \"2017-07-19T00:00:00\", \"2017-07-20T00:00:00\", \"2017-07-21T00:00:00\", \"2017-07-24T00:00:00\", \"2017-07-25T00:00:00\", \"2017-07-26T00:00:00\", \"2017-07-27T00:00:00\", \"2017-07-28T00:00:00\", \"2017-07-31T00:00:00\", \"2017-08-01T00:00:00\", \"2017-08-02T00:00:00\", \"2017-08-03T00:00:00\", \"2017-08-04T00:00:00\", \"2017-08-07T00:00:00\", \"2017-08-08T00:00:00\", \"2017-08-09T00:00:00\", \"2017-08-10T00:00:00\", \"2017-08-11T00:00:00\", \"2017-08-14T00:00:00\", \"2017-08-16T00:00:00\", \"2017-08-17T00:00:00\", \"2017-08-18T00:00:00\", \"2017-08-21T00:00:00\", \"2017-08-22T00:00:00\", \"2017-08-23T00:00:00\", \"2017-08-24T00:00:00\", \"2017-08-28T00:00:00\", \"2017-08-29T00:00:00\", \"2017-08-30T00:00:00\", \"2017-08-31T00:00:00\", \"2017-09-01T00:00:00\", \"2017-09-04T00:00:00\", \"2017-09-05T00:00:00\", \"2017-09-06T00:00:00\", \"2017-09-07T00:00:00\", \"2017-09-08T00:00:00\", \"2017-09-11T00:00:00\", \"2017-09-12T00:00:00\", \"2017-09-13T00:00:00\", \"2017-09-14T00:00:00\", \"2017-09-15T00:00:00\", \"2017-09-18T00:00:00\", \"2017-09-19T00:00:00\", \"2017-09-20T00:00:00\", \"2017-09-21T00:00:00\", \"2017-09-22T00:00:00\", \"2017-09-25T00:00:00\", \"2017-09-26T00:00:00\", \"2017-09-27T00:00:00\", \"2017-09-28T00:00:00\", \"2017-09-29T00:00:00\", \"2017-10-03T00:00:00\", \"2017-10-04T00:00:00\", \"2017-10-05T00:00:00\", \"2017-10-06T00:00:00\", \"2017-10-09T00:00:00\", \"2017-10-10T00:00:00\", \"2017-10-11T00:00:00\", \"2017-10-12T00:00:00\", \"2017-10-13T00:00:00\", \"2017-10-16T00:00:00\", \"2017-10-17T00:00:00\", \"2017-10-18T00:00:00\", \"2017-10-19T00:00:00\", \"2017-10-23T00:00:00\", \"2017-10-24T00:00:00\", \"2017-10-25T00:00:00\", \"2017-10-26T00:00:00\", \"2017-10-27T00:00:00\", \"2017-10-30T00:00:00\", \"2017-10-31T00:00:00\", \"2017-11-01T00:00:00\", \"2017-11-02T00:00:00\", \"2017-11-03T00:00:00\", \"2017-11-06T00:00:00\", \"2017-11-07T00:00:00\", \"2017-11-08T00:00:00\", \"2017-11-09T00:00:00\", \"2017-11-10T00:00:00\", \"2017-11-13T00:00:00\", \"2017-11-14T00:00:00\", \"2017-11-15T00:00:00\", \"2017-11-16T00:00:00\", \"2017-11-17T00:00:00\", \"2017-11-20T00:00:00\", \"2017-11-21T00:00:00\", \"2017-11-22T00:00:00\", \"2017-11-23T00:00:00\", \"2017-11-24T00:00:00\", \"2017-11-27T00:00:00\", \"2017-11-28T00:00:00\", \"2017-11-29T00:00:00\", \"2017-11-30T00:00:00\", \"2017-12-01T00:00:00\", \"2017-12-04T00:00:00\", \"2017-12-05T00:00:00\", \"2017-12-06T00:00:00\", \"2017-12-07T00:00:00\", \"2017-12-08T00:00:00\", \"2017-12-11T00:00:00\", \"2017-12-12T00:00:00\", \"2017-12-13T00:00:00\", \"2017-12-14T00:00:00\", \"2017-12-15T00:00:00\", \"2017-12-18T00:00:00\", \"2017-12-19T00:00:00\", \"2017-12-20T00:00:00\", \"2017-12-21T00:00:00\", \"2017-12-22T00:00:00\", \"2017-12-26T00:00:00\", \"2017-12-27T00:00:00\", \"2017-12-28T00:00:00\", \"2017-12-29T00:00:00\", \"2018-01-01T00:00:00\", \"2018-01-02T00:00:00\", \"2018-01-03T00:00:00\", \"2018-01-04T00:00:00\", \"2018-01-05T00:00:00\", \"2018-01-08T00:00:00\", \"2018-01-09T00:00:00\", \"2018-01-10T00:00:00\", \"2018-01-11T00:00:00\", \"2018-01-12T00:00:00\", \"2018-01-15T00:00:00\", \"2018-01-16T00:00:00\", \"2018-01-17T00:00:00\", \"2018-01-18T00:00:00\", \"2018-01-19T00:00:00\", \"2018-01-22T00:00:00\", \"2018-01-23T00:00:00\", \"2018-01-24T00:00:00\", \"2018-01-25T00:00:00\", \"2018-01-29T00:00:00\", \"2018-01-30T00:00:00\", \"2018-01-31T00:00:00\", \"2018-02-01T00:00:00\", \"2018-02-02T00:00:00\", \"2018-02-05T00:00:00\", \"2018-02-06T00:00:00\", \"2018-02-07T00:00:00\", \"2018-02-08T00:00:00\", \"2018-02-09T00:00:00\", \"2018-02-12T00:00:00\", \"2018-02-14T00:00:00\", \"2018-02-15T00:00:00\", \"2018-02-16T00:00:00\", \"2018-02-19T00:00:00\", \"2018-02-20T00:00:00\", \"2018-02-21T00:00:00\", \"2018-02-22T00:00:00\", \"2018-02-23T00:00:00\", \"2018-02-26T00:00:00\", \"2018-02-27T00:00:00\", \"2018-02-28T00:00:00\", \"2018-03-01T00:00:00\", \"2018-03-05T00:00:00\", \"2018-03-06T00:00:00\", \"2018-03-07T00:00:00\", \"2018-03-08T00:00:00\", \"2018-03-09T00:00:00\", \"2018-03-12T00:00:00\", \"2018-03-13T00:00:00\", \"2018-03-14T00:00:00\", \"2018-03-15T00:00:00\", \"2018-03-16T00:00:00\", \"2018-03-19T00:00:00\", \"2018-03-20T00:00:00\", \"2018-03-21T00:00:00\", \"2018-03-22T00:00:00\", \"2018-03-23T00:00:00\", \"2018-03-26T00:00:00\", \"2018-03-27T00:00:00\", \"2018-03-28T00:00:00\", \"2018-04-02T00:00:00\", \"2018-04-03T00:00:00\", \"2018-04-04T00:00:00\", \"2018-04-05T00:00:00\", \"2018-04-06T00:00:00\", \"2018-04-09T00:00:00\", \"2018-04-10T00:00:00\", \"2018-04-11T00:00:00\", \"2018-04-12T00:00:00\", \"2018-04-13T00:00:00\", \"2018-04-16T00:00:00\", \"2018-04-17T00:00:00\", \"2018-04-18T00:00:00\", \"2018-04-19T00:00:00\", \"2018-04-20T00:00:00\", \"2018-04-23T00:00:00\", \"2018-04-24T00:00:00\", \"2018-04-25T00:00:00\", \"2018-04-26T00:00:00\", \"2018-04-27T00:00:00\", \"2018-04-30T00:00:00\", \"2018-05-02T00:00:00\", \"2018-05-03T00:00:00\", \"2018-05-04T00:00:00\", \"2018-05-07T00:00:00\", \"2018-05-08T00:00:00\", \"2018-05-09T00:00:00\", \"2018-05-10T00:00:00\", \"2018-05-11T00:00:00\", \"2018-05-14T00:00:00\", \"2018-05-15T00:00:00\", \"2018-05-16T00:00:00\", \"2018-05-17T00:00:00\", \"2018-05-18T00:00:00\", \"2018-05-21T00:00:00\", \"2018-05-22T00:00:00\", \"2018-05-23T00:00:00\", \"2018-05-24T00:00:00\", \"2018-05-25T00:00:00\", \"2018-05-28T00:00:00\", \"2018-05-29T00:00:00\", \"2018-05-30T00:00:00\", \"2018-05-31T00:00:00\", \"2018-06-01T00:00:00\", \"2018-06-04T00:00:00\", \"2018-06-05T00:00:00\", \"2018-06-06T00:00:00\", \"2018-06-07T00:00:00\", \"2018-06-08T00:00:00\", \"2018-06-11T00:00:00\", \"2018-06-12T00:00:00\", \"2018-06-13T00:00:00\", \"2018-06-14T00:00:00\", \"2018-06-15T00:00:00\", \"2018-06-18T00:00:00\", \"2018-06-19T00:00:00\", \"2018-06-20T00:00:00\", \"2018-06-21T00:00:00\", \"2018-06-22T00:00:00\", \"2018-06-25T00:00:00\", \"2018-06-26T00:00:00\", \"2018-06-27T00:00:00\", \"2018-06-28T00:00:00\", \"2018-06-29T00:00:00\", \"2018-07-02T00:00:00\", \"2018-07-03T00:00:00\", \"2018-07-04T00:00:00\", \"2018-07-05T00:00:00\", \"2018-07-06T00:00:00\", \"2018-07-09T00:00:00\", \"2018-07-10T00:00:00\", \"2018-07-11T00:00:00\", \"2018-07-12T00:00:00\", \"2018-07-13T00:00:00\", \"2018-07-16T00:00:00\", \"2018-07-17T00:00:00\", \"2018-07-18T00:00:00\", \"2018-07-19T00:00:00\", \"2018-07-20T00:00:00\", \"2018-07-23T00:00:00\", \"2018-07-24T00:00:00\", \"2018-07-25T00:00:00\", \"2018-07-26T00:00:00\", \"2018-07-27T00:00:00\", \"2018-07-30T00:00:00\", \"2018-07-31T00:00:00\", \"2018-08-01T00:00:00\", \"2018-08-02T00:00:00\", \"2018-08-03T00:00:00\", \"2018-08-06T00:00:00\", \"2018-08-07T00:00:00\", \"2018-08-08T00:00:00\", \"2018-08-09T00:00:00\", \"2018-08-10T00:00:00\", \"2018-08-13T00:00:00\", \"2018-08-14T00:00:00\", \"2018-08-16T00:00:00\", \"2018-08-17T00:00:00\", \"2018-08-20T00:00:00\", \"2018-08-21T00:00:00\", \"2018-08-23T00:00:00\", \"2018-08-24T00:00:00\", \"2018-08-27T00:00:00\", \"2018-08-28T00:00:00\", \"2018-08-29T00:00:00\", \"2018-08-30T00:00:00\", \"2018-08-31T00:00:00\", \"2018-09-03T00:00:00\", \"2018-09-04T00:00:00\", \"2018-09-05T00:00:00\", \"2018-09-06T00:00:00\", \"2018-09-07T00:00:00\", \"2018-09-10T00:00:00\", \"2018-09-11T00:00:00\", \"2018-09-12T00:00:00\", \"2018-09-14T00:00:00\", \"2018-09-17T00:00:00\", \"2018-09-18T00:00:00\", \"2018-09-19T00:00:00\", \"2018-09-21T00:00:00\", \"2018-09-24T00:00:00\", \"2018-09-25T00:00:00\", \"2018-09-26T00:00:00\", \"2018-09-27T00:00:00\", \"2018-09-28T00:00:00\", \"2018-10-01T00:00:00\", \"2018-10-03T00:00:00\", \"2018-10-04T00:00:00\", \"2018-10-05T00:00:00\", \"2018-10-08T00:00:00\", \"2018-10-09T00:00:00\", \"2018-10-10T00:00:00\", \"2018-10-11T00:00:00\", \"2018-10-12T00:00:00\", \"2018-10-15T00:00:00\", \"2018-10-16T00:00:00\", \"2018-10-17T00:00:00\", \"2018-10-19T00:00:00\", \"2018-10-22T00:00:00\", \"2018-10-23T00:00:00\", \"2018-10-24T00:00:00\", \"2018-10-25T00:00:00\", \"2018-10-26T00:00:00\", \"2018-10-29T00:00:00\", \"2018-10-30T00:00:00\", \"2018-10-31T00:00:00\", \"2018-11-01T00:00:00\", \"2018-11-02T00:00:00\", \"2018-11-05T00:00:00\", \"2018-11-06T00:00:00\", \"2018-11-07T00:00:00\", \"2018-11-09T00:00:00\", \"2018-11-12T00:00:00\", \"2018-11-13T00:00:00\", \"2018-11-14T00:00:00\", \"2018-11-15T00:00:00\", \"2018-11-16T00:00:00\", \"2018-11-19T00:00:00\", \"2018-11-20T00:00:00\", \"2018-11-21T00:00:00\", \"2018-11-22T00:00:00\", \"2018-11-26T00:00:00\", \"2018-11-27T00:00:00\", \"2018-11-28T00:00:00\", \"2018-11-29T00:00:00\", \"2018-11-30T00:00:00\", \"2018-12-03T00:00:00\", \"2018-12-04T00:00:00\", \"2018-12-05T00:00:00\", \"2018-12-06T00:00:00\", \"2018-12-07T00:00:00\", \"2018-12-10T00:00:00\", \"2018-12-11T00:00:00\", \"2018-12-12T00:00:00\", \"2018-12-13T00:00:00\", \"2018-12-14T00:00:00\", \"2018-12-17T00:00:00\", \"2018-12-18T00:00:00\", \"2018-12-19T00:00:00\", \"2018-12-20T00:00:00\", \"2018-12-21T00:00:00\", \"2018-12-24T00:00:00\", \"2018-12-26T00:00:00\", \"2018-12-27T00:00:00\", \"2018-12-28T00:00:00\", \"2018-12-31T00:00:00\", \"2019-01-01T00:00:00\", \"2019-01-02T00:00:00\", \"2019-01-03T00:00:00\", \"2019-01-04T00:00:00\", \"2019-01-07T00:00:00\", \"2019-01-08T00:00:00\", \"2019-01-09T00:00:00\", \"2019-01-10T00:00:00\", \"2019-01-11T00:00:00\", \"2019-01-14T00:00:00\", \"2019-01-15T00:00:00\", \"2019-01-16T00:00:00\", \"2019-01-17T00:00:00\", \"2019-01-18T00:00:00\", \"2019-01-21T00:00:00\", \"2019-01-22T00:00:00\", \"2019-01-23T00:00:00\", \"2019-01-24T00:00:00\", \"2019-01-25T00:00:00\", \"2019-01-28T00:00:00\", \"2019-01-29T00:00:00\", \"2019-01-30T00:00:00\", \"2019-01-31T00:00:00\", \"2019-02-01T00:00:00\", \"2019-02-04T00:00:00\", \"2019-02-05T00:00:00\", \"2019-02-06T00:00:00\", \"2019-02-07T00:00:00\", \"2019-02-08T00:00:00\", \"2019-02-11T00:00:00\", \"2019-02-12T00:00:00\", \"2019-02-13T00:00:00\", \"2019-02-14T00:00:00\", \"2019-02-15T00:00:00\", \"2019-02-18T00:00:00\", \"2019-02-19T00:00:00\", \"2019-02-20T00:00:00\", \"2019-02-21T00:00:00\", \"2019-02-22T00:00:00\", \"2019-02-25T00:00:00\", \"2019-02-26T00:00:00\", \"2019-02-27T00:00:00\", \"2019-02-28T00:00:00\", \"2019-03-01T00:00:00\", \"2019-03-05T00:00:00\", \"2019-03-06T00:00:00\", \"2019-03-07T00:00:00\", \"2019-03-08T00:00:00\", \"2019-03-11T00:00:00\", \"2019-03-12T00:00:00\", \"2019-03-13T00:00:00\", \"2019-03-14T00:00:00\", \"2019-03-15T00:00:00\", \"2019-03-18T00:00:00\", \"2019-03-19T00:00:00\", \"2019-03-20T00:00:00\", \"2019-03-22T00:00:00\", \"2019-03-25T00:00:00\", \"2019-03-26T00:00:00\", \"2019-03-27T00:00:00\", \"2019-03-28T00:00:00\", \"2019-03-29T00:00:00\", \"2019-04-01T00:00:00\", \"2019-04-02T00:00:00\", \"2019-04-03T00:00:00\", \"2019-04-04T00:00:00\", \"2019-04-05T00:00:00\", \"2019-04-08T00:00:00\", \"2019-04-09T00:00:00\", \"2019-04-10T00:00:00\", \"2019-04-11T00:00:00\", \"2019-04-12T00:00:00\", \"2019-04-15T00:00:00\", \"2019-04-16T00:00:00\", \"2019-04-18T00:00:00\", \"2019-04-22T00:00:00\", \"2019-04-23T00:00:00\", \"2019-04-24T00:00:00\", \"2019-04-25T00:00:00\", \"2019-04-26T00:00:00\", \"2019-04-30T00:00:00\", \"2019-05-02T00:00:00\", \"2019-05-03T00:00:00\", \"2019-05-06T00:00:00\", \"2019-05-07T00:00:00\", \"2019-05-08T00:00:00\", \"2019-05-09T00:00:00\", \"2019-05-10T00:00:00\", \"2019-05-13T00:00:00\", \"2019-05-14T00:00:00\", \"2019-05-15T00:00:00\", \"2019-05-16T00:00:00\", \"2019-05-17T00:00:00\", \"2019-05-20T00:00:00\", \"2019-05-21T00:00:00\", \"2019-05-22T00:00:00\", \"2019-05-23T00:00:00\", \"2019-05-24T00:00:00\", \"2019-05-27T00:00:00\", \"2019-05-28T00:00:00\", \"2019-05-29T00:00:00\", \"2019-05-30T00:00:00\", \"2019-05-31T00:00:00\", \"2019-06-03T00:00:00\", \"2019-06-04T00:00:00\", \"2019-06-06T00:00:00\", \"2019-06-07T00:00:00\", \"2019-06-10T00:00:00\", \"2019-06-11T00:00:00\", \"2019-06-12T00:00:00\", \"2019-06-13T00:00:00\", \"2019-06-14T00:00:00\", \"2019-06-17T00:00:00\", \"2019-06-18T00:00:00\", \"2019-06-19T00:00:00\", \"2019-06-20T00:00:00\", \"2019-06-21T00:00:00\", \"2019-06-24T00:00:00\", \"2019-06-25T00:00:00\", \"2019-06-26T00:00:00\", \"2019-06-27T00:00:00\", \"2019-06-28T00:00:00\", \"2019-07-01T00:00:00\", \"2019-07-02T00:00:00\", \"2019-07-03T00:00:00\", \"2019-07-04T00:00:00\", \"2019-07-05T00:00:00\", \"2019-07-08T00:00:00\", \"2019-07-09T00:00:00\", \"2019-07-10T00:00:00\", \"2019-07-11T00:00:00\", \"2019-07-12T00:00:00\", \"2019-07-15T00:00:00\", \"2019-07-16T00:00:00\", \"2019-07-17T00:00:00\", \"2019-07-18T00:00:00\", \"2019-07-19T00:00:00\", \"2019-07-22T00:00:00\", \"2019-07-23T00:00:00\", \"2019-07-24T00:00:00\", \"2019-07-25T00:00:00\", \"2019-07-26T00:00:00\", \"2019-07-29T00:00:00\", \"2019-07-30T00:00:00\", \"2019-07-31T00:00:00\", \"2019-08-01T00:00:00\", \"2019-08-02T00:00:00\", \"2019-08-05T00:00:00\", \"2019-08-06T00:00:00\", \"2019-08-07T00:00:00\", \"2019-08-08T00:00:00\", \"2019-08-09T00:00:00\", \"2019-08-13T00:00:00\", \"2019-08-14T00:00:00\", \"2019-08-16T00:00:00\", \"2019-08-19T00:00:00\", \"2019-08-20T00:00:00\", \"2019-08-21T00:00:00\", \"2019-08-22T00:00:00\", \"2019-08-23T00:00:00\", \"2019-08-26T00:00:00\", \"2019-08-27T00:00:00\", \"2019-08-28T00:00:00\", \"2019-08-29T00:00:00\", \"2019-08-30T00:00:00\", \"2019-09-03T00:00:00\", \"2019-09-04T00:00:00\", \"2019-09-05T00:00:00\", \"2019-09-06T00:00:00\", \"2019-09-09T00:00:00\", \"2019-09-11T00:00:00\", \"2019-09-12T00:00:00\", \"2019-09-13T00:00:00\", \"2019-09-16T00:00:00\", \"2019-09-17T00:00:00\", \"2019-09-18T00:00:00\", \"2019-09-19T00:00:00\", \"2019-09-20T00:00:00\", \"2019-09-23T00:00:00\", \"2019-09-24T00:00:00\", \"2019-09-25T00:00:00\", \"2019-09-26T00:00:00\", \"2019-09-27T00:00:00\", \"2019-09-30T00:00:00\", \"2019-10-01T00:00:00\", \"2019-10-03T00:00:00\", \"2019-10-04T00:00:00\", \"2019-10-07T00:00:00\", \"2019-10-09T00:00:00\", \"2019-10-10T00:00:00\", \"2019-10-11T00:00:00\", \"2019-10-14T00:00:00\", \"2019-10-15T00:00:00\", \"2019-10-16T00:00:00\", \"2019-10-17T00:00:00\", \"2019-10-18T00:00:00\", \"2019-10-22T00:00:00\", \"2019-10-23T00:00:00\", \"2019-10-24T00:00:00\", \"2019-10-25T00:00:00\", \"2019-10-27T00:00:00\", \"2019-10-29T00:00:00\", \"2019-10-30T00:00:00\", \"2019-10-31T00:00:00\", \"2019-11-01T00:00:00\", \"2019-11-04T00:00:00\", \"2019-11-05T00:00:00\", \"2019-11-06T00:00:00\", \"2019-11-07T00:00:00\", \"2019-11-08T00:00:00\", \"2019-11-11T00:00:00\", \"2019-11-13T00:00:00\", \"2019-11-14T00:00:00\", \"2019-11-15T00:00:00\", \"2019-11-18T00:00:00\", \"2019-11-19T00:00:00\", \"2019-11-20T00:00:00\", \"2019-11-21T00:00:00\", \"2019-11-22T00:00:00\", \"2019-11-25T00:00:00\", \"2019-11-26T00:00:00\", \"2019-11-27T00:00:00\", \"2019-11-28T00:00:00\", \"2019-11-29T00:00:00\", \"2019-12-02T00:00:00\", \"2019-12-03T00:00:00\", \"2019-12-04T00:00:00\", \"2019-12-05T00:00:00\", \"2019-12-06T00:00:00\", \"2019-12-09T00:00:00\", \"2019-12-10T00:00:00\", \"2019-12-11T00:00:00\", \"2019-12-12T00:00:00\", \"2019-12-13T00:00:00\", \"2019-12-16T00:00:00\", \"2019-12-17T00:00:00\", \"2019-12-18T00:00:00\", \"2019-12-19T00:00:00\", \"2019-12-20T00:00:00\", \"2019-12-23T00:00:00\", \"2019-12-24T00:00:00\", \"2019-12-26T00:00:00\", \"2019-12-27T00:00:00\", \"2019-12-30T00:00:00\", \"2019-12-31T00:00:00\", \"2020-01-01T00:00:00\", \"2020-01-02T00:00:00\", \"2020-01-03T00:00:00\", \"2020-01-06T00:00:00\", \"2020-01-07T00:00:00\", \"2020-01-08T00:00:00\", \"2020-01-09T00:00:00\", \"2020-01-10T00:00:00\", \"2020-01-13T00:00:00\", \"2020-01-14T00:00:00\", \"2020-01-15T00:00:00\", \"2020-01-16T00:00:00\", \"2020-01-17T00:00:00\", \"2020-01-20T00:00:00\", \"2020-01-21T00:00:00\", \"2020-01-22T00:00:00\", \"2020-01-23T00:00:00\", \"2020-01-24T00:00:00\", \"2020-01-27T00:00:00\", \"2020-01-28T00:00:00\", \"2020-01-29T00:00:00\", \"2020-01-30T00:00:00\", \"2020-01-31T00:00:00\", \"2020-02-01T00:00:00\", \"2020-02-03T00:00:00\", \"2020-02-04T00:00:00\", \"2020-02-05T00:00:00\", \"2020-02-06T00:00:00\", \"2020-02-07T00:00:00\", \"2020-02-10T00:00:00\", \"2020-02-11T00:00:00\", \"2020-02-12T00:00:00\", \"2020-02-13T00:00:00\", \"2020-02-14T00:00:00\", \"2020-02-17T00:00:00\", \"2020-02-18T00:00:00\", \"2020-02-19T00:00:00\", \"2020-02-20T00:00:00\", \"2020-02-24T00:00:00\", \"2020-02-25T00:00:00\", \"2020-02-26T00:00:00\", \"2020-02-27T00:00:00\", \"2020-02-28T00:00:00\", \"2020-03-02T00:00:00\", \"2020-03-03T00:00:00\", \"2020-03-04T00:00:00\", \"2020-03-05T00:00:00\", \"2020-03-06T00:00:00\", \"2020-03-09T00:00:00\", \"2020-03-11T00:00:00\", \"2020-03-12T00:00:00\", \"2020-03-13T00:00:00\", \"2020-03-16T00:00:00\", \"2020-03-17T00:00:00\", \"2020-03-18T00:00:00\", \"2020-03-19T00:00:00\", \"2020-03-20T00:00:00\", \"2020-03-23T00:00:00\", \"2020-03-24T00:00:00\", \"2020-03-25T00:00:00\", \"2020-03-26T00:00:00\", \"2020-03-27T00:00:00\", \"2020-03-30T00:00:00\", \"2020-03-31T00:00:00\", \"2020-04-01T00:00:00\", \"2020-04-03T00:00:00\", \"2020-04-07T00:00:00\", \"2020-04-08T00:00:00\", \"2020-04-09T00:00:00\", \"2020-04-13T00:00:00\", \"2020-04-15T00:00:00\", \"2020-04-16T00:00:00\", \"2020-04-17T00:00:00\", \"2020-04-20T00:00:00\", \"2020-04-21T00:00:00\", \"2020-04-22T00:00:00\", \"2020-04-23T00:00:00\", \"2020-04-24T00:00:00\", \"2020-04-27T00:00:00\", \"2020-04-28T00:00:00\", \"2020-04-29T00:00:00\", \"2020-04-30T00:00:00\", \"2020-05-04T00:00:00\", \"2020-05-05T00:00:00\", \"2020-05-06T00:00:00\", \"2020-05-07T00:00:00\", \"2020-05-08T00:00:00\", \"2020-05-11T00:00:00\", \"2020-05-12T00:00:00\", \"2020-05-13T00:00:00\", \"2020-05-14T00:00:00\", \"2020-05-15T00:00:00\", \"2020-05-18T00:00:00\", \"2020-05-19T00:00:00\", \"2020-05-20T00:00:00\", \"2020-05-21T00:00:00\", \"2020-05-22T00:00:00\", \"2020-05-26T00:00:00\", \"2020-05-27T00:00:00\", \"2020-05-28T00:00:00\", \"2020-05-29T00:00:00\", \"2020-06-01T00:00:00\", \"2020-06-02T00:00:00\", \"2020-06-03T00:00:00\", \"2020-06-04T00:00:00\", \"2020-06-05T00:00:00\", \"2020-06-08T00:00:00\", \"2020-06-09T00:00:00\", \"2020-06-10T00:00:00\", \"2020-06-11T00:00:00\", \"2020-06-12T00:00:00\", \"2020-06-15T00:00:00\", \"2020-06-16T00:00:00\", \"2020-06-17T00:00:00\", \"2020-06-18T00:00:00\", \"2020-06-19T00:00:00\", \"2020-06-22T00:00:00\", \"2020-06-23T00:00:00\", \"2020-06-24T00:00:00\", \"2020-06-25T00:00:00\", \"2020-06-26T00:00:00\", \"2020-06-29T00:00:00\", \"2020-06-30T00:00:00\", \"2020-07-01T00:00:00\", \"2020-07-02T00:00:00\", \"2020-07-03T00:00:00\", \"2020-07-06T00:00:00\", \"2020-07-07T00:00:00\", \"2020-07-08T00:00:00\", \"2020-07-09T00:00:00\", \"2020-07-10T00:00:00\", \"2020-07-14T00:00:00\", \"2020-07-15T00:00:00\", \"2020-07-16T00:00:00\", \"2020-07-17T00:00:00\", \"2020-07-20T00:00:00\", \"2020-07-21T00:00:00\", \"2020-07-22T00:00:00\", \"2020-07-23T00:00:00\", \"2020-07-24T00:00:00\", \"2020-07-27T00:00:00\", \"2020-07-28T00:00:00\", \"2020-07-29T00:00:00\", \"2020-07-30T00:00:00\", \"2020-07-31T00:00:00\", \"2020-08-03T00:00:00\", \"2020-08-04T00:00:00\", \"2020-08-05T00:00:00\", \"2020-08-06T00:00:00\", \"2020-08-07T00:00:00\", \"2020-08-10T00:00:00\", \"2020-08-11T00:00:00\", \"2020-08-12T00:00:00\", \"2020-08-13T00:00:00\", \"2020-08-14T00:00:00\", \"2020-08-17T00:00:00\", \"2020-08-18T00:00:00\", \"2020-08-19T00:00:00\", \"2020-08-20T00:00:00\", \"2020-08-21T00:00:00\", \"2020-08-24T00:00:00\", \"2020-08-25T00:00:00\", \"2020-08-26T00:00:00\", \"2020-08-27T00:00:00\", \"2020-08-28T00:00:00\", \"2020-08-31T00:00:00\", \"2020-09-01T00:00:00\", \"2020-09-02T00:00:00\", \"2020-09-03T00:00:00\", \"2020-09-04T00:00:00\", \"2020-09-07T00:00:00\", \"2020-09-08T00:00:00\", \"2020-09-09T00:00:00\", \"2020-09-10T00:00:00\", \"2020-09-11T00:00:00\", \"2020-09-14T00:00:00\", \"2020-09-15T00:00:00\", \"2020-09-16T00:00:00\", \"2020-09-17T00:00:00\", \"2020-09-18T00:00:00\", \"2020-09-21T00:00:00\", \"2020-09-22T00:00:00\", \"2020-09-23T00:00:00\", \"2020-09-24T00:00:00\", \"2020-09-25T00:00:00\", \"2020-09-28T00:00:00\", \"2020-09-29T00:00:00\", \"2020-09-30T00:00:00\", \"2020-10-01T00:00:00\", \"2020-10-05T00:00:00\", \"2020-10-06T00:00:00\", \"2020-10-07T00:00:00\", \"2020-10-08T00:00:00\", \"2020-10-09T00:00:00\", \"2020-10-12T00:00:00\", \"2020-10-13T00:00:00\", \"2020-10-14T00:00:00\", \"2020-10-15T00:00:00\", \"2020-10-16T00:00:00\", \"2020-10-19T00:00:00\", \"2020-10-20T00:00:00\", \"2020-10-21T00:00:00\", \"2020-10-22T00:00:00\", \"2020-10-23T00:00:00\", \"2020-10-26T00:00:00\", \"2020-10-27T00:00:00\", \"2020-10-28T00:00:00\", \"2020-10-29T00:00:00\", \"2020-10-30T00:00:00\", \"2020-11-02T00:00:00\", \"2020-11-03T00:00:00\", \"2020-11-04T00:00:00\", \"2020-11-05T00:00:00\", \"2020-11-06T00:00:00\", \"2020-11-09T00:00:00\", \"2020-11-10T00:00:00\", \"2020-11-11T00:00:00\", \"2020-11-12T00:00:00\", \"2020-11-13T00:00:00\", \"2020-11-14T00:00:00\", \"2020-11-17T00:00:00\", \"2020-11-18T00:00:00\", \"2020-11-19T00:00:00\", \"2020-11-20T00:00:00\", \"2020-11-23T00:00:00\", \"2020-11-24T00:00:00\", \"2020-11-25T00:00:00\", \"2020-11-26T00:00:00\", \"2020-11-27T00:00:00\", \"2020-12-01T00:00:00\", \"2020-12-02T00:00:00\", \"2020-12-03T00:00:00\", \"2020-12-04T00:00:00\", \"2020-12-07T00:00:00\", \"2020-12-08T00:00:00\", \"2020-12-09T00:00:00\", \"2020-12-10T00:00:00\", \"2020-12-11T00:00:00\", \"2020-12-14T00:00:00\", \"2020-12-15T00:00:00\", \"2020-12-16T00:00:00\", \"2020-12-17T00:00:00\", \"2020-12-18T00:00:00\", \"2020-12-21T00:00:00\", \"2020-12-22T00:00:00\", \"2020-12-23T00:00:00\", \"2020-12-24T00:00:00\", \"2020-12-28T00:00:00\", \"2020-12-29T00:00:00\", \"2020-12-30T00:00:00\", \"2020-12-31T00:00:00\", \"2021-01-01T00:00:00\", \"2021-01-04T00:00:00\", \"2021-01-05T00:00:00\", \"2021-01-06T00:00:00\", \"2021-01-07T00:00:00\", \"2021-01-08T00:00:00\", \"2021-01-11T00:00:00\", \"2021-01-12T00:00:00\", \"2021-01-13T00:00:00\", \"2021-01-14T00:00:00\", \"2021-01-15T00:00:00\", \"2021-01-18T00:00:00\", \"2021-01-19T00:00:00\", \"2021-01-20T00:00:00\", \"2021-01-21T00:00:00\", \"2021-01-22T00:00:00\", \"2021-01-25T00:00:00\", \"2021-01-27T00:00:00\", \"2021-01-28T00:00:00\", \"2021-01-29T00:00:00\", \"2021-02-01T00:00:00\", \"2021-02-02T00:00:00\", \"2021-02-03T00:00:00\", \"2021-02-04T00:00:00\", \"2021-02-05T00:00:00\", \"2021-02-08T00:00:00\", \"2021-02-09T00:00:00\", \"2021-02-10T00:00:00\", \"2021-02-11T00:00:00\", \"2021-02-12T00:00:00\", \"2021-02-15T00:00:00\", \"2021-02-16T00:00:00\", \"2021-02-17T00:00:00\", \"2021-02-18T00:00:00\", \"2021-02-19T00:00:00\", \"2021-02-22T00:00:00\", \"2021-02-23T00:00:00\", \"2021-02-24T00:00:00\", \"2021-02-25T00:00:00\", \"2021-02-26T00:00:00\", \"2021-03-01T00:00:00\", \"2021-03-02T00:00:00\", \"2021-03-03T00:00:00\", \"2021-03-04T00:00:00\", \"2021-03-05T00:00:00\", \"2021-03-08T00:00:00\", \"2021-03-09T00:00:00\", \"2021-03-10T00:00:00\", \"2021-03-12T00:00:00\", \"2021-03-15T00:00:00\", \"2021-03-16T00:00:00\", \"2021-03-17T00:00:00\", \"2021-03-18T00:00:00\", \"2021-03-19T00:00:00\", \"2021-03-22T00:00:00\", \"2021-03-23T00:00:00\", \"2021-03-24T00:00:00\", \"2021-03-25T00:00:00\", \"2021-03-26T00:00:00\", \"2021-03-30T00:00:00\", \"2021-03-31T00:00:00\", \"2021-04-01T00:00:00\", \"2021-04-05T00:00:00\", \"2021-04-06T00:00:00\", \"2021-04-07T00:00:00\", \"2021-04-08T00:00:00\", \"2021-04-09T00:00:00\", \"2021-04-12T00:00:00\", \"2021-04-13T00:00:00\", \"2021-04-15T00:00:00\", \"2021-04-16T00:00:00\", \"2021-04-19T00:00:00\", \"2021-04-20T00:00:00\", \"2021-04-22T00:00:00\", \"2021-04-23T00:00:00\", \"2021-04-26T00:00:00\", \"2021-04-27T00:00:00\", \"2021-04-28T00:00:00\", \"2021-04-29T00:00:00\", \"2021-04-30T00:00:00\", \"2021-05-03T00:00:00\", \"2021-05-04T00:00:00\", \"2021-05-05T00:00:00\", \"2021-05-06T00:00:00\", \"2021-05-07T00:00:00\", \"2021-05-10T00:00:00\", \"2021-05-11T00:00:00\", \"2021-05-12T00:00:00\", \"2021-05-14T00:00:00\", \"2021-05-17T00:00:00\", \"2021-05-18T00:00:00\", \"2021-05-19T00:00:00\", \"2021-05-20T00:00:00\", \"2021-05-21T00:00:00\", \"2021-05-24T00:00:00\", \"2021-05-25T00:00:00\", \"2021-05-26T00:00:00\", \"2021-05-27T00:00:00\", \"2021-05-28T00:00:00\", \"2021-05-31T00:00:00\", \"2021-06-01T00:00:00\", \"2021-06-02T00:00:00\", \"2021-06-03T00:00:00\", \"2021-06-04T00:00:00\", \"2021-06-07T00:00:00\", \"2021-06-08T00:00:00\", \"2021-06-09T00:00:00\", \"2021-06-10T00:00:00\", \"2021-06-11T00:00:00\", \"2021-06-14T00:00:00\", \"2021-06-15T00:00:00\", \"2021-06-16T00:00:00\", \"2021-06-17T00:00:00\", \"2021-06-18T00:00:00\", \"2021-06-21T00:00:00\", \"2021-06-22T00:00:00\", \"2021-06-23T00:00:00\", \"2021-06-24T00:00:00\", \"2021-06-25T00:00:00\", \"2021-06-28T00:00:00\", \"2021-06-29T00:00:00\", \"2021-06-30T00:00:00\", \"2021-07-01T00:00:00\", \"2021-07-02T00:00:00\", \"2021-07-05T00:00:00\", \"2021-07-06T00:00:00\", \"2021-07-07T00:00:00\", \"2021-07-08T00:00:00\", \"2021-07-09T00:00:00\", \"2021-07-12T00:00:00\", \"2021-07-13T00:00:00\", \"2021-07-14T00:00:00\", \"2021-07-15T00:00:00\", \"2021-07-16T00:00:00\", \"2021-07-19T00:00:00\", \"2021-07-20T00:00:00\", \"2021-07-22T00:00:00\", \"2021-07-23T00:00:00\", \"2021-07-26T00:00:00\", \"2021-07-27T00:00:00\", \"2021-07-28T00:00:00\", \"2021-07-29T00:00:00\", \"2021-07-30T00:00:00\", \"2021-08-02T00:00:00\", \"2021-08-03T00:00:00\", \"2021-08-04T00:00:00\", \"2021-08-05T00:00:00\", \"2021-08-06T00:00:00\", \"2021-08-09T00:00:00\", \"2021-08-10T00:00:00\", \"2021-08-11T00:00:00\", \"2021-08-12T00:00:00\", \"2021-08-13T00:00:00\", \"2021-08-16T00:00:00\", \"2021-08-17T00:00:00\", \"2021-08-18T00:00:00\", \"2021-08-20T00:00:00\", \"2021-08-23T00:00:00\", \"2021-08-24T00:00:00\", \"2021-08-25T00:00:00\", \"2021-08-26T00:00:00\", \"2021-08-27T00:00:00\", \"2021-08-30T00:00:00\", \"2021-08-31T00:00:00\", \"2021-09-01T00:00:00\", \"2021-09-02T00:00:00\", \"2021-09-03T00:00:00\", \"2021-09-06T00:00:00\", \"2021-09-07T00:00:00\", \"2021-09-08T00:00:00\", \"2021-09-09T00:00:00\", \"2021-09-13T00:00:00\", \"2021-09-14T00:00:00\", \"2021-09-15T00:00:00\", \"2021-09-16T00:00:00\", \"2021-09-17T00:00:00\", \"2021-09-20T00:00:00\", \"2021-09-21T00:00:00\", \"2021-09-22T00:00:00\", \"2021-09-23T00:00:00\", \"2021-09-24T00:00:00\", \"2021-09-27T00:00:00\", \"2021-09-28T00:00:00\", \"2021-09-29T00:00:00\", \"2021-09-30T00:00:00\", \"2021-10-01T00:00:00\", \"2021-10-04T00:00:00\", \"2021-10-05T00:00:00\", \"2021-10-06T00:00:00\", \"2021-10-07T00:00:00\", \"2021-10-08T00:00:00\", \"2021-10-11T00:00:00\", \"2021-10-12T00:00:00\", \"2021-10-13T00:00:00\", \"2021-10-14T00:00:00\", \"2021-10-18T00:00:00\", \"2021-10-19T00:00:00\", \"2021-10-20T00:00:00\", \"2021-10-21T00:00:00\", \"2021-10-22T00:00:00\", \"2021-10-25T00:00:00\", \"2021-10-26T00:00:00\", \"2021-10-27T00:00:00\", \"2021-10-28T00:00:00\", \"2021-10-29T00:00:00\", \"2021-11-01T00:00:00\", \"2021-11-02T00:00:00\", \"2021-11-03T00:00:00\", \"2021-11-04T00:00:00\", \"2021-11-08T00:00:00\", \"2021-11-09T00:00:00\", \"2021-11-10T00:00:00\", \"2021-11-11T00:00:00\", \"2021-11-12T00:00:00\", \"2021-11-15T00:00:00\", \"2021-11-16T00:00:00\", \"2021-11-17T00:00:00\", \"2021-11-18T00:00:00\"], \"xaxis\": \"x\", \"y\": [887.9, 885.55, 875.85, 836.1, 854.3, 842.05, 860.3, 850.3, 843.15, 834.95, 864.25, 869.7, 879.65, 903.05, 906.75, 883.75, 886.9, 889.05, 906.85, 929.4, 915.25, 908.05, 937.6, 928.8, 923.7, 909.9, 896.7, 882.0, 900.7, 909.15, 917.5, 902.8, 901.65, 902.05, 873.1, 851.45, 841.45, 843.15, 842.0, 855.55, 865.15, 864.25, 900.8, 887.85, 884.95, 869.65, 859.15, 855.95, 863.8, 850.1, 842.1, 856.85, 868.65, 856.15, 854.1, 841.95, 847.95, 844.9, 829.3, 811.7, 810.75, 826.0, 836.05, 824.65, 832.85, 865.9, 895.1, 904.35, 922.5, 923.65, 928.35, 926.85, 885.65, 876.45, 879.75, 877.05, 878.9, 875.3, 865.2, 850.0, 862.35, 890.95, 892.15, 880.25, 870.75, 889.7, 895.95, 868.7, 885.1, 878.2, 873.95, 891.55, 895.55, 908.85, 896.75, 903.85, 894.5, 884.6, 885.3, 875.8, 877.0, 902.25, 898.65, 896.35, 912.7, 907.75, 885.45, 883.7, 905.8, 877.15, 889.85, 901.75, 903.95, 931.2, 978.95, 996.65, 991.7, 995.0, 990.9, 1004.55, 1000.7, 990.85, 1000.1, 1005.65, 1010.85, 1007.2, 1015.55, 1003.25, 996.6, 987.4, 1001.8, 1007.0, 997.8, 1011.15, 1023.7, 1021.7, 1024.75, 1007.8, 1050.4, 1045.3, 1025.05, 1005.35, 1010.25, 996.0, 1000.15, 1001.85, 1002.45, 988.0, 987.75, 978.95, 984.35, 968.9, 966.0, 942.9, 933.35, 966.95, 950.7, 944.1, 954.6, 916.3, 907.95, 829.55, 848.15, 853.4, 869.15, 872.4, 855.9, 839.85, 849.55, 853.85, 835.9, 833.2, 848.6, 874.05, 867.0, 860.95, 863.85, 868.15, 872.55, 895.4, 878.1, 847.9, 850.35, 837.35, 834.25, 840.75, 862.3, 864.7, 888.0, 898.05, 913.8, 889.1, 887.35, 891.75, 893.6, 902.95, 903.7, 912.15, 963.5, 956.7, 955.0, 955.65, 942.85, 939.55, 936.95, 941.0, 947.7, 959.8, 967.2, 951.3, 936.6, 952.4, 961.25, 922.75, 928.45, 933.05, 934.3, 927.75, 912.0, 934.75, 946.85, 953.75, 967.7, 988.65, 979.05, 965.85, 965.9, 977.95, 977.2, 965.45, 952.05, 940.9, 915.9, 950.35, 952.95, 955.1, 975.9, 978.65, 1009.7, 991.9, 992.1, 987.3, 1003.8, 1000.55, 1010.4, 1015.4, 1004.5, 1014.6, 1015.35, 995.3, 1005.15, 1032.2, 1013.25, 1025.75, 1051.6, 1045.45, 1076.85, 1061.65, 1073.3, 1016.85, 1043.6, 1004.55, 984.2, 1004.15, 1003.95, 999.35, 1016.9, 1035.4, 1030.3, 1001.15, 981.4, 973.05, 970.9, 961.05, 957.5, 962.65, 924.55, 906.55, 946.75, 930.55, 952.6, 940.1, 944.35, 962.3, 949.65, 952.65, 944.1, 950.35, 966.65, 981.3, 1001.5, 1012.85, 1006.4, 1027.0, 1041.7, 1011.75, 1014.5, 1019.75, 1020.5, 1021.75, 1016.0, 1027.2, 1037.3, 1047.85, 1029.2, 1020.4, 1036.25, 1047.05, 1045.2, 1034.45, 1035.05, 1026.95, 1033.75, 1037.25, 1036.35, 1040.3, 1047.4, 1066.05, 1064.75, 1037.3, 1041.15, 1038.95, 1016.9, 1016.95, 1019.4, 996.7, 982.7, 986.95, 975.8, 978.1, 975.25, 968.95, 983.1, 982.55, 975.4, 992.8, 978.15, 975.95, 969.15, 970.55, 951.2, 934.2, 930.0, 940.45, 951.2, 946.85, 974.7, 968.7, 957.85, 953.6, 956.25, 959.65, 954.8, 955.05, 954.1, 971.15, 976.7, 981.1, 976.25, 984.6, 976.3, 974.9, 990.2, 987.1, 980.5, 980.45, 951.45, 955.65, 957.8, 966.9, 969.15, 973.45, 986.7, 993.1, 987.9, 978.4, 992.5, 1003.4, 1008.75, 1004.9, 1012.2, 1006.25, 1017.8, 1023.0, 1006.35, 1014.85, 1022.75, 1024.05, 1013.1, 1026.35, 1014.9, 1009.5, 1012.8, 993.95, 993.0, 1016.25, 1029.25, 1030.7, 1003.65, 1014.1, 1035.8, 1024.9, 1013.3, 1018.05, 1014.9, 1011.85, 1010.45, 1020.5, 1012.7, 1027.9, 1057.45, 1066.4, 1060.0, 1029.2, 1013.35, 1019.9, 1017.65, 1033.4, 1044.55, 1046.5, 1044.75, 1065.0, 1075.55, 1082.4, 1074.2, 1072.25, 1088.95, 1102.8, 1107.2, 1110.5, 1090.65, 1072.45, 1083.7, 1090.7, 1096.35, 1089.4, 1110.8, 1109.0, 1096.35, 1057.15, 1077.65, 1060.65, 1081.1, 1087.35, 1087.55, 1064.2, 1063.3, 1060.85, 1054.05, 1048.7, 1054.95, 1051.2, 1051.0, 1023.75, 1023.95, 1005.55, 1001.15, 1003.5, 1004.6, 1010.4, 1001.75, 985.4, 986.55, 977.75, 987.5, 991.5, 1001.45, 1009.0, 987.35, 993.7, 986.65, 997.7, 990.05, 997.75, 994.75, 993.85, 1005.2, 999.15, 1020.05, 1028.95, 1027.2, 1039.8, 1059.5, 1052.95, 1057.15, 1062.55, 1057.9, 1063.25, 1053.35, 1057.3, 1047.45, 1064.7, 1049.7, 1065.45, 1082.4, 1085.1, 1089.4, 1067.15, 1077.4, 1074.95, 1077.7, 1089.85, 1086.05, 1083.3, 1090.4, 1076.25, 1041.25, 1032.55, 1033.7, 1025.8, 1015.9, 1027.3, 1017.3, 1025.1, 1044.8, 1045.2, 1049.65, 1043.5, 1033.65, 1041.65, 1030.9, 1025.15, 1032.75, 1030.15, 1029.85, 1049.8, 1051.3, 1067.5, 1075.5, 1075.4, 1088.2, 1207.5, 1182.75, 1238.9, 1238.05, 1234.5, 1236.75, 1258.55, 1305.35, 1304.95, 1291.2, 1286.75, 1281.65, 1289.5, 1304.95, 1297.65, 1300.7, 1280.8, 1263.8, 1259.7, 1273.3, 1286.75, 1251.1, 1245.75, 1256.65, 1270.65, 1320.9, 1374.65, 1415.0, 1438.5, 1406.6, 1381.35, 1372.35, 1354.0, 1364.8, 1391.85, 1370.2, 1368.8, 1369.55, 1402.5, 1417.4, 1432.8, 1416.45, 1409.5, 1395.2, 1370.55, 1370.1, 1357.95, 1328.25, 1321.4, 1330.35, 1359.1, 1359.55, 1350.45, 1344.1, 1356.3, 1353.1, 1327.35, 1318.85, 1324.15, 1305.55, 1297.7, 1302.45, 1337.3, 1356.9, 1359.35, 1340.7, 1328.25, 1324.75, 1329.35, 1312.8, 1339.0, 1331.7, 1335.7, 1319.45, 1314.35, 1357.5, 1383.95, 1388.8, 1409.25, 1412.35, 1422.0, 1432.65, 1435.85, 1437.15, 1398.5, 1392.7, 1380.0, 1381.05, 1421.95, 1442.65, 1442.55, 1491.15, 1494.35, 1511.1, 1522.1, 1533.75, 1551.75, 1519.9, 1532.95, 1528.9, 1585.0, 1615.25, 1602.15, 1622.75, 1594.8, 1594.45, 1615.2, 1603.6, 1629.2, 1650.1, 1622.15, 1616.35, 1602.55, 1598.8, 1584.35, 1546.25, 1573.05, 1566.1, 1567.1, 1575.4, 1564.4, 1560.05, 1582.05, 1568.05, 1566.55, 1532.15, 1564.1, 1594.5, 1610.1, 1613.35, 1632.6, 1645.4, 818.1, 816.9, 817.9, 823.75, 849.0, 843.85, 841.8, 845.55, 838.6, 847.15, 841.35, 817.4, 821.55, 820.1, 799.15, 786.45, 780.9, 798.35, 818.85, 824.15, 837.05, 830.65, 843.2, 840.15, 872.75, 876.45, 876.8, 874.35, 914.5, 909.9, 939.75, 934.25, 939.9, 947.4, 929.85, 942.5, 940.85, 952.55, 946.6, 945.3, 932.5, 906.7, 887.8, 900.5, 883.85, 875.25, 886.7, 883.7, 903.85, 911.9, 920.85, 932.55, 930.75, 947.0, 951.1, 951.35, 943.35, 946.0, 921.55, 910.1, 901.6, 913.7, 926.65, 931.55, 921.0, 916.15, 915.6, 914.65, 921.5, 919.75, 921.0, 925.95, 918.15, 912.95, 920.4, 929.8, 923.75, 924.2, 921.05, 909.75, 911.15, 914.8, 920.3, 923.25, 928.55, 940.95, 942.35, 937.75, 949.0, 949.15, 922.95, 924.5, 919.7, 931.3, 971.5, 983.25, 966.35, 965.9, 964.5, 950.4, 961.3, 943.85, 904.35, 902.15, 892.1, 894.4, 904.55, 897.85, 915.5, 933.65, 935.65, 921.3, 927.0, 921.1, 929.35, 924.35, 934.25, 938.7, 950.5, 954.55, 948.4, 924.1, 910.85, 889.75, 911.45, 913.1, 930.3, 931.85, 929.05, 911.8, 900.05, 895.5, 889.8, 896.9, 908.15, 893.9, 901.1, 899.8, 882.7, 892.95, 899.55, 894.9, 908.2, 911.0, 916.0, 917.05, 930.85, 928.7, 938.85, 937.05, 944.25, 938.0, 942.3, 927.9, 936.0, 970.05, 970.5, 975.35, 996.3, 963.3, 972.7, 961.6, 953.95, 971.0, 967.1, 976.7, 981.15, 989.25, 986.6, 978.95, 956.15, 945.35, 933.85, 931.35, 926.75, 912.25, 915.85, 920.8, 920.4, 917.45, 916.1, 921.35, 930.55, 940.85, 947.65, 954.4, 971.35, 984.35, 982.65, 997.15, 1002.5, 1007.95, 1014.2, 1015.55, 996.05, 1019.25, 1031.95, 1012.5, 1004.45, 978.95, 965.85, 944.95, 972.45, 960.6, 971.3, 990.1, 964.5, 977.55, 997.1, 1025.7, 1038.8, 1082.35, 1099.8, 1076.2, 1092.35, 1092.55, 1104.85, 1128.65, 1120.3, 1110.95, 1115.15, 1110.65, 1129.85, 1151.4, 1186.0, 1192.35, 1168.35, 1176.95, 1192.6, 1184.2, 1217.7, 1217.95, 1204.2, 1187.7, 1210.6, 1200.8, 1203.75, 1234.9, 1247.2, 1269.45, 1277.5, 1291.5, 1319.0, 1294.2, 1274.45, 1241.65, 1229.15, 1241.95, 1227.0, 1261.4, 1278.6, 1255.85, 1237.7, 1252.5, 1253.15, 1225.9, 1217.15, 1210.75, 1217.5, 1232.05, 1230.6, 1251.4, 1253.75, 1257.95, 1231.7, 1205.1, 1122.25, 1048.85, 1109.4, 1090.05, 1102.1, 1087.8, 1126.55, 1139.75, 1163.8, 1151.3, 1101.3, 1062.65, 1054.7, 1045.75, 1030.8, 1044.9, 1087.8, 1057.0, 1061.25, 1056.25, 1074.9, 1090.3, 1104.1, 1110.7, 1093.45, 1080.0, 1099.45, 1097.95, 1096.85, 1127.4, 1150.0, 1137.4, 1112.9, 1102.85, 1109.75, 1128.2, 1152.65, 1168.5, 1167.55, 1156.45, 1152.3, 1155.15, 1123.65, 1133.8, 1090.25, 1097.55, 1110.5, 1107.05, 1112.2, 1129.9, 1136.4, 1136.8, 1128.45, 1100.2, 1089.15, 1098.35, 1120.2, 1125.55, 1121.25, 1121.0, 1106.4, 1092.75, 1098.65, 1104.75, 1104.65, 1110.75, 1107.5, 1098.05, 1096.8, 1129.65, 1135.9, 1134.45, 1184.35, 1237.7, 1235.15, 1226.3, 1247.45, 1246.0, 1229.55, 1210.65, 1195.7, 1227.15, 1249.95, 1290.9, 1291.55, 1310.25, 1290.4, 1277.7, 1253.25, 1256.4, 1245.95, 1224.2, 1244.45, 1220.1, 1216.1, 1234.35, 1246.9, 1232.35, 1232.3, 1220.25, 1223.5, 1231.05, 1226.05, 1237.65, 1264.8, 1270.25, 1267.1, 1304.1, 1331.35, 1347.3, 1341.55, 1321.65, 1350.05, 1376.55, 1375.45, 1341.75, 1324.45, 1367.25, 1349.25, 1360.0, 1363.25, 1391.85, 1389.7, 1375.2, 1353.05, 1353.9, 1329.25, 1334.45, 1331.4, 1346.8, 1343.1, 1340.15, 1343.75, 1385.95, 1345.35, 1363.85, 1389.5, 1372.4, 1392.8, 1392.8, 1405.05, 1408.85, 1384.9, 1343.5, 1299.45, 1256.45, 1251.15, 1232.05, 1260.45, 1256.9, 1265.35, 1267.4, 1325.9, 1339.8, 1340.4, 1333.9, 1336.85, 1310.65, 1323.75, 1313.05, 1329.75, 1330.15, 1360.2, 1351.65, 1327.35, 1314.9, 1319.15, 1329.15, 1332.15, 1327.25, 1317.55, 1282.3, 1281.0, 1277.35, 1296.75, 1279.5, 1262.4, 1295.85, 1294.15, 1274.15, 1253.1, 1268.85, 1278.5, 1282.55, 1284.0, 1263.35, 1252.05, 1280.1, 1278.85, 1281.55, 1280.5, 1276.1, 1293.0, 1281.85, 1261.85, 1249.0, 1280.5, 1273.55, 1259.1, 1231.5, 1213.8, 1210.95, 1180.9, 1166.25, 1180.25, 1184.35, 1143.35, 1128.3, 1109.4, 1152.35, 1162.1, 1274.75, 1288.25, 1278.0, 1292.6, 1275.95, 1270.95, 1246.75, 1275.85, 1266.8, 1274.85, 1263.3, 1241.75, 1248.55, 1206.4, 1201.15, 1198.6, 1222.5, 1222.2, 1234.4, 1210.35, 1225.6, 1210.75, 1197.45, 1205.7, 1179.05, 1254.35, 1239.2, 1278.7, 1279.55, 1296.8, 1309.05, 1332.25, 1304.9, 1311.05, 1308.1, 1310.1, 1324.75, 1362.75, 1352.6, 1358.0, 1364.15, 1372.35, 1396.5, 1416.35, 1414.15, 1392.4, 1436.45, 1431.2, 1434.25, 1467.05, 1479.1, 1464.35, 1456.9, 1457.65, 1447.3, 1434.9, 1458.6, 1445.5, 1427.8, 1472.3, 1462.75, 1470.85, 1459.2, 1509.75, 1547.65, 1537.6, 1546.5, 1561.55, 1560.25, 1569.85, 1580.3, 1551.15, 1586.5, 1578.9, 1552.7, 1550.85, 1554.9, 1572.6, 1561.95, 1562.4, 1568.2, 1582.9, 1566.6, 1562.7, 1575.85, 1609.95, 1599.1, 1571.4, 1546.45, 1515.4, 1542.35, 1544.2, 1514.05, 1509.6, 1535.3, 1537.15, 1501.5, 1524.6, 1513.15, 1548.0, 1547.65, 1543.7, 1529.4, 1523.85, 1537.9, 1581.0, 1532.35, 1533.9, 1533.35, 1526.85, 1521.55, 1506.55, 1471.75, 1479.85, 1443.75, 1411.65, 1383.35, 1385.5, 1426.4, 1448.5, 1457.8, 1433.65, 1435.6, 1452.75, 1470.3, 1474.15, 1487.6, 1478.25, 1467.4, 1503.8, 1485.95, 1444.95, 1416.4, 1392.0, 1386.25, 1328.65, 1316.15, 1342.85, 1339.7, 1311.15, 1271.0, 1114.15, 1153.55, 1063.0, 1105.3, 1015.7, 1008.0, 968.5, 917.7, 1017.95, 884.05, 943.4, 1082.25, 1066.2, 1065.6, 1030.45, 1113.75, 1080.45, 1077.45, 1206.1, 1192.15, 1219.95, 1189.15, 1149.85, 1168.05, 1224.0, 1243.8, 1237.35, 1363.6, 1370.9, 1417.0, 1429.75, 1428.15, 1426.95, 1466.0, 1435.2, 1460.65, 1460.75, 1506.95, 1561.8, 1576.8, 1479.25, 1496.45, 1435.95, 1459.4, 1440.75, 1408.9, 1433.7, 1441.25, 1431.55, 1424.05, 1445.55, 1472.25, 1464.4, 1520.35, 1535.7, 1541.65, 1579.8, 1581.7, 1569.5, 1537.15, 1572.15, 1537.7, 1588.8, 1614.55, 1617.7, 1615.35, 1655.9, 1759.4, 1746.15, 1720.9, 1727.85, 1717.9, 1741.65, 1723.15, 1704.1, 1737.6, 1760.35, 1787.9, 1851.8, 1823.45, 1798.0, 1824.25, 1878.05, 1917.0, 1844.0, 1843.4, 1911.7, 1919.9, 1971.55, 2004.0, 2057.8, 2146.15, 2156.2, 2177.7, 2096.65, 2108.85, 2067.1, 2009.0, 2150.6, 2126.45, 2134.1, 2146.45, 2119.85, 2133.8, 2127.6, 2122.05, 2113.8, 2091.35, 2118.55, 2131.55, 2097.05, 2081.85, 2095.75, 2082.1, 2137.3, 2110.6, 2116.15, 2080.7, 2087.25, 2128.2, 2112.1, 2077.25, 2082.65, 2107.1, 2161.35, 2314.0, 2319.75, 2302.55, 2318.85, 2324.55, 2298.75, 2305.7, 2255.85, 2211.15, 2230.8, 2181.2, 2201.7, 2216.25, 2245.05, 2234.35, 2225.25, 2212.2, 2210.35, 2257.5, 2239.25, 2233.45, 2237.05, 2280.7, 2287.5, 2206.5, 2175.8, 2176.2, 2155.9, 2124.6, 2106.95, 2113.05, 2029.1, 2034.5, 2011.45, 2026.9, 2054.5, 1877.45, 1850.4, 1913.2, 1955.0, 2029.15, 2050.7, 2084.55, 1997.2, 1980.0, 1996.4, 2002.3, 1993.25, 1987.2, 1973.15, 1899.5, 1950.7, 1964.05, 1947.8, 1952.6, 1929.8, 1954.9, 1958.15, 1964.05, 1946.75, 1958.2, 1993.75, 2026.95, 2007.0, 2005.8, 1991.3, 1974.35, 1976.55, 1985.6, 1991.55, 1939.7, 1936.7, 1943.85, 1994.15, 2003.3, 1990.05, 1995.5, 1985.3, 1987.5, 1990.85, 1966.1, 1914.25, 1911.15, 1933.7, 1897.25, 1957.05, 1938.8, 1960.6, 1937.45, 1983.95, 2016.4, 2054.7, 2099.4, 2049.6, 1941.0, 1895.0, 1876.55, 1841.95, 1895.3, 1925.8, 1930.65, 1924.3, 1923.75, 1951.45, 1956.15, 1974.3, 2055.7, 2041.6, 2032.6, 2059.5, 2083.25, 2067.7, 2080.3, 2008.1, 2023.45, 2061.0, 2144.35, 2085.8, 2101.7, 2106.0, 2202.1, 2175.85, 2178.7, 2191.1, 2191.05, 2181.95, 2137.6, 2108.9, 2100.6, 2055.35, 2009.1, 2082.0, 2062.4, 2087.5, 2047.3, 1991.45, 1994.65, 2029.3, 2003.1, 2021.85, 1992.6, 1984.3, 2002.85, 2005.35, 1982.05, 1911.15, 1931.8, 1944.3, 1932.1, 1901.7, 1901.15, 1906.4, 1904.35, 1937.85, 1988.65, 1997.3, 2024.05, 1994.5, 1959.05, 1916.6, 1920.1, 1931.0, 1931.75, 1926.2, 1933.15, 1913.15, 1937.3, 1960.35, 1987.95, 1997.05, 1985.4, 2002.55, 1985.65, 1963.15, 1970.05, 1976.1, 2094.8, 2160.3, 2168.9, 2201.25, 2209.65, 2190.5, 2227.4, 2214.6, 2175.0, 2183.0, 2213.15, 2244.9, 2250.0, 2211.6, 2215.65, 2225.65, 2237.25, 2225.75, 2205.35, 2153.5, 2104.45, 2086.0, 2087.8, 2110.65, 2097.95, 2129.05, 2150.2, 2124.8, 2110.05, 2092.6, 2071.2, 2084.1, 2099.7, 2086.0, 2082.35, 2112.4, 2098.95, 2093.8, 2120.7, 2105.7, 2076.85, 2055.0, 2037.35, 2053.25, 2035.3, 2072.5, 2087.75, 2103.75, 2134.25, 2089.05, 2077.15, 2088.05, 2117.3, 2110.5, 2145.65, 2173.5, 2164.25, 2172.65, 2148.25, 2162.35, 2183.7, 2202.6, 2230.45, 2227.4, 2270.25, 2258.15, 2267.1, 2294.4, 2388.5, 2425.6, 2440.9, 2431.35, 2425.6, 2371.55, 2368.45, 2378.3, 2428.2, 2390.55, 2394.35, 2404.7, 2430.5, 2489.9, 2482.7, 2524.45, 2548.05, 2527.85, 2519.25, 2523.7, 2556.15, 2609.2, 2559.85, 2572.4, 2671.25, 2652.65, 2667.8, 2694.95, 2700.4, 2707.6, 2731.85, 2700.4, 2622.5, 2627.4, 2601.8, 2661.05, 2627.4, 2598.6, 2536.25, 2537.8, 2500.8, 2483.6, 2498.85, 2501.95, 2521.7, 2549.9, 2554.55, 2593.1, 2577.8, 2517.9, 2464.0, 2473.3], \"yaxis\": \"y\"}, {\"hovertemplate\": \"Dt: %{x}<br>Close: %{customdata[0]}<br>50_EMA: %{customdata[1]}<br>200_EMA: %{customdata[2]}\", \"mode\": \"lines\", \"name\": \"50_EMA\", \"type\": \"scatter\", \"x\": [\"2015-01-01T00:00:00\", \"2015-01-02T00:00:00\", \"2015-01-05T00:00:00\", \"2015-01-06T00:00:00\", \"2015-01-07T00:00:00\", \"2015-01-08T00:00:00\", \"2015-01-09T00:00:00\", \"2015-01-12T00:00:00\", \"2015-01-13T00:00:00\", \"2015-01-14T00:00:00\", \"2015-01-15T00:00:00\", \"2015-01-16T00:00:00\", \"2015-01-19T00:00:00\", \"2015-01-20T00:00:00\", \"2015-01-21T00:00:00\", \"2015-01-22T00:00:00\", \"2015-01-23T00:00:00\", \"2015-01-27T00:00:00\", \"2015-01-28T00:00:00\", \"2015-01-29T00:00:00\", \"2015-01-30T00:00:00\", \"2015-02-02T00:00:00\", \"2015-02-03T00:00:00\", \"2015-02-04T00:00:00\", \"2015-02-05T00:00:00\", \"2015-02-06T00:00:00\", \"2015-02-09T00:00:00\", \"2015-02-10T00:00:00\", \"2015-02-11T00:00:00\", \"2015-02-12T00:00:00\", \"2015-02-13T00:00:00\", \"2015-02-16T00:00:00\", \"2015-02-18T00:00:00\", \"2015-02-19T00:00:00\", \"2015-02-20T00:00:00\", \"2015-02-23T00:00:00\", \"2015-02-24T00:00:00\", \"2015-02-25T00:00:00\", \"2015-02-26T00:00:00\", \"2015-02-27T00:00:00\", \"2015-02-28T00:00:00\", \"2015-03-02T00:00:00\", \"2015-03-03T00:00:00\", \"2015-03-04T00:00:00\", \"2015-03-05T00:00:00\", \"2015-03-09T00:00:00\", \"2015-03-10T00:00:00\", \"2015-03-11T00:00:00\", \"2015-03-12T00:00:00\", \"2015-03-13T00:00:00\", \"2015-03-16T00:00:00\", \"2015-03-17T00:00:00\", \"2015-03-18T00:00:00\", \"2015-03-19T00:00:00\", \"2015-03-20T00:00:00\", \"2015-03-23T00:00:00\", \"2015-03-24T00:00:00\", \"2015-03-25T00:00:00\", \"2015-03-26T00:00:00\", \"2015-03-27T00:00:00\", \"2015-03-30T00:00:00\", \"2015-03-31T00:00:00\", \"2015-04-01T00:00:00\", \"2015-04-06T00:00:00\", \"2015-04-07T00:00:00\", \"2015-04-08T00:00:00\", \"2015-04-09T00:00:00\", \"2015-04-10T00:00:00\", \"2015-04-13T00:00:00\", \"2015-04-15T00:00:00\", \"2015-04-16T00:00:00\", \"2015-04-17T00:00:00\", \"2015-04-20T00:00:00\", \"2015-04-21T00:00:00\", \"2015-04-22T00:00:00\", \"2015-04-23T00:00:00\", \"2015-04-24T00:00:00\", \"2015-04-27T00:00:00\", \"2015-04-28T00:00:00\", \"2015-04-29T00:00:00\", \"2015-04-30T00:00:00\", \"2015-05-04T00:00:00\", \"2015-05-05T00:00:00\", \"2015-05-06T00:00:00\", \"2015-05-07T00:00:00\", \"2015-05-08T00:00:00\", \"2015-05-11T00:00:00\", \"2015-05-12T00:00:00\", \"2015-05-13T00:00:00\", \"2015-05-14T00:00:00\", \"2015-05-15T00:00:00\", \"2015-05-18T00:00:00\", \"2015-05-19T00:00:00\", \"2015-05-20T00:00:00\", \"2015-05-21T00:00:00\", \"2015-05-22T00:00:00\", \"2015-05-25T00:00:00\", \"2015-05-26T00:00:00\", \"2015-05-27T00:00:00\", \"2015-05-28T00:00:00\", \"2015-05-29T00:00:00\", \"2015-06-01T00:00:00\", \"2015-06-02T00:00:00\", \"2015-06-03T00:00:00\", \"2015-06-04T00:00:00\", \"2015-06-05T00:00:00\", \"2015-06-08T00:00:00\", \"2015-06-09T00:00:00\", \"2015-06-10T00:00:00\", \"2015-06-11T00:00:00\", \"2015-06-12T00:00:00\", \"2015-06-15T00:00:00\", \"2015-06-16T00:00:00\", \"2015-06-17T00:00:00\", \"2015-06-18T00:00:00\", \"2015-06-19T00:00:00\", \"2015-06-22T00:00:00\", \"2015-06-23T00:00:00\", \"2015-06-24T00:00:00\", \"2015-06-25T00:00:00\", \"2015-06-26T00:00:00\", \"2015-06-29T00:00:00\", \"2015-06-30T00:00:00\", \"2015-07-01T00:00:00\", \"2015-07-02T00:00:00\", \"2015-07-03T00:00:00\", \"2015-07-06T00:00:00\", \"2015-07-07T00:00:00\", \"2015-07-08T00:00:00\", \"2015-07-09T00:00:00\", \"2015-07-10T00:00:00\", \"2015-07-13T00:00:00\", \"2015-07-14T00:00:00\", \"2015-07-15T00:00:00\", \"2015-07-16T00:00:00\", \"2015-07-17T00:00:00\", \"2015-07-20T00:00:00\", \"2015-07-21T00:00:00\", \"2015-07-22T00:00:00\", \"2015-07-23T00:00:00\", \"2015-07-24T00:00:00\", \"2015-07-27T00:00:00\", \"2015-07-28T00:00:00\", \"2015-07-29T00:00:00\", \"2015-07-30T00:00:00\", \"2015-07-31T00:00:00\", \"2015-08-03T00:00:00\", \"2015-08-04T00:00:00\", \"2015-08-05T00:00:00\", \"2015-08-06T00:00:00\", \"2015-08-07T00:00:00\", \"2015-08-10T00:00:00\", \"2015-08-11T00:00:00\", \"2015-08-12T00:00:00\", \"2015-08-13T00:00:00\", \"2015-08-14T00:00:00\", \"2015-08-17T00:00:00\", \"2015-08-18T00:00:00\", \"2015-08-19T00:00:00\", \"2015-08-20T00:00:00\", \"2015-08-21T00:00:00\", \"2015-08-24T00:00:00\", \"2015-08-25T00:00:00\", \"2015-08-26T00:00:00\", \"2015-08-27T00:00:00\", \"2015-08-28T00:00:00\", \"2015-08-31T00:00:00\", \"2015-09-01T00:00:00\", \"2015-09-02T00:00:00\", \"2015-09-03T00:00:00\", \"2015-09-04T00:00:00\", \"2015-09-07T00:00:00\", \"2015-09-08T00:00:00\", \"2015-09-09T00:00:00\", \"2015-09-10T00:00:00\", \"2015-09-11T00:00:00\", \"2015-09-14T00:00:00\", \"2015-09-15T00:00:00\", \"2015-09-16T00:00:00\", \"2015-09-18T00:00:00\", \"2015-09-21T00:00:00\", \"2015-09-22T00:00:00\", \"2015-09-23T00:00:00\", \"2015-09-24T00:00:00\", \"2015-09-28T00:00:00\", \"2015-09-29T00:00:00\", \"2015-09-30T00:00:00\", \"2015-10-01T00:00:00\", \"2015-10-05T00:00:00\", \"2015-10-06T00:00:00\", \"2015-10-07T00:00:00\", \"2015-10-08T00:00:00\", \"2015-10-09T00:00:00\", \"2015-10-12T00:00:00\", \"2015-10-13T00:00:00\", \"2015-10-14T00:00:00\", \"2015-10-15T00:00:00\", \"2015-10-16T00:00:00\", \"2015-10-19T00:00:00\", \"2015-10-20T00:00:00\", \"2015-10-21T00:00:00\", \"2015-10-23T00:00:00\", \"2015-10-26T00:00:00\", \"2015-10-27T00:00:00\", \"2015-10-28T00:00:00\", \"2015-10-29T00:00:00\", \"2015-10-30T00:00:00\", \"2015-11-02T00:00:00\", \"2015-11-03T00:00:00\", \"2015-11-04T00:00:00\", \"2015-11-05T00:00:00\", \"2015-11-06T00:00:00\", \"2015-11-09T00:00:00\", \"2015-11-10T00:00:00\", \"2015-11-11T00:00:00\", \"2015-11-13T00:00:00\", \"2015-11-16T00:00:00\", \"2015-11-17T00:00:00\", \"2015-11-18T00:00:00\", \"2015-11-19T00:00:00\", \"2015-11-20T00:00:00\", \"2015-11-23T00:00:00\", \"2015-11-24T00:00:00\", \"2015-11-26T00:00:00\", \"2015-11-27T00:00:00\", \"2015-11-30T00:00:00\", \"2015-12-01T00:00:00\", \"2015-12-02T00:00:00\", \"2015-12-03T00:00:00\", \"2015-12-04T00:00:00\", \"2015-12-07T00:00:00\", \"2015-12-08T00:00:00\", \"2015-12-09T00:00:00\", \"2015-12-10T00:00:00\", \"2015-12-11T00:00:00\", \"2015-12-14T00:00:00\", \"2015-12-15T00:00:00\", \"2015-12-16T00:00:00\", \"2015-12-17T00:00:00\", \"2015-12-18T00:00:00\", \"2015-12-21T00:00:00\", \"2015-12-22T00:00:00\", \"2015-12-23T00:00:00\", \"2015-12-24T00:00:00\", \"2015-12-28T00:00:00\", \"2015-12-29T00:00:00\", \"2015-12-30T00:00:00\", \"2015-12-31T00:00:00\", \"2016-01-01T00:00:00\", \"2016-01-04T00:00:00\", \"2016-01-05T00:00:00\", \"2016-01-06T00:00:00\", \"2016-01-07T00:00:00\", \"2016-01-08T00:00:00\", \"2016-01-11T00:00:00\", \"2016-01-12T00:00:00\", \"2016-01-13T00:00:00\", \"2016-01-14T00:00:00\", \"2016-01-15T00:00:00\", \"2016-01-18T00:00:00\", \"2016-01-19T00:00:00\", \"2016-01-20T00:00:00\", \"2016-01-21T00:00:00\", \"2016-01-22T00:00:00\", \"2016-01-25T00:00:00\", \"2016-01-27T00:00:00\", \"2016-01-28T00:00:00\", \"2016-01-29T00:00:00\", \"2016-02-01T00:00:00\", \"2016-02-02T00:00:00\", \"2016-02-03T00:00:00\", \"2016-02-04T00:00:00\", \"2016-02-05T00:00:00\", \"2016-02-08T00:00:00\", \"2016-02-09T00:00:00\", \"2016-02-10T00:00:00\", \"2016-02-11T00:00:00\", \"2016-02-12T00:00:00\", \"2016-02-15T00:00:00\", \"2016-02-16T00:00:00\", \"2016-02-17T00:00:00\", \"2016-02-18T00:00:00\", \"2016-02-19T00:00:00\", \"2016-02-22T00:00:00\", \"2016-02-23T00:00:00\", \"2016-02-24T00:00:00\", \"2016-02-25T00:00:00\", \"2016-02-26T00:00:00\", \"2016-02-29T00:00:00\", \"2016-03-01T00:00:00\", \"2016-03-02T00:00:00\", \"2016-03-03T00:00:00\", \"2016-03-04T00:00:00\", \"2016-03-08T00:00:00\", \"2016-03-09T00:00:00\", \"2016-03-10T00:00:00\", \"2016-03-11T00:00:00\", \"2016-03-14T00:00:00\", \"2016-03-15T00:00:00\", \"2016-03-16T00:00:00\", \"2016-03-17T00:00:00\", \"2016-03-18T00:00:00\", \"2016-03-21T00:00:00\", \"2016-03-22T00:00:00\", \"2016-03-23T00:00:00\", \"2016-03-28T00:00:00\", \"2016-03-29T00:00:00\", \"2016-03-30T00:00:00\", \"2016-03-31T00:00:00\", \"2016-04-01T00:00:00\", \"2016-04-04T00:00:00\", \"2016-04-05T00:00:00\", \"2016-04-06T00:00:00\", \"2016-04-07T00:00:00\", \"2016-04-08T00:00:00\", \"2016-04-11T00:00:00\", \"2016-04-12T00:00:00\", \"2016-04-13T00:00:00\", \"2016-04-18T00:00:00\", \"2016-04-20T00:00:00\", \"2016-04-21T00:00:00\", \"2016-04-22T00:00:00\", \"2016-04-25T00:00:00\", \"2016-04-26T00:00:00\", \"2016-04-27T00:00:00\", \"2016-04-28T00:00:00\", \"2016-04-29T00:00:00\", \"2016-05-02T00:00:00\", \"2016-05-03T00:00:00\", \"2016-05-04T00:00:00\", \"2016-05-05T00:00:00\", \"2016-05-06T00:00:00\", \"2016-05-09T00:00:00\", \"2016-05-10T00:00:00\", \"2016-05-11T00:00:00\", \"2016-05-12T00:00:00\", \"2016-05-13T00:00:00\", \"2016-05-16T00:00:00\", \"2016-05-17T00:00:00\", \"2016-05-18T00:00:00\", \"2016-05-19T00:00:00\", \"2016-05-20T00:00:00\", \"2016-05-23T00:00:00\", \"2016-05-24T00:00:00\", \"2016-05-25T00:00:00\", \"2016-05-26T00:00:00\", \"2016-05-27T00:00:00\", \"2016-05-30T00:00:00\", \"2016-05-31T00:00:00\", \"2016-06-01T00:00:00\", \"2016-06-02T00:00:00\", \"2016-06-03T00:00:00\", \"2016-06-06T00:00:00\", \"2016-06-07T00:00:00\", \"2016-06-08T00:00:00\", \"2016-06-09T00:00:00\", \"2016-06-10T00:00:00\", \"2016-06-13T00:00:00\", \"2016-06-14T00:00:00\", \"2016-06-15T00:00:00\", \"2016-06-16T00:00:00\", \"2016-06-17T00:00:00\", \"2016-06-20T00:00:00\", \"2016-06-21T00:00:00\", \"2016-06-22T00:00:00\", \"2016-06-23T00:00:00\", \"2016-06-24T00:00:00\", \"2016-06-27T00:00:00\", \"2016-06-28T00:00:00\", \"2016-06-29T00:00:00\", \"2016-06-30T00:00:00\", \"2016-07-01T00:00:00\", \"2016-07-04T00:00:00\", \"2016-07-05T00:00:00\", \"2016-07-07T00:00:00\", \"2016-07-08T00:00:00\", \"2016-07-11T00:00:00\", \"2016-07-12T00:00:00\", \"2016-07-13T00:00:00\", \"2016-07-14T00:00:00\", \"2016-07-15T00:00:00\", \"2016-07-18T00:00:00\", \"2016-07-19T00:00:00\", \"2016-07-20T00:00:00\", \"2016-07-21T00:00:00\", \"2016-07-22T00:00:00\", \"2016-07-25T00:00:00\", \"2016-07-26T00:00:00\", \"2016-07-27T00:00:00\", \"2016-07-28T00:00:00\", \"2016-07-29T00:00:00\", \"2016-08-01T00:00:00\", \"2016-08-02T00:00:00\", \"2016-08-03T00:00:00\", \"2016-08-04T00:00:00\", \"2016-08-05T00:00:00\", \"2016-08-08T00:00:00\", \"2016-08-09T00:00:00\", \"2016-08-10T00:00:00\", \"2016-08-11T00:00:00\", \"2016-08-12T00:00:00\", \"2016-08-16T00:00:00\", \"2016-08-17T00:00:00\", \"2016-08-18T00:00:00\", \"2016-08-19T00:00:00\", \"2016-08-22T00:00:00\", \"2016-08-23T00:00:00\", \"2016-08-24T00:00:00\", \"2016-08-25T00:00:00\", \"2016-08-26T00:00:00\", \"2016-08-29T00:00:00\", \"2016-08-30T00:00:00\", \"2016-08-31T00:00:00\", \"2016-09-01T00:00:00\", \"2016-09-02T00:00:00\", \"2016-09-06T00:00:00\", \"2016-09-07T00:00:00\", \"2016-09-08T00:00:00\", \"2016-09-09T00:00:00\", \"2016-09-12T00:00:00\", \"2016-09-14T00:00:00\", \"2016-09-15T00:00:00\", \"2016-09-16T00:00:00\", \"2016-09-19T00:00:00\", \"2016-09-20T00:00:00\", \"2016-09-21T00:00:00\", \"2016-09-22T00:00:00\", \"2016-09-23T00:00:00\", \"2016-09-26T00:00:00\", \"2016-09-27T00:00:00\", \"2016-09-28T00:00:00\", \"2016-09-29T00:00:00\", \"2016-09-30T00:00:00\", \"2016-10-03T00:00:00\", \"2016-10-04T00:00:00\", \"2016-10-05T00:00:00\", \"2016-10-06T00:00:00\", \"2016-10-07T00:00:00\", \"2016-10-10T00:00:00\", \"2016-10-13T00:00:00\", \"2016-10-14T00:00:00\", \"2016-10-17T00:00:00\", \"2016-10-18T00:00:00\", \"2016-10-19T00:00:00\", \"2016-10-20T00:00:00\", \"2016-10-21T00:00:00\", \"2016-10-24T00:00:00\", \"2016-10-25T00:00:00\", \"2016-10-26T00:00:00\", \"2016-10-27T00:00:00\", \"2016-10-28T00:00:00\", \"2016-10-30T00:00:00\", \"2016-11-01T00:00:00\", \"2016-11-02T00:00:00\", \"2016-11-03T00:00:00\", \"2016-11-04T00:00:00\", \"2016-11-07T00:00:00\", \"2016-11-08T00:00:00\", \"2016-11-09T00:00:00\", \"2016-11-10T00:00:00\", \"2016-11-11T00:00:00\", \"2016-11-15T00:00:00\", \"2016-11-16T00:00:00\", \"2016-11-17T00:00:00\", \"2016-11-18T00:00:00\", \"2016-11-21T00:00:00\", \"2016-11-22T00:00:00\", \"2016-11-23T00:00:00\", \"2016-11-24T00:00:00\", \"2016-11-25T00:00:00\", \"2016-11-28T00:00:00\", \"2016-11-29T00:00:00\", \"2016-11-30T00:00:00\", \"2016-12-01T00:00:00\", \"2016-12-02T00:00:00\", \"2016-12-05T00:00:00\", \"2016-12-06T00:00:00\", \"2016-12-07T00:00:00\", \"2016-12-08T00:00:00\", \"2016-12-09T00:00:00\", \"2016-12-12T00:00:00\", \"2016-12-13T00:00:00\", \"2016-12-14T00:00:00\", \"2016-12-15T00:00:00\", \"2016-12-16T00:00:00\", \"2016-12-19T00:00:00\", \"2016-12-20T00:00:00\", \"2016-12-21T00:00:00\", \"2016-12-22T00:00:00\", \"2016-12-23T00:00:00\", \"2016-12-26T00:00:00\", \"2016-12-27T00:00:00\", \"2016-12-28T00:00:00\", \"2016-12-29T00:00:00\", \"2016-12-30T00:00:00\", \"2017-01-02T00:00:00\", \"2017-01-03T00:00:00\", \"2017-01-04T00:00:00\", \"2017-01-05T00:00:00\", \"2017-01-06T00:00:00\", \"2017-01-09T00:00:00\", \"2017-01-10T00:00:00\", \"2017-01-11T00:00:00\", \"2017-01-12T00:00:00\", \"2017-01-13T00:00:00\", \"2017-01-16T00:00:00\", \"2017-01-17T00:00:00\", \"2017-01-18T00:00:00\", \"2017-01-19T00:00:00\", \"2017-01-20T00:00:00\", \"2017-01-23T00:00:00\", \"2017-01-24T00:00:00\", \"2017-01-25T00:00:00\", \"2017-01-27T00:00:00\", \"2017-01-30T00:00:00\", \"2017-01-31T00:00:00\", \"2017-02-01T00:00:00\", \"2017-02-02T00:00:00\", \"2017-02-03T00:00:00\", \"2017-02-06T00:00:00\", \"2017-02-07T00:00:00\", \"2017-02-08T00:00:00\", \"2017-02-09T00:00:00\", \"2017-02-10T00:00:00\", \"2017-02-13T00:00:00\", \"2017-02-14T00:00:00\", \"2017-02-15T00:00:00\", \"2017-02-16T00:00:00\", \"2017-02-17T00:00:00\", \"2017-02-20T00:00:00\", \"2017-02-21T00:00:00\", \"2017-02-22T00:00:00\", \"2017-02-23T00:00:00\", \"2017-02-27T00:00:00\", \"2017-02-28T00:00:00\", \"2017-03-01T00:00:00\", \"2017-03-02T00:00:00\", \"2017-03-03T00:00:00\", \"2017-03-06T00:00:00\", \"2017-03-07T00:00:00\", \"2017-03-08T00:00:00\", \"2017-03-09T00:00:00\", \"2017-03-10T00:00:00\", \"2017-03-14T00:00:00\", \"2017-03-15T00:00:00\", \"2017-03-16T00:00:00\", \"2017-03-17T00:00:00\", \"2017-03-20T00:00:00\", \"2017-03-21T00:00:00\", \"2017-03-22T00:00:00\", \"2017-03-23T00:00:00\", \"2017-03-24T00:00:00\", \"2017-03-27T00:00:00\", \"2017-03-28T00:00:00\", \"2017-03-29T00:00:00\", \"2017-03-30T00:00:00\", \"2017-03-31T00:00:00\", \"2017-04-03T00:00:00\", \"2017-04-05T00:00:00\", \"2017-04-06T00:00:00\", \"2017-04-07T00:00:00\", \"2017-04-10T00:00:00\", \"2017-04-11T00:00:00\", \"2017-04-12T00:00:00\", \"2017-04-13T00:00:00\", \"2017-04-17T00:00:00\", \"2017-04-18T00:00:00\", \"2017-04-19T00:00:00\", \"2017-04-20T00:00:00\", \"2017-04-21T00:00:00\", \"2017-04-24T00:00:00\", \"2017-04-25T00:00:00\", \"2017-04-26T00:00:00\", \"2017-04-27T00:00:00\", \"2017-04-28T00:00:00\", \"2017-05-02T00:00:00\", \"2017-05-03T00:00:00\", \"2017-05-04T00:00:00\", \"2017-05-05T00:00:00\", \"2017-05-08T00:00:00\", \"2017-05-09T00:00:00\", \"2017-05-10T00:00:00\", \"2017-05-11T00:00:00\", \"2017-05-12T00:00:00\", \"2017-05-15T00:00:00\", \"2017-05-16T00:00:00\", \"2017-05-17T00:00:00\", \"2017-05-18T00:00:00\", \"2017-05-19T00:00:00\", \"2017-05-22T00:00:00\", \"2017-05-23T00:00:00\", \"2017-05-24T00:00:00\", \"2017-05-25T00:00:00\", \"2017-05-26T00:00:00\", \"2017-05-29T00:00:00\", \"2017-05-30T00:00:00\", \"2017-05-31T00:00:00\", \"2017-06-01T00:00:00\", \"2017-06-02T00:00:00\", \"2017-06-05T00:00:00\", \"2017-06-06T00:00:00\", \"2017-06-07T00:00:00\", \"2017-06-08T00:00:00\", \"2017-06-09T00:00:00\", \"2017-06-12T00:00:00\", \"2017-06-13T00:00:00\", \"2017-06-14T00:00:00\", \"2017-06-15T00:00:00\", \"2017-06-16T00:00:00\", \"2017-06-19T00:00:00\", \"2017-06-20T00:00:00\", \"2017-06-21T00:00:00\", \"2017-06-22T00:00:00\", \"2017-06-23T00:00:00\", \"2017-06-27T00:00:00\", \"2017-06-28T00:00:00\", \"2017-06-29T00:00:00\", \"2017-06-30T00:00:00\", \"2017-07-03T00:00:00\", \"2017-07-04T00:00:00\", \"2017-07-05T00:00:00\", \"2017-07-06T00:00:00\", \"2017-07-07T00:00:00\", \"2017-07-11T00:00:00\", \"2017-07-12T00:00:00\", \"2017-07-13T00:00:00\", \"2017-07-14T00:00:00\", \"2017-07-17T00:00:00\", \"2017-07-18T00:00:00\", \"2017-07-19T00:00:00\", \"2017-07-20T00:00:00\", \"2017-07-21T00:00:00\", \"2017-07-24T00:00:00\", \"2017-07-25T00:00:00\", \"2017-07-26T00:00:00\", \"2017-07-27T00:00:00\", \"2017-07-28T00:00:00\", \"2017-07-31T00:00:00\", \"2017-08-01T00:00:00\", \"2017-08-02T00:00:00\", \"2017-08-03T00:00:00\", \"2017-08-04T00:00:00\", \"2017-08-07T00:00:00\", \"2017-08-08T00:00:00\", \"2017-08-09T00:00:00\", \"2017-08-10T00:00:00\", \"2017-08-11T00:00:00\", \"2017-08-14T00:00:00\", \"2017-08-16T00:00:00\", \"2017-08-17T00:00:00\", \"2017-08-18T00:00:00\", \"2017-08-21T00:00:00\", \"2017-08-22T00:00:00\", \"2017-08-23T00:00:00\", \"2017-08-24T00:00:00\", \"2017-08-28T00:00:00\", \"2017-08-29T00:00:00\", \"2017-08-30T00:00:00\", \"2017-08-31T00:00:00\", \"2017-09-01T00:00:00\", \"2017-09-04T00:00:00\", \"2017-09-05T00:00:00\", \"2017-09-06T00:00:00\", \"2017-09-07T00:00:00\", \"2017-09-08T00:00:00\", \"2017-09-11T00:00:00\", \"2017-09-12T00:00:00\", \"2017-09-13T00:00:00\", \"2017-09-14T00:00:00\", \"2017-09-15T00:00:00\", \"2017-09-18T00:00:00\", \"2017-09-19T00:00:00\", \"2017-09-20T00:00:00\", \"2017-09-21T00:00:00\", \"2017-09-22T00:00:00\", \"2017-09-25T00:00:00\", \"2017-09-26T00:00:00\", \"2017-09-27T00:00:00\", \"2017-09-28T00:00:00\", \"2017-09-29T00:00:00\", \"2017-10-03T00:00:00\", \"2017-10-04T00:00:00\", \"2017-10-05T00:00:00\", \"2017-10-06T00:00:00\", \"2017-10-09T00:00:00\", \"2017-10-10T00:00:00\", \"2017-10-11T00:00:00\", \"2017-10-12T00:00:00\", \"2017-10-13T00:00:00\", \"2017-10-16T00:00:00\", \"2017-10-17T00:00:00\", \"2017-10-18T00:00:00\", \"2017-10-19T00:00:00\", \"2017-10-23T00:00:00\", \"2017-10-24T00:00:00\", \"2017-10-25T00:00:00\", \"2017-10-26T00:00:00\", \"2017-10-27T00:00:00\", \"2017-10-30T00:00:00\", \"2017-10-31T00:00:00\", \"2017-11-01T00:00:00\", \"2017-11-02T00:00:00\", \"2017-11-03T00:00:00\", \"2017-11-06T00:00:00\", \"2017-11-07T00:00:00\", \"2017-11-08T00:00:00\", \"2017-11-09T00:00:00\", \"2017-11-10T00:00:00\", \"2017-11-13T00:00:00\", \"2017-11-14T00:00:00\", \"2017-11-15T00:00:00\", \"2017-11-16T00:00:00\", \"2017-11-17T00:00:00\", \"2017-11-20T00:00:00\", \"2017-11-21T00:00:00\", \"2017-11-22T00:00:00\", \"2017-11-23T00:00:00\", \"2017-11-24T00:00:00\", \"2017-11-27T00:00:00\", \"2017-11-28T00:00:00\", \"2017-11-29T00:00:00\", \"2017-11-30T00:00:00\", \"2017-12-01T00:00:00\", \"2017-12-04T00:00:00\", \"2017-12-05T00:00:00\", \"2017-12-06T00:00:00\", \"2017-12-07T00:00:00\", \"2017-12-08T00:00:00\", \"2017-12-11T00:00:00\", \"2017-12-12T00:00:00\", \"2017-12-13T00:00:00\", \"2017-12-14T00:00:00\", \"2017-12-15T00:00:00\", \"2017-12-18T00:00:00\", \"2017-12-19T00:00:00\", \"2017-12-20T00:00:00\", \"2017-12-21T00:00:00\", \"2017-12-22T00:00:00\", \"2017-12-26T00:00:00\", \"2017-12-27T00:00:00\", \"2017-12-28T00:00:00\", \"2017-12-29T00:00:00\", \"2018-01-01T00:00:00\", \"2018-01-02T00:00:00\", \"2018-01-03T00:00:00\", \"2018-01-04T00:00:00\", \"2018-01-05T00:00:00\", \"2018-01-08T00:00:00\", \"2018-01-09T00:00:00\", \"2018-01-10T00:00:00\", \"2018-01-11T00:00:00\", \"2018-01-12T00:00:00\", \"2018-01-15T00:00:00\", \"2018-01-16T00:00:00\", \"2018-01-17T00:00:00\", \"2018-01-18T00:00:00\", \"2018-01-19T00:00:00\", \"2018-01-22T00:00:00\", \"2018-01-23T00:00:00\", \"2018-01-24T00:00:00\", \"2018-01-25T00:00:00\", \"2018-01-29T00:00:00\", \"2018-01-30T00:00:00\", \"2018-01-31T00:00:00\", \"2018-02-01T00:00:00\", \"2018-02-02T00:00:00\", \"2018-02-05T00:00:00\", \"2018-02-06T00:00:00\", \"2018-02-07T00:00:00\", \"2018-02-08T00:00:00\", \"2018-02-09T00:00:00\", \"2018-02-12T00:00:00\", \"2018-02-14T00:00:00\", \"2018-02-15T00:00:00\", \"2018-02-16T00:00:00\", \"2018-02-19T00:00:00\", \"2018-02-20T00:00:00\", \"2018-02-21T00:00:00\", \"2018-02-22T00:00:00\", \"2018-02-23T00:00:00\", \"2018-02-26T00:00:00\", \"2018-02-27T00:00:00\", \"2018-02-28T00:00:00\", \"2018-03-01T00:00:00\", \"2018-03-05T00:00:00\", \"2018-03-06T00:00:00\", \"2018-03-07T00:00:00\", \"2018-03-08T00:00:00\", \"2018-03-09T00:00:00\", \"2018-03-12T00:00:00\", \"2018-03-13T00:00:00\", \"2018-03-14T00:00:00\", \"2018-03-15T00:00:00\", \"2018-03-16T00:00:00\", \"2018-03-19T00:00:00\", \"2018-03-20T00:00:00\", \"2018-03-21T00:00:00\", \"2018-03-22T00:00:00\", \"2018-03-23T00:00:00\", \"2018-03-26T00:00:00\", \"2018-03-27T00:00:00\", \"2018-03-28T00:00:00\", \"2018-04-02T00:00:00\", \"2018-04-03T00:00:00\", \"2018-04-04T00:00:00\", \"2018-04-05T00:00:00\", \"2018-04-06T00:00:00\", \"2018-04-09T00:00:00\", \"2018-04-10T00:00:00\", \"2018-04-11T00:00:00\", \"2018-04-12T00:00:00\", \"2018-04-13T00:00:00\", \"2018-04-16T00:00:00\", \"2018-04-17T00:00:00\", \"2018-04-18T00:00:00\", \"2018-04-19T00:00:00\", \"2018-04-20T00:00:00\", \"2018-04-23T00:00:00\", \"2018-04-24T00:00:00\", \"2018-04-25T00:00:00\", \"2018-04-26T00:00:00\", \"2018-04-27T00:00:00\", \"2018-04-30T00:00:00\", \"2018-05-02T00:00:00\", \"2018-05-03T00:00:00\", \"2018-05-04T00:00:00\", \"2018-05-07T00:00:00\", \"2018-05-08T00:00:00\", \"2018-05-09T00:00:00\", \"2018-05-10T00:00:00\", \"2018-05-11T00:00:00\", \"2018-05-14T00:00:00\", \"2018-05-15T00:00:00\", \"2018-05-16T00:00:00\", \"2018-05-17T00:00:00\", \"2018-05-18T00:00:00\", \"2018-05-21T00:00:00\", \"2018-05-22T00:00:00\", \"2018-05-23T00:00:00\", \"2018-05-24T00:00:00\", \"2018-05-25T00:00:00\", \"2018-05-28T00:00:00\", \"2018-05-29T00:00:00\", \"2018-05-30T00:00:00\", \"2018-05-31T00:00:00\", \"2018-06-01T00:00:00\", \"2018-06-04T00:00:00\", \"2018-06-05T00:00:00\", \"2018-06-06T00:00:00\", \"2018-06-07T00:00:00\", \"2018-06-08T00:00:00\", \"2018-06-11T00:00:00\", \"2018-06-12T00:00:00\", \"2018-06-13T00:00:00\", \"2018-06-14T00:00:00\", \"2018-06-15T00:00:00\", \"2018-06-18T00:00:00\", \"2018-06-19T00:00:00\", \"2018-06-20T00:00:00\", \"2018-06-21T00:00:00\", \"2018-06-22T00:00:00\", \"2018-06-25T00:00:00\", \"2018-06-26T00:00:00\", \"2018-06-27T00:00:00\", \"2018-06-28T00:00:00\", \"2018-06-29T00:00:00\", \"2018-07-02T00:00:00\", \"2018-07-03T00:00:00\", \"2018-07-04T00:00:00\", \"2018-07-05T00:00:00\", \"2018-07-06T00:00:00\", \"2018-07-09T00:00:00\", \"2018-07-10T00:00:00\", \"2018-07-11T00:00:00\", \"2018-07-12T00:00:00\", \"2018-07-13T00:00:00\", \"2018-07-16T00:00:00\", \"2018-07-17T00:00:00\", \"2018-07-18T00:00:00\", \"2018-07-19T00:00:00\", \"2018-07-20T00:00:00\", \"2018-07-23T00:00:00\", \"2018-07-24T00:00:00\", \"2018-07-25T00:00:00\", \"2018-07-26T00:00:00\", \"2018-07-27T00:00:00\", \"2018-07-30T00:00:00\", \"2018-07-31T00:00:00\", \"2018-08-01T00:00:00\", \"2018-08-02T00:00:00\", \"2018-08-03T00:00:00\", \"2018-08-06T00:00:00\", \"2018-08-07T00:00:00\", \"2018-08-08T00:00:00\", \"2018-08-09T00:00:00\", \"2018-08-10T00:00:00\", \"2018-08-13T00:00:00\", \"2018-08-14T00:00:00\", \"2018-08-16T00:00:00\", \"2018-08-17T00:00:00\", \"2018-08-20T00:00:00\", \"2018-08-21T00:00:00\", \"2018-08-23T00:00:00\", \"2018-08-24T00:00:00\", \"2018-08-27T00:00:00\", \"2018-08-28T00:00:00\", \"2018-08-29T00:00:00\", \"2018-08-30T00:00:00\", \"2018-08-31T00:00:00\", \"2018-09-03T00:00:00\", \"2018-09-04T00:00:00\", \"2018-09-05T00:00:00\", \"2018-09-06T00:00:00\", \"2018-09-07T00:00:00\", \"2018-09-10T00:00:00\", \"2018-09-11T00:00:00\", \"2018-09-12T00:00:00\", \"2018-09-14T00:00:00\", \"2018-09-17T00:00:00\", \"2018-09-18T00:00:00\", \"2018-09-19T00:00:00\", \"2018-09-21T00:00:00\", \"2018-09-24T00:00:00\", \"2018-09-25T00:00:00\", \"2018-09-26T00:00:00\", \"2018-09-27T00:00:00\", \"2018-09-28T00:00:00\", \"2018-10-01T00:00:00\", \"2018-10-03T00:00:00\", \"2018-10-04T00:00:00\", \"2018-10-05T00:00:00\", \"2018-10-08T00:00:00\", \"2018-10-09T00:00:00\", \"2018-10-10T00:00:00\", \"2018-10-11T00:00:00\", \"2018-10-12T00:00:00\", \"2018-10-15T00:00:00\", \"2018-10-16T00:00:00\", \"2018-10-17T00:00:00\", \"2018-10-19T00:00:00\", \"2018-10-22T00:00:00\", \"2018-10-23T00:00:00\", \"2018-10-24T00:00:00\", \"2018-10-25T00:00:00\", \"2018-10-26T00:00:00\", \"2018-10-29T00:00:00\", \"2018-10-30T00:00:00\", \"2018-10-31T00:00:00\", \"2018-11-01T00:00:00\", \"2018-11-02T00:00:00\", \"2018-11-05T00:00:00\", \"2018-11-06T00:00:00\", \"2018-11-07T00:00:00\", \"2018-11-09T00:00:00\", \"2018-11-12T00:00:00\", \"2018-11-13T00:00:00\", \"2018-11-14T00:00:00\", \"2018-11-15T00:00:00\", \"2018-11-16T00:00:00\", \"2018-11-19T00:00:00\", \"2018-11-20T00:00:00\", \"2018-11-21T00:00:00\", \"2018-11-22T00:00:00\", \"2018-11-26T00:00:00\", \"2018-11-27T00:00:00\", \"2018-11-28T00:00:00\", \"2018-11-29T00:00:00\", \"2018-11-30T00:00:00\", \"2018-12-03T00:00:00\", \"2018-12-04T00:00:00\", \"2018-12-05T00:00:00\", \"2018-12-06T00:00:00\", \"2018-12-07T00:00:00\", \"2018-12-10T00:00:00\", \"2018-12-11T00:00:00\", \"2018-12-12T00:00:00\", \"2018-12-13T00:00:00\", \"2018-12-14T00:00:00\", \"2018-12-17T00:00:00\", \"2018-12-18T00:00:00\", \"2018-12-19T00:00:00\", \"2018-12-20T00:00:00\", \"2018-12-21T00:00:00\", \"2018-12-24T00:00:00\", \"2018-12-26T00:00:00\", \"2018-12-27T00:00:00\", \"2018-12-28T00:00:00\", \"2018-12-31T00:00:00\", \"2019-01-01T00:00:00\", \"2019-01-02T00:00:00\", \"2019-01-03T00:00:00\", \"2019-01-04T00:00:00\", \"2019-01-07T00:00:00\", \"2019-01-08T00:00:00\", \"2019-01-09T00:00:00\", \"2019-01-10T00:00:00\", \"2019-01-11T00:00:00\", \"2019-01-14T00:00:00\", \"2019-01-15T00:00:00\", \"2019-01-16T00:00:00\", \"2019-01-17T00:00:00\", \"2019-01-18T00:00:00\", \"2019-01-21T00:00:00\", \"2019-01-22T00:00:00\", \"2019-01-23T00:00:00\", \"2019-01-24T00:00:00\", \"2019-01-25T00:00:00\", \"2019-01-28T00:00:00\", \"2019-01-29T00:00:00\", \"2019-01-30T00:00:00\", \"2019-01-31T00:00:00\", \"2019-02-01T00:00:00\", \"2019-02-04T00:00:00\", \"2019-02-05T00:00:00\", \"2019-02-06T00:00:00\", \"2019-02-07T00:00:00\", \"2019-02-08T00:00:00\", \"2019-02-11T00:00:00\", \"2019-02-12T00:00:00\", \"2019-02-13T00:00:00\", \"2019-02-14T00:00:00\", \"2019-02-15T00:00:00\", \"2019-02-18T00:00:00\", \"2019-02-19T00:00:00\", \"2019-02-20T00:00:00\", \"2019-02-21T00:00:00\", \"2019-02-22T00:00:00\", \"2019-02-25T00:00:00\", \"2019-02-26T00:00:00\", \"2019-02-27T00:00:00\", \"2019-02-28T00:00:00\", \"2019-03-01T00:00:00\", \"2019-03-05T00:00:00\", \"2019-03-06T00:00:00\", \"2019-03-07T00:00:00\", \"2019-03-08T00:00:00\", \"2019-03-11T00:00:00\", \"2019-03-12T00:00:00\", \"2019-03-13T00:00:00\", \"2019-03-14T00:00:00\", \"2019-03-15T00:00:00\", \"2019-03-18T00:00:00\", \"2019-03-19T00:00:00\", \"2019-03-20T00:00:00\", \"2019-03-22T00:00:00\", \"2019-03-25T00:00:00\", \"2019-03-26T00:00:00\", \"2019-03-27T00:00:00\", \"2019-03-28T00:00:00\", \"2019-03-29T00:00:00\", \"2019-04-01T00:00:00\", \"2019-04-02T00:00:00\", \"2019-04-03T00:00:00\", \"2019-04-04T00:00:00\", \"2019-04-05T00:00:00\", \"2019-04-08T00:00:00\", \"2019-04-09T00:00:00\", \"2019-04-10T00:00:00\", \"2019-04-11T00:00:00\", \"2019-04-12T00:00:00\", \"2019-04-15T00:00:00\", \"2019-04-16T00:00:00\", \"2019-04-18T00:00:00\", \"2019-04-22T00:00:00\", \"2019-04-23T00:00:00\", \"2019-04-24T00:00:00\", \"2019-04-25T00:00:00\", \"2019-04-26T00:00:00\", \"2019-04-30T00:00:00\", \"2019-05-02T00:00:00\", \"2019-05-03T00:00:00\", \"2019-05-06T00:00:00\", \"2019-05-07T00:00:00\", \"2019-05-08T00:00:00\", \"2019-05-09T00:00:00\", \"2019-05-10T00:00:00\", \"2019-05-13T00:00:00\", \"2019-05-14T00:00:00\", \"2019-05-15T00:00:00\", \"2019-05-16T00:00:00\", \"2019-05-17T00:00:00\", \"2019-05-20T00:00:00\", \"2019-05-21T00:00:00\", \"2019-05-22T00:00:00\", \"2019-05-23T00:00:00\", \"2019-05-24T00:00:00\", \"2019-05-27T00:00:00\", \"2019-05-28T00:00:00\", \"2019-05-29T00:00:00\", \"2019-05-30T00:00:00\", \"2019-05-31T00:00:00\", \"2019-06-03T00:00:00\", \"2019-06-04T00:00:00\", \"2019-06-06T00:00:00\", \"2019-06-07T00:00:00\", \"2019-06-10T00:00:00\", \"2019-06-11T00:00:00\", \"2019-06-12T00:00:00\", \"2019-06-13T00:00:00\", \"2019-06-14T00:00:00\", \"2019-06-17T00:00:00\", \"2019-06-18T00:00:00\", \"2019-06-19T00:00:00\", \"2019-06-20T00:00:00\", \"2019-06-21T00:00:00\", \"2019-06-24T00:00:00\", \"2019-06-25T00:00:00\", \"2019-06-26T00:00:00\", \"2019-06-27T00:00:00\", \"2019-06-28T00:00:00\", \"2019-07-01T00:00:00\", \"2019-07-02T00:00:00\", \"2019-07-03T00:00:00\", \"2019-07-04T00:00:00\", \"2019-07-05T00:00:00\", \"2019-07-08T00:00:00\", \"2019-07-09T00:00:00\", \"2019-07-10T00:00:00\", \"2019-07-11T00:00:00\", \"2019-07-12T00:00:00\", \"2019-07-15T00:00:00\", \"2019-07-16T00:00:00\", \"2019-07-17T00:00:00\", \"2019-07-18T00:00:00\", \"2019-07-19T00:00:00\", \"2019-07-22T00:00:00\", \"2019-07-23T00:00:00\", \"2019-07-24T00:00:00\", \"2019-07-25T00:00:00\", \"2019-07-26T00:00:00\", \"2019-07-29T00:00:00\", \"2019-07-30T00:00:00\", \"2019-07-31T00:00:00\", \"2019-08-01T00:00:00\", \"2019-08-02T00:00:00\", \"2019-08-05T00:00:00\", \"2019-08-06T00:00:00\", \"2019-08-07T00:00:00\", \"2019-08-08T00:00:00\", \"2019-08-09T00:00:00\", \"2019-08-13T00:00:00\", \"2019-08-14T00:00:00\", \"2019-08-16T00:00:00\", \"2019-08-19T00:00:00\", \"2019-08-20T00:00:00\", \"2019-08-21T00:00:00\", \"2019-08-22T00:00:00\", \"2019-08-23T00:00:00\", \"2019-08-26T00:00:00\", \"2019-08-27T00:00:00\", \"2019-08-28T00:00:00\", \"2019-08-29T00:00:00\", \"2019-08-30T00:00:00\", \"2019-09-03T00:00:00\", \"2019-09-04T00:00:00\", \"2019-09-05T00:00:00\", \"2019-09-06T00:00:00\", \"2019-09-09T00:00:00\", \"2019-09-11T00:00:00\", \"2019-09-12T00:00:00\", \"2019-09-13T00:00:00\", \"2019-09-16T00:00:00\", \"2019-09-17T00:00:00\", \"2019-09-18T00:00:00\", \"2019-09-19T00:00:00\", \"2019-09-20T00:00:00\", \"2019-09-23T00:00:00\", \"2019-09-24T00:00:00\", \"2019-09-25T00:00:00\", \"2019-09-26T00:00:00\", \"2019-09-27T00:00:00\", \"2019-09-30T00:00:00\", \"2019-10-01T00:00:00\", \"2019-10-03T00:00:00\", \"2019-10-04T00:00:00\", \"2019-10-07T00:00:00\", \"2019-10-09T00:00:00\", \"2019-10-10T00:00:00\", \"2019-10-11T00:00:00\", \"2019-10-14T00:00:00\", \"2019-10-15T00:00:00\", \"2019-10-16T00:00:00\", \"2019-10-17T00:00:00\", \"2019-10-18T00:00:00\", \"2019-10-22T00:00:00\", \"2019-10-23T00:00:00\", \"2019-10-24T00:00:00\", \"2019-10-25T00:00:00\", \"2019-10-27T00:00:00\", \"2019-10-29T00:00:00\", \"2019-10-30T00:00:00\", \"2019-10-31T00:00:00\", \"2019-11-01T00:00:00\", \"2019-11-04T00:00:00\", \"2019-11-05T00:00:00\", \"2019-11-06T00:00:00\", \"2019-11-07T00:00:00\", \"2019-11-08T00:00:00\", \"2019-11-11T00:00:00\", \"2019-11-13T00:00:00\", \"2019-11-14T00:00:00\", \"2019-11-15T00:00:00\", \"2019-11-18T00:00:00\", \"2019-11-19T00:00:00\", \"2019-11-20T00:00:00\", \"2019-11-21T00:00:00\", \"2019-11-22T00:00:00\", \"2019-11-25T00:00:00\", \"2019-11-26T00:00:00\", \"2019-11-27T00:00:00\", \"2019-11-28T00:00:00\", \"2019-11-29T00:00:00\", \"2019-12-02T00:00:00\", \"2019-12-03T00:00:00\", \"2019-12-04T00:00:00\", \"2019-12-05T00:00:00\", \"2019-12-06T00:00:00\", \"2019-12-09T00:00:00\", \"2019-12-10T00:00:00\", \"2019-12-11T00:00:00\", \"2019-12-12T00:00:00\", \"2019-12-13T00:00:00\", \"2019-12-16T00:00:00\", \"2019-12-17T00:00:00\", \"2019-12-18T00:00:00\", \"2019-12-19T00:00:00\", \"2019-12-20T00:00:00\", \"2019-12-23T00:00:00\", \"2019-12-24T00:00:00\", \"2019-12-26T00:00:00\", \"2019-12-27T00:00:00\", \"2019-12-30T00:00:00\", \"2019-12-31T00:00:00\", \"2020-01-01T00:00:00\", \"2020-01-02T00:00:00\", \"2020-01-03T00:00:00\", \"2020-01-06T00:00:00\", \"2020-01-07T00:00:00\", \"2020-01-08T00:00:00\", \"2020-01-09T00:00:00\", \"2020-01-10T00:00:00\", \"2020-01-13T00:00:00\", \"2020-01-14T00:00:00\", \"2020-01-15T00:00:00\", \"2020-01-16T00:00:00\", \"2020-01-17T00:00:00\", \"2020-01-20T00:00:00\", \"2020-01-21T00:00:00\", \"2020-01-22T00:00:00\", \"2020-01-23T00:00:00\", \"2020-01-24T00:00:00\", \"2020-01-27T00:00:00\", \"2020-01-28T00:00:00\", \"2020-01-29T00:00:00\", \"2020-01-30T00:00:00\", \"2020-01-31T00:00:00\", \"2020-02-01T00:00:00\", \"2020-02-03T00:00:00\", \"2020-02-04T00:00:00\", \"2020-02-05T00:00:00\", \"2020-02-06T00:00:00\", \"2020-02-07T00:00:00\", \"2020-02-10T00:00:00\", \"2020-02-11T00:00:00\", \"2020-02-12T00:00:00\", \"2020-02-13T00:00:00\", \"2020-02-14T00:00:00\", \"2020-02-17T00:00:00\", \"2020-02-18T00:00:00\", \"2020-02-19T00:00:00\", \"2020-02-20T00:00:00\", \"2020-02-24T00:00:00\", \"2020-02-25T00:00:00\", \"2020-02-26T00:00:00\", \"2020-02-27T00:00:00\", \"2020-02-28T00:00:00\", \"2020-03-02T00:00:00\", \"2020-03-03T00:00:00\", \"2020-03-04T00:00:00\", \"2020-03-05T00:00:00\", \"2020-03-06T00:00:00\", \"2020-03-09T00:00:00\", \"2020-03-11T00:00:00\", \"2020-03-12T00:00:00\", \"2020-03-13T00:00:00\", \"2020-03-16T00:00:00\", \"2020-03-17T00:00:00\", \"2020-03-18T00:00:00\", \"2020-03-19T00:00:00\", \"2020-03-20T00:00:00\", \"2020-03-23T00:00:00\", \"2020-03-24T00:00:00\", \"2020-03-25T00:00:00\", \"2020-03-26T00:00:00\", \"2020-03-27T00:00:00\", \"2020-03-30T00:00:00\", \"2020-03-31T00:00:00\", \"2020-04-01T00:00:00\", \"2020-04-03T00:00:00\", \"2020-04-07T00:00:00\", \"2020-04-08T00:00:00\", \"2020-04-09T00:00:00\", \"2020-04-13T00:00:00\", \"2020-04-15T00:00:00\", \"2020-04-16T00:00:00\", \"2020-04-17T00:00:00\", \"2020-04-20T00:00:00\", \"2020-04-21T00:00:00\", \"2020-04-22T00:00:00\", \"2020-04-23T00:00:00\", \"2020-04-24T00:00:00\", \"2020-04-27T00:00:00\", \"2020-04-28T00:00:00\", \"2020-04-29T00:00:00\", \"2020-04-30T00:00:00\", \"2020-05-04T00:00:00\", \"2020-05-05T00:00:00\", \"2020-05-06T00:00:00\", \"2020-05-07T00:00:00\", \"2020-05-08T00:00:00\", \"2020-05-11T00:00:00\", \"2020-05-12T00:00:00\", \"2020-05-13T00:00:00\", \"2020-05-14T00:00:00\", \"2020-05-15T00:00:00\", \"2020-05-18T00:00:00\", \"2020-05-19T00:00:00\", \"2020-05-20T00:00:00\", \"2020-05-21T00:00:00\", \"2020-05-22T00:00:00\", \"2020-05-26T00:00:00\", \"2020-05-27T00:00:00\", \"2020-05-28T00:00:00\", \"2020-05-29T00:00:00\", \"2020-06-01T00:00:00\", \"2020-06-02T00:00:00\", \"2020-06-03T00:00:00\", \"2020-06-04T00:00:00\", \"2020-06-05T00:00:00\", \"2020-06-08T00:00:00\", \"2020-06-09T00:00:00\", \"2020-06-10T00:00:00\", \"2020-06-11T00:00:00\", \"2020-06-12T00:00:00\", \"2020-06-15T00:00:00\", \"2020-06-16T00:00:00\", \"2020-06-17T00:00:00\", \"2020-06-18T00:00:00\", \"2020-06-19T00:00:00\", \"2020-06-22T00:00:00\", \"2020-06-23T00:00:00\", \"2020-06-24T00:00:00\", \"2020-06-25T00:00:00\", \"2020-06-26T00:00:00\", \"2020-06-29T00:00:00\", \"2020-06-30T00:00:00\", \"2020-07-01T00:00:00\", \"2020-07-02T00:00:00\", \"2020-07-03T00:00:00\", \"2020-07-06T00:00:00\", \"2020-07-07T00:00:00\", \"2020-07-08T00:00:00\", \"2020-07-09T00:00:00\", \"2020-07-10T00:00:00\", \"2020-07-14T00:00:00\", \"2020-07-15T00:00:00\", \"2020-07-16T00:00:00\", \"2020-07-17T00:00:00\", \"2020-07-20T00:00:00\", \"2020-07-21T00:00:00\", \"2020-07-22T00:00:00\", \"2020-07-23T00:00:00\", \"2020-07-24T00:00:00\", \"2020-07-27T00:00:00\", \"2020-07-28T00:00:00\", \"2020-07-29T00:00:00\", \"2020-07-30T00:00:00\", \"2020-07-31T00:00:00\", \"2020-08-03T00:00:00\", \"2020-08-04T00:00:00\", \"2020-08-05T00:00:00\", \"2020-08-06T00:00:00\", \"2020-08-07T00:00:00\", \"2020-08-10T00:00:00\", \"2020-08-11T00:00:00\", \"2020-08-12T00:00:00\", \"2020-08-13T00:00:00\", \"2020-08-14T00:00:00\", \"2020-08-17T00:00:00\", \"2020-08-18T00:00:00\", \"2020-08-19T00:00:00\", \"2020-08-20T00:00:00\", \"2020-08-21T00:00:00\", \"2020-08-24T00:00:00\", \"2020-08-25T00:00:00\", \"2020-08-26T00:00:00\", \"2020-08-27T00:00:00\", \"2020-08-28T00:00:00\", \"2020-08-31T00:00:00\", \"2020-09-01T00:00:00\", \"2020-09-02T00:00:00\", \"2020-09-03T00:00:00\", \"2020-09-04T00:00:00\", \"2020-09-07T00:00:00\", \"2020-09-08T00:00:00\", \"2020-09-09T00:00:00\", \"2020-09-10T00:00:00\", \"2020-09-11T00:00:00\", \"2020-09-14T00:00:00\", \"2020-09-15T00:00:00\", \"2020-09-16T00:00:00\", \"2020-09-17T00:00:00\", \"2020-09-18T00:00:00\", \"2020-09-21T00:00:00\", \"2020-09-22T00:00:00\", \"2020-09-23T00:00:00\", \"2020-09-24T00:00:00\", \"2020-09-25T00:00:00\", \"2020-09-28T00:00:00\", \"2020-09-29T00:00:00\", \"2020-09-30T00:00:00\", \"2020-10-01T00:00:00\", \"2020-10-05T00:00:00\", \"2020-10-06T00:00:00\", \"2020-10-07T00:00:00\", \"2020-10-08T00:00:00\", \"2020-10-09T00:00:00\", \"2020-10-12T00:00:00\", \"2020-10-13T00:00:00\", \"2020-10-14T00:00:00\", \"2020-10-15T00:00:00\", \"2020-10-16T00:00:00\", \"2020-10-19T00:00:00\", \"2020-10-20T00:00:00\", \"2020-10-21T00:00:00\", \"2020-10-22T00:00:00\", \"2020-10-23T00:00:00\", \"2020-10-26T00:00:00\", \"2020-10-27T00:00:00\", \"2020-10-28T00:00:00\", \"2020-10-29T00:00:00\", \"2020-10-30T00:00:00\", \"2020-11-02T00:00:00\", \"2020-11-03T00:00:00\", \"2020-11-04T00:00:00\", \"2020-11-05T00:00:00\", \"2020-11-06T00:00:00\", \"2020-11-09T00:00:00\", \"2020-11-10T00:00:00\", \"2020-11-11T00:00:00\", \"2020-11-12T00:00:00\", \"2020-11-13T00:00:00\", \"2020-11-14T00:00:00\", \"2020-11-17T00:00:00\", \"2020-11-18T00:00:00\", \"2020-11-19T00:00:00\", \"2020-11-20T00:00:00\", \"2020-11-23T00:00:00\", \"2020-11-24T00:00:00\", \"2020-11-25T00:00:00\", \"2020-11-26T00:00:00\", \"2020-11-27T00:00:00\", \"2020-12-01T00:00:00\", \"2020-12-02T00:00:00\", \"2020-12-03T00:00:00\", \"2020-12-04T00:00:00\", \"2020-12-07T00:00:00\", \"2020-12-08T00:00:00\", \"2020-12-09T00:00:00\", \"2020-12-10T00:00:00\", \"2020-12-11T00:00:00\", \"2020-12-14T00:00:00\", \"2020-12-15T00:00:00\", \"2020-12-16T00:00:00\", \"2020-12-17T00:00:00\", \"2020-12-18T00:00:00\", \"2020-12-21T00:00:00\", \"2020-12-22T00:00:00\", \"2020-12-23T00:00:00\", \"2020-12-24T00:00:00\", \"2020-12-28T00:00:00\", \"2020-12-29T00:00:00\", \"2020-12-30T00:00:00\", \"2020-12-31T00:00:00\", \"2021-01-01T00:00:00\", \"2021-01-04T00:00:00\", \"2021-01-05T00:00:00\", \"2021-01-06T00:00:00\", \"2021-01-07T00:00:00\", \"2021-01-08T00:00:00\", \"2021-01-11T00:00:00\", \"2021-01-12T00:00:00\", \"2021-01-13T00:00:00\", \"2021-01-14T00:00:00\", \"2021-01-15T00:00:00\", \"2021-01-18T00:00:00\", \"2021-01-19T00:00:00\", \"2021-01-20T00:00:00\", \"2021-01-21T00:00:00\", \"2021-01-22T00:00:00\", \"2021-01-25T00:00:00\", \"2021-01-27T00:00:00\", \"2021-01-28T00:00:00\", \"2021-01-29T00:00:00\", \"2021-02-01T00:00:00\", \"2021-02-02T00:00:00\", \"2021-02-03T00:00:00\", \"2021-02-04T00:00:00\", \"2021-02-05T00:00:00\", \"2021-02-08T00:00:00\", \"2021-02-09T00:00:00\", \"2021-02-10T00:00:00\", \"2021-02-11T00:00:00\", \"2021-02-12T00:00:00\", \"2021-02-15T00:00:00\", \"2021-02-16T00:00:00\", \"2021-02-17T00:00:00\", \"2021-02-18T00:00:00\", \"2021-02-19T00:00:00\", \"2021-02-22T00:00:00\", \"2021-02-23T00:00:00\", \"2021-02-24T00:00:00\", \"2021-02-25T00:00:00\", \"2021-02-26T00:00:00\", \"2021-03-01T00:00:00\", \"2021-03-02T00:00:00\", \"2021-03-03T00:00:00\", \"2021-03-04T00:00:00\", \"2021-03-05T00:00:00\", \"2021-03-08T00:00:00\", \"2021-03-09T00:00:00\", \"2021-03-10T00:00:00\", \"2021-03-12T00:00:00\", \"2021-03-15T00:00:00\", \"2021-03-16T00:00:00\", \"2021-03-17T00:00:00\", \"2021-03-18T00:00:00\", \"2021-03-19T00:00:00\", \"2021-03-22T00:00:00\", \"2021-03-23T00:00:00\", \"2021-03-24T00:00:00\", \"2021-03-25T00:00:00\", \"2021-03-26T00:00:00\", \"2021-03-30T00:00:00\", \"2021-03-31T00:00:00\", \"2021-04-01T00:00:00\", \"2021-04-05T00:00:00\", \"2021-04-06T00:00:00\", \"2021-04-07T00:00:00\", \"2021-04-08T00:00:00\", \"2021-04-09T00:00:00\", \"2021-04-12T00:00:00\", \"2021-04-13T00:00:00\", \"2021-04-15T00:00:00\", \"2021-04-16T00:00:00\", \"2021-04-19T00:00:00\", \"2021-04-20T00:00:00\", \"2021-04-22T00:00:00\", \"2021-04-23T00:00:00\", \"2021-04-26T00:00:00\", \"2021-04-27T00:00:00\", \"2021-04-28T00:00:00\", \"2021-04-29T00:00:00\", \"2021-04-30T00:00:00\", \"2021-05-03T00:00:00\", \"2021-05-04T00:00:00\", \"2021-05-05T00:00:00\", \"2021-05-06T00:00:00\", \"2021-05-07T00:00:00\", \"2021-05-10T00:00:00\", \"2021-05-11T00:00:00\", \"2021-05-12T00:00:00\", \"2021-05-14T00:00:00\", \"2021-05-17T00:00:00\", \"2021-05-18T00:00:00\", \"2021-05-19T00:00:00\", \"2021-05-20T00:00:00\", \"2021-05-21T00:00:00\", \"2021-05-24T00:00:00\", \"2021-05-25T00:00:00\", \"2021-05-26T00:00:00\", \"2021-05-27T00:00:00\", \"2021-05-28T00:00:00\", \"2021-05-31T00:00:00\", \"2021-06-01T00:00:00\", \"2021-06-02T00:00:00\", \"2021-06-03T00:00:00\", \"2021-06-04T00:00:00\", \"2021-06-07T00:00:00\", \"2021-06-08T00:00:00\", \"2021-06-09T00:00:00\", \"2021-06-10T00:00:00\", \"2021-06-11T00:00:00\", \"2021-06-14T00:00:00\", \"2021-06-15T00:00:00\", \"2021-06-16T00:00:00\", \"2021-06-17T00:00:00\", \"2021-06-18T00:00:00\", \"2021-06-21T00:00:00\", \"2021-06-22T00:00:00\", \"2021-06-23T00:00:00\", \"2021-06-24T00:00:00\", \"2021-06-25T00:00:00\", \"2021-06-28T00:00:00\", \"2021-06-29T00:00:00\", \"2021-06-30T00:00:00\", \"2021-07-01T00:00:00\", \"2021-07-02T00:00:00\", \"2021-07-05T00:00:00\", \"2021-07-06T00:00:00\", \"2021-07-07T00:00:00\", \"2021-07-08T00:00:00\", \"2021-07-09T00:00:00\", \"2021-07-12T00:00:00\", \"2021-07-13T00:00:00\", \"2021-07-14T00:00:00\", \"2021-07-15T00:00:00\", \"2021-07-16T00:00:00\", \"2021-07-19T00:00:00\", \"2021-07-20T00:00:00\", \"2021-07-22T00:00:00\", \"2021-07-23T00:00:00\", \"2021-07-26T00:00:00\", \"2021-07-27T00:00:00\", \"2021-07-28T00:00:00\", \"2021-07-29T00:00:00\", \"2021-07-30T00:00:00\", \"2021-08-02T00:00:00\", \"2021-08-03T00:00:00\", \"2021-08-04T00:00:00\", \"2021-08-05T00:00:00\", \"2021-08-06T00:00:00\", \"2021-08-09T00:00:00\", \"2021-08-10T00:00:00\", \"2021-08-11T00:00:00\", \"2021-08-12T00:00:00\", \"2021-08-13T00:00:00\", \"2021-08-16T00:00:00\", \"2021-08-17T00:00:00\", \"2021-08-18T00:00:00\", \"2021-08-20T00:00:00\", \"2021-08-23T00:00:00\", \"2021-08-24T00:00:00\", \"2021-08-25T00:00:00\", \"2021-08-26T00:00:00\", \"2021-08-27T00:00:00\", \"2021-08-30T00:00:00\", \"2021-08-31T00:00:00\", \"2021-09-01T00:00:00\", \"2021-09-02T00:00:00\", \"2021-09-03T00:00:00\", \"2021-09-06T00:00:00\", \"2021-09-07T00:00:00\", \"2021-09-08T00:00:00\", \"2021-09-09T00:00:00\", \"2021-09-13T00:00:00\", \"2021-09-14T00:00:00\", \"2021-09-15T00:00:00\", \"2021-09-16T00:00:00\", \"2021-09-17T00:00:00\", \"2021-09-20T00:00:00\", \"2021-09-21T00:00:00\", \"2021-09-22T00:00:00\", \"2021-09-23T00:00:00\", \"2021-09-24T00:00:00\", \"2021-09-27T00:00:00\", \"2021-09-28T00:00:00\", \"2021-09-29T00:00:00\", \"2021-09-30T00:00:00\", \"2021-10-01T00:00:00\", \"2021-10-04T00:00:00\", \"2021-10-05T00:00:00\", \"2021-10-06T00:00:00\", \"2021-10-07T00:00:00\", \"2021-10-08T00:00:00\", \"2021-10-11T00:00:00\", \"2021-10-12T00:00:00\", \"2021-10-13T00:00:00\", \"2021-10-14T00:00:00\", \"2021-10-18T00:00:00\", \"2021-10-19T00:00:00\", \"2021-10-20T00:00:00\", \"2021-10-21T00:00:00\", \"2021-10-22T00:00:00\", \"2021-10-25T00:00:00\", \"2021-10-26T00:00:00\", \"2021-10-27T00:00:00\", \"2021-10-28T00:00:00\", \"2021-10-29T00:00:00\", \"2021-11-01T00:00:00\", \"2021-11-02T00:00:00\", \"2021-11-03T00:00:00\", \"2021-11-04T00:00:00\", \"2021-11-08T00:00:00\", \"2021-11-09T00:00:00\", \"2021-11-10T00:00:00\", \"2021-11-11T00:00:00\", \"2021-11-12T00:00:00\", \"2021-11-15T00:00:00\", \"2021-11-16T00:00:00\", \"2021-11-17T00:00:00\", \"2021-11-18T00:00:00\"], \"y\": [887, 886, 882, 870, 867, 862, 862, 860, 858, 855, 856, 857, 859, 863, 867, 868, 870, 871, 874, 878, 880, 882, 886, 888, 891, 892, 892, 891, 892, 893, 894, 895, 895, 895, 894, 892, 889, 887, 885, 883, 882, 881, 882, 883, 883, 882, 881, 880, 879, 878, 876, 875, 875, 874, 873, 872, 871, 870, 868, 865, 863, 861, 860, 859, 858, 858, 859, 861, 864, 866, 869, 871, 872, 872, 872, 873, 873, 873, 873, 872, 871, 872, 873, 873, 873, 874, 874, 874, 875, 875, 875, 875, 876, 877, 878, 879, 880, 880, 880, 880, 880, 881, 881, 882, 883, 884, 884, 884, 885, 885, 885, 885, 886, 888, 892, 896, 899, 903, 907, 911, 914, 917, 920, 924, 927, 930, 934, 936, 939, 941, 943, 945, 948, 950, 953, 956, 958, 960, 964, 967, 969, 971, 972, 973, 974, 975, 976, 977, 977, 977, 977, 977, 977, 975, 974, 973, 972, 971, 971, 968, 966, 961, 956, 952, 949, 946, 942, 938, 935, 932, 928, 924, 921, 919, 917, 915, 913, 911, 910, 909, 908, 905, 903, 901, 898, 896, 894, 893, 893, 893, 894, 894, 893, 893, 893, 894, 894, 895, 897, 900, 902, 904, 906, 907, 908, 909, 911, 913, 915, 916, 917, 918, 920, 920, 920, 921, 921, 922, 921, 922, 923, 924, 926, 928, 930, 931, 933, 934, 936, 937, 938, 938, 937, 938, 938, 939, 940, 942, 944, 946, 948, 950, 952, 954, 956, 958, 960, 962, 964, 965, 967, 969, 971, 973, 976, 979, 983, 986, 989, 990, 992, 993, 992, 993, 993, 994, 994, 996, 997, 997, 997, 996, 995, 994, 992, 991, 988, 985, 984, 981, 980, 979, 977, 977, 976, 975, 974, 973, 972, 973, 974, 975, 976, 978, 981, 982, 983, 985, 986, 988, 989, 990, 992, 994, 995, 996, 998, 1000, 1002, 1003, 1004, 1005, 1006, 1007, 1008, 1010, 1011, 1013, 1015, 1016, 1017, 1018, 1018, 1018, 1018, 1017, 1016, 1014, 1013, 1012, 1010, 1008, 1007, 1006, 1005, 1005, 1004, 1003, 1001, 1000, 998, 996, 993, 991, 989, 988, 987, 986, 985, 984, 983, 982, 981, 980, 979, 978, 978, 978, 978, 979, 978, 978, 979, 979, 979, 979, 978, 977, 976, 976, 976, 976, 976, 977, 977, 977, 978, 979, 980, 981, 982, 983, 984, 986, 987, 988, 989, 990, 991, 993, 993, 994, 995, 995, 995, 995, 997, 998, 998, 999, 1000, 1001, 1002, 1002, 1003, 1003, 1003, 1004, 1004, 1005, 1007, 1010, 1012, 1012, 1012, 1013, 1013, 1014, 1015, 1016, 1017, 1019, 1021, 1023, 1025, 1027, 1030, 1033, 1035, 1038, 1040, 1042, 1043, 1045, 1047, 1049, 1051, 1053, 1055, 1055, 1056, 1056, 1057, 1058, 1059, 1060, 1060, 1060, 1059, 1059, 1059, 1059, 1058, 1057, 1056, 1054, 1051, 1050, 1048, 1046, 1045, 1042, 1040, 1038, 1036, 1034, 1033, 1032, 1030, 1028, 1027, 1026, 1024, 1023, 1022, 1021, 1020, 1019, 1019, 1020, 1020, 1021, 1022, 1023, 1025, 1026, 1027, 1029, 1030, 1031, 1031, 1033, 1033, 1035, 1036, 1038, 1040, 1041, 1043, 1044, 1045, 1047, 1049, 1050, 1051, 1052, 1052, 1051, 1050, 1049, 1048, 1047, 1046, 1045, 1045, 1045, 1045, 1045, 1045, 1045, 1044, 1043, 1043, 1042, 1042, 1042, 1042, 1043, 1045, 1046, 1048, 1054, 1059, 1066, 1073, 1079, 1085, 1092, 1100, 1108, 1115, 1122, 1128, 1135, 1141, 1147, 1153, 1158, 1162, 1166, 1170, 1175, 1178, 1181, 1184, 1187, 1192, 1199, 1208, 1217, 1224, 1230, 1236, 1241, 1245, 1251, 1256, 1260, 1264, 1270, 1276, 1282, 1287, 1292, 1296, 1299, 1302, 1304, 1305, 1305, 1306, 1308, 1310, 1312, 1313, 1315, 1316, 1317, 1317, 1317, 1317, 1316, 1315, 1316, 1318, 1319, 1320, 1320, 1321, 1321, 1321, 1321, 1322, 1322, 1322, 1322, 1323, 1325, 1328, 1331, 1334, 1338, 1341, 1345, 1349, 1351, 1352, 1353, 1354, 1357, 1360, 1364, 1369, 1373, 1379, 1384, 1390, 1397, 1401, 1407, 1411, 1418, 1426, 1433, 1440, 1446, 1452, 1458, 1464, 1470, 1478, 1483, 1488, 1493, 1497, 1500, 1502, 1505, 1507, 1510, 1512, 1514, 1516, 1519, 1520, 1522, 1523, 1524, 1527, 1530, 1533, 1537, 1542, 1513, 1486, 1460, 1435, 1412, 1389, 1368, 1347, 1327, 1309, 1290, 1272, 1254, 1237, 1220, 1203, 1186, 1171, 1157, 1144, 1132, 1120, 1109, 1099, 1090, 1081, 1073, 1066, 1060, 1054, 1049, 1045, 1041, 1037, 1033, 1029, 1026, 1023, 1020, 1017, 1013, 1009, 1005, 1000, 996, 991, 987, 983, 980, 977, 975, 973, 971, 971, 970, 969, 968, 967, 965, 963, 961, 959, 958, 956, 955, 954, 952, 951, 949, 948, 947, 946, 945, 944, 943, 942, 942, 941, 940, 939, 938, 937, 936, 936, 935, 936, 936, 936, 936, 937, 936, 936, 935, 935, 936, 938, 939, 940, 941, 942, 942, 942, 941, 939, 937, 936, 935, 933, 932, 932, 932, 932, 932, 931, 931, 931, 931, 931, 932, 933, 934, 933, 932, 931, 930, 929, 929, 929, 929, 929, 927, 926, 925, 924, 923, 922, 921, 920, 919, 918, 917, 916, 916, 915, 915, 915, 916, 917, 917, 918, 919, 920, 921, 921, 922, 923, 925, 927, 930, 931, 933, 934, 935, 936, 937, 939, 940, 942, 944, 945, 946, 946, 945, 945, 944, 943, 942, 941, 940, 939, 938, 937, 937, 937, 938, 938, 940, 941, 943, 945, 947, 950, 952, 955, 956, 959, 962, 964, 965, 966, 966, 965, 965, 965, 965, 966, 966, 966, 968, 970, 973, 977, 982, 985, 990, 994, 998, 1003, 1008, 1012, 1016, 1019, 1024, 1029, 1035, 1041, 1046, 1051, 1057, 1062, 1068, 1074, 1079, 1083, 1088, 1092, 1097, 1102, 1108, 1114, 1120, 1127, 1135, 1141, 1146, 1150, 1153, 1156, 1159, 1163, 1168, 1171, 1174, 1177, 1180, 1182, 1183, 1184, 1185, 1187, 1189, 1191, 1194, 1196, 1198, 1198, 1195, 1189, 1186, 1182, 1179, 1175, 1173, 1172, 1172, 1171, 1168, 1164, 1160, 1155, 1150, 1146, 1144, 1140, 1137, 1134, 1132, 1130, 1129, 1128, 1127, 1125, 1124, 1123, 1122, 1122, 1123, 1124, 1123, 1123, 1122, 1122, 1123, 1125, 1127, 1128, 1129, 1130, 1130, 1130, 1128, 1127, 1126, 1126, 1125, 1125, 1126, 1126, 1126, 1125, 1124, 1123, 1122, 1123, 1123, 1122, 1122, 1121, 1120, 1119, 1119, 1118, 1118, 1117, 1116, 1117, 1117, 1118, 1121, 1125, 1130, 1133, 1138, 1142, 1145, 1148, 1150, 1153, 1157, 1162, 1167, 1173, 1177, 1181, 1184, 1187, 1189, 1190, 1192, 1194, 1194, 1196, 1198, 1199, 1201, 1201, 1202, 1203, 1204, 1205, 1208, 1210, 1212, 1216, 1220, 1225, 1230, 1234, 1238, 1243, 1249, 1252, 1255, 1259, 1263, 1267, 1271, 1275, 1280, 1283, 1286, 1289, 1290, 1292, 1294, 1296, 1297, 1299, 1301, 1304, 1306, 1308, 1311, 1314, 1317, 1320, 1323, 1326, 1329, 1329, 1328, 1325, 1322, 1319, 1316, 1314, 1312, 1310, 1311, 1312, 1313, 1314, 1315, 1315, 1315, 1315, 1315, 1316, 1318, 1319, 1319, 1319, 1319, 1319, 1320, 1320, 1320, 1319, 1317, 1316, 1315, 1313, 1311, 1311, 1310, 1309, 1306, 1305, 1304, 1303, 1302, 1301, 1299, 1298, 1297, 1297, 1296, 1295, 1295, 1295, 1293, 1291, 1291, 1290, 1289, 1287, 1284, 1281, 1277, 1273, 1269, 1266, 1261, 1256, 1250, 1246, 1243, 1244, 1246, 1247, 1249, 1250, 1251, 1250, 1251, 1252, 1253, 1253, 1253, 1253, 1251, 1249, 1247, 1246, 1245, 1244, 1243, 1242, 1241, 1239, 1238, 1236, 1236, 1237, 1238, 1240, 1242, 1245, 1248, 1250, 1253, 1255, 1257, 1260, 1264, 1267, 1271, 1274, 1278, 1283, 1288, 1293, 1297, 1302, 1307, 1312, 1318, 1325, 1330, 1335, 1340, 1344, 1347, 1352, 1355, 1358, 1363, 1367, 1371, 1374, 1379, 1386, 1392, 1398, 1404, 1410, 1417, 1423, 1428, 1434, 1440, 1444, 1449, 1453, 1457, 1461, 1465, 1469, 1474, 1477, 1481, 1484, 1489, 1494, 1497, 1499, 1499, 1501, 1503, 1503, 1503, 1505, 1506, 1506, 1506, 1507, 1508, 1510, 1511, 1512, 1512, 1513, 1516, 1516, 1517, 1518, 1518, 1518, 1518, 1516, 1514, 1512, 1508, 1503, 1498, 1495, 1493, 1492, 1490, 1488, 1486, 1486, 1485, 1485, 1485, 1484, 1485, 1485, 1483, 1481, 1477, 1474, 1468, 1462, 1457, 1453, 1447, 1440, 1427, 1417, 1403, 1391, 1376, 1362, 1346, 1330, 1317, 1300, 1286, 1278, 1270, 1262, 1253, 1247, 1241, 1234, 1233, 1232, 1231, 1229, 1226, 1224, 1224, 1225, 1225, 1231, 1236, 1243, 1250, 1257, 1264, 1272, 1278, 1285, 1292, 1301, 1311, 1321, 1328, 1334, 1338, 1343, 1347, 1349, 1352, 1356, 1359, 1361, 1365, 1369, 1373, 1378, 1384, 1391, 1398, 1405, 1412, 1417, 1423, 1427, 1433, 1441, 1447, 1454, 1462, 1474, 1484, 1493, 1503, 1511, 1520, 1528, 1535, 1543, 1551, 1561, 1572, 1582, 1590, 1599, 1610, 1622, 1631, 1639, 1650, 1661, 1673, 1686, 1700, 1718, 1735, 1752, 1766, 1779, 1790, 1799, 1813, 1825, 1837, 1849, 1860, 1871, 1881, 1890, 1899, 1906, 1915, 1923, 1930, 1936, 1942, 1948, 1955, 1961, 1967, 1972, 1976, 1982, 1987, 1991, 1994, 1999, 2005, 2017, 2029, 2040, 2051, 2061, 2071, 2080, 2087, 2092, 2097, 2100, 2104, 2109, 2114, 2119, 2123, 2126, 2130, 2135, 2139, 2142, 2146, 2151, 2157, 2159, 2159, 2160, 2160, 2158, 2156, 2155, 2150, 2145, 2140, 2135, 2132, 2122, 2111, 2104, 2098, 2095, 2093, 2093, 2089, 2085, 2081, 2078, 2075, 2071, 2068, 2061, 2057, 2053, 2049, 2045, 2041, 2037, 2034, 2031, 2028, 2025, 2024, 2024, 2023, 2023, 2021, 2020, 2018, 2017, 2016, 2013, 2010, 2007, 2006, 2006, 2006, 2005, 2004, 2004, 2003, 2002, 1998, 1995, 1992, 1989, 1987, 1985, 1984, 1983, 1983, 1984, 1987, 1991, 1993, 1991, 1988, 1983, 1978, 1974, 1972, 1971, 1969, 1967, 1966, 1966, 1966, 1970, 1973, 1975, 1978, 1982, 1986, 1989, 1990, 1991, 1994, 2000, 2003, 2007, 2011, 2018, 2025, 2031, 2037, 2043, 2048, 2052, 2054, 2056, 2056, 2054, 2055, 2055, 2057, 2056, 2054, 2051, 2050, 2049, 2047, 2045, 2043, 2041, 2040, 2038, 2033, 2029, 2025, 2022, 2017, 2012, 2008, 2004, 2001, 2001, 2001, 2002, 2001, 2000, 1996, 1993, 1991, 1989, 1986, 1984, 1981, 1979, 1979, 1979, 1980, 1980, 1981, 1981, 1980, 1980, 1980, 1984, 1991, 1998, 2006, 2014, 2021, 2029, 2036, 2042, 2047, 2054, 2061, 2068, 2074, 2080, 2085, 2091, 2097, 2101, 2103, 2103, 2102, 2102, 2102, 2102, 2103, 2105, 2105, 2106, 2105, 2104, 2103, 2103, 2102, 2101, 2102, 2102, 2101, 2102, 2102, 2101, 2099, 2097, 2095, 2093, 2092, 2092, 2092, 2094, 2094, 2093, 2093, 2094, 2094, 2096, 2099, 2102, 2105, 2106, 2108, 2111, 2115, 2119, 2124, 2129, 2134, 2140, 2146, 2155, 2166, 2177, 2187, 2196, 2203, 2209, 2216, 2224, 2231, 2237, 2244, 2251, 2260, 2269, 2279, 2289, 2299, 2307, 2316, 2325, 2336, 2345, 2354, 2366, 2378, 2389, 2401, 2413, 2424, 2436, 2447, 2454, 2460, 2466, 2473, 2480, 2484, 2486, 2488, 2489, 2488, 2489, 2489, 2491, 2493, 2495, 2499, 2502, 2503, 2501, 2500]}, {\"hovertemplate\": \"Dt: %{x}<br>Close: %{customdata[0]}<br>50_EMA: %{customdata[1]}<br>200_EMA: %{customdata[2]}\", \"mode\": \"lines\", \"name\": \"200_EMA\", \"type\": \"scatter\", \"x\": [\"2015-01-01T00:00:00\", \"2015-01-02T00:00:00\", \"2015-01-05T00:00:00\", \"2015-01-06T00:00:00\", \"2015-01-07T00:00:00\", \"2015-01-08T00:00:00\", \"2015-01-09T00:00:00\", \"2015-01-12T00:00:00\", \"2015-01-13T00:00:00\", \"2015-01-14T00:00:00\", \"2015-01-15T00:00:00\", \"2015-01-16T00:00:00\", \"2015-01-19T00:00:00\", \"2015-01-20T00:00:00\", \"2015-01-21T00:00:00\", \"2015-01-22T00:00:00\", \"2015-01-23T00:00:00\", \"2015-01-27T00:00:00\", \"2015-01-28T00:00:00\", \"2015-01-29T00:00:00\", \"2015-01-30T00:00:00\", \"2015-02-02T00:00:00\", \"2015-02-03T00:00:00\", \"2015-02-04T00:00:00\", \"2015-02-05T00:00:00\", \"2015-02-06T00:00:00\", \"2015-02-09T00:00:00\", \"2015-02-10T00:00:00\", \"2015-02-11T00:00:00\", \"2015-02-12T00:00:00\", \"2015-02-13T00:00:00\", \"2015-02-16T00:00:00\", \"2015-02-18T00:00:00\", \"2015-02-19T00:00:00\", \"2015-02-20T00:00:00\", \"2015-02-23T00:00:00\", \"2015-02-24T00:00:00\", \"2015-02-25T00:00:00\", \"2015-02-26T00:00:00\", \"2015-02-27T00:00:00\", \"2015-02-28T00:00:00\", \"2015-03-02T00:00:00\", \"2015-03-03T00:00:00\", \"2015-03-04T00:00:00\", \"2015-03-05T00:00:00\", \"2015-03-09T00:00:00\", \"2015-03-10T00:00:00\", \"2015-03-11T00:00:00\", \"2015-03-12T00:00:00\", \"2015-03-13T00:00:00\", \"2015-03-16T00:00:00\", \"2015-03-17T00:00:00\", \"2015-03-18T00:00:00\", \"2015-03-19T00:00:00\", \"2015-03-20T00:00:00\", \"2015-03-23T00:00:00\", \"2015-03-24T00:00:00\", \"2015-03-25T00:00:00\", \"2015-03-26T00:00:00\", \"2015-03-27T00:00:00\", \"2015-03-30T00:00:00\", \"2015-03-31T00:00:00\", \"2015-04-01T00:00:00\", \"2015-04-06T00:00:00\", \"2015-04-07T00:00:00\", \"2015-04-08T00:00:00\", \"2015-04-09T00:00:00\", \"2015-04-10T00:00:00\", \"2015-04-13T00:00:00\", \"2015-04-15T00:00:00\", \"2015-04-16T00:00:00\", \"2015-04-17T00:00:00\", \"2015-04-20T00:00:00\", \"2015-04-21T00:00:00\", \"2015-04-22T00:00:00\", \"2015-04-23T00:00:00\", \"2015-04-24T00:00:00\", \"2015-04-27T00:00:00\", \"2015-04-28T00:00:00\", \"2015-04-29T00:00:00\", \"2015-04-30T00:00:00\", \"2015-05-04T00:00:00\", \"2015-05-05T00:00:00\", \"2015-05-06T00:00:00\", \"2015-05-07T00:00:00\", \"2015-05-08T00:00:00\", \"2015-05-11T00:00:00\", \"2015-05-12T00:00:00\", \"2015-05-13T00:00:00\", \"2015-05-14T00:00:00\", \"2015-05-15T00:00:00\", \"2015-05-18T00:00:00\", \"2015-05-19T00:00:00\", \"2015-05-20T00:00:00\", \"2015-05-21T00:00:00\", \"2015-05-22T00:00:00\", \"2015-05-25T00:00:00\", \"2015-05-26T00:00:00\", \"2015-05-27T00:00:00\", \"2015-05-28T00:00:00\", \"2015-05-29T00:00:00\", \"2015-06-01T00:00:00\", \"2015-06-02T00:00:00\", \"2015-06-03T00:00:00\", \"2015-06-04T00:00:00\", \"2015-06-05T00:00:00\", \"2015-06-08T00:00:00\", \"2015-06-09T00:00:00\", \"2015-06-10T00:00:00\", \"2015-06-11T00:00:00\", \"2015-06-12T00:00:00\", \"2015-06-15T00:00:00\", \"2015-06-16T00:00:00\", \"2015-06-17T00:00:00\", \"2015-06-18T00:00:00\", \"2015-06-19T00:00:00\", \"2015-06-22T00:00:00\", \"2015-06-23T00:00:00\", \"2015-06-24T00:00:00\", \"2015-06-25T00:00:00\", \"2015-06-26T00:00:00\", \"2015-06-29T00:00:00\", \"2015-06-30T00:00:00\", \"2015-07-01T00:00:00\", \"2015-07-02T00:00:00\", \"2015-07-03T00:00:00\", \"2015-07-06T00:00:00\", \"2015-07-07T00:00:00\", \"2015-07-08T00:00:00\", \"2015-07-09T00:00:00\", \"2015-07-10T00:00:00\", \"2015-07-13T00:00:00\", \"2015-07-14T00:00:00\", \"2015-07-15T00:00:00\", \"2015-07-16T00:00:00\", \"2015-07-17T00:00:00\", \"2015-07-20T00:00:00\", \"2015-07-21T00:00:00\", \"2015-07-22T00:00:00\", \"2015-07-23T00:00:00\", \"2015-07-24T00:00:00\", \"2015-07-27T00:00:00\", \"2015-07-28T00:00:00\", \"2015-07-29T00:00:00\", \"2015-07-30T00:00:00\", \"2015-07-31T00:00:00\", \"2015-08-03T00:00:00\", \"2015-08-04T00:00:00\", \"2015-08-05T00:00:00\", \"2015-08-06T00:00:00\", \"2015-08-07T00:00:00\", \"2015-08-10T00:00:00\", \"2015-08-11T00:00:00\", \"2015-08-12T00:00:00\", \"2015-08-13T00:00:00\", \"2015-08-14T00:00:00\", \"2015-08-17T00:00:00\", \"2015-08-18T00:00:00\", \"2015-08-19T00:00:00\", \"2015-08-20T00:00:00\", \"2015-08-21T00:00:00\", \"2015-08-24T00:00:00\", \"2015-08-25T00:00:00\", \"2015-08-26T00:00:00\", \"2015-08-27T00:00:00\", \"2015-08-28T00:00:00\", \"2015-08-31T00:00:00\", \"2015-09-01T00:00:00\", \"2015-09-02T00:00:00\", \"2015-09-03T00:00:00\", \"2015-09-04T00:00:00\", \"2015-09-07T00:00:00\", \"2015-09-08T00:00:00\", \"2015-09-09T00:00:00\", \"2015-09-10T00:00:00\", \"2015-09-11T00:00:00\", \"2015-09-14T00:00:00\", \"2015-09-15T00:00:00\", \"2015-09-16T00:00:00\", \"2015-09-18T00:00:00\", \"2015-09-21T00:00:00\", \"2015-09-22T00:00:00\", \"2015-09-23T00:00:00\", \"2015-09-24T00:00:00\", \"2015-09-28T00:00:00\", \"2015-09-29T00:00:00\", \"2015-09-30T00:00:00\", \"2015-10-01T00:00:00\", \"2015-10-05T00:00:00\", \"2015-10-06T00:00:00\", \"2015-10-07T00:00:00\", \"2015-10-08T00:00:00\", \"2015-10-09T00:00:00\", \"2015-10-12T00:00:00\", \"2015-10-13T00:00:00\", \"2015-10-14T00:00:00\", \"2015-10-15T00:00:00\", \"2015-10-16T00:00:00\", \"2015-10-19T00:00:00\", \"2015-10-20T00:00:00\", \"2015-10-21T00:00:00\", \"2015-10-23T00:00:00\", \"2015-10-26T00:00:00\", \"2015-10-27T00:00:00\", \"2015-10-28T00:00:00\", \"2015-10-29T00:00:00\", \"2015-10-30T00:00:00\", \"2015-11-02T00:00:00\", \"2015-11-03T00:00:00\", \"2015-11-04T00:00:00\", \"2015-11-05T00:00:00\", \"2015-11-06T00:00:00\", \"2015-11-09T00:00:00\", \"2015-11-10T00:00:00\", \"2015-11-11T00:00:00\", \"2015-11-13T00:00:00\", \"2015-11-16T00:00:00\", \"2015-11-17T00:00:00\", \"2015-11-18T00:00:00\", \"2015-11-19T00:00:00\", \"2015-11-20T00:00:00\", \"2015-11-23T00:00:00\", \"2015-11-24T00:00:00\", \"2015-11-26T00:00:00\", \"2015-11-27T00:00:00\", \"2015-11-30T00:00:00\", \"2015-12-01T00:00:00\", \"2015-12-02T00:00:00\", \"2015-12-03T00:00:00\", \"2015-12-04T00:00:00\", \"2015-12-07T00:00:00\", \"2015-12-08T00:00:00\", \"2015-12-09T00:00:00\", \"2015-12-10T00:00:00\", \"2015-12-11T00:00:00\", \"2015-12-14T00:00:00\", \"2015-12-15T00:00:00\", \"2015-12-16T00:00:00\", \"2015-12-17T00:00:00\", \"2015-12-18T00:00:00\", \"2015-12-21T00:00:00\", \"2015-12-22T00:00:00\", \"2015-12-23T00:00:00\", \"2015-12-24T00:00:00\", \"2015-12-28T00:00:00\", \"2015-12-29T00:00:00\", \"2015-12-30T00:00:00\", \"2015-12-31T00:00:00\", \"2016-01-01T00:00:00\", \"2016-01-04T00:00:00\", \"2016-01-05T00:00:00\", \"2016-01-06T00:00:00\", \"2016-01-07T00:00:00\", \"2016-01-08T00:00:00\", \"2016-01-11T00:00:00\", \"2016-01-12T00:00:00\", \"2016-01-13T00:00:00\", \"2016-01-14T00:00:00\", \"2016-01-15T00:00:00\", \"2016-01-18T00:00:00\", \"2016-01-19T00:00:00\", \"2016-01-20T00:00:00\", \"2016-01-21T00:00:00\", \"2016-01-22T00:00:00\", \"2016-01-25T00:00:00\", \"2016-01-27T00:00:00\", \"2016-01-28T00:00:00\", \"2016-01-29T00:00:00\", \"2016-02-01T00:00:00\", \"2016-02-02T00:00:00\", \"2016-02-03T00:00:00\", \"2016-02-04T00:00:00\", \"2016-02-05T00:00:00\", \"2016-02-08T00:00:00\", \"2016-02-09T00:00:00\", \"2016-02-10T00:00:00\", \"2016-02-11T00:00:00\", \"2016-02-12T00:00:00\", \"2016-02-15T00:00:00\", \"2016-02-16T00:00:00\", \"2016-02-17T00:00:00\", \"2016-02-18T00:00:00\", \"2016-02-19T00:00:00\", \"2016-02-22T00:00:00\", \"2016-02-23T00:00:00\", \"2016-02-24T00:00:00\", \"2016-02-25T00:00:00\", \"2016-02-26T00:00:00\", \"2016-02-29T00:00:00\", \"2016-03-01T00:00:00\", \"2016-03-02T00:00:00\", \"2016-03-03T00:00:00\", \"2016-03-04T00:00:00\", \"2016-03-08T00:00:00\", \"2016-03-09T00:00:00\", \"2016-03-10T00:00:00\", \"2016-03-11T00:00:00\", \"2016-03-14T00:00:00\", \"2016-03-15T00:00:00\", \"2016-03-16T00:00:00\", \"2016-03-17T00:00:00\", \"2016-03-18T00:00:00\", \"2016-03-21T00:00:00\", \"2016-03-22T00:00:00\", \"2016-03-23T00:00:00\", \"2016-03-28T00:00:00\", \"2016-03-29T00:00:00\", \"2016-03-30T00:00:00\", \"2016-03-31T00:00:00\", \"2016-04-01T00:00:00\", \"2016-04-04T00:00:00\", \"2016-04-05T00:00:00\", \"2016-04-06T00:00:00\", \"2016-04-07T00:00:00\", \"2016-04-08T00:00:00\", \"2016-04-11T00:00:00\", \"2016-04-12T00:00:00\", \"2016-04-13T00:00:00\", \"2016-04-18T00:00:00\", \"2016-04-20T00:00:00\", \"2016-04-21T00:00:00\", \"2016-04-22T00:00:00\", \"2016-04-25T00:00:00\", \"2016-04-26T00:00:00\", \"2016-04-27T00:00:00\", \"2016-04-28T00:00:00\", \"2016-04-29T00:00:00\", \"2016-05-02T00:00:00\", \"2016-05-03T00:00:00\", \"2016-05-04T00:00:00\", \"2016-05-05T00:00:00\", \"2016-05-06T00:00:00\", \"2016-05-09T00:00:00\", \"2016-05-10T00:00:00\", \"2016-05-11T00:00:00\", \"2016-05-12T00:00:00\", \"2016-05-13T00:00:00\", \"2016-05-16T00:00:00\", \"2016-05-17T00:00:00\", \"2016-05-18T00:00:00\", \"2016-05-19T00:00:00\", \"2016-05-20T00:00:00\", \"2016-05-23T00:00:00\", \"2016-05-24T00:00:00\", \"2016-05-25T00:00:00\", \"2016-05-26T00:00:00\", \"2016-05-27T00:00:00\", \"2016-05-30T00:00:00\", \"2016-05-31T00:00:00\", \"2016-06-01T00:00:00\", \"2016-06-02T00:00:00\", \"2016-06-03T00:00:00\", \"2016-06-06T00:00:00\", \"2016-06-07T00:00:00\", \"2016-06-08T00:00:00\", \"2016-06-09T00:00:00\", \"2016-06-10T00:00:00\", \"2016-06-13T00:00:00\", \"2016-06-14T00:00:00\", \"2016-06-15T00:00:00\", \"2016-06-16T00:00:00\", \"2016-06-17T00:00:00\", \"2016-06-20T00:00:00\", \"2016-06-21T00:00:00\", \"2016-06-22T00:00:00\", \"2016-06-23T00:00:00\", \"2016-06-24T00:00:00\", \"2016-06-27T00:00:00\", \"2016-06-28T00:00:00\", \"2016-06-29T00:00:00\", \"2016-06-30T00:00:00\", \"2016-07-01T00:00:00\", \"2016-07-04T00:00:00\", \"2016-07-05T00:00:00\", \"2016-07-07T00:00:00\", \"2016-07-08T00:00:00\", \"2016-07-11T00:00:00\", \"2016-07-12T00:00:00\", \"2016-07-13T00:00:00\", \"2016-07-14T00:00:00\", \"2016-07-15T00:00:00\", \"2016-07-18T00:00:00\", \"2016-07-19T00:00:00\", \"2016-07-20T00:00:00\", \"2016-07-21T00:00:00\", \"2016-07-22T00:00:00\", \"2016-07-25T00:00:00\", \"2016-07-26T00:00:00\", \"2016-07-27T00:00:00\", \"2016-07-28T00:00:00\", \"2016-07-29T00:00:00\", \"2016-08-01T00:00:00\", \"2016-08-02T00:00:00\", \"2016-08-03T00:00:00\", \"2016-08-04T00:00:00\", \"2016-08-05T00:00:00\", \"2016-08-08T00:00:00\", \"2016-08-09T00:00:00\", \"2016-08-10T00:00:00\", \"2016-08-11T00:00:00\", \"2016-08-12T00:00:00\", \"2016-08-16T00:00:00\", \"2016-08-17T00:00:00\", \"2016-08-18T00:00:00\", \"2016-08-19T00:00:00\", \"2016-08-22T00:00:00\", \"2016-08-23T00:00:00\", \"2016-08-24T00:00:00\", \"2016-08-25T00:00:00\", \"2016-08-26T00:00:00\", \"2016-08-29T00:00:00\", \"2016-08-30T00:00:00\", \"2016-08-31T00:00:00\", \"2016-09-01T00:00:00\", \"2016-09-02T00:00:00\", \"2016-09-06T00:00:00\", \"2016-09-07T00:00:00\", \"2016-09-08T00:00:00\", \"2016-09-09T00:00:00\", \"2016-09-12T00:00:00\", \"2016-09-14T00:00:00\", \"2016-09-15T00:00:00\", \"2016-09-16T00:00:00\", \"2016-09-19T00:00:00\", \"2016-09-20T00:00:00\", \"2016-09-21T00:00:00\", \"2016-09-22T00:00:00\", \"2016-09-23T00:00:00\", \"2016-09-26T00:00:00\", \"2016-09-27T00:00:00\", \"2016-09-28T00:00:00\", \"2016-09-29T00:00:00\", \"2016-09-30T00:00:00\", \"2016-10-03T00:00:00\", \"2016-10-04T00:00:00\", \"2016-10-05T00:00:00\", \"2016-10-06T00:00:00\", \"2016-10-07T00:00:00\", \"2016-10-10T00:00:00\", \"2016-10-13T00:00:00\", \"2016-10-14T00:00:00\", \"2016-10-17T00:00:00\", \"2016-10-18T00:00:00\", \"2016-10-19T00:00:00\", \"2016-10-20T00:00:00\", \"2016-10-21T00:00:00\", \"2016-10-24T00:00:00\", \"2016-10-25T00:00:00\", \"2016-10-26T00:00:00\", \"2016-10-27T00:00:00\", \"2016-10-28T00:00:00\", \"2016-10-30T00:00:00\", \"2016-11-01T00:00:00\", \"2016-11-02T00:00:00\", \"2016-11-03T00:00:00\", \"2016-11-04T00:00:00\", \"2016-11-07T00:00:00\", \"2016-11-08T00:00:00\", \"2016-11-09T00:00:00\", \"2016-11-10T00:00:00\", \"2016-11-11T00:00:00\", \"2016-11-15T00:00:00\", \"2016-11-16T00:00:00\", \"2016-11-17T00:00:00\", \"2016-11-18T00:00:00\", \"2016-11-21T00:00:00\", \"2016-11-22T00:00:00\", \"2016-11-23T00:00:00\", \"2016-11-24T00:00:00\", \"2016-11-25T00:00:00\", \"2016-11-28T00:00:00\", \"2016-11-29T00:00:00\", \"2016-11-30T00:00:00\", \"2016-12-01T00:00:00\", \"2016-12-02T00:00:00\", \"2016-12-05T00:00:00\", \"2016-12-06T00:00:00\", \"2016-12-07T00:00:00\", \"2016-12-08T00:00:00\", \"2016-12-09T00:00:00\", \"2016-12-12T00:00:00\", \"2016-12-13T00:00:00\", \"2016-12-14T00:00:00\", \"2016-12-15T00:00:00\", \"2016-12-16T00:00:00\", \"2016-12-19T00:00:00\", \"2016-12-20T00:00:00\", \"2016-12-21T00:00:00\", \"2016-12-22T00:00:00\", \"2016-12-23T00:00:00\", \"2016-12-26T00:00:00\", \"2016-12-27T00:00:00\", \"2016-12-28T00:00:00\", \"2016-12-29T00:00:00\", \"2016-12-30T00:00:00\", \"2017-01-02T00:00:00\", \"2017-01-03T00:00:00\", \"2017-01-04T00:00:00\", \"2017-01-05T00:00:00\", \"2017-01-06T00:00:00\", \"2017-01-09T00:00:00\", \"2017-01-10T00:00:00\", \"2017-01-11T00:00:00\", \"2017-01-12T00:00:00\", \"2017-01-13T00:00:00\", \"2017-01-16T00:00:00\", \"2017-01-17T00:00:00\", \"2017-01-18T00:00:00\", \"2017-01-19T00:00:00\", \"2017-01-20T00:00:00\", \"2017-01-23T00:00:00\", \"2017-01-24T00:00:00\", \"2017-01-25T00:00:00\", \"2017-01-27T00:00:00\", \"2017-01-30T00:00:00\", \"2017-01-31T00:00:00\", \"2017-02-01T00:00:00\", \"2017-02-02T00:00:00\", \"2017-02-03T00:00:00\", \"2017-02-06T00:00:00\", \"2017-02-07T00:00:00\", \"2017-02-08T00:00:00\", \"2017-02-09T00:00:00\", \"2017-02-10T00:00:00\", \"2017-02-13T00:00:00\", \"2017-02-14T00:00:00\", \"2017-02-15T00:00:00\", \"2017-02-16T00:00:00\", \"2017-02-17T00:00:00\", \"2017-02-20T00:00:00\", \"2017-02-21T00:00:00\", \"2017-02-22T00:00:00\", \"2017-02-23T00:00:00\", \"2017-02-27T00:00:00\", \"2017-02-28T00:00:00\", \"2017-03-01T00:00:00\", \"2017-03-02T00:00:00\", \"2017-03-03T00:00:00\", \"2017-03-06T00:00:00\", \"2017-03-07T00:00:00\", \"2017-03-08T00:00:00\", \"2017-03-09T00:00:00\", \"2017-03-10T00:00:00\", \"2017-03-14T00:00:00\", \"2017-03-15T00:00:00\", \"2017-03-16T00:00:00\", \"2017-03-17T00:00:00\", \"2017-03-20T00:00:00\", \"2017-03-21T00:00:00\", \"2017-03-22T00:00:00\", \"2017-03-23T00:00:00\", \"2017-03-24T00:00:00\", \"2017-03-27T00:00:00\", \"2017-03-28T00:00:00\", \"2017-03-29T00:00:00\", \"2017-03-30T00:00:00\", \"2017-03-31T00:00:00\", \"2017-04-03T00:00:00\", \"2017-04-05T00:00:00\", \"2017-04-06T00:00:00\", \"2017-04-07T00:00:00\", \"2017-04-10T00:00:00\", \"2017-04-11T00:00:00\", \"2017-04-12T00:00:00\", \"2017-04-13T00:00:00\", \"2017-04-17T00:00:00\", \"2017-04-18T00:00:00\", \"2017-04-19T00:00:00\", \"2017-04-20T00:00:00\", \"2017-04-21T00:00:00\", \"2017-04-24T00:00:00\", \"2017-04-25T00:00:00\", \"2017-04-26T00:00:00\", \"2017-04-27T00:00:00\", \"2017-04-28T00:00:00\", \"2017-05-02T00:00:00\", \"2017-05-03T00:00:00\", \"2017-05-04T00:00:00\", \"2017-05-05T00:00:00\", \"2017-05-08T00:00:00\", \"2017-05-09T00:00:00\", \"2017-05-10T00:00:00\", \"2017-05-11T00:00:00\", \"2017-05-12T00:00:00\", \"2017-05-15T00:00:00\", \"2017-05-16T00:00:00\", \"2017-05-17T00:00:00\", \"2017-05-18T00:00:00\", \"2017-05-19T00:00:00\", \"2017-05-22T00:00:00\", \"2017-05-23T00:00:00\", \"2017-05-24T00:00:00\", \"2017-05-25T00:00:00\", \"2017-05-26T00:00:00\", \"2017-05-29T00:00:00\", \"2017-05-30T00:00:00\", \"2017-05-31T00:00:00\", \"2017-06-01T00:00:00\", \"2017-06-02T00:00:00\", \"2017-06-05T00:00:00\", \"2017-06-06T00:00:00\", \"2017-06-07T00:00:00\", \"2017-06-08T00:00:00\", \"2017-06-09T00:00:00\", \"2017-06-12T00:00:00\", \"2017-06-13T00:00:00\", \"2017-06-14T00:00:00\", \"2017-06-15T00:00:00\", \"2017-06-16T00:00:00\", \"2017-06-19T00:00:00\", \"2017-06-20T00:00:00\", \"2017-06-21T00:00:00\", \"2017-06-22T00:00:00\", \"2017-06-23T00:00:00\", \"2017-06-27T00:00:00\", \"2017-06-28T00:00:00\", \"2017-06-29T00:00:00\", \"2017-06-30T00:00:00\", \"2017-07-03T00:00:00\", \"2017-07-04T00:00:00\", \"2017-07-05T00:00:00\", \"2017-07-06T00:00:00\", \"2017-07-07T00:00:00\", \"2017-07-11T00:00:00\", \"2017-07-12T00:00:00\", \"2017-07-13T00:00:00\", \"2017-07-14T00:00:00\", \"2017-07-17T00:00:00\", \"2017-07-18T00:00:00\", \"2017-07-19T00:00:00\", \"2017-07-20T00:00:00\", \"2017-07-21T00:00:00\", \"2017-07-24T00:00:00\", \"2017-07-25T00:00:00\", \"2017-07-26T00:00:00\", \"2017-07-27T00:00:00\", \"2017-07-28T00:00:00\", \"2017-07-31T00:00:00\", \"2017-08-01T00:00:00\", \"2017-08-02T00:00:00\", \"2017-08-03T00:00:00\", \"2017-08-04T00:00:00\", \"2017-08-07T00:00:00\", \"2017-08-08T00:00:00\", \"2017-08-09T00:00:00\", \"2017-08-10T00:00:00\", \"2017-08-11T00:00:00\", \"2017-08-14T00:00:00\", \"2017-08-16T00:00:00\", \"2017-08-17T00:00:00\", \"2017-08-18T00:00:00\", \"2017-08-21T00:00:00\", \"2017-08-22T00:00:00\", \"2017-08-23T00:00:00\", \"2017-08-24T00:00:00\", \"2017-08-28T00:00:00\", \"2017-08-29T00:00:00\", \"2017-08-30T00:00:00\", \"2017-08-31T00:00:00\", \"2017-09-01T00:00:00\", \"2017-09-04T00:00:00\", \"2017-09-05T00:00:00\", \"2017-09-06T00:00:00\", \"2017-09-07T00:00:00\", \"2017-09-08T00:00:00\", \"2017-09-11T00:00:00\", \"2017-09-12T00:00:00\", \"2017-09-13T00:00:00\", \"2017-09-14T00:00:00\", \"2017-09-15T00:00:00\", \"2017-09-18T00:00:00\", \"2017-09-19T00:00:00\", \"2017-09-20T00:00:00\", \"2017-09-21T00:00:00\", \"2017-09-22T00:00:00\", \"2017-09-25T00:00:00\", \"2017-09-26T00:00:00\", \"2017-09-27T00:00:00\", \"2017-09-28T00:00:00\", \"2017-09-29T00:00:00\", \"2017-10-03T00:00:00\", \"2017-10-04T00:00:00\", \"2017-10-05T00:00:00\", \"2017-10-06T00:00:00\", \"2017-10-09T00:00:00\", \"2017-10-10T00:00:00\", \"2017-10-11T00:00:00\", \"2017-10-12T00:00:00\", \"2017-10-13T00:00:00\", \"2017-10-16T00:00:00\", \"2017-10-17T00:00:00\", \"2017-10-18T00:00:00\", \"2017-10-19T00:00:00\", \"2017-10-23T00:00:00\", \"2017-10-24T00:00:00\", \"2017-10-25T00:00:00\", \"2017-10-26T00:00:00\", \"2017-10-27T00:00:00\", \"2017-10-30T00:00:00\", \"2017-10-31T00:00:00\", \"2017-11-01T00:00:00\", \"2017-11-02T00:00:00\", \"2017-11-03T00:00:00\", \"2017-11-06T00:00:00\", \"2017-11-07T00:00:00\", \"2017-11-08T00:00:00\", \"2017-11-09T00:00:00\", \"2017-11-10T00:00:00\", \"2017-11-13T00:00:00\", \"2017-11-14T00:00:00\", \"2017-11-15T00:00:00\", \"2017-11-16T00:00:00\", \"2017-11-17T00:00:00\", \"2017-11-20T00:00:00\", \"2017-11-21T00:00:00\", \"2017-11-22T00:00:00\", \"2017-11-23T00:00:00\", \"2017-11-24T00:00:00\", \"2017-11-27T00:00:00\", \"2017-11-28T00:00:00\", \"2017-11-29T00:00:00\", \"2017-11-30T00:00:00\", \"2017-12-01T00:00:00\", \"2017-12-04T00:00:00\", \"2017-12-05T00:00:00\", \"2017-12-06T00:00:00\", \"2017-12-07T00:00:00\", \"2017-12-08T00:00:00\", \"2017-12-11T00:00:00\", \"2017-12-12T00:00:00\", \"2017-12-13T00:00:00\", \"2017-12-14T00:00:00\", \"2017-12-15T00:00:00\", \"2017-12-18T00:00:00\", \"2017-12-19T00:00:00\", \"2017-12-20T00:00:00\", \"2017-12-21T00:00:00\", \"2017-12-22T00:00:00\", \"2017-12-26T00:00:00\", \"2017-12-27T00:00:00\", \"2017-12-28T00:00:00\", \"2017-12-29T00:00:00\", \"2018-01-01T00:00:00\", \"2018-01-02T00:00:00\", \"2018-01-03T00:00:00\", \"2018-01-04T00:00:00\", \"2018-01-05T00:00:00\", \"2018-01-08T00:00:00\", \"2018-01-09T00:00:00\", \"2018-01-10T00:00:00\", \"2018-01-11T00:00:00\", \"2018-01-12T00:00:00\", \"2018-01-15T00:00:00\", \"2018-01-16T00:00:00\", \"2018-01-17T00:00:00\", \"2018-01-18T00:00:00\", \"2018-01-19T00:00:00\", \"2018-01-22T00:00:00\", \"2018-01-23T00:00:00\", \"2018-01-24T00:00:00\", \"2018-01-25T00:00:00\", \"2018-01-29T00:00:00\", \"2018-01-30T00:00:00\", \"2018-01-31T00:00:00\", \"2018-02-01T00:00:00\", \"2018-02-02T00:00:00\", \"2018-02-05T00:00:00\", \"2018-02-06T00:00:00\", \"2018-02-07T00:00:00\", \"2018-02-08T00:00:00\", \"2018-02-09T00:00:00\", \"2018-02-12T00:00:00\", \"2018-02-14T00:00:00\", \"2018-02-15T00:00:00\", \"2018-02-16T00:00:00\", \"2018-02-19T00:00:00\", \"2018-02-20T00:00:00\", \"2018-02-21T00:00:00\", \"2018-02-22T00:00:00\", \"2018-02-23T00:00:00\", \"2018-02-26T00:00:00\", \"2018-02-27T00:00:00\", \"2018-02-28T00:00:00\", \"2018-03-01T00:00:00\", \"2018-03-05T00:00:00\", \"2018-03-06T00:00:00\", \"2018-03-07T00:00:00\", \"2018-03-08T00:00:00\", \"2018-03-09T00:00:00\", \"2018-03-12T00:00:00\", \"2018-03-13T00:00:00\", \"2018-03-14T00:00:00\", \"2018-03-15T00:00:00\", \"2018-03-16T00:00:00\", \"2018-03-19T00:00:00\", \"2018-03-20T00:00:00\", \"2018-03-21T00:00:00\", \"2018-03-22T00:00:00\", \"2018-03-23T00:00:00\", \"2018-03-26T00:00:00\", \"2018-03-27T00:00:00\", \"2018-03-28T00:00:00\", \"2018-04-02T00:00:00\", \"2018-04-03T00:00:00\", \"2018-04-04T00:00:00\", \"2018-04-05T00:00:00\", \"2018-04-06T00:00:00\", \"2018-04-09T00:00:00\", \"2018-04-10T00:00:00\", \"2018-04-11T00:00:00\", \"2018-04-12T00:00:00\", \"2018-04-13T00:00:00\", \"2018-04-16T00:00:00\", \"2018-04-17T00:00:00\", \"2018-04-18T00:00:00\", \"2018-04-19T00:00:00\", \"2018-04-20T00:00:00\", \"2018-04-23T00:00:00\", \"2018-04-24T00:00:00\", \"2018-04-25T00:00:00\", \"2018-04-26T00:00:00\", \"2018-04-27T00:00:00\", \"2018-04-30T00:00:00\", \"2018-05-02T00:00:00\", \"2018-05-03T00:00:00\", \"2018-05-04T00:00:00\", \"2018-05-07T00:00:00\", \"2018-05-08T00:00:00\", \"2018-05-09T00:00:00\", \"2018-05-10T00:00:00\", \"2018-05-11T00:00:00\", \"2018-05-14T00:00:00\", \"2018-05-15T00:00:00\", \"2018-05-16T00:00:00\", \"2018-05-17T00:00:00\", \"2018-05-18T00:00:00\", \"2018-05-21T00:00:00\", \"2018-05-22T00:00:00\", \"2018-05-23T00:00:00\", \"2018-05-24T00:00:00\", \"2018-05-25T00:00:00\", \"2018-05-28T00:00:00\", \"2018-05-29T00:00:00\", \"2018-05-30T00:00:00\", \"2018-05-31T00:00:00\", \"2018-06-01T00:00:00\", \"2018-06-04T00:00:00\", \"2018-06-05T00:00:00\", \"2018-06-06T00:00:00\", \"2018-06-07T00:00:00\", \"2018-06-08T00:00:00\", \"2018-06-11T00:00:00\", \"2018-06-12T00:00:00\", \"2018-06-13T00:00:00\", \"2018-06-14T00:00:00\", \"2018-06-15T00:00:00\", \"2018-06-18T00:00:00\", \"2018-06-19T00:00:00\", \"2018-06-20T00:00:00\", \"2018-06-21T00:00:00\", \"2018-06-22T00:00:00\", \"2018-06-25T00:00:00\", \"2018-06-26T00:00:00\", \"2018-06-27T00:00:00\", \"2018-06-28T00:00:00\", \"2018-06-29T00:00:00\", \"2018-07-02T00:00:00\", \"2018-07-03T00:00:00\", \"2018-07-04T00:00:00\", \"2018-07-05T00:00:00\", \"2018-07-06T00:00:00\", \"2018-07-09T00:00:00\", \"2018-07-10T00:00:00\", \"2018-07-11T00:00:00\", \"2018-07-12T00:00:00\", \"2018-07-13T00:00:00\", \"2018-07-16T00:00:00\", \"2018-07-17T00:00:00\", \"2018-07-18T00:00:00\", \"2018-07-19T00:00:00\", \"2018-07-20T00:00:00\", \"2018-07-23T00:00:00\", \"2018-07-24T00:00:00\", \"2018-07-25T00:00:00\", \"2018-07-26T00:00:00\", \"2018-07-27T00:00:00\", \"2018-07-30T00:00:00\", \"2018-07-31T00:00:00\", \"2018-08-01T00:00:00\", \"2018-08-02T00:00:00\", \"2018-08-03T00:00:00\", \"2018-08-06T00:00:00\", \"2018-08-07T00:00:00\", \"2018-08-08T00:00:00\", \"2018-08-09T00:00:00\", \"2018-08-10T00:00:00\", \"2018-08-13T00:00:00\", \"2018-08-14T00:00:00\", \"2018-08-16T00:00:00\", \"2018-08-17T00:00:00\", \"2018-08-20T00:00:00\", \"2018-08-21T00:00:00\", \"2018-08-23T00:00:00\", \"2018-08-24T00:00:00\", \"2018-08-27T00:00:00\", \"2018-08-28T00:00:00\", \"2018-08-29T00:00:00\", \"2018-08-30T00:00:00\", \"2018-08-31T00:00:00\", \"2018-09-03T00:00:00\", \"2018-09-04T00:00:00\", \"2018-09-05T00:00:00\", \"2018-09-06T00:00:00\", \"2018-09-07T00:00:00\", \"2018-09-10T00:00:00\", \"2018-09-11T00:00:00\", \"2018-09-12T00:00:00\", \"2018-09-14T00:00:00\", \"2018-09-17T00:00:00\", \"2018-09-18T00:00:00\", \"2018-09-19T00:00:00\", \"2018-09-21T00:00:00\", \"2018-09-24T00:00:00\", \"2018-09-25T00:00:00\", \"2018-09-26T00:00:00\", \"2018-09-27T00:00:00\", \"2018-09-28T00:00:00\", \"2018-10-01T00:00:00\", \"2018-10-03T00:00:00\", \"2018-10-04T00:00:00\", \"2018-10-05T00:00:00\", \"2018-10-08T00:00:00\", \"2018-10-09T00:00:00\", \"2018-10-10T00:00:00\", \"2018-10-11T00:00:00\", \"2018-10-12T00:00:00\", \"2018-10-15T00:00:00\", \"2018-10-16T00:00:00\", \"2018-10-17T00:00:00\", \"2018-10-19T00:00:00\", \"2018-10-22T00:00:00\", \"2018-10-23T00:00:00\", \"2018-10-24T00:00:00\", \"2018-10-25T00:00:00\", \"2018-10-26T00:00:00\", \"2018-10-29T00:00:00\", \"2018-10-30T00:00:00\", \"2018-10-31T00:00:00\", \"2018-11-01T00:00:00\", \"2018-11-02T00:00:00\", \"2018-11-05T00:00:00\", \"2018-11-06T00:00:00\", \"2018-11-07T00:00:00\", \"2018-11-09T00:00:00\", \"2018-11-12T00:00:00\", \"2018-11-13T00:00:00\", \"2018-11-14T00:00:00\", \"2018-11-15T00:00:00\", \"2018-11-16T00:00:00\", \"2018-11-19T00:00:00\", \"2018-11-20T00:00:00\", \"2018-11-21T00:00:00\", \"2018-11-22T00:00:00\", \"2018-11-26T00:00:00\", \"2018-11-27T00:00:00\", \"2018-11-28T00:00:00\", \"2018-11-29T00:00:00\", \"2018-11-30T00:00:00\", \"2018-12-03T00:00:00\", \"2018-12-04T00:00:00\", \"2018-12-05T00:00:00\", \"2018-12-06T00:00:00\", \"2018-12-07T00:00:00\", \"2018-12-10T00:00:00\", \"2018-12-11T00:00:00\", \"2018-12-12T00:00:00\", \"2018-12-13T00:00:00\", \"2018-12-14T00:00:00\", \"2018-12-17T00:00:00\", \"2018-12-18T00:00:00\", \"2018-12-19T00:00:00\", \"2018-12-20T00:00:00\", \"2018-12-21T00:00:00\", \"2018-12-24T00:00:00\", \"2018-12-26T00:00:00\", \"2018-12-27T00:00:00\", \"2018-12-28T00:00:00\", \"2018-12-31T00:00:00\", \"2019-01-01T00:00:00\", \"2019-01-02T00:00:00\", \"2019-01-03T00:00:00\", \"2019-01-04T00:00:00\", \"2019-01-07T00:00:00\", \"2019-01-08T00:00:00\", \"2019-01-09T00:00:00\", \"2019-01-10T00:00:00\", \"2019-01-11T00:00:00\", \"2019-01-14T00:00:00\", \"2019-01-15T00:00:00\", \"2019-01-16T00:00:00\", \"2019-01-17T00:00:00\", \"2019-01-18T00:00:00\", \"2019-01-21T00:00:00\", \"2019-01-22T00:00:00\", \"2019-01-23T00:00:00\", \"2019-01-24T00:00:00\", \"2019-01-25T00:00:00\", \"2019-01-28T00:00:00\", \"2019-01-29T00:00:00\", \"2019-01-30T00:00:00\", \"2019-01-31T00:00:00\", \"2019-02-01T00:00:00\", \"2019-02-04T00:00:00\", \"2019-02-05T00:00:00\", \"2019-02-06T00:00:00\", \"2019-02-07T00:00:00\", \"2019-02-08T00:00:00\", \"2019-02-11T00:00:00\", \"2019-02-12T00:00:00\", \"2019-02-13T00:00:00\", \"2019-02-14T00:00:00\", \"2019-02-15T00:00:00\", \"2019-02-18T00:00:00\", \"2019-02-19T00:00:00\", \"2019-02-20T00:00:00\", \"2019-02-21T00:00:00\", \"2019-02-22T00:00:00\", \"2019-02-25T00:00:00\", \"2019-02-26T00:00:00\", \"2019-02-27T00:00:00\", \"2019-02-28T00:00:00\", \"2019-03-01T00:00:00\", \"2019-03-05T00:00:00\", \"2019-03-06T00:00:00\", \"2019-03-07T00:00:00\", \"2019-03-08T00:00:00\", \"2019-03-11T00:00:00\", \"2019-03-12T00:00:00\", \"2019-03-13T00:00:00\", \"2019-03-14T00:00:00\", \"2019-03-15T00:00:00\", \"2019-03-18T00:00:00\", \"2019-03-19T00:00:00\", \"2019-03-20T00:00:00\", \"2019-03-22T00:00:00\", \"2019-03-25T00:00:00\", \"2019-03-26T00:00:00\", \"2019-03-27T00:00:00\", \"2019-03-28T00:00:00\", \"2019-03-29T00:00:00\", \"2019-04-01T00:00:00\", \"2019-04-02T00:00:00\", \"2019-04-03T00:00:00\", \"2019-04-04T00:00:00\", \"2019-04-05T00:00:00\", \"2019-04-08T00:00:00\", \"2019-04-09T00:00:00\", \"2019-04-10T00:00:00\", \"2019-04-11T00:00:00\", \"2019-04-12T00:00:00\", \"2019-04-15T00:00:00\", \"2019-04-16T00:00:00\", \"2019-04-18T00:00:00\", \"2019-04-22T00:00:00\", \"2019-04-23T00:00:00\", \"2019-04-24T00:00:00\", \"2019-04-25T00:00:00\", \"2019-04-26T00:00:00\", \"2019-04-30T00:00:00\", \"2019-05-02T00:00:00\", \"2019-05-03T00:00:00\", \"2019-05-06T00:00:00\", \"2019-05-07T00:00:00\", \"2019-05-08T00:00:00\", \"2019-05-09T00:00:00\", \"2019-05-10T00:00:00\", \"2019-05-13T00:00:00\", \"2019-05-14T00:00:00\", \"2019-05-15T00:00:00\", \"2019-05-16T00:00:00\", \"2019-05-17T00:00:00\", \"2019-05-20T00:00:00\", \"2019-05-21T00:00:00\", \"2019-05-22T00:00:00\", \"2019-05-23T00:00:00\", \"2019-05-24T00:00:00\", \"2019-05-27T00:00:00\", \"2019-05-28T00:00:00\", \"2019-05-29T00:00:00\", \"2019-05-30T00:00:00\", \"2019-05-31T00:00:00\", \"2019-06-03T00:00:00\", \"2019-06-04T00:00:00\", \"2019-06-06T00:00:00\", \"2019-06-07T00:00:00\", \"2019-06-10T00:00:00\", \"2019-06-11T00:00:00\", \"2019-06-12T00:00:00\", \"2019-06-13T00:00:00\", \"2019-06-14T00:00:00\", \"2019-06-17T00:00:00\", \"2019-06-18T00:00:00\", \"2019-06-19T00:00:00\", \"2019-06-20T00:00:00\", \"2019-06-21T00:00:00\", \"2019-06-24T00:00:00\", \"2019-06-25T00:00:00\", \"2019-06-26T00:00:00\", \"2019-06-27T00:00:00\", \"2019-06-28T00:00:00\", \"2019-07-01T00:00:00\", \"2019-07-02T00:00:00\", \"2019-07-03T00:00:00\", \"2019-07-04T00:00:00\", \"2019-07-05T00:00:00\", \"2019-07-08T00:00:00\", \"2019-07-09T00:00:00\", \"2019-07-10T00:00:00\", \"2019-07-11T00:00:00\", \"2019-07-12T00:00:00\", \"2019-07-15T00:00:00\", \"2019-07-16T00:00:00\", \"2019-07-17T00:00:00\", \"2019-07-18T00:00:00\", \"2019-07-19T00:00:00\", \"2019-07-22T00:00:00\", \"2019-07-23T00:00:00\", \"2019-07-24T00:00:00\", \"2019-07-25T00:00:00\", \"2019-07-26T00:00:00\", \"2019-07-29T00:00:00\", \"2019-07-30T00:00:00\", \"2019-07-31T00:00:00\", \"2019-08-01T00:00:00\", \"2019-08-02T00:00:00\", \"2019-08-05T00:00:00\", \"2019-08-06T00:00:00\", \"2019-08-07T00:00:00\", \"2019-08-08T00:00:00\", \"2019-08-09T00:00:00\", \"2019-08-13T00:00:00\", \"2019-08-14T00:00:00\", \"2019-08-16T00:00:00\", \"2019-08-19T00:00:00\", \"2019-08-20T00:00:00\", \"2019-08-21T00:00:00\", \"2019-08-22T00:00:00\", \"2019-08-23T00:00:00\", \"2019-08-26T00:00:00\", \"2019-08-27T00:00:00\", \"2019-08-28T00:00:00\", \"2019-08-29T00:00:00\", \"2019-08-30T00:00:00\", \"2019-09-03T00:00:00\", \"2019-09-04T00:00:00\", \"2019-09-05T00:00:00\", \"2019-09-06T00:00:00\", \"2019-09-09T00:00:00\", \"2019-09-11T00:00:00\", \"2019-09-12T00:00:00\", \"2019-09-13T00:00:00\", \"2019-09-16T00:00:00\", \"2019-09-17T00:00:00\", \"2019-09-18T00:00:00\", \"2019-09-19T00:00:00\", \"2019-09-20T00:00:00\", \"2019-09-23T00:00:00\", \"2019-09-24T00:00:00\", \"2019-09-25T00:00:00\", \"2019-09-26T00:00:00\", \"2019-09-27T00:00:00\", \"2019-09-30T00:00:00\", \"2019-10-01T00:00:00\", \"2019-10-03T00:00:00\", \"2019-10-04T00:00:00\", \"2019-10-07T00:00:00\", \"2019-10-09T00:00:00\", \"2019-10-10T00:00:00\", \"2019-10-11T00:00:00\", \"2019-10-14T00:00:00\", \"2019-10-15T00:00:00\", \"2019-10-16T00:00:00\", \"2019-10-17T00:00:00\", \"2019-10-18T00:00:00\", \"2019-10-22T00:00:00\", \"2019-10-23T00:00:00\", \"2019-10-24T00:00:00\", \"2019-10-25T00:00:00\", \"2019-10-27T00:00:00\", \"2019-10-29T00:00:00\", \"2019-10-30T00:00:00\", \"2019-10-31T00:00:00\", \"2019-11-01T00:00:00\", \"2019-11-04T00:00:00\", \"2019-11-05T00:00:00\", \"2019-11-06T00:00:00\", \"2019-11-07T00:00:00\", \"2019-11-08T00:00:00\", \"2019-11-11T00:00:00\", \"2019-11-13T00:00:00\", \"2019-11-14T00:00:00\", \"2019-11-15T00:00:00\", \"2019-11-18T00:00:00\", \"2019-11-19T00:00:00\", \"2019-11-20T00:00:00\", \"2019-11-21T00:00:00\", \"2019-11-22T00:00:00\", \"2019-11-25T00:00:00\", \"2019-11-26T00:00:00\", \"2019-11-27T00:00:00\", \"2019-11-28T00:00:00\", \"2019-11-29T00:00:00\", \"2019-12-02T00:00:00\", \"2019-12-03T00:00:00\", \"2019-12-04T00:00:00\", \"2019-12-05T00:00:00\", \"2019-12-06T00:00:00\", \"2019-12-09T00:00:00\", \"2019-12-10T00:00:00\", \"2019-12-11T00:00:00\", \"2019-12-12T00:00:00\", \"2019-12-13T00:00:00\", \"2019-12-16T00:00:00\", \"2019-12-17T00:00:00\", \"2019-12-18T00:00:00\", \"2019-12-19T00:00:00\", \"2019-12-20T00:00:00\", \"2019-12-23T00:00:00\", \"2019-12-24T00:00:00\", \"2019-12-26T00:00:00\", \"2019-12-27T00:00:00\", \"2019-12-30T00:00:00\", \"2019-12-31T00:00:00\", \"2020-01-01T00:00:00\", \"2020-01-02T00:00:00\", \"2020-01-03T00:00:00\", \"2020-01-06T00:00:00\", \"2020-01-07T00:00:00\", \"2020-01-08T00:00:00\", \"2020-01-09T00:00:00\", \"2020-01-10T00:00:00\", \"2020-01-13T00:00:00\", \"2020-01-14T00:00:00\", \"2020-01-15T00:00:00\", \"2020-01-16T00:00:00\", \"2020-01-17T00:00:00\", \"2020-01-20T00:00:00\", \"2020-01-21T00:00:00\", \"2020-01-22T00:00:00\", \"2020-01-23T00:00:00\", \"2020-01-24T00:00:00\", \"2020-01-27T00:00:00\", \"2020-01-28T00:00:00\", \"2020-01-29T00:00:00\", \"2020-01-30T00:00:00\", \"2020-01-31T00:00:00\", \"2020-02-01T00:00:00\", \"2020-02-03T00:00:00\", \"2020-02-04T00:00:00\", \"2020-02-05T00:00:00\", \"2020-02-06T00:00:00\", \"2020-02-07T00:00:00\", \"2020-02-10T00:00:00\", \"2020-02-11T00:00:00\", \"2020-02-12T00:00:00\", \"2020-02-13T00:00:00\", \"2020-02-14T00:00:00\", \"2020-02-17T00:00:00\", \"2020-02-18T00:00:00\", \"2020-02-19T00:00:00\", \"2020-02-20T00:00:00\", \"2020-02-24T00:00:00\", \"2020-02-25T00:00:00\", \"2020-02-26T00:00:00\", \"2020-02-27T00:00:00\", \"2020-02-28T00:00:00\", \"2020-03-02T00:00:00\", \"2020-03-03T00:00:00\", \"2020-03-04T00:00:00\", \"2020-03-05T00:00:00\", \"2020-03-06T00:00:00\", \"2020-03-09T00:00:00\", \"2020-03-11T00:00:00\", \"2020-03-12T00:00:00\", \"2020-03-13T00:00:00\", \"2020-03-16T00:00:00\", \"2020-03-17T00:00:00\", \"2020-03-18T00:00:00\", \"2020-03-19T00:00:00\", \"2020-03-20T00:00:00\", \"2020-03-23T00:00:00\", \"2020-03-24T00:00:00\", \"2020-03-25T00:00:00\", \"2020-03-26T00:00:00\", \"2020-03-27T00:00:00\", \"2020-03-30T00:00:00\", \"2020-03-31T00:00:00\", \"2020-04-01T00:00:00\", \"2020-04-03T00:00:00\", \"2020-04-07T00:00:00\", \"2020-04-08T00:00:00\", \"2020-04-09T00:00:00\", \"2020-04-13T00:00:00\", \"2020-04-15T00:00:00\", \"2020-04-16T00:00:00\", \"2020-04-17T00:00:00\", \"2020-04-20T00:00:00\", \"2020-04-21T00:00:00\", \"2020-04-22T00:00:00\", \"2020-04-23T00:00:00\", \"2020-04-24T00:00:00\", \"2020-04-27T00:00:00\", \"2020-04-28T00:00:00\", \"2020-04-29T00:00:00\", \"2020-04-30T00:00:00\", \"2020-05-04T00:00:00\", \"2020-05-05T00:00:00\", \"2020-05-06T00:00:00\", \"2020-05-07T00:00:00\", \"2020-05-08T00:00:00\", \"2020-05-11T00:00:00\", \"2020-05-12T00:00:00\", \"2020-05-13T00:00:00\", \"2020-05-14T00:00:00\", \"2020-05-15T00:00:00\", \"2020-05-18T00:00:00\", \"2020-05-19T00:00:00\", \"2020-05-20T00:00:00\", \"2020-05-21T00:00:00\", \"2020-05-22T00:00:00\", \"2020-05-26T00:00:00\", \"2020-05-27T00:00:00\", \"2020-05-28T00:00:00\", \"2020-05-29T00:00:00\", \"2020-06-01T00:00:00\", \"2020-06-02T00:00:00\", \"2020-06-03T00:00:00\", \"2020-06-04T00:00:00\", \"2020-06-05T00:00:00\", \"2020-06-08T00:00:00\", \"2020-06-09T00:00:00\", \"2020-06-10T00:00:00\", \"2020-06-11T00:00:00\", \"2020-06-12T00:00:00\", \"2020-06-15T00:00:00\", \"2020-06-16T00:00:00\", \"2020-06-17T00:00:00\", \"2020-06-18T00:00:00\", \"2020-06-19T00:00:00\", \"2020-06-22T00:00:00\", \"2020-06-23T00:00:00\", \"2020-06-24T00:00:00\", \"2020-06-25T00:00:00\", \"2020-06-26T00:00:00\", \"2020-06-29T00:00:00\", \"2020-06-30T00:00:00\", \"2020-07-01T00:00:00\", \"2020-07-02T00:00:00\", \"2020-07-03T00:00:00\", \"2020-07-06T00:00:00\", \"2020-07-07T00:00:00\", \"2020-07-08T00:00:00\", \"2020-07-09T00:00:00\", \"2020-07-10T00:00:00\", \"2020-07-14T00:00:00\", \"2020-07-15T00:00:00\", \"2020-07-16T00:00:00\", \"2020-07-17T00:00:00\", \"2020-07-20T00:00:00\", \"2020-07-21T00:00:00\", \"2020-07-22T00:00:00\", \"2020-07-23T00:00:00\", \"2020-07-24T00:00:00\", \"2020-07-27T00:00:00\", \"2020-07-28T00:00:00\", \"2020-07-29T00:00:00\", \"2020-07-30T00:00:00\", \"2020-07-31T00:00:00\", \"2020-08-03T00:00:00\", \"2020-08-04T00:00:00\", \"2020-08-05T00:00:00\", \"2020-08-06T00:00:00\", \"2020-08-07T00:00:00\", \"2020-08-10T00:00:00\", \"2020-08-11T00:00:00\", \"2020-08-12T00:00:00\", \"2020-08-13T00:00:00\", \"2020-08-14T00:00:00\", \"2020-08-17T00:00:00\", \"2020-08-18T00:00:00\", \"2020-08-19T00:00:00\", \"2020-08-20T00:00:00\", \"2020-08-21T00:00:00\", \"2020-08-24T00:00:00\", \"2020-08-25T00:00:00\", \"2020-08-26T00:00:00\", \"2020-08-27T00:00:00\", \"2020-08-28T00:00:00\", \"2020-08-31T00:00:00\", \"2020-09-01T00:00:00\", \"2020-09-02T00:00:00\", \"2020-09-03T00:00:00\", \"2020-09-04T00:00:00\", \"2020-09-07T00:00:00\", \"2020-09-08T00:00:00\", \"2020-09-09T00:00:00\", \"2020-09-10T00:00:00\", \"2020-09-11T00:00:00\", \"2020-09-14T00:00:00\", \"2020-09-15T00:00:00\", \"2020-09-16T00:00:00\", \"2020-09-17T00:00:00\", \"2020-09-18T00:00:00\", \"2020-09-21T00:00:00\", \"2020-09-22T00:00:00\", \"2020-09-23T00:00:00\", \"2020-09-24T00:00:00\", \"2020-09-25T00:00:00\", \"2020-09-28T00:00:00\", \"2020-09-29T00:00:00\", \"2020-09-30T00:00:00\", \"2020-10-01T00:00:00\", \"2020-10-05T00:00:00\", \"2020-10-06T00:00:00\", \"2020-10-07T00:00:00\", \"2020-10-08T00:00:00\", \"2020-10-09T00:00:00\", \"2020-10-12T00:00:00\", \"2020-10-13T00:00:00\", \"2020-10-14T00:00:00\", \"2020-10-15T00:00:00\", \"2020-10-16T00:00:00\", \"2020-10-19T00:00:00\", \"2020-10-20T00:00:00\", \"2020-10-21T00:00:00\", \"2020-10-22T00:00:00\", \"2020-10-23T00:00:00\", \"2020-10-26T00:00:00\", \"2020-10-27T00:00:00\", \"2020-10-28T00:00:00\", \"2020-10-29T00:00:00\", \"2020-10-30T00:00:00\", \"2020-11-02T00:00:00\", \"2020-11-03T00:00:00\", \"2020-11-04T00:00:00\", \"2020-11-05T00:00:00\", \"2020-11-06T00:00:00\", \"2020-11-09T00:00:00\", \"2020-11-10T00:00:00\", \"2020-11-11T00:00:00\", \"2020-11-12T00:00:00\", \"2020-11-13T00:00:00\", \"2020-11-14T00:00:00\", \"2020-11-17T00:00:00\", \"2020-11-18T00:00:00\", \"2020-11-19T00:00:00\", \"2020-11-20T00:00:00\", \"2020-11-23T00:00:00\", \"2020-11-24T00:00:00\", \"2020-11-25T00:00:00\", \"2020-11-26T00:00:00\", \"2020-11-27T00:00:00\", \"2020-12-01T00:00:00\", \"2020-12-02T00:00:00\", \"2020-12-03T00:00:00\", \"2020-12-04T00:00:00\", \"2020-12-07T00:00:00\", \"2020-12-08T00:00:00\", \"2020-12-09T00:00:00\", \"2020-12-10T00:00:00\", \"2020-12-11T00:00:00\", \"2020-12-14T00:00:00\", \"2020-12-15T00:00:00\", \"2020-12-16T00:00:00\", \"2020-12-17T00:00:00\", \"2020-12-18T00:00:00\", \"2020-12-21T00:00:00\", \"2020-12-22T00:00:00\", \"2020-12-23T00:00:00\", \"2020-12-24T00:00:00\", \"2020-12-28T00:00:00\", \"2020-12-29T00:00:00\", \"2020-12-30T00:00:00\", \"2020-12-31T00:00:00\", \"2021-01-01T00:00:00\", \"2021-01-04T00:00:00\", \"2021-01-05T00:00:00\", \"2021-01-06T00:00:00\", \"2021-01-07T00:00:00\", \"2021-01-08T00:00:00\", \"2021-01-11T00:00:00\", \"2021-01-12T00:00:00\", \"2021-01-13T00:00:00\", \"2021-01-14T00:00:00\", \"2021-01-15T00:00:00\", \"2021-01-18T00:00:00\", \"2021-01-19T00:00:00\", \"2021-01-20T00:00:00\", \"2021-01-21T00:00:00\", \"2021-01-22T00:00:00\", \"2021-01-25T00:00:00\", \"2021-01-27T00:00:00\", \"2021-01-28T00:00:00\", \"2021-01-29T00:00:00\", \"2021-02-01T00:00:00\", \"2021-02-02T00:00:00\", \"2021-02-03T00:00:00\", \"2021-02-04T00:00:00\", \"2021-02-05T00:00:00\", \"2021-02-08T00:00:00\", \"2021-02-09T00:00:00\", \"2021-02-10T00:00:00\", \"2021-02-11T00:00:00\", \"2021-02-12T00:00:00\", \"2021-02-15T00:00:00\", \"2021-02-16T00:00:00\", \"2021-02-17T00:00:00\", \"2021-02-18T00:00:00\", \"2021-02-19T00:00:00\", \"2021-02-22T00:00:00\", \"2021-02-23T00:00:00\", \"2021-02-24T00:00:00\", \"2021-02-25T00:00:00\", \"2021-02-26T00:00:00\", \"2021-03-01T00:00:00\", \"2021-03-02T00:00:00\", \"2021-03-03T00:00:00\", \"2021-03-04T00:00:00\", \"2021-03-05T00:00:00\", \"2021-03-08T00:00:00\", \"2021-03-09T00:00:00\", \"2021-03-10T00:00:00\", \"2021-03-12T00:00:00\", \"2021-03-15T00:00:00\", \"2021-03-16T00:00:00\", \"2021-03-17T00:00:00\", \"2021-03-18T00:00:00\", \"2021-03-19T00:00:00\", \"2021-03-22T00:00:00\", \"2021-03-23T00:00:00\", \"2021-03-24T00:00:00\", \"2021-03-25T00:00:00\", \"2021-03-26T00:00:00\", \"2021-03-30T00:00:00\", \"2021-03-31T00:00:00\", \"2021-04-01T00:00:00\", \"2021-04-05T00:00:00\", \"2021-04-06T00:00:00\", \"2021-04-07T00:00:00\", \"2021-04-08T00:00:00\", \"2021-04-09T00:00:00\", \"2021-04-12T00:00:00\", \"2021-04-13T00:00:00\", \"2021-04-15T00:00:00\", \"2021-04-16T00:00:00\", \"2021-04-19T00:00:00\", \"2021-04-20T00:00:00\", \"2021-04-22T00:00:00\", \"2021-04-23T00:00:00\", \"2021-04-26T00:00:00\", \"2021-04-27T00:00:00\", \"2021-04-28T00:00:00\", \"2021-04-29T00:00:00\", \"2021-04-30T00:00:00\", \"2021-05-03T00:00:00\", \"2021-05-04T00:00:00\", \"2021-05-05T00:00:00\", \"2021-05-06T00:00:00\", \"2021-05-07T00:00:00\", \"2021-05-10T00:00:00\", \"2021-05-11T00:00:00\", \"2021-05-12T00:00:00\", \"2021-05-14T00:00:00\", \"2021-05-17T00:00:00\", \"2021-05-18T00:00:00\", \"2021-05-19T00:00:00\", \"2021-05-20T00:00:00\", \"2021-05-21T00:00:00\", \"2021-05-24T00:00:00\", \"2021-05-25T00:00:00\", \"2021-05-26T00:00:00\", \"2021-05-27T00:00:00\", \"2021-05-28T00:00:00\", \"2021-05-31T00:00:00\", \"2021-06-01T00:00:00\", \"2021-06-02T00:00:00\", \"2021-06-03T00:00:00\", \"2021-06-04T00:00:00\", \"2021-06-07T00:00:00\", \"2021-06-08T00:00:00\", \"2021-06-09T00:00:00\", \"2021-06-10T00:00:00\", \"2021-06-11T00:00:00\", \"2021-06-14T00:00:00\", \"2021-06-15T00:00:00\", \"2021-06-16T00:00:00\", \"2021-06-17T00:00:00\", \"2021-06-18T00:00:00\", \"2021-06-21T00:00:00\", \"2021-06-22T00:00:00\", \"2021-06-23T00:00:00\", \"2021-06-24T00:00:00\", \"2021-06-25T00:00:00\", \"2021-06-28T00:00:00\", \"2021-06-29T00:00:00\", \"2021-06-30T00:00:00\", \"2021-07-01T00:00:00\", \"2021-07-02T00:00:00\", \"2021-07-05T00:00:00\", \"2021-07-06T00:00:00\", \"2021-07-07T00:00:00\", \"2021-07-08T00:00:00\", \"2021-07-09T00:00:00\", \"2021-07-12T00:00:00\", \"2021-07-13T00:00:00\", \"2021-07-14T00:00:00\", \"2021-07-15T00:00:00\", \"2021-07-16T00:00:00\", \"2021-07-19T00:00:00\", \"2021-07-20T00:00:00\", \"2021-07-22T00:00:00\", \"2021-07-23T00:00:00\", \"2021-07-26T00:00:00\", \"2021-07-27T00:00:00\", \"2021-07-28T00:00:00\", \"2021-07-29T00:00:00\", \"2021-07-30T00:00:00\", \"2021-08-02T00:00:00\", \"2021-08-03T00:00:00\", \"2021-08-04T00:00:00\", \"2021-08-05T00:00:00\", \"2021-08-06T00:00:00\", \"2021-08-09T00:00:00\", \"2021-08-10T00:00:00\", \"2021-08-11T00:00:00\", \"2021-08-12T00:00:00\", \"2021-08-13T00:00:00\", \"2021-08-16T00:00:00\", \"2021-08-17T00:00:00\", \"2021-08-18T00:00:00\", \"2021-08-20T00:00:00\", \"2021-08-23T00:00:00\", \"2021-08-24T00:00:00\", \"2021-08-25T00:00:00\", \"2021-08-26T00:00:00\", \"2021-08-27T00:00:00\", \"2021-08-30T00:00:00\", \"2021-08-31T00:00:00\", \"2021-09-01T00:00:00\", \"2021-09-02T00:00:00\", \"2021-09-03T00:00:00\", \"2021-09-06T00:00:00\", \"2021-09-07T00:00:00\", \"2021-09-08T00:00:00\", \"2021-09-09T00:00:00\", \"2021-09-13T00:00:00\", \"2021-09-14T00:00:00\", \"2021-09-15T00:00:00\", \"2021-09-16T00:00:00\", \"2021-09-17T00:00:00\", \"2021-09-20T00:00:00\", \"2021-09-21T00:00:00\", \"2021-09-22T00:00:00\", \"2021-09-23T00:00:00\", \"2021-09-24T00:00:00\", \"2021-09-27T00:00:00\", \"2021-09-28T00:00:00\", \"2021-09-29T00:00:00\", \"2021-09-30T00:00:00\", \"2021-10-01T00:00:00\", \"2021-10-04T00:00:00\", \"2021-10-05T00:00:00\", \"2021-10-06T00:00:00\", \"2021-10-07T00:00:00\", \"2021-10-08T00:00:00\", \"2021-10-11T00:00:00\", \"2021-10-12T00:00:00\", \"2021-10-13T00:00:00\", \"2021-10-14T00:00:00\", \"2021-10-18T00:00:00\", \"2021-10-19T00:00:00\", \"2021-10-20T00:00:00\", \"2021-10-21T00:00:00\", \"2021-10-22T00:00:00\", \"2021-10-25T00:00:00\", \"2021-10-26T00:00:00\", \"2021-10-27T00:00:00\", \"2021-10-28T00:00:00\", \"2021-10-29T00:00:00\", \"2021-11-01T00:00:00\", \"2021-11-02T00:00:00\", \"2021-11-03T00:00:00\", \"2021-11-04T00:00:00\", \"2021-11-08T00:00:00\", \"2021-11-09T00:00:00\", \"2021-11-10T00:00:00\", \"2021-11-11T00:00:00\", \"2021-11-12T00:00:00\", \"2021-11-15T00:00:00\", \"2021-11-16T00:00:00\", \"2021-11-17T00:00:00\", \"2021-11-18T00:00:00\"], \"y\": [887, 886, 883, 871, 867, 863, 862, 861, 859, 856, 857, 858, 860, 863, 866, 867, 868, 870, 872, 875, 877, 879, 881, 884, 885, 886, 887, 887, 887, 888, 889, 890, 890, 890, 890, 888, 887, 886, 884, 883, 883, 882, 883, 883, 883, 883, 882, 881, 881, 880, 879, 878, 878, 878, 877, 876, 876, 875, 874, 872, 871, 870, 869, 868, 868, 868, 868, 869, 870, 871, 872, 873, 873, 873, 874, 874, 874, 874, 874, 873, 873, 873, 874, 874, 874, 874, 874, 874, 874, 874, 874, 875, 875, 876, 876, 876, 877, 877, 877, 877, 877, 877, 878, 878, 878, 879, 879, 879, 879, 879, 879, 880, 880, 881, 882, 884, 885, 887, 889, 890, 892, 893, 895, 896, 898, 899, 901, 902, 904, 905, 906, 907, 909, 910, 911, 913, 914, 916, 917, 919, 921, 922, 923, 924, 925, 926, 927, 927, 928, 929, 930, 930, 931, 931, 931, 931, 931, 932, 932, 932, 931, 930, 929, 928, 927, 927, 926, 925, 924, 923, 922, 921, 920, 919, 919, 918, 917, 917, 916, 916, 916, 915, 914, 913, 912, 911, 911, 910, 910, 910, 910, 910, 909, 909, 909, 909, 909, 909, 909, 910, 910, 911, 911, 912, 912, 912, 913, 913, 914, 914, 914, 915, 915, 915, 916, 916, 916, 916, 916, 916, 917, 917, 918, 918, 919, 920, 920, 921, 921, 922, 922, 922, 922, 923, 923, 923, 924, 924, 925, 926, 927, 927, 928, 929, 930, 931, 932, 933, 933, 934, 935, 936, 937, 938, 939, 940, 942, 943, 944, 945, 946, 947, 947, 948, 948, 949, 950, 950, 951, 952, 952, 952, 953, 953, 953, 953, 952, 952, 952, 952, 952, 952, 951, 952, 952, 952, 951, 951, 952, 952, 952, 953, 954, 954, 955, 956, 957, 957, 958, 958, 959, 960, 961, 961, 962, 963, 964, 964, 965, 966, 967, 967, 968, 969, 969, 970, 971, 972, 973, 974, 974, 975, 975, 976, 976, 976, 976, 977, 977, 977, 977, 976, 977, 977, 977, 977, 977, 977, 977, 977, 976, 976, 975, 975, 975, 974, 974, 974, 974, 974, 974, 974, 974, 973, 973, 973, 973, 973, 973, 973, 973, 973, 974, 974, 974, 974, 974, 973, 973, 973, 973, 973, 973, 973, 974, 974, 974, 974, 974, 975, 975, 975, 976, 976, 977, 977, 977, 978, 978, 979, 979, 979, 980, 980, 980, 980, 981, 981, 982, 982, 982, 983, 983, 984, 984, 984, 984, 985, 985, 985, 986, 987, 988, 988, 988, 989, 989, 989, 990, 991, 991, 992, 993, 994, 994, 995, 996, 997, 998, 999, 1000, 1001, 1002, 1003, 1004, 1005, 1006, 1007, 1008, 1008, 1009, 1009, 1010, 1011, 1012, 1012, 1013, 1013, 1013, 1014, 1014, 1015, 1015, 1015, 1015, 1015, 1015, 1015, 1015, 1015, 1014, 1014, 1014, 1014, 1013, 1013, 1013, 1013, 1013, 1012, 1012, 1012, 1012, 1012, 1011, 1011, 1011, 1011, 1011, 1011, 1011, 1012, 1012, 1013, 1013, 1014, 1014, 1015, 1015, 1015, 1016, 1016, 1016, 1017, 1018, 1018, 1019, 1019, 1020, 1021, 1021, 1022, 1022, 1023, 1024, 1024, 1024, 1024, 1025, 1025, 1024, 1025, 1024, 1024, 1025, 1025, 1025, 1025, 1025, 1025, 1026, 1026, 1026, 1026, 1026, 1026, 1026, 1027, 1027, 1028, 1028, 1030, 1031, 1034, 1036, 1038, 1040, 1042, 1044, 1047, 1049, 1052, 1054, 1056, 1059, 1061, 1064, 1066, 1068, 1070, 1072, 1074, 1076, 1077, 1079, 1081, 1083, 1086, 1090, 1093, 1096, 1099, 1102, 1104, 1107, 1110, 1112, 1115, 1117, 1120, 1123, 1126, 1129, 1132, 1135, 1137, 1139, 1141, 1143, 1145, 1147, 1149, 1151, 1153, 1155, 1157, 1159, 1161, 1162, 1164, 1165, 1167, 1168, 1170, 1171, 1173, 1175, 1177, 1178, 1179, 1181, 1182, 1184, 1185, 1187, 1188, 1190, 1192, 1194, 1196, 1198, 1200, 1202, 1205, 1207, 1209, 1211, 1212, 1214, 1216, 1218, 1221, 1223, 1226, 1229, 1232, 1235, 1238, 1241, 1244, 1247, 1250, 1254, 1257, 1261, 1264, 1267, 1271, 1274, 1278, 1281, 1285, 1288, 1291, 1294, 1297, 1300, 1302, 1305, 1307, 1310, 1313, 1315, 1318, 1320, 1323, 1325, 1327, 1330, 1333, 1335, 1338, 1341, 1336, 1331, 1326, 1321, 1316, 1311, 1307, 1302, 1298, 1293, 1289, 1284, 1279, 1275, 1270, 1265, 1260, 1256, 1251, 1247, 1243, 1239, 1235, 1231, 1227, 1224, 1220, 1217, 1214, 1211, 1208, 1206, 1203, 1200, 1198, 1195, 1193, 1190, 1188, 1185, 1183, 1180, 1177, 1174, 1171, 1168, 1166, 1163, 1160, 1158, 1155, 1153, 1151, 1149, 1147, 1145, 1143, 1141, 1139, 1137, 1134, 1132, 1130, 1128, 1126, 1124, 1122, 1120, 1118, 1116, 1114, 1112, 1110, 1108, 1106, 1104, 1103, 1101, 1099, 1097, 1095, 1093, 1092, 1090, 1088, 1087, 1086, 1084, 1083, 1081, 1080, 1078, 1077, 1075, 1074, 1073, 1072, 1071, 1070, 1069, 1068, 1067, 1065, 1063, 1062, 1060, 1058, 1057, 1055, 1054, 1053, 1052, 1050, 1049, 1048, 1047, 1046, 1044, 1044, 1043, 1042, 1041, 1039, 1038, 1036, 1035, 1034, 1033, 1032, 1031, 1030, 1028, 1027, 1026, 1024, 1023, 1022, 1021, 1019, 1018, 1017, 1016, 1015, 1014, 1013, 1012, 1011, 1010, 1009, 1009, 1008, 1007, 1007, 1006, 1005, 1005, 1004, 1004, 1004, 1004, 1003, 1003, 1002, 1002, 1002, 1001, 1001, 1001, 1001, 1001, 1000, 1000, 999, 998, 998, 997, 996, 995, 994, 994, 993, 992, 992, 991, 991, 990, 990, 990, 990, 990, 990, 990, 991, 991, 991, 991, 992, 992, 992, 992, 991, 991, 991, 990, 990, 990, 990, 990, 990, 990, 991, 992, 993, 994, 995, 996, 997, 998, 999, 1000, 1001, 1002, 1004, 1005, 1007, 1009, 1010, 1012, 1014, 1016, 1018, 1020, 1021, 1023, 1025, 1027, 1028, 1030, 1033, 1035, 1037, 1040, 1043, 1045, 1047, 1049, 1051, 1053, 1055, 1057, 1059, 1061, 1063, 1065, 1066, 1068, 1070, 1071, 1072, 1074, 1076, 1077, 1079, 1081, 1082, 1084, 1084, 1084, 1084, 1084, 1084, 1084, 1084, 1085, 1086, 1086, 1087, 1086, 1086, 1086, 1085, 1085, 1085, 1084, 1084, 1084, 1084, 1084, 1084, 1084, 1084, 1084, 1084, 1085, 1085, 1085, 1086, 1086, 1087, 1087, 1087, 1087, 1088, 1089, 1090, 1090, 1091, 1091, 1092, 1092, 1092, 1092, 1092, 1093, 1093, 1093, 1094, 1094, 1094, 1094, 1094, 1094, 1095, 1095, 1095, 1095, 1095, 1095, 1095, 1096, 1096, 1096, 1096, 1096, 1096, 1096, 1097, 1097, 1098, 1099, 1101, 1102, 1103, 1105, 1106, 1107, 1108, 1109, 1110, 1112, 1114, 1116, 1118, 1119, 1121, 1122, 1123, 1124, 1125, 1126, 1127, 1128, 1129, 1130, 1131, 1132, 1133, 1134, 1135, 1136, 1137, 1139, 1140, 1142, 1144, 1146, 1147, 1149, 1151, 1153, 1156, 1158, 1159, 1161, 1163, 1165, 1167, 1169, 1171, 1173, 1175, 1177, 1179, 1180, 1182, 1183, 1185, 1186, 1188, 1190, 1191, 1193, 1195, 1197, 1199, 1201, 1203, 1205, 1207, 1208, 1209, 1209, 1210, 1210, 1210, 1211, 1211, 1212, 1213, 1214, 1216, 1217, 1218, 1219, 1220, 1221, 1222, 1223, 1224, 1226, 1227, 1227, 1228, 1229, 1230, 1231, 1232, 1233, 1233, 1234, 1234, 1235, 1235, 1236, 1236, 1237, 1237, 1237, 1237, 1238, 1238, 1239, 1239, 1239, 1239, 1240, 1240, 1241, 1241, 1242, 1242, 1242, 1242, 1243, 1243, 1243, 1242, 1242, 1241, 1241, 1240, 1239, 1238, 1237, 1236, 1235, 1235, 1235, 1235, 1236, 1236, 1237, 1237, 1237, 1238, 1238, 1238, 1238, 1239, 1239, 1238, 1238, 1238, 1237, 1237, 1237, 1237, 1237, 1237, 1236, 1236, 1235, 1235, 1235, 1236, 1236, 1237, 1238, 1239, 1239, 1240, 1241, 1241, 1242, 1243, 1244, 1246, 1247, 1248, 1249, 1251, 1253, 1254, 1256, 1258, 1259, 1261, 1264, 1266, 1267, 1269, 1271, 1273, 1275, 1276, 1278, 1280, 1282, 1283, 1285, 1287, 1290, 1292, 1295, 1298, 1300, 1303, 1306, 1308, 1311, 1314, 1316, 1318, 1321, 1323, 1325, 1328, 1330, 1333, 1335, 1337, 1340, 1342, 1345, 1347, 1349, 1351, 1353, 1355, 1356, 1358, 1359, 1361, 1363, 1364, 1366, 1367, 1369, 1371, 1373, 1374, 1376, 1378, 1379, 1381, 1382, 1384, 1385, 1386, 1387, 1388, 1389, 1389, 1389, 1389, 1389, 1390, 1390, 1391, 1391, 1392, 1393, 1393, 1394, 1395, 1396, 1397, 1398, 1398, 1399, 1398, 1398, 1398, 1397, 1396, 1396, 1395, 1394, 1391, 1388, 1385, 1382, 1379, 1375, 1371, 1367, 1363, 1358, 1354, 1351, 1349, 1346, 1343, 1340, 1338, 1335, 1334, 1332, 1331, 1330, 1328, 1326, 1325, 1325, 1324, 1324, 1325, 1326, 1327, 1328, 1329, 1330, 1331, 1332, 1334, 1335, 1338, 1340, 1341, 1343, 1344, 1345, 1346, 1346, 1347, 1348, 1349, 1350, 1351, 1352, 1353, 1355, 1357, 1358, 1361, 1363, 1365, 1367, 1369, 1370, 1372, 1375, 1377, 1380, 1382, 1386, 1390, 1393, 1396, 1399, 1403, 1406, 1409, 1412, 1416, 1419, 1424, 1428, 1431, 1435, 1440, 1444, 1448, 1452, 1457, 1461, 1467, 1472, 1478, 1484, 1491, 1498, 1504, 1510, 1515, 1520, 1527, 1533, 1539, 1545, 1550, 1556, 1562, 1567, 1573, 1578, 1583, 1589, 1594, 1599, 1604, 1608, 1614, 1619, 1623, 1628, 1633, 1638, 1642, 1647, 1651, 1655, 1660, 1667, 1673, 1680, 1686, 1692, 1698, 1704, 1710, 1715, 1720, 1725, 1729, 1734, 1739, 1744, 1749, 1754, 1758, 1763, 1768, 1772, 1777, 1782, 1787, 1791, 1795, 1799, 1802, 1806, 1809, 1812, 1814, 1816, 1818, 1820, 1822, 1823, 1823, 1824, 1825, 1827, 1830, 1832, 1834, 1835, 1837, 1838, 1840, 1841, 1843, 1843, 1844, 1846, 1847, 1848, 1848, 1849, 1851, 1852, 1853, 1854, 1855, 1857, 1858, 1860, 1861, 1862, 1863, 1864, 1866, 1866, 1867, 1868, 1869, 1871, 1872, 1873, 1874, 1875, 1876, 1877, 1878, 1878, 1878, 1879, 1879, 1880, 1881, 1881, 1882, 1884, 1885, 1888, 1889, 1890, 1890, 1890, 1889, 1889, 1889, 1890, 1890, 1891, 1891, 1892, 1893, 1894, 1896, 1897, 1899, 1900, 1902, 1904, 1905, 1906, 1908, 1910, 1912, 1914, 1916, 1918, 1921, 1924, 1926, 1929, 1931, 1933, 1935, 1937, 1938, 1939, 1940, 1941, 1943, 1944, 1944, 1945, 1946, 1946, 1947, 1947, 1948, 1948, 1949, 1949, 1949, 1949, 1949, 1948, 1948, 1947, 1947, 1947, 1946, 1947, 1947, 1948, 1949, 1949, 1948, 1948, 1948, 1948, 1948, 1947, 1947, 1947, 1947, 1947, 1948, 1948, 1949, 1949, 1949, 1950, 1950, 1951, 1953, 1955, 1958, 1960, 1963, 1965, 1968, 1970, 1972, 1974, 1977, 1980, 1982, 1984, 1987, 1989, 1992, 1994, 1995, 1996, 1997, 1998, 1999, 2000, 2002, 2003, 2004, 2005, 2006, 2007, 2008, 2008, 2009, 2010, 2011, 2012, 2013, 2014, 2015, 2015, 2016, 2016, 2016, 2016, 2017, 2018, 2018, 2020, 2020, 2021, 2022, 2022, 2023, 2025, 2026, 2027, 2029, 2030, 2031, 2033, 2035, 2036, 2038, 2041, 2043, 2045, 2048, 2051, 2055, 2059, 2062, 2066, 2069, 2072, 2075, 2078, 2081, 2085, 2088, 2091, 2095, 2099, 2103, 2108, 2112, 2116, 2120, 2124, 2129, 2133, 2138, 2143, 2148, 2153, 2159, 2164, 2169, 2175, 2180, 2185, 2189, 2193, 2198, 2202, 2206, 2209, 2213, 2215, 2218, 2221, 2224, 2227, 2230, 2233, 2237, 2240, 2243, 2245, 2247]}],\n",
              "                        {\"legend\": {\"tracegroupgap\": 0}, \"margin\": {\"t\": 60}, \"template\": {\"data\": {\"bar\": [{\"error_x\": {\"color\": \"#2a3f5f\"}, \"error_y\": {\"color\": \"#2a3f5f\"}, \"marker\": {\"line\": {\"color\": \"#E5ECF6\", \"width\": 0.5}}, \"type\": \"bar\"}], \"barpolar\": [{\"marker\": {\"line\": {\"color\": \"#E5ECF6\", \"width\": 0.5}}, \"type\": \"barpolar\"}], \"carpet\": [{\"aaxis\": {\"endlinecolor\": \"#2a3f5f\", \"gridcolor\": \"white\", \"linecolor\": \"white\", \"minorgridcolor\": \"white\", \"startlinecolor\": \"#2a3f5f\"}, \"baxis\": {\"endlinecolor\": \"#2a3f5f\", \"gridcolor\": \"white\", \"linecolor\": \"white\", \"minorgridcolor\": \"white\", \"startlinecolor\": \"#2a3f5f\"}, \"type\": \"carpet\"}], \"choropleth\": [{\"colorbar\": {\"outlinewidth\": 0, \"ticks\": \"\"}, \"type\": \"choropleth\"}], \"contour\": [{\"colorbar\": {\"outlinewidth\": 0, \"ticks\": \"\"}, \"colorscale\": [[0.0, \"#0d0887\"], [0.1111111111111111, \"#46039f\"], [0.2222222222222222, \"#7201a8\"], [0.3333333333333333, \"#9c179e\"], [0.4444444444444444, \"#bd3786\"], [0.5555555555555556, \"#d8576b\"], [0.6666666666666666, \"#ed7953\"], [0.7777777777777778, \"#fb9f3a\"], [0.8888888888888888, \"#fdca26\"], [1.0, \"#f0f921\"]], \"type\": \"contour\"}], \"contourcarpet\": [{\"colorbar\": {\"outlinewidth\": 0, \"ticks\": \"\"}, \"type\": \"contourcarpet\"}], \"heatmap\": [{\"colorbar\": {\"outlinewidth\": 0, \"ticks\": \"\"}, \"colorscale\": [[0.0, \"#0d0887\"], [0.1111111111111111, \"#46039f\"], [0.2222222222222222, \"#7201a8\"], [0.3333333333333333, \"#9c179e\"], [0.4444444444444444, \"#bd3786\"], [0.5555555555555556, \"#d8576b\"], [0.6666666666666666, \"#ed7953\"], [0.7777777777777778, \"#fb9f3a\"], [0.8888888888888888, \"#fdca26\"], [1.0, \"#f0f921\"]], \"type\": \"heatmap\"}], \"heatmapgl\": [{\"colorbar\": {\"outlinewidth\": 0, \"ticks\": \"\"}, \"colorscale\": [[0.0, \"#0d0887\"], [0.1111111111111111, \"#46039f\"], [0.2222222222222222, \"#7201a8\"], [0.3333333333333333, \"#9c179e\"], [0.4444444444444444, \"#bd3786\"], [0.5555555555555556, \"#d8576b\"], [0.6666666666666666, \"#ed7953\"], [0.7777777777777778, \"#fb9f3a\"], [0.8888888888888888, \"#fdca26\"], [1.0, \"#f0f921\"]], \"type\": \"heatmapgl\"}], \"histogram\": [{\"marker\": {\"colorbar\": {\"outlinewidth\": 0, \"ticks\": \"\"}}, \"type\": \"histogram\"}], \"histogram2d\": [{\"colorbar\": {\"outlinewidth\": 0, \"ticks\": \"\"}, \"colorscale\": [[0.0, \"#0d0887\"], [0.1111111111111111, \"#46039f\"], [0.2222222222222222, \"#7201a8\"], [0.3333333333333333, \"#9c179e\"], [0.4444444444444444, \"#bd3786\"], [0.5555555555555556, \"#d8576b\"], [0.6666666666666666, \"#ed7953\"], [0.7777777777777778, \"#fb9f3a\"], [0.8888888888888888, \"#fdca26\"], [1.0, \"#f0f921\"]], \"type\": \"histogram2d\"}], \"histogram2dcontour\": [{\"colorbar\": {\"outlinewidth\": 0, \"ticks\": \"\"}, \"colorscale\": [[0.0, \"#0d0887\"], [0.1111111111111111, \"#46039f\"], [0.2222222222222222, \"#7201a8\"], [0.3333333333333333, \"#9c179e\"], [0.4444444444444444, \"#bd3786\"], [0.5555555555555556, \"#d8576b\"], [0.6666666666666666, \"#ed7953\"], [0.7777777777777778, \"#fb9f3a\"], [0.8888888888888888, \"#fdca26\"], [1.0, \"#f0f921\"]], \"type\": \"histogram2dcontour\"}], \"mesh3d\": [{\"colorbar\": {\"outlinewidth\": 0, \"ticks\": \"\"}, \"type\": \"mesh3d\"}], \"parcoords\": [{\"line\": {\"colorbar\": {\"outlinewidth\": 0, \"ticks\": \"\"}}, \"type\": \"parcoords\"}], \"pie\": [{\"automargin\": true, \"type\": \"pie\"}], \"scatter\": [{\"marker\": {\"colorbar\": {\"outlinewidth\": 0, \"ticks\": \"\"}}, \"type\": \"scatter\"}], \"scatter3d\": [{\"line\": {\"colorbar\": {\"outlinewidth\": 0, \"ticks\": \"\"}}, \"marker\": {\"colorbar\": {\"outlinewidth\": 0, \"ticks\": \"\"}}, \"type\": \"scatter3d\"}], \"scattercarpet\": [{\"marker\": {\"colorbar\": {\"outlinewidth\": 0, \"ticks\": \"\"}}, \"type\": \"scattercarpet\"}], \"scattergeo\": [{\"marker\": {\"colorbar\": {\"outlinewidth\": 0, \"ticks\": \"\"}}, \"type\": \"scattergeo\"}], \"scattergl\": [{\"marker\": {\"colorbar\": {\"outlinewidth\": 0, \"ticks\": \"\"}}, \"type\": \"scattergl\"}], \"scattermapbox\": [{\"marker\": {\"colorbar\": {\"outlinewidth\": 0, \"ticks\": \"\"}}, \"type\": \"scattermapbox\"}], \"scatterpolar\": [{\"marker\": {\"colorbar\": {\"outlinewidth\": 0, \"ticks\": \"\"}}, \"type\": \"scatterpolar\"}], \"scatterpolargl\": [{\"marker\": {\"colorbar\": {\"outlinewidth\": 0, \"ticks\": \"\"}}, \"type\": \"scatterpolargl\"}], \"scatterternary\": [{\"marker\": {\"colorbar\": {\"outlinewidth\": 0, \"ticks\": \"\"}}, \"type\": \"scatterternary\"}], \"surface\": [{\"colorbar\": {\"outlinewidth\": 0, \"ticks\": \"\"}, \"colorscale\": [[0.0, \"#0d0887\"], [0.1111111111111111, \"#46039f\"], [0.2222222222222222, \"#7201a8\"], [0.3333333333333333, \"#9c179e\"], [0.4444444444444444, \"#bd3786\"], [0.5555555555555556, \"#d8576b\"], [0.6666666666666666, \"#ed7953\"], [0.7777777777777778, \"#fb9f3a\"], [0.8888888888888888, \"#fdca26\"], [1.0, \"#f0f921\"]], \"type\": \"surface\"}], \"table\": [{\"cells\": {\"fill\": {\"color\": \"#EBF0F8\"}, \"line\": {\"color\": \"white\"}}, \"header\": {\"fill\": {\"color\": \"#C8D4E3\"}, \"line\": {\"color\": \"white\"}}, \"type\": \"table\"}]}, \"layout\": {\"annotationdefaults\": {\"arrowcolor\": \"#2a3f5f\", \"arrowhead\": 0, \"arrowwidth\": 1}, \"coloraxis\": {\"colorbar\": {\"outlinewidth\": 0, \"ticks\": \"\"}}, \"colorscale\": {\"diverging\": [[0, \"#8e0152\"], [0.1, \"#c51b7d\"], [0.2, \"#de77ae\"], [0.3, \"#f1b6da\"], [0.4, \"#fde0ef\"], [0.5, \"#f7f7f7\"], [0.6, \"#e6f5d0\"], [0.7, \"#b8e186\"], [0.8, \"#7fbc41\"], [0.9, \"#4d9221\"], [1, \"#276419\"]], \"sequential\": [[0.0, \"#0d0887\"], [0.1111111111111111, \"#46039f\"], [0.2222222222222222, \"#7201a8\"], [0.3333333333333333, \"#9c179e\"], [0.4444444444444444, \"#bd3786\"], [0.5555555555555556, \"#d8576b\"], [0.6666666666666666, \"#ed7953\"], [0.7777777777777778, \"#fb9f3a\"], [0.8888888888888888, \"#fdca26\"], [1.0, \"#f0f921\"]], \"sequentialminus\": [[0.0, \"#0d0887\"], [0.1111111111111111, \"#46039f\"], [0.2222222222222222, \"#7201a8\"], [0.3333333333333333, \"#9c179e\"], [0.4444444444444444, \"#bd3786\"], [0.5555555555555556, \"#d8576b\"], [0.6666666666666666, \"#ed7953\"], [0.7777777777777778, \"#fb9f3a\"], [0.8888888888888888, \"#fdca26\"], [1.0, \"#f0f921\"]]}, \"colorway\": [\"#636efa\", \"#EF553B\", \"#00cc96\", \"#ab63fa\", \"#FFA15A\", \"#19d3f3\", \"#FF6692\", \"#B6E880\", \"#FF97FF\", \"#FECB52\"], \"font\": {\"color\": \"#2a3f5f\"}, \"geo\": {\"bgcolor\": \"white\", \"lakecolor\": \"white\", \"landcolor\": \"#E5ECF6\", \"showlakes\": true, \"showland\": true, \"subunitcolor\": \"white\"}, \"hoverlabel\": {\"align\": \"left\"}, \"hovermode\": \"closest\", \"mapbox\": {\"style\": \"light\"}, \"paper_bgcolor\": \"white\", \"plot_bgcolor\": \"#E5ECF6\", \"polar\": {\"angularaxis\": {\"gridcolor\": \"white\", \"linecolor\": \"white\", \"ticks\": \"\"}, \"bgcolor\": \"#E5ECF6\", \"radialaxis\": {\"gridcolor\": \"white\", \"linecolor\": \"white\", \"ticks\": \"\"}}, \"scene\": {\"xaxis\": {\"backgroundcolor\": \"#E5ECF6\", \"gridcolor\": \"white\", \"gridwidth\": 2, \"linecolor\": \"white\", \"showbackground\": true, \"ticks\": \"\", \"zerolinecolor\": \"white\"}, \"yaxis\": {\"backgroundcolor\": \"#E5ECF6\", \"gridcolor\": \"white\", \"gridwidth\": 2, \"linecolor\": \"white\", \"showbackground\": true, \"ticks\": \"\", \"zerolinecolor\": \"white\"}, \"zaxis\": {\"backgroundcolor\": \"#E5ECF6\", \"gridcolor\": \"white\", \"gridwidth\": 2, \"linecolor\": \"white\", \"showbackground\": true, \"ticks\": \"\", \"zerolinecolor\": \"white\"}}, \"shapedefaults\": {\"line\": {\"color\": \"#2a3f5f\"}}, \"ternary\": {\"aaxis\": {\"gridcolor\": \"white\", \"linecolor\": \"white\", \"ticks\": \"\"}, \"baxis\": {\"gridcolor\": \"white\", \"linecolor\": \"white\", \"ticks\": \"\"}, \"bgcolor\": \"#E5ECF6\", \"caxis\": {\"gridcolor\": \"white\", \"linecolor\": \"white\", \"ticks\": \"\"}}, \"title\": {\"x\": 0.05}, \"xaxis\": {\"automargin\": true, \"gridcolor\": \"white\", \"linecolor\": \"white\", \"ticks\": \"\", \"title\": {\"standoff\": 15}, \"zerolinecolor\": \"white\", \"zerolinewidth\": 2}, \"yaxis\": {\"automargin\": true, \"gridcolor\": \"white\", \"linecolor\": \"white\", \"ticks\": \"\", \"title\": {\"standoff\": 15}, \"zerolinecolor\": \"white\", \"zerolinewidth\": 2}}}, \"xaxis\": {\"anchor\": \"y\", \"domain\": [0.0, 1.0], \"rangeslider\": {\"visible\": false}, \"showgrid\": true, \"showline\": false, \"showspikes\": true, \"showticklabels\": true, \"spikedash\": \"dot\", \"spikemode\": \"across\", \"spikesnap\": \"cursor\", \"title\": {\"text\": \"timestamp\"}, \"zeroline\": false}, \"yaxis\": {\"anchor\": \"x\", \"domain\": [0.0, 1.0], \"showgrid\": true, \"showline\": false, \"showspikes\": true, \"showticklabels\": true, \"spikedash\": \"dot\", \"spikemode\": \"across\", \"spikesnap\": \"cursor\", \"title\": {\"text\": \"close\"}, \"zeroline\": true}},\n",
              "                        {\"responsive\": true}\n",
              "                    ).then(function(){\n",
              "                            \n",
              "var gd = document.getElementById('1d057245-1f8e-4a2e-adda-adb0e9983d72');\n",
              "var x = new MutationObserver(function (mutations, observer) {{\n",
              "        var display = window.getComputedStyle(gd).display;\n",
              "        if (!display || display === 'none') {{\n",
              "            console.log([gd, 'removed!']);\n",
              "            Plotly.purge(gd);\n",
              "            observer.disconnect();\n",
              "        }}\n",
              "}});\n",
              "\n",
              "// Listen for the removal of the full notebook cells\n",
              "var notebookContainer = gd.closest('#notebook-container');\n",
              "if (notebookContainer) {{\n",
              "    x.observe(notebookContainer, {childList: true});\n",
              "}}\n",
              "\n",
              "// Listen for the clearing of the current output cell\n",
              "var outputEl = gd.closest('.output');\n",
              "if (outputEl) {{\n",
              "    x.observe(outputEl, {childList: true});\n",
              "}}\n",
              "\n",
              "                        })\n",
              "                };\n",
              "                \n",
              "            </script>\n",
              "        </div>\n",
              "</body>\n",
              "</html>"
            ]
          },
          "metadata": {}
        }
      ]
    },
    {
      "cell_type": "code",
      "metadata": {
        "colab": {
          "base_uri": "https://localhost:8080/"
        },
        "id": "GSID9T-712Qt",
        "outputId": "a179ad7a-aa65-4bfd-d402-a461090c04d1"
      },
      "source": [
        "df.columns[1:-6]"
      ],
      "execution_count": null,
      "outputs": [
        {
          "output_type": "execute_result",
          "data": {
            "text/plain": [
              "Index(['symbol', 'close', 'prevclose', 'macd', 'macds', 'macdh'], dtype='object')"
            ]
          },
          "metadata": {},
          "execution_count": 36
        }
      ]
    },
    {
      "cell_type": "code",
      "metadata": {
        "id": "VPXEnYo220vu",
        "colab": {
          "base_uri": "https://localhost:8080/"
        },
        "outputId": "13ca35b9-cd9b-4aae-c0c3-fcd6cd2d990f"
      },
      "source": [
        "df = yf.download('INFY.NS',start = '2015-01-01',interval = '5d')"
      ],
      "execution_count": null,
      "outputs": [
        {
          "output_type": "stream",
          "name": "stdout",
          "text": [
            "\r[*********************100%***********************]  1 of 1 completed\n"
          ]
        }
      ]
    },
    {
      "cell_type": "code",
      "metadata": {
        "id": "CB0LNvKKIQPB"
      },
      "source": [
        "df['%K'] = ta.momentum.stoch(df.High,df.Low,df.Close,window=14,smooth_window=3)"
      ],
      "execution_count": null,
      "outputs": []
    },
    {
      "cell_type": "code",
      "metadata": {
        "id": "-MWUGigpIm9e"
      },
      "source": [
        "df['%D'] = df['%K'].rolling(3).mean()"
      ],
      "execution_count": null,
      "outputs": []
    },
    {
      "cell_type": "code",
      "metadata": {
        "id": "ylGV5qTdJc4M"
      },
      "source": [
        "df['rsi'] = ta.momentum.rsi(df.Close,window=14)"
      ],
      "execution_count": null,
      "outputs": []
    },
    {
      "cell_type": "code",
      "metadata": {
        "id": "pSG2YAKIJ4Au"
      },
      "source": [
        "df['macd'] = ta.trend.macd_diff(df.Close)"
      ],
      "execution_count": null,
      "outputs": []
    },
    {
      "cell_type": "code",
      "metadata": {
        "id": "Ymi_e4dUKY5F"
      },
      "source": [
        "df.dropna(inplace=True)"
      ],
      "execution_count": null,
      "outputs": []
    },
    {
      "cell_type": "code",
      "metadata": {
        "id": "ycharASEKci_"
      },
      "source": [
        "dfx = pd.DataFrame()\n",
        "for i in range(0,5):\n",
        "  mask = (df['%K'].shift(i) < 20) & (df['%D'].shift(i) < 20)\n",
        "  dfx = dfx.append(mask,ignore_index = True)"
      ],
      "execution_count": null,
      "outputs": []
    },
    {
      "cell_type": "code",
      "metadata": {
        "id": "KYmmyzGmLJJx"
      },
      "source": [
        "def get_trigger(df, lags, buy=True):\n",
        "  dfx = pd.DataFrame()\n",
        "  for i in range(1,lags+1):\n",
        "    if buy:\n",
        "      mask = (df['%K'].shift(i) < 20) & (df['%D'].shift(i) < 20)\n",
        "    else:\n",
        "      mask = (df['%K'].shift(i) > 80) & (df['%D'].shift(i) > 80)\n",
        "    dfx = dfx.append(mask,ignore_index = True)\n",
        "\n",
        "  return dfx.sum(axis=0)\n"
      ],
      "execution_count": null,
      "outputs": []
    },
    {
      "cell_type": "code",
      "metadata": {
        "id": "OXT1p0vjMUsP"
      },
      "source": [
        "df['Buy_trigger'] = np.where(get_trigger(df,4,),1,0)"
      ],
      "execution_count": null,
      "outputs": []
    },
    {
      "cell_type": "code",
      "metadata": {
        "id": "HYaojUf7MaoR"
      },
      "source": [
        "df['Sell_trigger'] = np.where(get_trigger(df,4,False),1,0)"
      ],
      "execution_count": null,
      "outputs": []
    },
    {
      "cell_type": "code",
      "metadata": {
        "id": "-h857FccMbdg"
      },
      "source": [
        "df['Buy'] = np.where(((df.Buy_trigger) &\n",
        "                      (df.Buy_trigger.shift(-1) != 1 ) & \n",
        "                     (df['%K'].between(20,80)) & \n",
        "                     (df['%D'].between(20,80)) &\n",
        "                      (df['rsi'] > 50) &\n",
        "                     (df['macd'] > 0 )), 1, 0)"
      ],
      "execution_count": null,
      "outputs": []
    },
    {
      "cell_type": "code",
      "metadata": {
        "id": "NJm3OM4paAB6"
      },
      "source": [
        "df['Buy_cum'] = df['Buy'].cumsum(axis=0)"
      ],
      "execution_count": null,
      "outputs": []
    },
    {
      "cell_type": "code",
      "metadata": {
        "id": "9zb07FVjNVZB"
      },
      "source": [
        "df['Sell'] = np.where(((df.Sell_trigger) & \n",
        "                       (df.Sell_trigger.shift(-1) != 1) & \n",
        "                       (df.Buy_cum >= 1) & \n",
        "                     (df['%K'].between(20,80)) & \n",
        "                     (df['%D'].between(20,80)) &\n",
        "                      (df['rsi'] < 50) &\n",
        "                     (df['macd'] < 0 )), 1, 0)"
      ],
      "execution_count": null,
      "outputs": []
    },
    {
      "cell_type": "code",
      "metadata": {
        "id": "r5ju8UgmbBdp"
      },
      "source": [
        "df['Sell_cum'] = df['Sell'].cumsum(axis=0)"
      ],
      "execution_count": null,
      "outputs": []
    },
    {
      "cell_type": "code",
      "metadata": {
        "id": "9R4KcXdiNiDA"
      },
      "source": [
        "buying_dates, selling_dates = [], []"
      ],
      "execution_count": null,
      "outputs": []
    },
    {
      "cell_type": "code",
      "metadata": {
        "id": "Ej_E7sQ7OUuz"
      },
      "source": [
        "for i in range(len(df)-1):\n",
        "  if (df.Buy.iloc[i] == 1) & (df.Buy.iloc[i-1] != 1):\n",
        "    buying_dates.append(df.iloc[i+1].name)\n",
        "    for num, j in enumerate(df.Sell[i:]):\n",
        "      if j:\n",
        "        selling_dates.append(df.iloc[i+num+1].name)\n",
        "        break\n"
      ],
      "execution_count": null,
      "outputs": []
    },
    {
      "cell_type": "code",
      "metadata": {
        "colab": {
          "base_uri": "https://localhost:8080/"
        },
        "id": "QY1YCzV9U3GK",
        "outputId": "83e5fe25-4050-48f7-8327-620e0d7d21e4"
      },
      "source": [
        "buying_dates"
      ],
      "execution_count": null,
      "outputs": [
        {
          "output_type": "execute_result",
          "data": {
            "text/plain": [
              "[Timestamp('2017-09-22 00:00:00'), Timestamp('2018-02-19 00:00:00')]"
            ]
          },
          "metadata": {},
          "execution_count": 19
        }
      ]
    },
    {
      "cell_type": "code",
      "metadata": {
        "colab": {
          "base_uri": "https://localhost:8080/"
        },
        "id": "vgjDx-UEU941",
        "outputId": "8046db70-9acd-48d0-e93d-099e9c71e818"
      },
      "source": [
        "selling_dates"
      ],
      "execution_count": null,
      "outputs": [
        {
          "output_type": "execute_result",
          "data": {
            "text/plain": [
              "[Timestamp('2020-04-09 00:00:00'), Timestamp('2020-04-09 00:00:00')]"
            ]
          },
          "metadata": {},
          "execution_count": 20
        }
      ]
    },
    {
      "cell_type": "code",
      "metadata": {
        "id": "XcKMOZHXPC8v"
      },
      "source": [
        "cutif = len(buying_dates) - len(selling_dates)"
      ],
      "execution_count": null,
      "outputs": []
    },
    {
      "cell_type": "code",
      "metadata": {
        "id": "MiTC8dwkPEwr"
      },
      "source": [
        "if cutif:\n",
        "  buying_dates = buying_dates[:-cutif]"
      ],
      "execution_count": null,
      "outputs": []
    },
    {
      "cell_type": "code",
      "metadata": {
        "id": "RlqNucfGPaLy"
      },
      "source": [
        "frame = pd.DataFrame({\n",
        "'buying_dates':buying_dates,\n",
        "'selling_dates':selling_dates\n",
        "})\n"
      ],
      "execution_count": null,
      "outputs": []
    },
    {
      "cell_type": "code",
      "metadata": {
        "colab": {
          "base_uri": "https://localhost:8080/",
          "height": 112
        },
        "id": "m00zdwwsUpmT",
        "outputId": "69d9c812-d828-423f-d160-e85cf7aa2d56"
      },
      "source": [
        "frame"
      ],
      "execution_count": null,
      "outputs": [
        {
          "output_type": "execute_result",
          "data": {
            "text/html": [
              "<div>\n",
              "<style scoped>\n",
              "    .dataframe tbody tr th:only-of-type {\n",
              "        vertical-align: middle;\n",
              "    }\n",
              "\n",
              "    .dataframe tbody tr th {\n",
              "        vertical-align: top;\n",
              "    }\n",
              "\n",
              "    .dataframe thead th {\n",
              "        text-align: right;\n",
              "    }\n",
              "</style>\n",
              "<table border=\"1\" class=\"dataframe\">\n",
              "  <thead>\n",
              "    <tr style=\"text-align: right;\">\n",
              "      <th></th>\n",
              "      <th>buying_dates</th>\n",
              "      <th>selling_dates</th>\n",
              "    </tr>\n",
              "  </thead>\n",
              "  <tbody>\n",
              "    <tr>\n",
              "      <th>0</th>\n",
              "      <td>2017-09-22</td>\n",
              "      <td>2020-04-09</td>\n",
              "    </tr>\n",
              "    <tr>\n",
              "      <th>1</th>\n",
              "      <td>2018-02-19</td>\n",
              "      <td>2020-04-09</td>\n",
              "    </tr>\n",
              "  </tbody>\n",
              "</table>\n",
              "</div>"
            ],
            "text/plain": [
              "  buying_dates selling_dates\n",
              "0   2017-09-22    2020-04-09\n",
              "1   2018-02-19    2020-04-09"
            ]
          },
          "metadata": {},
          "execution_count": 24
        }
      ]
    },
    {
      "cell_type": "code",
      "metadata": {
        "id": "y2JozL64Ple5"
      },
      "source": [
        "# actual = frame[frame.buying_dates > frame.selling_dates.shift(1)]"
      ],
      "execution_count": null,
      "outputs": []
    },
    {
      "cell_type": "code",
      "metadata": {
        "id": "I4tZT_ufVoHX"
      },
      "source": [
        "actual = frame.copy()"
      ],
      "execution_count": null,
      "outputs": []
    },
    {
      "cell_type": "code",
      "metadata": {
        "colab": {
          "base_uri": "https://localhost:8080/",
          "height": 112
        },
        "id": "pa6mj3Gcdx42",
        "outputId": "b48a54a8-6029-4eb8-d1fe-b00dfb50e0db"
      },
      "source": [
        "actual"
      ],
      "execution_count": null,
      "outputs": [
        {
          "output_type": "execute_result",
          "data": {
            "text/html": [
              "<div>\n",
              "<style scoped>\n",
              "    .dataframe tbody tr th:only-of-type {\n",
              "        vertical-align: middle;\n",
              "    }\n",
              "\n",
              "    .dataframe tbody tr th {\n",
              "        vertical-align: top;\n",
              "    }\n",
              "\n",
              "    .dataframe thead th {\n",
              "        text-align: right;\n",
              "    }\n",
              "</style>\n",
              "<table border=\"1\" class=\"dataframe\">\n",
              "  <thead>\n",
              "    <tr style=\"text-align: right;\">\n",
              "      <th></th>\n",
              "      <th>buying_dates</th>\n",
              "      <th>selling_dates</th>\n",
              "    </tr>\n",
              "  </thead>\n",
              "  <tbody>\n",
              "    <tr>\n",
              "      <th>0</th>\n",
              "      <td>2017-09-22</td>\n",
              "      <td>2020-04-09</td>\n",
              "    </tr>\n",
              "    <tr>\n",
              "      <th>1</th>\n",
              "      <td>2018-02-19</td>\n",
              "      <td>2020-04-09</td>\n",
              "    </tr>\n",
              "  </tbody>\n",
              "</table>\n",
              "</div>"
            ],
            "text/plain": [
              "  buying_dates selling_dates\n",
              "0   2017-09-22    2020-04-09\n",
              "1   2018-02-19    2020-04-09"
            ]
          },
          "metadata": {},
          "execution_count": 27
        }
      ]
    },
    {
      "cell_type": "code",
      "metadata": {
        "id": "nJtO4d8OPtXx"
      },
      "source": [
        "def calc_profit(df_xx):\n",
        "  buy_prc = df_xx.loc[actual.buying_dates].Open\n",
        "  sell_prc = df_xx.loc[actual.selling_dates].Open\n",
        "  return (sell_prc.values - buy_prc.values)/buy_prc.values\n"
      ],
      "execution_count": null,
      "outputs": []
    },
    {
      "cell_type": "code",
      "metadata": {
        "id": "HuHuLF2VRCOw"
      },
      "source": [
        "profits = calc_profit(df)"
      ],
      "execution_count": null,
      "outputs": []
    },
    {
      "cell_type": "code",
      "metadata": {
        "colab": {
          "base_uri": "https://localhost:8080/"
        },
        "id": "4E-ruldgSUVo",
        "outputId": "45330d54-b175-4bd6-a055-0292fbfc7f1b"
      },
      "source": [
        "profits, profits.mean(), (profits + 1).prod()"
      ],
      "execution_count": null,
      "outputs": [
        {
          "output_type": "execute_result",
          "data": {
            "text/plain": [
              "(array([0.42443422, 0.14640194]), 0.28541808149247816, 1.6329741562631503)"
            ]
          },
          "metadata": {},
          "execution_count": 30
        }
      ]
    },
    {
      "cell_type": "code",
      "metadata": {
        "id": "X5f8xEu6SWRg"
      },
      "source": [
        "import matplotlib.pyplot as plt"
      ],
      "execution_count": null,
      "outputs": []
    },
    {
      "cell_type": "code",
      "metadata": {
        "colab": {
          "base_uri": "https://localhost:8080/"
        },
        "id": "AiRLyVqZjJJi",
        "outputId": "4f84b988-5d46-4bda-943f-0e3f564f0df9"
      },
      "source": [
        "# df[buying_dates]\n",
        "buying_dates"
      ],
      "execution_count": null,
      "outputs": [
        {
          "output_type": "execute_result",
          "data": {
            "text/plain": [
              "[Timestamp('2017-09-22 00:00:00'), Timestamp('2018-02-19 00:00:00')]"
            ]
          },
          "metadata": {},
          "execution_count": 32
        }
      ]
    },
    {
      "cell_type": "code",
      "metadata": {
        "colab": {
          "base_uri": "https://localhost:8080/",
          "height": 608
        },
        "id": "l403PgJiSjaB",
        "outputId": "12a175a1-96a2-458b-83ee-ddbd54e548ac"
      },
      "source": [
        "plt.figure(figsize = (20,10))\n",
        "plt.plot(df.Close,color = 'k',alpha=0.7)\n",
        "plt.scatter(actual.buying_dates,df.Open[actual.buying_dates],marker='^',color = 'g',s= 500)\n",
        "plt.scatter(actual.selling_dates,df.Open[actual.selling_dates],marker='v',color = 'r',s= 500)\n",
        "plt.scatter(buying_dates,df.Open[buying_dates],marker='o',color = 'b',s= 500)"
      ],
      "execution_count": null,
      "outputs": [
        {
          "output_type": "execute_result",
          "data": {
            "text/plain": [
              "<matplotlib.collections.PathCollection at 0x7f5d54aeb750>"
            ]
          },
          "metadata": {},
          "execution_count": 33
        },
        {
          "output_type": "display_data",
          "data": {
            "image/png": "[encoded data removed]",
            "text/plain": [
              "<Figure size 1440x720 with 1 Axes>"
            ]
          },
          "metadata": {
            "needs_background": "light"
          }
        }
      ]
    },
    {
      "cell_type": "code",
      "metadata": {
        "id": "LDoSieoiTNfe"
      },
      "source": [
        "df.to_csv('rel.csv')"
      ],
      "execution_count": null,
      "outputs": []
    },
    {
      "cell_type": "code",
      "metadata": {
        "id": "2eTOgoaAbeLy"
      },
      "source": [
        "df['buy_minus_sell'] = df.Buy_cum - df.Sell"
      ],
      "execution_count": null,
      "outputs": []
    },
    {
      "cell_type": "code",
      "metadata": {
        "colab": {
          "base_uri": "https://localhost:8080/",
          "height": 648
        },
        "id": "7RYkCDg8WUUE",
        "outputId": "2d0241f9-7f69-4b70-dc08-6efaae0acf6a"
      },
      "source": [
        "df[(df.index >= '2020-03-05') & (df.rsi > 50)] #df.Buy_trigger==1) &"
      ],
      "execution_count": null,
      "outputs": [
        {
          "output_type": "execute_result",
          "data": {
            "text/html": [
              "<div>\n",
              "<style scoped>\n",
              "    .dataframe tbody tr th:only-of-type {\n",
              "        vertical-align: middle;\n",
              "    }\n",
              "\n",
              "    .dataframe tbody tr th {\n",
              "        vertical-align: top;\n",
              "    }\n",
              "\n",
              "    .dataframe thead th {\n",
              "        text-align: right;\n",
              "    }\n",
              "</style>\n",
              "<table border=\"1\" class=\"dataframe\">\n",
              "  <thead>\n",
              "    <tr style=\"text-align: right;\">\n",
              "      <th></th>\n",
              "      <th>Open</th>\n",
              "      <th>High</th>\n",
              "      <th>Low</th>\n",
              "      <th>Close</th>\n",
              "      <th>Adj Close</th>\n",
              "      <th>Volume</th>\n",
              "      <th>%K</th>\n",
              "      <th>%D</th>\n",
              "      <th>rsi</th>\n",
              "      <th>macd</th>\n",
              "      <th>Buy_trigger</th>\n",
              "      <th>Sell_trigger</th>\n",
              "      <th>Buy</th>\n",
              "      <th>Buy_cum</th>\n",
              "      <th>Sell</th>\n",
              "      <th>Sell_cum</th>\n",
              "      <th>buy_minus_sell</th>\n",
              "    </tr>\n",
              "    <tr>\n",
              "      <th>Date</th>\n",
              "      <th></th>\n",
              "      <th></th>\n",
              "      <th></th>\n",
              "      <th></th>\n",
              "      <th></th>\n",
              "      <th></th>\n",
              "      <th></th>\n",
              "      <th></th>\n",
              "      <th></th>\n",
              "      <th></th>\n",
              "      <th></th>\n",
              "      <th></th>\n",
              "      <th></th>\n",
              "      <th></th>\n",
              "      <th></th>\n",
              "      <th></th>\n",
              "      <th></th>\n",
              "    </tr>\n",
              "  </thead>\n",
              "  <tbody>\n",
              "    <tr>\n",
              "      <th>2020-04-23</th>\n",
              "      <td>273.500000</td>\n",
              "      <td>279.700012</td>\n",
              "      <td>268.500000</td>\n",
              "      <td>277.600006</td>\n",
              "      <td>275.668732</td>\n",
              "      <td>3594086</td>\n",
              "      <td>95.296740</td>\n",
              "      <td>82.122599</td>\n",
              "      <td>52.556111</td>\n",
              "      <td>6.338583</td>\n",
              "      <td>0</td>\n",
              "      <td>1</td>\n",
              "      <td>0</td>\n",
              "      <td>2</td>\n",
              "      <td>0</td>\n",
              "      <td>3</td>\n",
              "      <td>2</td>\n",
              "    </tr>\n",
              "    <tr>\n",
              "      <th>2020-04-29</th>\n",
              "      <td>274.000000</td>\n",
              "      <td>293.200012</td>\n",
              "      <td>272.700012</td>\n",
              "      <td>287.649994</td>\n",
              "      <td>285.648804</td>\n",
              "      <td>4058322</td>\n",
              "      <td>88.998975</td>\n",
              "      <td>83.258378</td>\n",
              "      <td>58.280508</td>\n",
              "      <td>5.369812</td>\n",
              "      <td>0</td>\n",
              "      <td>1</td>\n",
              "      <td>0</td>\n",
              "      <td>2</td>\n",
              "      <td>0</td>\n",
              "      <td>3</td>\n",
              "      <td>2</td>\n",
              "    </tr>\n",
              "    <tr>\n",
              "      <th>2020-04-30</th>\n",
              "      <td>295.049988</td>\n",
              "      <td>296.000000</td>\n",
              "      <td>285.100006</td>\n",
              "      <td>290.100006</td>\n",
              "      <td>288.081787</td>\n",
              "      <td>4675412</td>\n",
              "      <td>87.847593</td>\n",
              "      <td>86.192882</td>\n",
              "      <td>59.492670</td>\n",
              "      <td>5.639467</td>\n",
              "      <td>0</td>\n",
              "      <td>1</td>\n",
              "      <td>0</td>\n",
              "      <td>2</td>\n",
              "      <td>0</td>\n",
              "      <td>3</td>\n",
              "      <td>2</td>\n",
              "    </tr>\n",
              "    <tr>\n",
              "      <th>2020-05-07</th>\n",
              "      <td>271.200012</td>\n",
              "      <td>284.500000</td>\n",
              "      <td>268.450012</td>\n",
              "      <td>282.399994</td>\n",
              "      <td>280.435333</td>\n",
              "      <td>6505707</td>\n",
              "      <td>63.733317</td>\n",
              "      <td>35.688883</td>\n",
              "      <td>54.298271</td>\n",
              "      <td>2.569835</td>\n",
              "      <td>0</td>\n",
              "      <td>1</td>\n",
              "      <td>0</td>\n",
              "      <td>2</td>\n",
              "      <td>0</td>\n",
              "      <td>3</td>\n",
              "      <td>2</td>\n",
              "    </tr>\n",
              "    <tr>\n",
              "      <th>2020-05-08</th>\n",
              "      <td>285.100006</td>\n",
              "      <td>286.850006</td>\n",
              "      <td>280.549988</td>\n",
              "      <td>285.049988</td>\n",
              "      <td>283.066895</td>\n",
              "      <td>2594066</td>\n",
              "      <td>70.799967</td>\n",
              "      <td>55.199978</td>\n",
              "      <td>55.526851</td>\n",
              "      <td>2.877618</td>\n",
              "      <td>0</td>\n",
              "      <td>0</td>\n",
              "      <td>0</td>\n",
              "      <td>2</td>\n",
              "      <td>0</td>\n",
              "      <td>3</td>\n",
              "      <td>2</td>\n",
              "    </tr>\n",
              "    <tr>\n",
              "      <th>...</th>\n",
              "      <td>...</td>\n",
              "      <td>...</td>\n",
              "      <td>...</td>\n",
              "      <td>...</td>\n",
              "      <td>...</td>\n",
              "      <td>...</td>\n",
              "      <td>...</td>\n",
              "      <td>...</td>\n",
              "      <td>...</td>\n",
              "      <td>...</td>\n",
              "      <td>...</td>\n",
              "      <td>...</td>\n",
              "      <td>...</td>\n",
              "      <td>...</td>\n",
              "      <td>...</td>\n",
              "      <td>...</td>\n",
              "      <td>...</td>\n",
              "    </tr>\n",
              "    <tr>\n",
              "      <th>2021-11-12</th>\n",
              "      <td>737.700012</td>\n",
              "      <td>755.500000</td>\n",
              "      <td>734.250000</td>\n",
              "      <td>750.299988</td>\n",
              "      <td>750.299988</td>\n",
              "      <td>4585484</td>\n",
              "      <td>81.931272</td>\n",
              "      <td>59.789153</td>\n",
              "      <td>54.738515</td>\n",
              "      <td>1.801038</td>\n",
              "      <td>0</td>\n",
              "      <td>0</td>\n",
              "      <td>0</td>\n",
              "      <td>2</td>\n",
              "      <td>0</td>\n",
              "      <td>4</td>\n",
              "      <td>2</td>\n",
              "    </tr>\n",
              "    <tr>\n",
              "      <th>2021-11-15</th>\n",
              "      <td>753.900024</td>\n",
              "      <td>756.500000</td>\n",
              "      <td>740.549988</td>\n",
              "      <td>749.799988</td>\n",
              "      <td>749.799988</td>\n",
              "      <td>2434426</td>\n",
              "      <td>88.695085</td>\n",
              "      <td>73.816878</td>\n",
              "      <td>54.534611</td>\n",
              "      <td>2.729201</td>\n",
              "      <td>0</td>\n",
              "      <td>0</td>\n",
              "      <td>0</td>\n",
              "      <td>2</td>\n",
              "      <td>0</td>\n",
              "      <td>4</td>\n",
              "      <td>2</td>\n",
              "    </tr>\n",
              "    <tr>\n",
              "      <th>2021-11-16</th>\n",
              "      <td>752.700012</td>\n",
              "      <td>761.700012</td>\n",
              "      <td>743.450012</td>\n",
              "      <td>746.450012</td>\n",
              "      <td>746.450012</td>\n",
              "      <td>3378779</td>\n",
              "      <td>81.067657</td>\n",
              "      <td>83.898005</td>\n",
              "      <td>53.107214</td>\n",
              "      <td>3.001424</td>\n",
              "      <td>0</td>\n",
              "      <td>0</td>\n",
              "      <td>0</td>\n",
              "      <td>2</td>\n",
              "      <td>0</td>\n",
              "      <td>4</td>\n",
              "      <td>2</td>\n",
              "    </tr>\n",
              "    <tr>\n",
              "      <th>2021-11-24</th>\n",
              "      <td>735.650024</td>\n",
              "      <td>772.349976</td>\n",
              "      <td>732.000000</td>\n",
              "      <td>763.049988</td>\n",
              "      <td>763.049988</td>\n",
              "      <td>11647665</td>\n",
              "      <td>86.780397</td>\n",
              "      <td>56.164903</td>\n",
              "      <td>58.493306</td>\n",
              "      <td>2.122798</td>\n",
              "      <td>0</td>\n",
              "      <td>0</td>\n",
              "      <td>0</td>\n",
              "      <td>2</td>\n",
              "      <td>0</td>\n",
              "      <td>5</td>\n",
              "      <td>2</td>\n",
              "    </tr>\n",
              "    <tr>\n",
              "      <th>2021-11-25</th>\n",
              "      <td>764.799988</td>\n",
              "      <td>774.299988</td>\n",
              "      <td>755.500000</td>\n",
              "      <td>762.450012</td>\n",
              "      <td>762.450012</td>\n",
              "      <td>6140941</td>\n",
              "      <td>83.143702</td>\n",
              "      <td>72.256972</td>\n",
              "      <td>58.258959</td>\n",
              "      <td>3.399496</td>\n",
              "      <td>0</td>\n",
              "      <td>0</td>\n",
              "      <td>0</td>\n",
              "      <td>2</td>\n",
              "      <td>0</td>\n",
              "      <td>5</td>\n",
              "      <td>2</td>\n",
              "    </tr>\n",
              "  </tbody>\n",
              "</table>\n",
              "<p>285 rows × 17 columns</p>\n",
              "</div>"
            ],
            "text/plain": [
              "                  Open        High         Low       Close   Adj Close  \\\n",
              "Date                                                                     \n",
              "2020-04-23  273.500000  279.700012  268.500000  277.600006  275.668732   \n",
              "2020-04-29  274.000000  293.200012  272.700012  287.649994  285.648804   \n",
              "2020-04-30  295.049988  296.000000  285.100006  290.100006  288.081787   \n",
              "2020-05-07  271.200012  284.500000  268.450012  282.399994  280.435333   \n",
              "2020-05-08  285.100006  286.850006  280.549988  285.049988  283.066895   \n",
              "...                ...         ...         ...         ...         ...   \n",
              "2021-11-12  737.700012  755.500000  734.250000  750.299988  750.299988   \n",
              "2021-11-15  753.900024  756.500000  740.549988  749.799988  749.799988   \n",
              "2021-11-16  752.700012  761.700012  743.450012  746.450012  746.450012   \n",
              "2021-11-24  735.650024  772.349976  732.000000  763.049988  763.049988   \n",
              "2021-11-25  764.799988  774.299988  755.500000  762.450012  762.450012   \n",
              "\n",
              "              Volume         %K         %D        rsi      macd  Buy_trigger  \\\n",
              "Date                                                                           \n",
              "2020-04-23   3594086  95.296740  82.122599  52.556111  6.338583            0   \n",
              "2020-04-29   4058322  88.998975  83.258378  58.280508  5.369812            0   \n",
              "2020-04-30   4675412  87.847593  86.192882  59.492670  5.639467            0   \n",
              "2020-05-07   6505707  63.733317  35.688883  54.298271  2.569835            0   \n",
              "2020-05-08   2594066  70.799967  55.199978  55.526851  2.877618            0   \n",
              "...              ...        ...        ...        ...       ...          ...   \n",
              "2021-11-12   4585484  81.931272  59.789153  54.738515  1.801038            0   \n",
              "2021-11-15   2434426  88.695085  73.816878  54.534611  2.729201            0   \n",
              "2021-11-16   3378779  81.067657  83.898005  53.107214  3.001424            0   \n",
              "2021-11-24  11647665  86.780397  56.164903  58.493306  2.122798            0   \n",
              "2021-11-25   6140941  83.143702  72.256972  58.258959  3.399496            0   \n",
              "\n",
              "            Sell_trigger  Buy  Buy_cum  Sell  Sell_cum  buy_minus_sell  \n",
              "Date                                                                    \n",
              "2020-04-23             1    0        2     0         3               2  \n",
              "2020-04-29             1    0        2     0         3               2  \n",
              "2020-04-30             1    0        2     0         3               2  \n",
              "2020-05-07             1    0        2     0         3               2  \n",
              "2020-05-08             0    0        2     0         3               2  \n",
              "...                  ...  ...      ...   ...       ...             ...  \n",
              "2021-11-12             0    0        2     0         4               2  \n",
              "2021-11-15             0    0        2     0         4               2  \n",
              "2021-11-16             0    0        2     0         4               2  \n",
              "2021-11-24             0    0        2     0         5               2  \n",
              "2021-11-25             0    0        2     0         5               2  \n",
              "\n",
              "[285 rows x 17 columns]"
            ]
          },
          "metadata": {},
          "execution_count": 312
        }
      ]
    },
    {
      "cell_type": "code",
      "metadata": {
        "colab": {
          "base_uri": "https://localhost:8080/",
          "height": 131
        },
        "id": "SZylHd_0ZBxI",
        "outputId": "47aaa158-a5ef-4f55-918e-5466a65efa6c"
      },
      "source": [
        "2017-05-31, 2019-05-22\n",
        "2017-12-05, 2018-01-03, 2020-09-24"
      ],
      "execution_count": null,
      "outputs": [
        {
          "output_type": "error",
          "ename": "SyntaxError",
          "evalue": "ignored",
          "traceback": [
            "\u001b[0;36m  File \u001b[0;32m\"<ipython-input-313-1e9509ded3ab>\"\u001b[0;36m, line \u001b[0;32m1\u001b[0m\n\u001b[0;31m    2017-05-31, 2019-05-22\u001b[0m\n\u001b[0m          ^\u001b[0m\n\u001b[0;31mSyntaxError\u001b[0m\u001b[0;31m:\u001b[0m invalid token\n"
          ]
        }
      ]
    },
    {
      "cell_type": "code",
      "metadata": {
        "colab": {
          "base_uri": "https://localhost:8080/",
          "height": 150
        },
        "id": "c3IokY7_cT47",
        "outputId": "9648e699-46b5-41b9-86d5-3b6acd680f97"
      },
      "source": [
        "df[(df.Sell_cum <= df.Buy_cum) & (df.Sell  == 1) ]"
      ],
      "execution_count": null,
      "outputs": [
        {
          "output_type": "execute_result",
          "data": {
            "text/html": [
              "<div>\n",
              "<style scoped>\n",
              "    .dataframe tbody tr th:only-of-type {\n",
              "        vertical-align: middle;\n",
              "    }\n",
              "\n",
              "    .dataframe tbody tr th {\n",
              "        vertical-align: top;\n",
              "    }\n",
              "\n",
              "    .dataframe thead th {\n",
              "        text-align: right;\n",
              "    }\n",
              "</style>\n",
              "<table border=\"1\" class=\"dataframe\">\n",
              "  <thead>\n",
              "    <tr style=\"text-align: right;\">\n",
              "      <th></th>\n",
              "      <th>Open</th>\n",
              "      <th>High</th>\n",
              "      <th>Low</th>\n",
              "      <th>Close</th>\n",
              "      <th>Adj Close</th>\n",
              "      <th>Volume</th>\n",
              "      <th>%K</th>\n",
              "      <th>%D</th>\n",
              "      <th>rsi</th>\n",
              "      <th>macd</th>\n",
              "      <th>Buy_trigger</th>\n",
              "      <th>Sell_trigger</th>\n",
              "      <th>Buy</th>\n",
              "      <th>Sell</th>\n",
              "      <th>Buy_cum</th>\n",
              "      <th>Sell_cum</th>\n",
              "      <th>buy_minus_sell</th>\n",
              "    </tr>\n",
              "    <tr>\n",
              "      <th>Date</th>\n",
              "      <th></th>\n",
              "      <th></th>\n",
              "      <th></th>\n",
              "      <th></th>\n",
              "      <th></th>\n",
              "      <th></th>\n",
              "      <th></th>\n",
              "      <th></th>\n",
              "      <th></th>\n",
              "      <th></th>\n",
              "      <th></th>\n",
              "      <th></th>\n",
              "      <th></th>\n",
              "      <th></th>\n",
              "      <th></th>\n",
              "      <th></th>\n",
              "      <th></th>\n",
              "    </tr>\n",
              "  </thead>\n",
              "  <tbody>\n",
              "    <tr>\n",
              "      <th>2017-12-05</th>\n",
              "      <td>892.589172</td>\n",
              "      <td>912.104187</td>\n",
              "      <td>887.041748</td>\n",
              "      <td>905.120361</td>\n",
              "      <td>888.414124</td>\n",
              "      <td>8448505</td>\n",
              "      <td>38.108092</td>\n",
              "      <td>36.666276</td>\n",
              "      <td>49.451653</td>\n",
              "      <td>-4.125025</td>\n",
              "      <td>0</td>\n",
              "      <td>1</td>\n",
              "      <td>0</td>\n",
              "      <td>1</td>\n",
              "      <td>1</td>\n",
              "      <td>1</td>\n",
              "      <td>0</td>\n",
              "    </tr>\n",
              "  </tbody>\n",
              "</table>\n",
              "</div>"
            ],
            "text/plain": [
              "                  Open        High         Low       Close   Adj Close  \\\n",
              "Date                                                                     \n",
              "2017-12-05  892.589172  912.104187  887.041748  905.120361  888.414124   \n",
              "\n",
              "             Volume         %K         %D        rsi      macd  Buy_trigger  \\\n",
              "Date                                                                          \n",
              "2017-12-05  8448505  38.108092  36.666276  49.451653 -4.125025            0   \n",
              "\n",
              "            Sell_trigger  Buy  Sell  Buy_cum  Sell_cum  buy_minus_sell  \n",
              "Date                                                                    \n",
              "2017-12-05             1    0     1        1         1               0  "
            ]
          },
          "metadata": {},
          "execution_count": 176
        }
      ]
    },
    {
      "cell_type": "code",
      "metadata": {
        "id": "eVs7L9qRcZMg"
      },
      "source": [
        ""
      ],
      "execution_count": null,
      "outputs": []
    }
  ]
}