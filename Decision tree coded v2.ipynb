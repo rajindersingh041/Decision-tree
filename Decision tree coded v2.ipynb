{
 "cells": [
  {
   "cell_type": "code",
   "execution_count": 1,
   "metadata": {},
   "outputs": [],
   "source": [
    "import numpy as np\n",
    "import matplotlib.pyplot as plt\n",
    "import random\n",
    "from numpy import mean\n",
    "import pandas as pd\n",
    "from numpy import log, dot, e"
   ]
  },
  {
   "cell_type": "code",
   "execution_count": 2,
   "metadata": {},
   "outputs": [],
   "source": [
    "#!pip install matplotlib\n",
    "#!pip install sklearn"
   ]
  },
  {
   "cell_type": "markdown",
   "metadata": {},
   "source": [
    "## Titantic dataset"
   ]
  },
  {
   "cell_type": "code",
   "execution_count": 3,
   "metadata": {},
   "outputs": [],
   "source": [
    "Xx = pd.read_csv('titanic.csv',nrows=200)\n",
    "X = Xx[['Pclass','Sex','Siblings/Spouses Aboard','Parents/Children Aboard','Survived']]\n",
    "X = pd.get_dummies(X)\n",
    "X['target'] = X['Survived']\n",
    "X = X.drop(['Survived'],axis=1)"
   ]
  },
  {
   "cell_type": "code",
   "execution_count": 4,
   "metadata": {},
   "outputs": [],
   "source": [
    "#dataset columns\n",
    "header = X.columns"
   ]
  },
  {
   "cell_type": "markdown",
   "metadata": {},
   "source": [
    "## for user generated dataset"
   ]
  },
  {
   "cell_type": "code",
   "execution_count": 6,
   "metadata": {},
   "outputs": [],
   "source": [
    "def create_random_data(hm_features,obs):\n",
    "\n",
    "        X = np.ones((obs))\n",
    "\n",
    "        for i in range(hm_features):\n",
    "            xs = np.random.rand(obs)*100\n",
    "            X = np.append(X,xs)\n",
    "\n",
    "        X = np.reshape(X, (-1,obs)).transpose()\n",
    "        ys = np.random.randint(0,2,size=obs) # 2 high as it's exclusive\n",
    "\n",
    "        return X,ys    "
   ]
  },
  {
   "cell_type": "code",
   "execution_count": 7,
   "metadata": {},
   "outputs": [],
   "source": [
    "s,t = create_random_data(4,10)"
   ]
  },
  {
   "cell_type": "markdown",
   "metadata": {},
   "source": [
    "## Useful functions"
   ]
  },
  {
   "cell_type": "code",
   "execution_count": 24,
   "metadata": {},
   "outputs": [],
   "source": [
    "def class_counts(rows):\n",
    "    \"\"\"Counts the number of each type of example in a dataset.\n",
    "    Note - this function expect last column as target variable\n",
    "    Output - {0:12,1:43} 12 0's and 43 1's\n",
    "    \"\"\"\n",
    "    counts = {}  # a dictionary of label -> count.\n",
    "    for row in rows:\n",
    "        \n",
    "        # in our dataset format, the label is always the last column\n",
    "        label = row[-1]\n",
    "        if label not in counts:\n",
    "            counts[label] = 0\n",
    "        counts[label] += 1\n",
    "    return counts"
   ]
  },
  {
   "cell_type": "code",
   "execution_count": 29,
   "metadata": {},
   "outputs": [],
   "source": [
    "def is_numeric_(val):\n",
    "    '''\n",
    "    check if given value is a integer or float\n",
    "    '''\n",
    "    return isinstance(val,int) or isinstance(val,float)"
   ]
  },
  {
   "cell_type": "code",
   "execution_count": 30,
   "metadata": {},
   "outputs": [
    {
     "data": {
      "text/plain": [
       "False"
      ]
     },
     "execution_count": 30,
     "metadata": {},
     "output_type": "execute_result"
    }
   ],
   "source": [
    "#Demo\n",
    "is_numeric_(2)\n",
    "#True\n",
    "\n",
    "is_numeric_(\"red\")\n",
    "#False"
   ]
  },
  {
   "cell_type": "code",
   "execution_count": 191,
   "metadata": {},
   "outputs": [],
   "source": [
    "class question():\n",
    "    '''\n",
    "    This is the first step in building the decision tree\n",
    "    Build a question i.e. Given a column and value, what would be\n",
    "    the question?\n",
    "    \n",
    "    question(1,3)\n",
    "    >>is Siblings/Spouses Aboard >= 3 \n",
    "    \n",
    "    question(2,0)\n",
    "    >>is Parents/Children Aboard >= 0 \n",
    "    \n",
    "    '''\n",
    "    def __init__(self,col,val):\n",
    "        self.col = col\n",
    "        self.val = val\n",
    "    \n",
    "    def __repr__(self):\n",
    "        if is_numeric_(self.val):\n",
    "            return  \"is %s >= %s \" % (header[self.col],self.val)\n",
    "        else: return \"is %s == %s \" % (header[self.col],self.val)\n",
    "    \n",
    "    def match(self,df):\n",
    "        '''\n",
    "        compare feature value in df to threshold value we have created \n",
    "        '''\n",
    "        v = df[self.col]\n",
    "        if is_numeric_(v):\n",
    "            return v >= self.val\n",
    "        else:\n",
    "            return v == self.val"
   ]
  },
  {
   "cell_type": "code",
   "execution_count": 34,
   "metadata": {},
   "outputs": [
    {
     "data": {
      "text/plain": [
       "True"
      ]
     },
     "execution_count": 34,
     "metadata": {},
     "output_type": "execute_result"
    }
   ],
   "source": [
    "q.match((X[:1].values)[0])"
   ]
  },
  {
   "cell_type": "code",
   "execution_count": 35,
   "metadata": {},
   "outputs": [
    {
     "data": {
      "text/plain": [
       "array([3, 1, 0, 0, 1, 0], dtype=int64)"
      ]
     },
     "execution_count": 35,
     "metadata": {},
     "output_type": "execute_result"
    }
   ],
   "source": [
    "(X[:1].values)[0]"
   ]
  },
  {
   "cell_type": "code",
   "execution_count": 36,
   "metadata": {},
   "outputs": [],
   "source": [
    "def partition_my_data(df,ask_question):\n",
    "    true_rows, false_rows = [] , []\n",
    "    for r in df:\n",
    "        if ask_question.match(r):\n",
    "            true_rows.append(r)\n",
    "        else:\n",
    "            false_rows.append(r)\n",
    "            \n",
    "#     true_rows_y = target[true_rows.index]\n",
    "#     false_rows_y = target[false_rows.index]\n",
    "    return true_rows,false_rows#true_rows_y,\n",
    "#             false_rows#,false_rows_y"
   ]
  },
  {
   "cell_type": "code",
   "execution_count": 37,
   "metadata": {},
   "outputs": [],
   "source": [
    "#tr, fr = partition_my_data(X.to_numpy(),question(2,0))\n",
    "tr, fr = partition_my_data(X.to_numpy(),question(2,0))"
   ]
  },
  {
   "cell_type": "code",
   "execution_count": 38,
   "metadata": {},
   "outputs": [
    {
     "data": {
      "text/plain": [
       "(148, 52)"
      ]
     },
     "execution_count": 38,
     "metadata": {},
     "output_type": "execute_result"
    }
   ],
   "source": [
    "len(tr),len(fr)"
   ]
  },
  {
   "cell_type": "code",
   "execution_count": 86,
   "metadata": {},
   "outputs": [],
   "source": [
    "def cal_gini(df):\n",
    "    impurity = 1\n",
    "    counts = class_counts(df) #hard coded\n",
    "    \n",
    "    \n",
    "    #print(counts)\n",
    "    for c in counts:\n",
    "        #print(impurity,c)\n",
    "        prob_of_c = counts[c] / float(len(df))\n",
    "        #print(prob_of_c)\n",
    "        impurity -= (prob_of_c)**2\n",
    "        \n",
    "    return impurity"
   ]
  },
  {
   "cell_type": "code",
   "execution_count": 89,
   "metadata": {},
   "outputs": [],
   "source": [
    "def info_gain(l,r,current_info):\n",
    "    p = float( len(l)/ (len(l)+len(r)))\n",
    "    #rint(p)\n",
    "    return current_info - (p * cal_gini(l)) - ((1-p) * cal_gini(r))"
   ]
  },
  {
   "cell_type": "code",
   "execution_count": 90,
   "metadata": {},
   "outputs": [
    {
     "name": "stdout",
     "output_type": "stream",
     "text": [
      "0.9997499999999999\n"
     ]
    }
   ],
   "source": [
    "curr_i = cal_gini(X); print(curr_i)"
   ]
  },
  {
   "cell_type": "code",
   "execution_count": 91,
   "metadata": {},
   "outputs": [],
   "source": [
    "#tr, fr = partition_my_data(X.to_numpy(),question(2,0))\n",
    "tr, fr = partition_my_data(X.to_numpy(),question(2,0))"
   ]
  },
  {
   "cell_type": "code",
   "execution_count": 92,
   "metadata": {},
   "outputs": [
    {
     "data": {
      "text/plain": [
       "(148, 52)"
      ]
     },
     "execution_count": 92,
     "metadata": {},
     "output_type": "execute_result"
    }
   ],
   "source": [
    "len(tr),len(fr)"
   ]
  },
  {
   "cell_type": "code",
   "execution_count": 93,
   "metadata": {},
   "outputs": [
    {
     "name": "stdout",
     "output_type": "stream",
     "text": [
      "0.5480919958419957\n"
     ]
    }
   ],
   "source": [
    "info =info_gain(fr,tr,curr_i); print(info)"
   ]
  },
  {
   "cell_type": "code",
   "execution_count": 94,
   "metadata": {},
   "outputs": [
    {
     "data": {
      "text/plain": [
       "0.4474068663257852"
      ]
     },
     "execution_count": 94,
     "metadata": {},
     "output_type": "execute_result"
    }
   ],
   "source": [
    "cal_gini(tr)"
   ]
  },
  {
   "cell_type": "code",
   "execution_count": 95,
   "metadata": {},
   "outputs": [],
   "source": [
    "def best_split(x):\n",
    "    '''\n",
    "    finding the best question to ask i.e. best feature and best threshold\n",
    "    calculate the IV\n",
    "    '''\n",
    "    best_gain = 0 #to track the IV values\n",
    "    best_question = None #best question based on feature and threshold\n",
    "    currrent_uncertainity = cal_gini(x)\n",
    "    n_feature = len(x[0]) - 1 # -1 for target feature\n",
    "    \n",
    "    for col in range(n_feature): # for each feature\n",
    "        u_val = set([xi[col] for xi in x]) # unique values of features\n",
    "        \n",
    "        for u_v in u_val:\n",
    "            my_question = question(col,u_v) #create condition\n",
    "            \n",
    "            true_rows, false_rows = partition_my_data(x,my_question) #split data based on question\n",
    "            \n",
    "            if len(true_rows) == 0 or len(false_rows) == 0:\n",
    "                continue\n",
    "            \n",
    "            my_gain = info_gain(true_rows,false_rows,currrent_uncertainity) # find IV\n",
    "            \n",
    "            if my_gain > best_gain:\n",
    "                best_gain, best_question = my_gain, my_question\n",
    "                \n",
    "    return best_gain,best_question    "
   ]
  },
  {
   "cell_type": "code",
   "execution_count": 96,
   "metadata": {},
   "outputs": [
    {
     "data": {
      "text/plain": [
       "(0.15340430723878157, is Sex_female == 0 )"
      ]
     },
     "execution_count": 96,
     "metadata": {},
     "output_type": "execute_result"
    }
   ],
   "source": [
    "best_split(X.to_numpy())"
   ]
  },
  {
   "cell_type": "code",
   "execution_count": 97,
   "metadata": {},
   "outputs": [],
   "source": [
    "class leaf():\n",
    "    '''\n",
    "    leaf node hold the original target value distribution\n",
    "    {0:12,1:50} Means there are 12 0's and 50 1's in training data\n",
    "    '''\n",
    "    \n",
    "    def __init__(self,rows):\n",
    "        self.predictions = class_counts(rows)    "
   ]
  },
  {
   "cell_type": "code",
   "execution_count": 174,
   "metadata": {},
   "outputs": [],
   "source": [
    "class Decision_Node:\n",
    "    \"\"\"A Decision Node asks a question.\n",
    "\n",
    "    This holds a reference to the question, and to the two child nodes.\n",
    "    \"\"\"\n",
    "\n",
    "    def __init__(self,\n",
    "                 question,\n",
    "                 true_branch,\n",
    "                 false_branch):\n",
    "        self.question = question\n",
    "        self.true_branch = true_branch\n",
    "        self.false_branch = false_branch"
   ]
  },
  {
   "cell_type": "code",
   "execution_count": 181,
   "metadata": {},
   "outputs": [],
   "source": [
    "def build_tree(x):\n",
    "    '''\n",
    "    rules of recursion: 1) believe that it works 2) start by checking base case\n",
    "    3) prepare for giant case\n",
    "    '''\n",
    "    #print(x)\n",
    "    # find best question and return it's IV\n",
    "    gain, question = best_split(x)\n",
    "    \n",
    "    #print(\"1,\",gain,question)\n",
    "    #base case when no split possible\n",
    "    if gain == 0:\n",
    "        #print(x)\n",
    "        #print(\"leave\")\n",
    "        #print(leaf(x).predictions)\n",
    "        return leaf(x)\n",
    "    #print(\"2. yes\")\n",
    "    #partition data on best question\n",
    "    true_rows, false_rows = partition_my_data(x,question)\n",
    "    \n",
    "    #print(len(true_rows),len(false_rows))\n",
    "    #recursively build tree\n",
    "    true_branch = build_tree(true_rows)\n",
    "    \n",
    "    #recursively build tree\n",
    "    false_branch = build_tree(false_rows)\n",
    "    \n",
    "    return Decision_Node(question,true_branch,false_branch)"
   ]
  },
  {
   "cell_type": "code",
   "execution_count": 188,
   "metadata": {},
   "outputs": [],
   "source": [
    "def print_tree(node, sp = \"\"):\n",
    "    if isinstance(node, leaf):\n",
    "        print(sp,\"predict\",node.predictions)\n",
    "        return \n",
    "    \n",
    "    #question at node\n",
    "    print(sp,str(node.question))\n",
    "    \n",
    "    #print true branch recursively\n",
    "    print(sp,\"--> True\")\n",
    "    print_tree(node.true_branch,sp+\" \")\n",
    "    \n",
    "    #print true branch recursively\n",
    "    print(sp,\"--> False\")\n",
    "    print_tree(node.false_branch,sp+\" \")\n",
    "    "
   ]
  },
  {
   "cell_type": "code",
   "execution_count": 189,
   "metadata": {
    "scrolled": true
   },
   "outputs": [],
   "source": [
    "my_tree = build_tree(X.to_numpy())"
   ]
  },
  {
   "cell_type": "code",
   "execution_count": 190,
   "metadata": {},
   "outputs": [
    {
     "name": "stdout",
     "output_type": "stream",
     "text": [
      " is Sex_female == 0 \n",
      " --> True\n",
      "  is Pclass == 2 \n",
      "  --> True\n",
      "   is Parents/Children Aboard == 0 \n",
      "   --> True\n",
      "    is Siblings/Spouses Aboard == 0 \n",
      "    --> True\n",
      "     predict {1: 2, 0: 12}\n",
      "    --> False\n",
      "     predict {0: 4}\n",
      "   --> False\n",
      "    is Siblings/Spouses Aboard == 2 \n",
      "    --> True\n",
      "     predict {1: 1}\n",
      "    --> False\n",
      "     predict {1: 2, 0: 2}\n",
      "  --> False\n",
      "   is Siblings/Spouses Aboard == 0 \n",
      "   --> True\n",
      "    is Parents/Children Aboard == 2 \n",
      "    --> True\n",
      "     predict {0: 1, 1: 1}\n",
      "    --> False\n",
      "     is Pclass == 3 \n",
      "     --> True\n",
      "      is Parents/Children Aboard == 0 \n",
      "      --> True\n",
      "       predict {0: 47, 1: 6}\n",
      "      --> False\n",
      "       predict {0: 2}\n",
      "     --> False\n",
      "      is Parents/Children Aboard == 0 \n",
      "      --> True\n",
      "       predict {0: 11, 1: 3}\n",
      "      --> False\n",
      "       predict {0: 5, 1: 1}\n",
      "   --> False\n",
      "    is Siblings/Spouses Aboard == 1 \n",
      "    --> True\n",
      "     is Parents/Children Aboard == 1 \n",
      "     --> True\n",
      "      predict {1: 1, 0: 2}\n",
      "     --> False\n",
      "      is Pclass == 1 \n",
      "      --> True\n",
      "       predict {0: 5}\n",
      "      --> False\n",
      "       is Parents/Children Aboard == 0 \n",
      "       --> True\n",
      "        predict {0: 3, 1: 1}\n",
      "       --> False\n",
      "        predict {0: 3}\n",
      "    --> False\n",
      "     predict {0: 14}\n",
      " --> False\n",
      "  is Pclass == 3 \n",
      "  --> True\n",
      "   is Siblings/Spouses Aboard == 0 \n",
      "   --> True\n",
      "    is Parents/Children Aboard == 2 \n",
      "    --> True\n",
      "     predict {1: 2, 0: 1}\n",
      "    --> False\n",
      "     predict {1: 13, 0: 3}\n",
      "   --> False\n",
      "    is Siblings/Spouses Aboard == 1 \n",
      "    --> True\n",
      "     is Parents/Children Aboard == 1 \n",
      "     --> True\n",
      "      predict {1: 3}\n",
      "     --> False\n",
      "      is Parents/Children Aboard == 5 \n",
      "      --> True\n",
      "       predict {1: 1}\n",
      "      --> False\n",
      "       is Parents/Children Aboard == 0 \n",
      "       --> True\n",
      "        predict {0: 6, 1: 5}\n",
      "       --> False\n",
      "        predict {0: 1}\n",
      "    --> False\n",
      "     is Siblings/Spouses Aboard == 3 \n",
      "     --> True\n",
      "      is Parents/Children Aboard == 0 \n",
      "      --> True\n",
      "       predict {1: 1}\n",
      "      --> False\n",
      "       predict {0: 1}\n",
      "     --> False\n",
      "      is Siblings/Spouses Aboard == 4 \n",
      "      --> True\n",
      "       predict {1: 1, 0: 1}\n",
      "      --> False\n",
      "       predict {0: 4}\n",
      "  --> False\n",
      "   is Parents/Children Aboard == 0 \n",
      "   --> True\n",
      "    is Pclass == 1 \n",
      "    --> True\n",
      "     is Siblings/Spouses Aboard == 0 \n",
      "     --> True\n",
      "      predict {1: 4, 0: 1}\n",
      "     --> False\n",
      "      predict {1: 5}\n",
      "    --> False\n",
      "     is Siblings/Spouses Aboard == 0 \n",
      "     --> True\n",
      "      predict {1: 7, 0: 1}\n",
      "     --> False\n",
      "      predict {1: 3, 0: 1}\n",
      "   --> False\n",
      "    predict {1: 6}\n"
     ]
    }
   ],
   "source": [
    "print_tree(my_tree)"
   ]
  },
  {
   "cell_type": "code",
   "execution_count": null,
   "metadata": {},
   "outputs": [],
   "source": []
  }
 ],
 "metadata": {
  "kernelspec": {
   "display_name": "Python 3",
   "language": "python",
   "name": "python3"
  },
  "language_info": {
   "codemirror_mode": {
    "name": "ipython",
    "version": 3
   },
   "file_extension": ".py",
   "mimetype": "text/x-python",
   "name": "python",
   "nbconvert_exporter": "python",
   "pygments_lexer": "ipython3",
   "version": "3.8.3"
  }
 },
 "nbformat": 4,
 "nbformat_minor": 4
}
